{
 "cells": [
  {
   "cell_type": "code",
   "execution_count": 3,
   "metadata": {},
   "outputs": [],
   "source": [
    "## Loading packages\n",
    "library(openair);library(dplyr);library(tidyverse);library(lubridate);library(readxl)"
   ]
  },
  {
   "cell_type": "code",
   "execution_count": 19,
   "metadata": {},
   "outputs": [
    {
     "data": {
      "text/html": [
       "<table class=\"dataframe\">\n",
       "<caption>A tibble: 6 × 6</caption>\n",
       "<thead>\n",
       "\t<tr><th scope=col>date</th><th scope=col>PM25</th><th scope=col>Temp</th><th scope=col>RH</th><th scope=col>WS</th><th scope=col>SR</th></tr>\n",
       "\t<tr><th scope=col>&lt;dttm&gt;</th><th scope=col>&lt;chr&gt;</th><th scope=col>&lt;dbl&gt;</th><th scope=col>&lt;dbl&gt;</th><th scope=col>&lt;dbl&gt;</th><th scope=col>&lt;dbl&gt;</th></tr>\n",
       "</thead>\n",
       "<tbody>\n",
       "\t<tr><td>2016-01-01 01:00:00</td><td>PM2.5</td><td>11.43</td><td>69.00</td><td>0.30</td><td>12.25</td></tr>\n",
       "\t<tr><td>2016-01-01 02:00:00</td><td>PM2.5</td><td>11.28</td><td>71.50</td><td>0.35</td><td>12.58</td></tr>\n",
       "\t<tr><td>2016-01-01 03:00:00</td><td>PM2.5</td><td>11.71</td><td>71.83</td><td>0.31</td><td>12.33</td></tr>\n",
       "\t<tr><td>2016-01-01 04:00:00</td><td>PM2.5</td><td>11.13</td><td>73.08</td><td>0.30</td><td>12.75</td></tr>\n",
       "\t<tr><td>2016-01-01 05:00:00</td><td>PM2.5</td><td>11.01</td><td>74.75</td><td>0.30</td><td>12.58</td></tr>\n",
       "\t<tr><td>2016-01-01 06:00:00</td><td>PM2.5</td><td>11.49</td><td>74.17</td><td>0.37</td><td>13.83</td></tr>\n",
       "</tbody>\n",
       "</table>\n"
      ],
      "text/latex": [
       "A tibble: 6 × 6\n",
       "\\begin{tabular}{llllll}\n",
       " date & PM25 & Temp & RH & WS & SR\\\\\n",
       " <dttm> & <chr> & <dbl> & <dbl> & <dbl> & <dbl>\\\\\n",
       "\\hline\n",
       "\t 2016-01-01 01:00:00 & PM2.5 & 11.43 & 69.00 & 0.30 & 12.25\\\\\n",
       "\t 2016-01-01 02:00:00 & PM2.5 & 11.28 & 71.50 & 0.35 & 12.58\\\\\n",
       "\t 2016-01-01 03:00:00 & PM2.5 & 11.71 & 71.83 & 0.31 & 12.33\\\\\n",
       "\t 2016-01-01 04:00:00 & PM2.5 & 11.13 & 73.08 & 0.30 & 12.75\\\\\n",
       "\t 2016-01-01 05:00:00 & PM2.5 & 11.01 & 74.75 & 0.30 & 12.58\\\\\n",
       "\t 2016-01-01 06:00:00 & PM2.5 & 11.49 & 74.17 & 0.37 & 13.83\\\\\n",
       "\\end{tabular}\n"
      ],
      "text/markdown": [
       "\n",
       "A tibble: 6 × 6\n",
       "\n",
       "| date &lt;dttm&gt; | PM25 &lt;chr&gt; | Temp &lt;dbl&gt; | RH &lt;dbl&gt; | WS &lt;dbl&gt; | SR &lt;dbl&gt; |\n",
       "|---|---|---|---|---|---|\n",
       "| 2016-01-01 01:00:00 | PM2.5 | 11.43 | 69.00 | 0.30 | 12.25 |\n",
       "| 2016-01-01 02:00:00 | PM2.5 | 11.28 | 71.50 | 0.35 | 12.58 |\n",
       "| 2016-01-01 03:00:00 | PM2.5 | 11.71 | 71.83 | 0.31 | 12.33 |\n",
       "| 2016-01-01 04:00:00 | PM2.5 | 11.13 | 73.08 | 0.30 | 12.75 |\n",
       "| 2016-01-01 05:00:00 | PM2.5 | 11.01 | 74.75 | 0.30 | 12.58 |\n",
       "| 2016-01-01 06:00:00 | PM2.5 | 11.49 | 74.17 | 0.37 | 13.83 |\n",
       "\n"
      ],
      "text/plain": [
       "  date                PM25  Temp  RH    WS   SR   \n",
       "1 2016-01-01 01:00:00 PM2.5 11.43 69.00 0.30 12.25\n",
       "2 2016-01-01 02:00:00 PM2.5 11.28 71.50 0.35 12.58\n",
       "3 2016-01-01 03:00:00 PM2.5 11.71 71.83 0.31 12.33\n",
       "4 2016-01-01 04:00:00 PM2.5 11.13 73.08 0.30 12.75\n",
       "5 2016-01-01 05:00:00 PM2.5 11.01 74.75 0.30 12.58\n",
       "6 2016-01-01 06:00:00 PM2.5 11.49 74.17 0.37 13.83"
      ]
     },
     "metadata": {},
     "output_type": "display_data"
    }
   ],
   "source": [
    "## Data cleaning \n",
    "## Reading the excel file, starting with 12 line and giving NA as None\n",
    "data <- read_xlsx('Data/Anand_Vihar_16_20.xlsx',skip = 12,na = \"None\")\n",
    "## converting date into proper date format and selecting the relevant variable needed\n",
    "data <- data %>% mutate(date = dmy_hm(`From Date`,tz=\"Asia/Kolkata\"),PM25='PM2.5')%>%\n",
    "select(date,PM25,Temp,RH,WS,SR)\n",
    "head(data)"
   ]
  },
  {
   "cell_type": "code",
   "execution_count": null,
   "metadata": {},
   "outputs": [],
   "source": []
  }
 ],
 "metadata": {
  "kernelspec": {
   "display_name": "R [conda env:r-env]",
   "language": "R",
   "name": "conda-env-r-env-r"
  },
  "language_info": {
   "codemirror_mode": "r",
   "file_extension": ".r",
   "mimetype": "text/x-r-source",
   "name": "R",
   "pygments_lexer": "r",
   "version": "3.6.3"
  }
 },
 "nbformat": 4,
 "nbformat_minor": 4
}
