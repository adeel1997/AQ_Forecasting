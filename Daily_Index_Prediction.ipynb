{
 "cells": [
  {
   "cell_type": "code",
   "execution_count": 2,
   "metadata": {},
   "outputs": [],
   "source": [
    "### Loading the relevant package  ####\n",
    "library(xts);library(caret);library(dplyr);library(zoo)\n",
    "library(tidyverse);library(lubridate);library(data.table)\n",
    "library(ggplot2);library(timeDate);library(Metrics);\n",
    "library(hydroGOF);library(imputeTS);library(readxl);library(forecastML);library(neuralnet);\n",
    "library(randomForest);library(glmnet)"
   ]
  },
  {
   "cell_type": "code",
   "execution_count": 3,
   "metadata": {},
   "outputs": [
    {
     "data": {
      "text/html": [
       "<table class=\"dataframe\">\n",
       "<caption>A tibble: 6 × 7</caption>\n",
       "<thead>\n",
       "\t<tr><th scope=col>date</th><th scope=col>PM25</th><th scope=col>AT</th><th scope=col>RH</th><th scope=col>WS</th><th scope=col>SR</th><th scope=col>WD</th></tr>\n",
       "\t<tr><th scope=col>&lt;dttm&gt;</th><th scope=col>&lt;dbl&gt;</th><th scope=col>&lt;dbl&gt;</th><th scope=col>&lt;dbl&gt;</th><th scope=col>&lt;dbl&gt;</th><th scope=col>&lt;dbl&gt;</th><th scope=col>&lt;dbl&gt;</th></tr>\n",
       "</thead>\n",
       "<tbody>\n",
       "\t<tr><td>2016-01-01 01:00:00</td><td>376.00</td><td>11.43</td><td>69.00</td><td>0.30</td><td>12.25</td><td>216.25</td></tr>\n",
       "\t<tr><td>2016-01-01 02:00:00</td><td>480.50</td><td>11.28</td><td>71.50</td><td>0.35</td><td>12.58</td><td>230.92</td></tr>\n",
       "\t<tr><td>2016-01-01 03:00:00</td><td>486.67</td><td>11.71</td><td>71.83</td><td>0.31</td><td>12.33</td><td>203.25</td></tr>\n",
       "\t<tr><td>2016-01-01 04:00:00</td><td>441.17</td><td>11.13</td><td>73.08</td><td>0.30</td><td>12.75</td><td>126.92</td></tr>\n",
       "\t<tr><td>2016-01-01 05:00:00</td><td>594.83</td><td>11.01</td><td>74.75</td><td>0.30</td><td>12.58</td><td>196.42</td></tr>\n",
       "\t<tr><td>2016-01-01 06:00:00</td><td>441.33</td><td>11.49</td><td>74.17</td><td>0.37</td><td>13.83</td><td> 80.58</td></tr>\n",
       "</tbody>\n",
       "</table>\n"
      ],
      "text/latex": [
       "A tibble: 6 × 7\n",
       "\\begin{tabular}{lllllll}\n",
       " date & PM25 & AT & RH & WS & SR & WD\\\\\n",
       " <dttm> & <dbl> & <dbl> & <dbl> & <dbl> & <dbl> & <dbl>\\\\\n",
       "\\hline\n",
       "\t 2016-01-01 01:00:00 & 376.00 & 11.43 & 69.00 & 0.30 & 12.25 & 216.25\\\\\n",
       "\t 2016-01-01 02:00:00 & 480.50 & 11.28 & 71.50 & 0.35 & 12.58 & 230.92\\\\\n",
       "\t 2016-01-01 03:00:00 & 486.67 & 11.71 & 71.83 & 0.31 & 12.33 & 203.25\\\\\n",
       "\t 2016-01-01 04:00:00 & 441.17 & 11.13 & 73.08 & 0.30 & 12.75 & 126.92\\\\\n",
       "\t 2016-01-01 05:00:00 & 594.83 & 11.01 & 74.75 & 0.30 & 12.58 & 196.42\\\\\n",
       "\t 2016-01-01 06:00:00 & 441.33 & 11.49 & 74.17 & 0.37 & 13.83 &  80.58\\\\\n",
       "\\end{tabular}\n"
      ],
      "text/markdown": [
       "\n",
       "A tibble: 6 × 7\n",
       "\n",
       "| date &lt;dttm&gt; | PM25 &lt;dbl&gt; | AT &lt;dbl&gt; | RH &lt;dbl&gt; | WS &lt;dbl&gt; | SR &lt;dbl&gt; | WD &lt;dbl&gt; |\n",
       "|---|---|---|---|---|---|---|\n",
       "| 2016-01-01 01:00:00 | 376.00 | 11.43 | 69.00 | 0.30 | 12.25 | 216.25 |\n",
       "| 2016-01-01 02:00:00 | 480.50 | 11.28 | 71.50 | 0.35 | 12.58 | 230.92 |\n",
       "| 2016-01-01 03:00:00 | 486.67 | 11.71 | 71.83 | 0.31 | 12.33 | 203.25 |\n",
       "| 2016-01-01 04:00:00 | 441.17 | 11.13 | 73.08 | 0.30 | 12.75 | 126.92 |\n",
       "| 2016-01-01 05:00:00 | 594.83 | 11.01 | 74.75 | 0.30 | 12.58 | 196.42 |\n",
       "| 2016-01-01 06:00:00 | 441.33 | 11.49 | 74.17 | 0.37 | 13.83 |  80.58 |\n",
       "\n"
      ],
      "text/plain": [
       "  date                PM25   AT    RH    WS   SR    WD    \n",
       "1 2016-01-01 01:00:00 376.00 11.43 69.00 0.30 12.25 216.25\n",
       "2 2016-01-01 02:00:00 480.50 11.28 71.50 0.35 12.58 230.92\n",
       "3 2016-01-01 03:00:00 486.67 11.71 71.83 0.31 12.33 203.25\n",
       "4 2016-01-01 04:00:00 441.17 11.13 73.08 0.30 12.75 126.92\n",
       "5 2016-01-01 05:00:00 594.83 11.01 74.75 0.30 12.58 196.42\n",
       "6 2016-01-01 06:00:00 441.33 11.49 74.17 0.37 13.83  80.58"
      ]
     },
     "metadata": {},
     "output_type": "display_data"
    }
   ],
   "source": [
    "## Data loading and cleaning  ##\n",
    "## Reading the excel file, starting with 12 line and giving NA as None value\n",
    "df <- read_xlsx('Data/Anand_Vihar_16_21.xlsx',skip = 12,na = \"None\")\n",
    "## converting date into proper date format and selecting the relevant variable needed\n",
    "df <- df %>% mutate(date = dmy_hm(`From Date`,tz=\"Asia/Kolkata\"),PM25=`PM2.5`)%>%\n",
    "select(date,PM25,AT,RH,WS,SR,WD)\n",
    "head(df)"
   ]
  },
  {
   "cell_type": "code",
   "execution_count": 4,
   "metadata": {},
   "outputs": [
    {
     "name": "stderr",
     "output_type": "stream",
     "text": [
      "`summarise()` has grouped output by 'dates', 'day', 'month'. You can override using the `.groups` argument.\n",
      "\n"
     ]
    },
    {
     "data": {
      "text/html": [
       "<table class=\"dataframe\">\n",
       "<caption>A grouped_df: 6 × 6</caption>\n",
       "<thead>\n",
       "\t<tr><th scope=col>dates</th><th scope=col>day</th><th scope=col>month</th><th scope=col>year</th><th scope=col>PM25</th><th scope=col>week</th></tr>\n",
       "\t<tr><th scope=col>&lt;date&gt;</th><th scope=col>&lt;int&gt;</th><th scope=col>&lt;int&gt;</th><th scope=col>&lt;int&gt;</th><th scope=col>&lt;dbl&gt;</th><th scope=col>&lt;int&gt;</th></tr>\n",
       "</thead>\n",
       "<tbody>\n",
       "\t<tr><td>2016-01-01</td><td>1</td><td>1</td><td>2016</td><td>359.5730</td><td>1</td></tr>\n",
       "\t<tr><td>2016-01-02</td><td>2</td><td>1</td><td>2016</td><td>327.9150</td><td>1</td></tr>\n",
       "\t<tr><td>2016-01-03</td><td>3</td><td>1</td><td>2016</td><td>341.3188</td><td>1</td></tr>\n",
       "\t<tr><td>2016-01-04</td><td>4</td><td>1</td><td>2016</td><td>480.0688</td><td>1</td></tr>\n",
       "\t<tr><td>2016-01-05</td><td>5</td><td>1</td><td>2016</td><td>433.3537</td><td>1</td></tr>\n",
       "\t<tr><td>2016-01-06</td><td>6</td><td>1</td><td>2016</td><td>371.7995</td><td>1</td></tr>\n",
       "</tbody>\n",
       "</table>\n"
      ],
      "text/latex": [
       "A grouped\\_df: 6 × 6\n",
       "\\begin{tabular}{llllll}\n",
       " dates & day & month & year & PM25 & week\\\\\n",
       " <date> & <int> & <int> & <int> & <dbl> & <int>\\\\\n",
       "\\hline\n",
       "\t 2016-01-01 & 1 & 1 & 2016 & 359.5730 & 1\\\\\n",
       "\t 2016-01-02 & 2 & 1 & 2016 & 327.9150 & 1\\\\\n",
       "\t 2016-01-03 & 3 & 1 & 2016 & 341.3188 & 1\\\\\n",
       "\t 2016-01-04 & 4 & 1 & 2016 & 480.0688 & 1\\\\\n",
       "\t 2016-01-05 & 5 & 1 & 2016 & 433.3537 & 1\\\\\n",
       "\t 2016-01-06 & 6 & 1 & 2016 & 371.7995 & 1\\\\\n",
       "\\end{tabular}\n"
      ],
      "text/markdown": [
       "\n",
       "A grouped_df: 6 × 6\n",
       "\n",
       "| dates &lt;date&gt; | day &lt;int&gt; | month &lt;int&gt; | year &lt;int&gt; | PM25 &lt;dbl&gt; | week &lt;int&gt; |\n",
       "|---|---|---|---|---|---|\n",
       "| 2016-01-01 | 1 | 1 | 2016 | 359.5730 | 1 |\n",
       "| 2016-01-02 | 2 | 1 | 2016 | 327.9150 | 1 |\n",
       "| 2016-01-03 | 3 | 1 | 2016 | 341.3188 | 1 |\n",
       "| 2016-01-04 | 4 | 1 | 2016 | 480.0688 | 1 |\n",
       "| 2016-01-05 | 5 | 1 | 2016 | 433.3537 | 1 |\n",
       "| 2016-01-06 | 6 | 1 | 2016 | 371.7995 | 1 |\n",
       "\n"
      ],
      "text/plain": [
       "  dates      day month year PM25     week\n",
       "1 2016-01-01 1   1     2016 359.5730 1   \n",
       "2 2016-01-02 2   1     2016 327.9150 1   \n",
       "3 2016-01-03 3   1     2016 341.3188 1   \n",
       "4 2016-01-04 4   1     2016 480.0688 1   \n",
       "5 2016-01-05 5   1     2016 433.3537 1   \n",
       "6 2016-01-06 6   1     2016 371.7995 1   "
      ]
     },
     "metadata": {},
     "output_type": "display_data"
    }
   ],
   "source": [
    "## Converting the data into daily time series\n",
    "daily_df <- df %>%\n",
    "  select(date, PM25) %>% # to check the model for PM2.5 replace PM2.5 by PM2.5\n",
    "  # extract date features\n",
    "  mutate(\n",
    "    date = as.POSIXct(date, format = \"%d-%m-%Y %H:%M\"), #Date format\n",
    "    hour = hour(date),\n",
    "    day = day(date),\n",
    "    month = month(date),\n",
    "    year = year(date),\n",
    "    dates = as.Date(paste0(day, \"-\", month, \"-\", year), \"%d-%m-%Y\"),\n",
    "    PM2.5 = ifelse(PM25 <10 | PM25 >999 ,NA,PM25)\n",
    "  ) %>%\n",
    "  # from hourly to daily\n",
    "  group_by(dates, day, month, year) %>% ## Convert hourly to daily \n",
    "  summarise(PM25 = mean(PM25, na.rm = TRUE)) %>%\n",
    "  mutate(week = week(dates))\n",
    "\n",
    "## Putting NA if there are null values \n",
    "daily_df$PM25[is.nan(daily_df$PM25)] <- NA\n",
    "head(daily_df)"
   ]
  },
  {
   "cell_type": "code",
   "execution_count": 5,
   "metadata": {},
   "outputs": [
    {
     "name": "stderr",
     "output_type": "stream",
     "text": [
      "`summarise()` has grouped output by 'year', 'month'. You can override using the `.groups` argument.\n",
      "\n"
     ]
    },
    {
     "data": {
      "text/html": [
       "<table class=\"dataframe\">\n",
       "<caption>A tibble: 6 × 6</caption>\n",
       "<thead>\n",
       "\t<tr><th scope=col>month</th><th scope=col>day</th><th scope=col>2016</th><th scope=col>2017</th><th scope=col>2018</th><th scope=col>2019</th></tr>\n",
       "\t<tr><th scope=col>&lt;int&gt;</th><th scope=col>&lt;int&gt;</th><th scope=col>&lt;dbl&gt;</th><th scope=col>&lt;dbl&gt;</th><th scope=col>&lt;dbl&gt;</th><th scope=col>&lt;dbl&gt;</th></tr>\n",
       "</thead>\n",
       "<tbody>\n",
       "\t<tr><td>1</td><td>1</td><td>359.5730</td><td>199.8817</td><td>481.6250</td><td>380.2292</td></tr>\n",
       "\t<tr><td>1</td><td>2</td><td>327.9150</td><td>257.1204</td><td>359.6667</td><td>418.4688</td></tr>\n",
       "\t<tr><td>1</td><td>3</td><td>341.3188</td><td>271.6446</td><td>287.7083</td><td>412.8854</td></tr>\n",
       "\t<tr><td>1</td><td>4</td><td>480.0688</td><td>270.1217</td><td>351.6250</td><td>291.9479</td></tr>\n",
       "\t<tr><td>1</td><td>5</td><td>433.3537</td><td>246.8504</td><td>306.2500</td><td>241.6667</td></tr>\n",
       "\t<tr><td>1</td><td>6</td><td>371.7995</td><td>189.3525</td><td>324.7500</td><td>191.8542</td></tr>\n",
       "</tbody>\n",
       "</table>\n"
      ],
      "text/latex": [
       "A tibble: 6 × 6\n",
       "\\begin{tabular}{llllll}\n",
       " month & day & 2016 & 2017 & 2018 & 2019\\\\\n",
       " <int> & <int> & <dbl> & <dbl> & <dbl> & <dbl>\\\\\n",
       "\\hline\n",
       "\t 1 & 1 & 359.5730 & 199.8817 & 481.6250 & 380.2292\\\\\n",
       "\t 1 & 2 & 327.9150 & 257.1204 & 359.6667 & 418.4688\\\\\n",
       "\t 1 & 3 & 341.3188 & 271.6446 & 287.7083 & 412.8854\\\\\n",
       "\t 1 & 4 & 480.0688 & 270.1217 & 351.6250 & 291.9479\\\\\n",
       "\t 1 & 5 & 433.3537 & 246.8504 & 306.2500 & 241.6667\\\\\n",
       "\t 1 & 6 & 371.7995 & 189.3525 & 324.7500 & 191.8542\\\\\n",
       "\\end{tabular}\n"
      ],
      "text/markdown": [
       "\n",
       "A tibble: 6 × 6\n",
       "\n",
       "| month &lt;int&gt; | day &lt;int&gt; | 2016 &lt;dbl&gt; | 2017 &lt;dbl&gt; | 2018 &lt;dbl&gt; | 2019 &lt;dbl&gt; |\n",
       "|---|---|---|---|---|---|\n",
       "| 1 | 1 | 359.5730 | 199.8817 | 481.6250 | 380.2292 |\n",
       "| 1 | 2 | 327.9150 | 257.1204 | 359.6667 | 418.4688 |\n",
       "| 1 | 3 | 341.3188 | 271.6446 | 287.7083 | 412.8854 |\n",
       "| 1 | 4 | 480.0688 | 270.1217 | 351.6250 | 291.9479 |\n",
       "| 1 | 5 | 433.3537 | 246.8504 | 306.2500 | 241.6667 |\n",
       "| 1 | 6 | 371.7995 | 189.3525 | 324.7500 | 191.8542 |\n",
       "\n"
      ],
      "text/plain": [
       "  month day 2016     2017     2018     2019    \n",
       "1 1     1   359.5730 199.8817 481.6250 380.2292\n",
       "2 1     2   327.9150 257.1204 359.6667 418.4688\n",
       "3 1     3   341.3188 271.6446 287.7083 412.8854\n",
       "4 1     4   480.0688 270.1217 351.6250 291.9479\n",
       "5 1     5   433.3537 246.8504 306.2500 241.6667\n",
       "6 1     6   371.7995 189.3525 324.7500 191.8542"
      ]
     },
     "metadata": {},
     "output_type": "display_data"
    },
    {
     "data": {
      "text/html": [
       "<table class=\"dataframe\">\n",
       "<caption>A data.frame: 6 × 9</caption>\n",
       "<thead>\n",
       "\t<tr><th></th><th scope=col>month</th><th scope=col>day</th><th scope=col>2016</th><th scope=col>2017</th><th scope=col>2018</th><th scope=col>2019</th><th scope=col>meanindex</th><th scope=col>summary_mean</th><th scope=col>dailyindex</th></tr>\n",
       "\t<tr><th></th><th scope=col>&lt;int&gt;</th><th scope=col>&lt;int&gt;</th><th scope=col>&lt;dbl&gt;</th><th scope=col>&lt;dbl&gt;</th><th scope=col>&lt;dbl&gt;</th><th scope=col>&lt;dbl&gt;</th><th scope=col>&lt;dbl&gt;</th><th scope=col>&lt;dbl&gt;</th><th scope=col>&lt;dbl&gt;</th></tr>\n",
       "</thead>\n",
       "<tbody>\n",
       "\t<tr><th scope=row>1</th><td>1</td><td>1</td><td>359.5730</td><td>199.8817</td><td>481.6250</td><td>380.2292</td><td>355.3272</td><td>144.8828</td><td>245.2515</td></tr>\n",
       "\t<tr><th scope=row>2</th><td>1</td><td>2</td><td>327.9150</td><td>257.1204</td><td>359.6667</td><td>418.4688</td><td>340.7927</td><td>144.8828</td><td>235.2196</td></tr>\n",
       "\t<tr><th scope=row>3</th><td>1</td><td>3</td><td>341.3188</td><td>271.6446</td><td>287.7083</td><td>412.8854</td><td>328.3893</td><td>144.8828</td><td>226.6586</td></tr>\n",
       "\t<tr><th scope=row>4</th><td>1</td><td>4</td><td>480.0688</td><td>270.1217</td><td>351.6250</td><td>291.9479</td><td>348.4408</td><td>144.8828</td><td>240.4985</td></tr>\n",
       "\t<tr><th scope=row>5</th><td>1</td><td>5</td><td>433.3537</td><td>246.8504</td><td>306.2500</td><td>241.6667</td><td>307.0302</td><td>144.8828</td><td>211.9163</td></tr>\n",
       "\t<tr><th scope=row>6</th><td>1</td><td>6</td><td>371.7995</td><td>189.3525</td><td>324.7500</td><td>191.8542</td><td>269.4391</td><td>144.8828</td><td>185.9704</td></tr>\n",
       "</tbody>\n",
       "</table>\n"
      ],
      "text/latex": [
       "A data.frame: 6 × 9\n",
       "\\begin{tabular}{r|lllllllll}\n",
       "  & month & day & 2016 & 2017 & 2018 & 2019 & meanindex & summary\\_mean & dailyindex\\\\\n",
       "  & <int> & <int> & <dbl> & <dbl> & <dbl> & <dbl> & <dbl> & <dbl> & <dbl>\\\\\n",
       "\\hline\n",
       "\t1 & 1 & 1 & 359.5730 & 199.8817 & 481.6250 & 380.2292 & 355.3272 & 144.8828 & 245.2515\\\\\n",
       "\t2 & 1 & 2 & 327.9150 & 257.1204 & 359.6667 & 418.4688 & 340.7927 & 144.8828 & 235.2196\\\\\n",
       "\t3 & 1 & 3 & 341.3188 & 271.6446 & 287.7083 & 412.8854 & 328.3893 & 144.8828 & 226.6586\\\\\n",
       "\t4 & 1 & 4 & 480.0688 & 270.1217 & 351.6250 & 291.9479 & 348.4408 & 144.8828 & 240.4985\\\\\n",
       "\t5 & 1 & 5 & 433.3537 & 246.8504 & 306.2500 & 241.6667 & 307.0302 & 144.8828 & 211.9163\\\\\n",
       "\t6 & 1 & 6 & 371.7995 & 189.3525 & 324.7500 & 191.8542 & 269.4391 & 144.8828 & 185.9704\\\\\n",
       "\\end{tabular}\n"
      ],
      "text/markdown": [
       "\n",
       "A data.frame: 6 × 9\n",
       "\n",
       "| <!--/--> | month &lt;int&gt; | day &lt;int&gt; | 2016 &lt;dbl&gt; | 2017 &lt;dbl&gt; | 2018 &lt;dbl&gt; | 2019 &lt;dbl&gt; | meanindex &lt;dbl&gt; | summary_mean &lt;dbl&gt; | dailyindex &lt;dbl&gt; |\n",
       "|---|---|---|---|---|---|---|---|---|---|\n",
       "| 1 | 1 | 1 | 359.5730 | 199.8817 | 481.6250 | 380.2292 | 355.3272 | 144.8828 | 245.2515 |\n",
       "| 2 | 1 | 2 | 327.9150 | 257.1204 | 359.6667 | 418.4688 | 340.7927 | 144.8828 | 235.2196 |\n",
       "| 3 | 1 | 3 | 341.3188 | 271.6446 | 287.7083 | 412.8854 | 328.3893 | 144.8828 | 226.6586 |\n",
       "| 4 | 1 | 4 | 480.0688 | 270.1217 | 351.6250 | 291.9479 | 348.4408 | 144.8828 | 240.4985 |\n",
       "| 5 | 1 | 5 | 433.3537 | 246.8504 | 306.2500 | 241.6667 | 307.0302 | 144.8828 | 211.9163 |\n",
       "| 6 | 1 | 6 | 371.7995 | 189.3525 | 324.7500 | 191.8542 | 269.4391 | 144.8828 | 185.9704 |\n",
       "\n"
      ],
      "text/plain": [
       "  month day 2016     2017     2018     2019     meanindex summary_mean\n",
       "1 1     1   359.5730 199.8817 481.6250 380.2292 355.3272  144.8828    \n",
       "2 1     2   327.9150 257.1204 359.6667 418.4688 340.7927  144.8828    \n",
       "3 1     3   341.3188 271.6446 287.7083 412.8854 328.3893  144.8828    \n",
       "4 1     4   480.0688 270.1217 351.6250 291.9479 348.4408  144.8828    \n",
       "5 1     5   433.3537 246.8504 306.2500 241.6667 307.0302  144.8828    \n",
       "6 1     6   371.7995 189.3525 324.7500 191.8542 269.4391  144.8828    \n",
       "  dailyindex\n",
       "1 245.2515  \n",
       "2 235.2196  \n",
       "3 226.6586  \n",
       "4 240.4985  \n",
       "5 211.9163  \n",
       "6 185.9704  "
      ]
     },
     "metadata": {},
     "output_type": "display_data"
    }
   ],
   "source": [
    "######################## Seasonal Indexes #####################################\n",
    "\n",
    "## We creating index of seasons from the data till May 2019\n",
    "\n",
    "seasonalIndex <- daily_df %>% filter(dates < as.Date(\"2019-12-31\"))\n",
    "\n",
    "\n",
    "############################### daily seasonality  #######################\n",
    "daily_s <- seasonalIndex %>% group_by(year, month, day) %>%\n",
    "  summarize(average = mean(PM25, na.rm = TRUE))\n",
    "\n",
    "daily_s$average[is.nan(daily_s$average)] <- NA\n",
    "\n",
    "## Spanning the year wise value column wise\n",
    "daily_s <- daily_s %>% ungroup() %>%\n",
    "  spread(year, average)\n",
    "head(daily_s)\n",
    "\n",
    "# Calcuating the mean daily index over the years (Except first and second columns)\n",
    "daily_s$meanindex <- rowMeans(daily_s[, -c(1,2)], na.rm = TRUE)\n",
    "\n",
    "## Summary mean is the mean of Mean index\n",
    "summary_mean <- daily_s %>% ungroup() %>%\n",
    "  summarize(summary_mean = mean(meanindex, na.rm = T))\n",
    "\n",
    "## We merge the Summary mean with our old data frame \n",
    "daily_s <- merge(daily_s, summary_mean)\n",
    "\n",
    "## Finally calculating the daily index by mean index/ summary mean * 100\n",
    "daily_s <-\n",
    "  daily_s %>% mutate(dailyindex = meanindex / summary_mean * 100)\n",
    "\n",
    "head(daily_s)\n"
   ]
  },
  {
   "cell_type": "code",
   "execution_count": 6,
   "metadata": {},
   "outputs": [
    {
     "name": "stderr",
     "output_type": "stream",
     "text": [
      "`summarise()` has grouped output by 'year'. You can override using the `.groups` argument.\n",
      "\n"
     ]
    },
    {
     "data": {
      "text/html": [
       "<table class=\"dataframe\">\n",
       "<caption>A tibble: 6 × 5</caption>\n",
       "<thead>\n",
       "\t<tr><th scope=col>week</th><th scope=col>2016</th><th scope=col>2017</th><th scope=col>2018</th><th scope=col>2019</th></tr>\n",
       "\t<tr><th scope=col>&lt;int&gt;</th><th scope=col>&lt;dbl&gt;</th><th scope=col>&lt;dbl&gt;</th><th scope=col>&lt;dbl&gt;</th><th scope=col>&lt;dbl&gt;</th></tr>\n",
       "</thead>\n",
       "<tbody>\n",
       "\t<tr><td>1</td><td>385.6715</td><td>239.1619</td><td>351.9375</td><td>322.8420</td></tr>\n",
       "\t<tr><td>2</td><td>349.6154</td><td>169.9775</td><td>265.8299</td><td>259.8899</td></tr>\n",
       "\t<tr><td>3</td><td>250.1298</td><td>165.8277</td><td>298.4800</td><td>283.6310</td></tr>\n",
       "\t<tr><td>4</td><td>324.5103</td><td>163.5439</td><td>186.7424</td><td>118.1771</td></tr>\n",
       "\t<tr><td>5</td><td>302.3383</td><td>178.0511</td><td>169.1964</td><td>189.1205</td></tr>\n",
       "\t<tr><td>6</td><td>219.2755</td><td>151.1387</td><td>192.8178</td><td>166.1840</td></tr>\n",
       "</tbody>\n",
       "</table>\n"
      ],
      "text/latex": [
       "A tibble: 6 × 5\n",
       "\\begin{tabular}{lllll}\n",
       " week & 2016 & 2017 & 2018 & 2019\\\\\n",
       " <int> & <dbl> & <dbl> & <dbl> & <dbl>\\\\\n",
       "\\hline\n",
       "\t 1 & 385.6715 & 239.1619 & 351.9375 & 322.8420\\\\\n",
       "\t 2 & 349.6154 & 169.9775 & 265.8299 & 259.8899\\\\\n",
       "\t 3 & 250.1298 & 165.8277 & 298.4800 & 283.6310\\\\\n",
       "\t 4 & 324.5103 & 163.5439 & 186.7424 & 118.1771\\\\\n",
       "\t 5 & 302.3383 & 178.0511 & 169.1964 & 189.1205\\\\\n",
       "\t 6 & 219.2755 & 151.1387 & 192.8178 & 166.1840\\\\\n",
       "\\end{tabular}\n"
      ],
      "text/markdown": [
       "\n",
       "A tibble: 6 × 5\n",
       "\n",
       "| week &lt;int&gt; | 2016 &lt;dbl&gt; | 2017 &lt;dbl&gt; | 2018 &lt;dbl&gt; | 2019 &lt;dbl&gt; |\n",
       "|---|---|---|---|---|\n",
       "| 1 | 385.6715 | 239.1619 | 351.9375 | 322.8420 |\n",
       "| 2 | 349.6154 | 169.9775 | 265.8299 | 259.8899 |\n",
       "| 3 | 250.1298 | 165.8277 | 298.4800 | 283.6310 |\n",
       "| 4 | 324.5103 | 163.5439 | 186.7424 | 118.1771 |\n",
       "| 5 | 302.3383 | 178.0511 | 169.1964 | 189.1205 |\n",
       "| 6 | 219.2755 | 151.1387 | 192.8178 | 166.1840 |\n",
       "\n"
      ],
      "text/plain": [
       "  week 2016     2017     2018     2019    \n",
       "1 1    385.6715 239.1619 351.9375 322.8420\n",
       "2 2    349.6154 169.9775 265.8299 259.8899\n",
       "3 3    250.1298 165.8277 298.4800 283.6310\n",
       "4 4    324.5103 163.5439 186.7424 118.1771\n",
       "5 5    302.3383 178.0511 169.1964 189.1205\n",
       "6 6    219.2755 151.1387 192.8178 166.1840"
      ]
     },
     "metadata": {},
     "output_type": "display_data"
    },
    {
     "data": {
      "text/html": [
       "<table class=\"dataframe\">\n",
       "<caption>A data.frame: 6 × 8</caption>\n",
       "<thead>\n",
       "\t<tr><th></th><th scope=col>week</th><th scope=col>2016</th><th scope=col>2017</th><th scope=col>2018</th><th scope=col>2019</th><th scope=col>meanindex</th><th scope=col>summary_mean</th><th scope=col>weeklyindex</th></tr>\n",
       "\t<tr><th></th><th scope=col>&lt;int&gt;</th><th scope=col>&lt;dbl&gt;</th><th scope=col>&lt;dbl&gt;</th><th scope=col>&lt;dbl&gt;</th><th scope=col>&lt;dbl&gt;</th><th scope=col>&lt;dbl&gt;</th><th scope=col>&lt;dbl&gt;</th><th scope=col>&lt;dbl&gt;</th></tr>\n",
       "</thead>\n",
       "<tbody>\n",
       "\t<tr><th scope=row>1</th><td>1</td><td>385.6715</td><td>239.1619</td><td>351.9375</td><td>322.8420</td><td>324.9032</td><td>149.7418</td><td>216.9756</td></tr>\n",
       "\t<tr><th scope=row>2</th><td>2</td><td>349.6154</td><td>169.9775</td><td>265.8299</td><td>259.8899</td><td>261.3282</td><td>149.7418</td><td>174.5191</td></tr>\n",
       "\t<tr><th scope=row>3</th><td>3</td><td>250.1298</td><td>165.8277</td><td>298.4800</td><td>283.6310</td><td>249.5171</td><td>149.7418</td><td>166.6315</td></tr>\n",
       "\t<tr><th scope=row>4</th><td>4</td><td>324.5103</td><td>163.5439</td><td>186.7424</td><td>118.1771</td><td>198.2434</td><td>149.7418</td><td>132.3901</td></tr>\n",
       "\t<tr><th scope=row>5</th><td>5</td><td>302.3383</td><td>178.0511</td><td>169.1964</td><td>189.1205</td><td>209.6766</td><td>149.7418</td><td>140.0254</td></tr>\n",
       "\t<tr><th scope=row>6</th><td>6</td><td>219.2755</td><td>151.1387</td><td>192.8178</td><td>166.1840</td><td>182.3540</td><td>149.7418</td><td>121.7789</td></tr>\n",
       "</tbody>\n",
       "</table>\n"
      ],
      "text/latex": [
       "A data.frame: 6 × 8\n",
       "\\begin{tabular}{r|llllllll}\n",
       "  & week & 2016 & 2017 & 2018 & 2019 & meanindex & summary\\_mean & weeklyindex\\\\\n",
       "  & <int> & <dbl> & <dbl> & <dbl> & <dbl> & <dbl> & <dbl> & <dbl>\\\\\n",
       "\\hline\n",
       "\t1 & 1 & 385.6715 & 239.1619 & 351.9375 & 322.8420 & 324.9032 & 149.7418 & 216.9756\\\\\n",
       "\t2 & 2 & 349.6154 & 169.9775 & 265.8299 & 259.8899 & 261.3282 & 149.7418 & 174.5191\\\\\n",
       "\t3 & 3 & 250.1298 & 165.8277 & 298.4800 & 283.6310 & 249.5171 & 149.7418 & 166.6315\\\\\n",
       "\t4 & 4 & 324.5103 & 163.5439 & 186.7424 & 118.1771 & 198.2434 & 149.7418 & 132.3901\\\\\n",
       "\t5 & 5 & 302.3383 & 178.0511 & 169.1964 & 189.1205 & 209.6766 & 149.7418 & 140.0254\\\\\n",
       "\t6 & 6 & 219.2755 & 151.1387 & 192.8178 & 166.1840 & 182.3540 & 149.7418 & 121.7789\\\\\n",
       "\\end{tabular}\n"
      ],
      "text/markdown": [
       "\n",
       "A data.frame: 6 × 8\n",
       "\n",
       "| <!--/--> | week &lt;int&gt; | 2016 &lt;dbl&gt; | 2017 &lt;dbl&gt; | 2018 &lt;dbl&gt; | 2019 &lt;dbl&gt; | meanindex &lt;dbl&gt; | summary_mean &lt;dbl&gt; | weeklyindex &lt;dbl&gt; |\n",
       "|---|---|---|---|---|---|---|---|---|\n",
       "| 1 | 1 | 385.6715 | 239.1619 | 351.9375 | 322.8420 | 324.9032 | 149.7418 | 216.9756 |\n",
       "| 2 | 2 | 349.6154 | 169.9775 | 265.8299 | 259.8899 | 261.3282 | 149.7418 | 174.5191 |\n",
       "| 3 | 3 | 250.1298 | 165.8277 | 298.4800 | 283.6310 | 249.5171 | 149.7418 | 166.6315 |\n",
       "| 4 | 4 | 324.5103 | 163.5439 | 186.7424 | 118.1771 | 198.2434 | 149.7418 | 132.3901 |\n",
       "| 5 | 5 | 302.3383 | 178.0511 | 169.1964 | 189.1205 | 209.6766 | 149.7418 | 140.0254 |\n",
       "| 6 | 6 | 219.2755 | 151.1387 | 192.8178 | 166.1840 | 182.3540 | 149.7418 | 121.7789 |\n",
       "\n"
      ],
      "text/plain": [
       "  week 2016     2017     2018     2019     meanindex summary_mean weeklyindex\n",
       "1 1    385.6715 239.1619 351.9375 322.8420 324.9032  149.7418     216.9756   \n",
       "2 2    349.6154 169.9775 265.8299 259.8899 261.3282  149.7418     174.5191   \n",
       "3 3    250.1298 165.8277 298.4800 283.6310 249.5171  149.7418     166.6315   \n",
       "4 4    324.5103 163.5439 186.7424 118.1771 198.2434  149.7418     132.3901   \n",
       "5 5    302.3383 178.0511 169.1964 189.1205 209.6766  149.7418     140.0254   \n",
       "6 6    219.2755 151.1387 192.8178 166.1840 182.3540  149.7418     121.7789   "
      ]
     },
     "metadata": {},
     "output_type": "display_data"
    }
   ],
   "source": [
    "############################### weekly seasonality ###########\n",
    "weekly_s <- seasonalIndex %>%\n",
    "  group_by(year, week) %>%\n",
    "  summarize(average = mean(PM25, na.rm = TRUE))\n",
    "\n",
    "## NA if the average in null\n",
    "weekly_s$average[is.nan(weekly_s$average)] <- NA\n",
    "\n",
    "## Spreading across weeks\n",
    "weekly_s <- weekly_s %>% ungroup() %>%\n",
    "  spread(year, average)\n",
    "\n",
    "head(weekly_s)\n",
    "\n",
    "# Calcuating the mean weekly index over the years\n",
    "weekly_s$meanindex <- rowMeans(weekly_s[, -1], na.rm = TRUE)\n",
    "\n",
    "## Calculting summary means\n",
    "summary_mean <- weekly_s %>% ungroup() %>%\n",
    "  summarize(summary_mean = mean(meanindex, na.rm = T))\n",
    "\n",
    "## Adding summary mean\n",
    "weekly_s <- merge(weekly_s, summary_mean)\n",
    "\n",
    "## Calculating weekly index\n",
    "weekly_s <-\n",
    "  weekly_s %>% mutate(weeklyindex = meanindex / summary_mean * 100)\n",
    "\n",
    "head(weekly_s)"
   ]
  },
  {
   "cell_type": "code",
   "execution_count": 7,
   "metadata": {},
   "outputs": [
    {
     "name": "stderr",
     "output_type": "stream",
     "text": [
      "`summarise()` has grouped output by 'year'. You can override using the `.groups` argument.\n",
      "\n"
     ]
    },
    {
     "data": {
      "text/html": [
       "<table class=\"dataframe\">\n",
       "<caption>A tibble: 6 × 5</caption>\n",
       "<thead>\n",
       "\t<tr><th scope=col>month</th><th scope=col>2016</th><th scope=col>2017</th><th scope=col>2018</th><th scope=col>2019</th></tr>\n",
       "\t<tr><th scope=col>&lt;int&gt;</th><th scope=col>&lt;dbl&gt;</th><th scope=col>&lt;dbl&gt;</th><th scope=col>&lt;dbl&gt;</th><th scope=col>&lt;dbl&gt;</th></tr>\n",
       "</thead>\n",
       "<tbody>\n",
       "\t<tr><td>1</td><td>329.30722</td><td>182.00853</td><td>262.1045</td><td>235.80948</td></tr>\n",
       "\t<tr><td>2</td><td>166.30107</td><td>137.56805</td><td>161.2071</td><td>141.88165</td></tr>\n",
       "\t<tr><td>3</td><td>119.22709</td><td>111.76453</td><td>119.2262</td><td>106.87930</td></tr>\n",
       "\t<tr><td>4</td><td>148.44689</td><td>129.57525</td><td>115.1012</td><td> 97.86498</td></tr>\n",
       "\t<tr><td>5</td><td>101.07827</td><td>150.19080</td><td>107.3090</td><td>110.89809</td></tr>\n",
       "\t<tr><td>6</td><td> 92.93804</td><td> 99.96604</td><td>111.5551</td><td> 73.38452</td></tr>\n",
       "</tbody>\n",
       "</table>\n"
      ],
      "text/latex": [
       "A tibble: 6 × 5\n",
       "\\begin{tabular}{lllll}\n",
       " month & 2016 & 2017 & 2018 & 2019\\\\\n",
       " <int> & <dbl> & <dbl> & <dbl> & <dbl>\\\\\n",
       "\\hline\n",
       "\t 1 & 329.30722 & 182.00853 & 262.1045 & 235.80948\\\\\n",
       "\t 2 & 166.30107 & 137.56805 & 161.2071 & 141.88165\\\\\n",
       "\t 3 & 119.22709 & 111.76453 & 119.2262 & 106.87930\\\\\n",
       "\t 4 & 148.44689 & 129.57525 & 115.1012 &  97.86498\\\\\n",
       "\t 5 & 101.07827 & 150.19080 & 107.3090 & 110.89809\\\\\n",
       "\t 6 &  92.93804 &  99.96604 & 111.5551 &  73.38452\\\\\n",
       "\\end{tabular}\n"
      ],
      "text/markdown": [
       "\n",
       "A tibble: 6 × 5\n",
       "\n",
       "| month &lt;int&gt; | 2016 &lt;dbl&gt; | 2017 &lt;dbl&gt; | 2018 &lt;dbl&gt; | 2019 &lt;dbl&gt; |\n",
       "|---|---|---|---|---|\n",
       "| 1 | 329.30722 | 182.00853 | 262.1045 | 235.80948 |\n",
       "| 2 | 166.30107 | 137.56805 | 161.2071 | 141.88165 |\n",
       "| 3 | 119.22709 | 111.76453 | 119.2262 | 106.87930 |\n",
       "| 4 | 148.44689 | 129.57525 | 115.1012 |  97.86498 |\n",
       "| 5 | 101.07827 | 150.19080 | 107.3090 | 110.89809 |\n",
       "| 6 |  92.93804 |  99.96604 | 111.5551 |  73.38452 |\n",
       "\n"
      ],
      "text/plain": [
       "  month 2016      2017      2018     2019     \n",
       "1 1     329.30722 182.00853 262.1045 235.80948\n",
       "2 2     166.30107 137.56805 161.2071 141.88165\n",
       "3 3     119.22709 111.76453 119.2262 106.87930\n",
       "4 4     148.44689 129.57525 115.1012  97.86498\n",
       "5 5     101.07827 150.19080 107.3090 110.89809\n",
       "6 6      92.93804  99.96604 111.5551  73.38452"
      ]
     },
     "metadata": {},
     "output_type": "display_data"
    },
    {
     "data": {
      "text/html": [
       "<table class=\"dataframe\">\n",
       "<caption>A data.frame: 6 × 8</caption>\n",
       "<thead>\n",
       "\t<tr><th></th><th scope=col>month</th><th scope=col>2016</th><th scope=col>2017</th><th scope=col>2018</th><th scope=col>2019</th><th scope=col>meanindex</th><th scope=col>summary_mean</th><th scope=col>monthlyindex</th></tr>\n",
       "\t<tr><th></th><th scope=col>&lt;int&gt;</th><th scope=col>&lt;dbl&gt;</th><th scope=col>&lt;dbl&gt;</th><th scope=col>&lt;dbl&gt;</th><th scope=col>&lt;dbl&gt;</th><th scope=col>&lt;dbl&gt;</th><th scope=col>&lt;dbl&gt;</th><th scope=col>&lt;dbl&gt;</th></tr>\n",
       "</thead>\n",
       "<tbody>\n",
       "\t<tr><th scope=row>1</th><td>1</td><td>329.30722</td><td>182.00853</td><td>262.1045</td><td>235.80948</td><td>252.30744</td><td>147.6722</td><td>170.85647</td></tr>\n",
       "\t<tr><th scope=row>2</th><td>2</td><td>166.30107</td><td>137.56805</td><td>161.2071</td><td>141.88165</td><td>151.73947</td><td>147.6722</td><td>102.75428</td></tr>\n",
       "\t<tr><th scope=row>3</th><td>3</td><td>119.22709</td><td>111.76453</td><td>119.2262</td><td>106.87930</td><td>114.27427</td><td>147.6722</td><td> 77.38376</td></tr>\n",
       "\t<tr><th scope=row>4</th><td>4</td><td>148.44689</td><td>129.57525</td><td>115.1012</td><td> 97.86498</td><td>122.74708</td><td>147.6722</td><td> 83.12134</td></tr>\n",
       "\t<tr><th scope=row>5</th><td>5</td><td>101.07827</td><td>150.19080</td><td>107.3090</td><td>110.89809</td><td>117.36905</td><td>147.6722</td><td> 79.47947</td></tr>\n",
       "\t<tr><th scope=row>6</th><td>6</td><td> 92.93804</td><td> 99.96604</td><td>111.5551</td><td> 73.38452</td><td> 94.46093</td><td>147.6722</td><td> 63.96665</td></tr>\n",
       "</tbody>\n",
       "</table>\n"
      ],
      "text/latex": [
       "A data.frame: 6 × 8\n",
       "\\begin{tabular}{r|llllllll}\n",
       "  & month & 2016 & 2017 & 2018 & 2019 & meanindex & summary\\_mean & monthlyindex\\\\\n",
       "  & <int> & <dbl> & <dbl> & <dbl> & <dbl> & <dbl> & <dbl> & <dbl>\\\\\n",
       "\\hline\n",
       "\t1 & 1 & 329.30722 & 182.00853 & 262.1045 & 235.80948 & 252.30744 & 147.6722 & 170.85647\\\\\n",
       "\t2 & 2 & 166.30107 & 137.56805 & 161.2071 & 141.88165 & 151.73947 & 147.6722 & 102.75428\\\\\n",
       "\t3 & 3 & 119.22709 & 111.76453 & 119.2262 & 106.87930 & 114.27427 & 147.6722 &  77.38376\\\\\n",
       "\t4 & 4 & 148.44689 & 129.57525 & 115.1012 &  97.86498 & 122.74708 & 147.6722 &  83.12134\\\\\n",
       "\t5 & 5 & 101.07827 & 150.19080 & 107.3090 & 110.89809 & 117.36905 & 147.6722 &  79.47947\\\\\n",
       "\t6 & 6 &  92.93804 &  99.96604 & 111.5551 &  73.38452 &  94.46093 & 147.6722 &  63.96665\\\\\n",
       "\\end{tabular}\n"
      ],
      "text/markdown": [
       "\n",
       "A data.frame: 6 × 8\n",
       "\n",
       "| <!--/--> | month &lt;int&gt; | 2016 &lt;dbl&gt; | 2017 &lt;dbl&gt; | 2018 &lt;dbl&gt; | 2019 &lt;dbl&gt; | meanindex &lt;dbl&gt; | summary_mean &lt;dbl&gt; | monthlyindex &lt;dbl&gt; |\n",
       "|---|---|---|---|---|---|---|---|---|\n",
       "| 1 | 1 | 329.30722 | 182.00853 | 262.1045 | 235.80948 | 252.30744 | 147.6722 | 170.85647 |\n",
       "| 2 | 2 | 166.30107 | 137.56805 | 161.2071 | 141.88165 | 151.73947 | 147.6722 | 102.75428 |\n",
       "| 3 | 3 | 119.22709 | 111.76453 | 119.2262 | 106.87930 | 114.27427 | 147.6722 |  77.38376 |\n",
       "| 4 | 4 | 148.44689 | 129.57525 | 115.1012 |  97.86498 | 122.74708 | 147.6722 |  83.12134 |\n",
       "| 5 | 5 | 101.07827 | 150.19080 | 107.3090 | 110.89809 | 117.36905 | 147.6722 |  79.47947 |\n",
       "| 6 | 6 |  92.93804 |  99.96604 | 111.5551 |  73.38452 |  94.46093 | 147.6722 |  63.96665 |\n",
       "\n"
      ],
      "text/plain": [
       "  month 2016      2017      2018     2019      meanindex summary_mean\n",
       "1 1     329.30722 182.00853 262.1045 235.80948 252.30744 147.6722    \n",
       "2 2     166.30107 137.56805 161.2071 141.88165 151.73947 147.6722    \n",
       "3 3     119.22709 111.76453 119.2262 106.87930 114.27427 147.6722    \n",
       "4 4     148.44689 129.57525 115.1012  97.86498 122.74708 147.6722    \n",
       "5 5     101.07827 150.19080 107.3090 110.89809 117.36905 147.6722    \n",
       "6 6      92.93804  99.96604 111.5551  73.38452  94.46093 147.6722    \n",
       "  monthlyindex\n",
       "1 170.85647   \n",
       "2 102.75428   \n",
       "3  77.38376   \n",
       "4  83.12134   \n",
       "5  79.47947   \n",
       "6  63.96665   "
      ]
     },
     "metadata": {},
     "output_type": "display_data"
    }
   ],
   "source": [
    "############################### monthly seasonality ##############################\n",
    "\n",
    "## Grouping by year and month\n",
    "monthly_s <- seasonalIndex %>%\n",
    "  group_by(year, month) %>%\n",
    "  summarize(average = mean(PM25, na.rm = TRUE))\n",
    "\n",
    "## Adding NA values if there are any null values of any sort \n",
    "monthly_s$average[is.nan(monthly_s$average)] <- NA\n",
    "\n",
    "## Spreading across months \n",
    "monthly_s <- monthly_s %>% ungroup() %>%\n",
    "  spread(year, average)\n",
    "\n",
    "head(monthly_s)\n",
    "\n",
    "# Calcuating the mean weekly index over the years (-1 to remove first column which is month)\n",
    "monthly_s$meanindex <- rowMeans(monthly_s[, -1], na.rm = TRUE)\n",
    "\n",
    "## Summary mean of the mean index\n",
    "summary_mean <- monthly_s %>% ungroup() %>%\n",
    "  summarize(summary_mean = mean(meanindex, na.rm = T))\n",
    "\n",
    "## Merging the summary mean with the data frame\n",
    "monthly_s <- merge(monthly_s, summary_mean)\n",
    "\n",
    "## Adding the Monthly index\n",
    "monthly_s <-\n",
    "  monthly_s %>% mutate(monthlyindex = meanindex / summary_mean * 100)\n",
    "head(monthly_s)"
   ]
  },
  {
   "cell_type": "code",
   "execution_count": 8,
   "metadata": {},
   "outputs": [
    {
     "data": {
      "text/html": [
       "<table class=\"dataframe\">\n",
       "<caption>A grouped_df: 6 × 9</caption>\n",
       "<thead>\n",
       "\t<tr><th scope=col>dates</th><th scope=col>day</th><th scope=col>month</th><th scope=col>year</th><th scope=col>PM25</th><th scope=col>week</th><th scope=col>dailyindex</th><th scope=col>monthlyindex</th><th scope=col>weeklyindex</th></tr>\n",
       "\t<tr><th scope=col>&lt;date&gt;</th><th scope=col>&lt;int&gt;</th><th scope=col>&lt;int&gt;</th><th scope=col>&lt;int&gt;</th><th scope=col>&lt;dbl&gt;</th><th scope=col>&lt;int&gt;</th><th scope=col>&lt;dbl&gt;</th><th scope=col>&lt;dbl&gt;</th><th scope=col>&lt;dbl&gt;</th></tr>\n",
       "</thead>\n",
       "<tbody>\n",
       "\t<tr><td>2016-01-01</td><td>1</td><td>1</td><td>2016</td><td>359.5730</td><td>1</td><td>245.2515</td><td>170.8565</td><td>216.9756</td></tr>\n",
       "\t<tr><td>2016-01-02</td><td>2</td><td>1</td><td>2016</td><td>327.9150</td><td>1</td><td>235.2196</td><td>170.8565</td><td>216.9756</td></tr>\n",
       "\t<tr><td>2016-01-03</td><td>3</td><td>1</td><td>2016</td><td>341.3188</td><td>1</td><td>226.6586</td><td>170.8565</td><td>216.9756</td></tr>\n",
       "\t<tr><td>2016-01-04</td><td>4</td><td>1</td><td>2016</td><td>480.0688</td><td>1</td><td>240.4985</td><td>170.8565</td><td>216.9756</td></tr>\n",
       "\t<tr><td>2016-01-05</td><td>5</td><td>1</td><td>2016</td><td>433.3537</td><td>1</td><td>211.9163</td><td>170.8565</td><td>216.9756</td></tr>\n",
       "\t<tr><td>2016-01-06</td><td>6</td><td>1</td><td>2016</td><td>371.7995</td><td>1</td><td>185.9704</td><td>170.8565</td><td>216.9756</td></tr>\n",
       "</tbody>\n",
       "</table>\n"
      ],
      "text/latex": [
       "A grouped\\_df: 6 × 9\n",
       "\\begin{tabular}{lllllllll}\n",
       " dates & day & month & year & PM25 & week & dailyindex & monthlyindex & weeklyindex\\\\\n",
       " <date> & <int> & <int> & <int> & <dbl> & <int> & <dbl> & <dbl> & <dbl>\\\\\n",
       "\\hline\n",
       "\t 2016-01-01 & 1 & 1 & 2016 & 359.5730 & 1 & 245.2515 & 170.8565 & 216.9756\\\\\n",
       "\t 2016-01-02 & 2 & 1 & 2016 & 327.9150 & 1 & 235.2196 & 170.8565 & 216.9756\\\\\n",
       "\t 2016-01-03 & 3 & 1 & 2016 & 341.3188 & 1 & 226.6586 & 170.8565 & 216.9756\\\\\n",
       "\t 2016-01-04 & 4 & 1 & 2016 & 480.0688 & 1 & 240.4985 & 170.8565 & 216.9756\\\\\n",
       "\t 2016-01-05 & 5 & 1 & 2016 & 433.3537 & 1 & 211.9163 & 170.8565 & 216.9756\\\\\n",
       "\t 2016-01-06 & 6 & 1 & 2016 & 371.7995 & 1 & 185.9704 & 170.8565 & 216.9756\\\\\n",
       "\\end{tabular}\n"
      ],
      "text/markdown": [
       "\n",
       "A grouped_df: 6 × 9\n",
       "\n",
       "| dates &lt;date&gt; | day &lt;int&gt; | month &lt;int&gt; | year &lt;int&gt; | PM25 &lt;dbl&gt; | week &lt;int&gt; | dailyindex &lt;dbl&gt; | monthlyindex &lt;dbl&gt; | weeklyindex &lt;dbl&gt; |\n",
       "|---|---|---|---|---|---|---|---|---|\n",
       "| 2016-01-01 | 1 | 1 | 2016 | 359.5730 | 1 | 245.2515 | 170.8565 | 216.9756 |\n",
       "| 2016-01-02 | 2 | 1 | 2016 | 327.9150 | 1 | 235.2196 | 170.8565 | 216.9756 |\n",
       "| 2016-01-03 | 3 | 1 | 2016 | 341.3188 | 1 | 226.6586 | 170.8565 | 216.9756 |\n",
       "| 2016-01-04 | 4 | 1 | 2016 | 480.0688 | 1 | 240.4985 | 170.8565 | 216.9756 |\n",
       "| 2016-01-05 | 5 | 1 | 2016 | 433.3537 | 1 | 211.9163 | 170.8565 | 216.9756 |\n",
       "| 2016-01-06 | 6 | 1 | 2016 | 371.7995 | 1 | 185.9704 | 170.8565 | 216.9756 |\n",
       "\n"
      ],
      "text/plain": [
       "  dates      day month year PM25     week dailyindex monthlyindex weeklyindex\n",
       "1 2016-01-01 1   1     2016 359.5730 1    245.2515   170.8565     216.9756   \n",
       "2 2016-01-02 2   1     2016 327.9150 1    235.2196   170.8565     216.9756   \n",
       "3 2016-01-03 3   1     2016 341.3188 1    226.6586   170.8565     216.9756   \n",
       "4 2016-01-04 4   1     2016 480.0688 1    240.4985   170.8565     216.9756   \n",
       "5 2016-01-05 5   1     2016 433.3537 1    211.9163   170.8565     216.9756   \n",
       "6 2016-01-06 6   1     2016 371.7995 1    185.9704   170.8565     216.9756   "
      ]
     },
     "metadata": {},
     "output_type": "display_data"
    }
   ],
   "source": [
    "\n",
    "############# Join the indexes to original daily data\n",
    "daily_s <- daily_s %>% select(month, day, dailyindex)\n",
    "daily_df <- daily_df %>% left_join(daily_s, by = c(\"month\", \"day\"))\n",
    "\n",
    "monthly_s <- monthly_s %>% select(month, monthlyindex)\n",
    "daily_df <- daily_df %>% left_join(monthly_s, by = c(\"month\"))\n",
    "\n",
    "weekly_s <- weekly_s %>% select(week, weeklyindex)\n",
    "daily_df <- daily_df %>% left_join(weekly_s, by = c(\"week\"))\n",
    "\n",
    "head(daily_df)\n",
    "## Removing the unnecessary data frames \n",
    "rm(daily_s)\n",
    "rm(monthly_s)\n",
    "rm(weekly_s)\n",
    "rm(summary_mean)\n",
    "rm(seasonalIndex)\n"
   ]
  },
  {
   "cell_type": "code",
   "execution_count": 9,
   "metadata": {},
   "outputs": [
    {
     "data": {
      "text/html": [
       "<table class=\"dataframe\">\n",
       "<caption>A data.frame: 6 × 6</caption>\n",
       "<thead>\n",
       "\t<tr><th></th><th scope=col>dates</th><th scope=col>year</th><th scope=col>PM25</th><th scope=col>dailyindex</th><th scope=col>monthlyindex</th><th scope=col>weeklyindex</th></tr>\n",
       "\t<tr><th></th><th scope=col>&lt;date&gt;</th><th scope=col>&lt;int&gt;</th><th scope=col>&lt;dbl&gt;</th><th scope=col>&lt;dbl&gt;</th><th scope=col>&lt;dbl&gt;</th><th scope=col>&lt;dbl&gt;</th></tr>\n",
       "</thead>\n",
       "<tbody>\n",
       "\t<tr><th scope=row>1</th><td>2016-01-01</td><td>2016</td><td>359.5730</td><td>245.2515</td><td>170.8565</td><td>216.9756</td></tr>\n",
       "\t<tr><th scope=row>2</th><td>2016-01-02</td><td>2016</td><td>327.9150</td><td>235.2196</td><td>170.8565</td><td>216.9756</td></tr>\n",
       "\t<tr><th scope=row>3</th><td>2016-01-03</td><td>2016</td><td>341.3188</td><td>226.6586</td><td>170.8565</td><td>216.9756</td></tr>\n",
       "\t<tr><th scope=row>4</th><td>2016-01-04</td><td>2016</td><td>480.0688</td><td>240.4985</td><td>170.8565</td><td>216.9756</td></tr>\n",
       "\t<tr><th scope=row>5</th><td>2016-01-05</td><td>2016</td><td>433.3537</td><td>211.9163</td><td>170.8565</td><td>216.9756</td></tr>\n",
       "\t<tr><th scope=row>6</th><td>2016-01-06</td><td>2016</td><td>371.7995</td><td>185.9704</td><td>170.8565</td><td>216.9756</td></tr>\n",
       "</tbody>\n",
       "</table>\n"
      ],
      "text/latex": [
       "A data.frame: 6 × 6\n",
       "\\begin{tabular}{r|llllll}\n",
       "  & dates & year & PM25 & dailyindex & monthlyindex & weeklyindex\\\\\n",
       "  & <date> & <int> & <dbl> & <dbl> & <dbl> & <dbl>\\\\\n",
       "\\hline\n",
       "\t1 & 2016-01-01 & 2016 & 359.5730 & 245.2515 & 170.8565 & 216.9756\\\\\n",
       "\t2 & 2016-01-02 & 2016 & 327.9150 & 235.2196 & 170.8565 & 216.9756\\\\\n",
       "\t3 & 2016-01-03 & 2016 & 341.3188 & 226.6586 & 170.8565 & 216.9756\\\\\n",
       "\t4 & 2016-01-04 & 2016 & 480.0688 & 240.4985 & 170.8565 & 216.9756\\\\\n",
       "\t5 & 2016-01-05 & 2016 & 433.3537 & 211.9163 & 170.8565 & 216.9756\\\\\n",
       "\t6 & 2016-01-06 & 2016 & 371.7995 & 185.9704 & 170.8565 & 216.9756\\\\\n",
       "\\end{tabular}\n"
      ],
      "text/markdown": [
       "\n",
       "A data.frame: 6 × 6\n",
       "\n",
       "| <!--/--> | dates &lt;date&gt; | year &lt;int&gt; | PM25 &lt;dbl&gt; | dailyindex &lt;dbl&gt; | monthlyindex &lt;dbl&gt; | weeklyindex &lt;dbl&gt; |\n",
       "|---|---|---|---|---|---|---|\n",
       "| 1 | 2016-01-01 | 2016 | 359.5730 | 245.2515 | 170.8565 | 216.9756 |\n",
       "| 2 | 2016-01-02 | 2016 | 327.9150 | 235.2196 | 170.8565 | 216.9756 |\n",
       "| 3 | 2016-01-03 | 2016 | 341.3188 | 226.6586 | 170.8565 | 216.9756 |\n",
       "| 4 | 2016-01-04 | 2016 | 480.0688 | 240.4985 | 170.8565 | 216.9756 |\n",
       "| 5 | 2016-01-05 | 2016 | 433.3537 | 211.9163 | 170.8565 | 216.9756 |\n",
       "| 6 | 2016-01-06 | 2016 | 371.7995 | 185.9704 | 170.8565 | 216.9756 |\n",
       "\n"
      ],
      "text/plain": [
       "  dates      year PM25     dailyindex monthlyindex weeklyindex\n",
       "1 2016-01-01 2016 359.5730 245.2515   170.8565     216.9756   \n",
       "2 2016-01-02 2016 327.9150 235.2196   170.8565     216.9756   \n",
       "3 2016-01-03 2016 341.3188 226.6586   170.8565     216.9756   \n",
       "4 2016-01-04 2016 480.0688 240.4985   170.8565     216.9756   \n",
       "5 2016-01-05 2016 433.3537 211.9163   170.8565     216.9756   \n",
       "6 2016-01-06 2016 371.7995 185.9704   170.8565     216.9756   "
      ]
     },
     "metadata": {},
     "output_type": "display_data"
    }
   ],
   "source": [
    "################### Data manipulation using forecastML\n",
    "## Fill_gaps is a function from forecatML to see if there are missing value it creates\n",
    "## an evenly spaced data frame\n",
    "daily_ts <- fill_gaps(daily_df, date_col = 1, frequency = \"1 day\")\n",
    "dates <- daily_ts$dates\n",
    "#daily_ts$dates <- NULL\n",
    "daily_ts$day <- NULL\n",
    "daily_ts$month <- NULL\n",
    "daily_ts$week <- NULL\n",
    "#daily_ts$year <- NULL\n",
    "head(daily_ts)\n"
   ]
  },
  {
   "cell_type": "code",
   "execution_count": 10,
   "metadata": {},
   "outputs": [
    {
     "data": {
      "text/html": [
       "<table class=\"dataframe\">\n",
       "<caption>A data.frame: 6 × 6</caption>\n",
       "<thead>\n",
       "\t<tr><th></th><th scope=col>dates</th><th scope=col>year</th><th scope=col>PM25</th><th scope=col>dailyindex</th><th scope=col>monthlyindex</th><th scope=col>weeklyindex</th></tr>\n",
       "\t<tr><th></th><th scope=col>&lt;date&gt;</th><th scope=col>&lt;int&gt;</th><th scope=col>&lt;dbl&gt;</th><th scope=col>&lt;dbl&gt;</th><th scope=col>&lt;dbl&gt;</th><th scope=col>&lt;dbl&gt;</th></tr>\n",
       "</thead>\n",
       "<tbody>\n",
       "\t<tr><th scope=row>361</th><td>2020-12-26</td><td>2020</td><td>274.85417</td><td>170.4902</td><td>191.9288</td><td>219.1338</td></tr>\n",
       "\t<tr><th scope=row>362</th><td>2020-12-27</td><td>2020</td><td>269.50000</td><td>219.5252</td><td>191.9288</td><td>219.1338</td></tr>\n",
       "\t<tr><th scope=row>363</th><td>2020-12-28</td><td>2020</td><td> 95.98958</td><td>223.1810</td><td>191.9288</td><td>219.1338</td></tr>\n",
       "\t<tr><th scope=row>364</th><td>2020-12-29</td><td>2020</td><td>141.84375</td><td>236.0622</td><td>191.9288</td><td>264.6841</td></tr>\n",
       "\t<tr><th scope=row>365</th><td>2020-12-30</td><td>2020</td><td>191.16667</td><td>264.7096</td><td>191.9288</td><td>264.6841</td></tr>\n",
       "\t<tr><th scope=row>366</th><td>2020-12-31</td><td>2020</td><td>298.41667</td><td>270.9343</td><td>191.9288</td><td>264.6841</td></tr>\n",
       "</tbody>\n",
       "</table>\n"
      ],
      "text/latex": [
       "A data.frame: 6 × 6\n",
       "\\begin{tabular}{r|llllll}\n",
       "  & dates & year & PM25 & dailyindex & monthlyindex & weeklyindex\\\\\n",
       "  & <date> & <int> & <dbl> & <dbl> & <dbl> & <dbl>\\\\\n",
       "\\hline\n",
       "\t361 & 2020-12-26 & 2020 & 274.85417 & 170.4902 & 191.9288 & 219.1338\\\\\n",
       "\t362 & 2020-12-27 & 2020 & 269.50000 & 219.5252 & 191.9288 & 219.1338\\\\\n",
       "\t363 & 2020-12-28 & 2020 &  95.98958 & 223.1810 & 191.9288 & 219.1338\\\\\n",
       "\t364 & 2020-12-29 & 2020 & 141.84375 & 236.0622 & 191.9288 & 264.6841\\\\\n",
       "\t365 & 2020-12-30 & 2020 & 191.16667 & 264.7096 & 191.9288 & 264.6841\\\\\n",
       "\t366 & 2020-12-31 & 2020 & 298.41667 & 270.9343 & 191.9288 & 264.6841\\\\\n",
       "\\end{tabular}\n"
      ],
      "text/markdown": [
       "\n",
       "A data.frame: 6 × 6\n",
       "\n",
       "| <!--/--> | dates &lt;date&gt; | year &lt;int&gt; | PM25 &lt;dbl&gt; | dailyindex &lt;dbl&gt; | monthlyindex &lt;dbl&gt; | weeklyindex &lt;dbl&gt; |\n",
       "|---|---|---|---|---|---|---|\n",
       "| 361 | 2020-12-26 | 2020 | 274.85417 | 170.4902 | 191.9288 | 219.1338 |\n",
       "| 362 | 2020-12-27 | 2020 | 269.50000 | 219.5252 | 191.9288 | 219.1338 |\n",
       "| 363 | 2020-12-28 | 2020 |  95.98958 | 223.1810 | 191.9288 | 219.1338 |\n",
       "| 364 | 2020-12-29 | 2020 | 141.84375 | 236.0622 | 191.9288 | 264.6841 |\n",
       "| 365 | 2020-12-30 | 2020 | 191.16667 | 264.7096 | 191.9288 | 264.6841 |\n",
       "| 366 | 2020-12-31 | 2020 | 298.41667 | 270.9343 | 191.9288 | 264.6841 |\n",
       "\n"
      ],
      "text/plain": [
       "    dates      year PM25      dailyindex monthlyindex weeklyindex\n",
       "361 2020-12-26 2020 274.85417 170.4902   191.9288     219.1338   \n",
       "362 2020-12-27 2020 269.50000 219.5252   191.9288     219.1338   \n",
       "363 2020-12-28 2020  95.98958 223.1810   191.9288     219.1338   \n",
       "364 2020-12-29 2020 141.84375 236.0622   191.9288     264.6841   \n",
       "365 2020-12-30 2020 191.16667 264.7096   191.9288     264.6841   \n",
       "366 2020-12-31 2020 298.41667 270.9343   191.9288     264.6841   "
      ]
     },
     "metadata": {},
     "output_type": "display_data"
    }
   ],
   "source": [
    "daily_ts <- daily_ts %>%na_ma(k=7,weighting = \"simple\")\n",
    "## Training data is all the dates before 2021\n",
    "data_train <- daily_ts%>% filter(dates <ymd('2020-01-01'))\n",
    "## Testing data data is the dates after 2021\n",
    "data_test <- daily_ts %>% filter(dates >=ymd('2020-01-01') & dates <ymd('2021-01-01'))\n",
    "tail(data_test)"
   ]
  },
  {
   "cell_type": "code",
   "execution_count": 11,
   "metadata": {},
   "outputs": [
    {
     "data": {
      "text/html": [
       "<table class=\"dataframe\">\n",
       "<caption>A data.frame: 6 × 20</caption>\n",
       "<thead>\n",
       "\t<tr><th></th><th scope=col>PM25</th><th scope=col>PM25_lag_1</th><th scope=col>PM25_lag_2</th><th scope=col>PM25_lag_3</th><th scope=col>PM25_lag_4</th><th scope=col>PM25_lag_5</th><th scope=col>PM25_lag_6</th><th scope=col>PM25_lag_7</th><th scope=col>PM25_lag_8</th><th scope=col>PM25_lag_9</th><th scope=col>PM25_lag_10</th><th scope=col>PM25_lag_11</th><th scope=col>PM25_lag_12</th><th scope=col>PM25_lag_13</th><th scope=col>PM25_lag_14</th><th scope=col>dates</th><th scope=col>year</th><th scope=col>dailyindex</th><th scope=col>monthlyindex</th><th scope=col>weeklyindex</th></tr>\n",
       "\t<tr><th></th><th scope=col>&lt;dbl&gt;</th><th scope=col>&lt;dbl&gt;</th><th scope=col>&lt;dbl&gt;</th><th scope=col>&lt;dbl&gt;</th><th scope=col>&lt;dbl&gt;</th><th scope=col>&lt;dbl&gt;</th><th scope=col>&lt;dbl&gt;</th><th scope=col>&lt;dbl&gt;</th><th scope=col>&lt;dbl&gt;</th><th scope=col>&lt;dbl&gt;</th><th scope=col>&lt;dbl&gt;</th><th scope=col>&lt;dbl&gt;</th><th scope=col>&lt;dbl&gt;</th><th scope=col>&lt;dbl&gt;</th><th scope=col>&lt;dbl&gt;</th><th scope=col>&lt;date&gt;</th><th scope=col>&lt;int&gt;</th><th scope=col>&lt;dbl&gt;</th><th scope=col>&lt;dbl&gt;</th><th scope=col>&lt;dbl&gt;</th></tr>\n",
       "</thead>\n",
       "<tbody>\n",
       "\t<tr><th scope=row>15</th><td>182.7496</td><td>259.6646</td><td>313.1204</td><td>286.4671</td><td>409.0429</td><td>281.5725</td><td>169.4908</td><td>519.5942</td><td>468.0200</td><td>371.7995</td><td>433.3537</td><td>480.0688</td><td>341.3188</td><td>327.9150</td><td>359.5730</td><td>2016-01-15</td><td>2016</td><td>139.9074</td><td>170.8565</td><td>166.6315</td></tr>\n",
       "\t<tr><th scope=row>16</th><td>143.2367</td><td>182.7496</td><td>259.6646</td><td>313.1204</td><td>286.4671</td><td>409.0429</td><td>281.5725</td><td>169.4908</td><td>519.5942</td><td>468.0200</td><td>371.7995</td><td>433.3537</td><td>480.0688</td><td>341.3188</td><td>327.9150</td><td>2016-01-16</td><td>2016</td><td>140.1082</td><td>170.8565</td><td>166.6315</td></tr>\n",
       "\t<tr><th scope=row>17</th><td>200.1717</td><td>143.2367</td><td>182.7496</td><td>259.6646</td><td>313.1204</td><td>286.4671</td><td>409.0429</td><td>281.5725</td><td>169.4908</td><td>519.5942</td><td>468.0200</td><td>371.7995</td><td>433.3537</td><td>480.0688</td><td>341.3188</td><td>2016-01-17</td><td>2016</td><td>179.3018</td><td>170.8565</td><td>166.6315</td></tr>\n",
       "\t<tr><th scope=row>18</th><td>335.4121</td><td>200.1717</td><td>143.2367</td><td>182.7496</td><td>259.6646</td><td>313.1204</td><td>286.4671</td><td>409.0429</td><td>281.5725</td><td>169.4908</td><td>519.5942</td><td>468.0200</td><td>371.7995</td><td>433.3537</td><td>480.0688</td><td>2016-01-18</td><td>2016</td><td>212.9507</td><td>170.8565</td><td>166.6315</td></tr>\n",
       "\t<tr><th scope=row>19</th><td>322.0700</td><td>335.4121</td><td>200.1717</td><td>143.2367</td><td>182.7496</td><td>259.6646</td><td>313.1204</td><td>286.4671</td><td>409.0429</td><td>281.5725</td><td>169.4908</td><td>519.5942</td><td>468.0200</td><td>371.7995</td><td>433.3537</td><td>2016-01-19</td><td>2016</td><td>208.6019</td><td>170.8565</td><td>166.6315</td></tr>\n",
       "\t<tr><th scope=row>20</th><td>307.6042</td><td>322.0700</td><td>335.4121</td><td>200.1717</td><td>143.2367</td><td>182.7496</td><td>259.6646</td><td>313.1204</td><td>286.4671</td><td>409.0429</td><td>281.5725</td><td>169.4908</td><td>519.5942</td><td>468.0200</td><td>371.7995</td><td>2016-01-20</td><td>2016</td><td>182.8234</td><td>170.8565</td><td>166.6315</td></tr>\n",
       "</tbody>\n",
       "</table>\n"
      ],
      "text/latex": [
       "A data.frame: 6 × 20\n",
       "\\begin{tabular}{r|llllllllllllllllllll}\n",
       "  & PM25 & PM25\\_lag\\_1 & PM25\\_lag\\_2 & PM25\\_lag\\_3 & PM25\\_lag\\_4 & PM25\\_lag\\_5 & PM25\\_lag\\_6 & PM25\\_lag\\_7 & PM25\\_lag\\_8 & PM25\\_lag\\_9 & PM25\\_lag\\_10 & PM25\\_lag\\_11 & PM25\\_lag\\_12 & PM25\\_lag\\_13 & PM25\\_lag\\_14 & dates & year & dailyindex & monthlyindex & weeklyindex\\\\\n",
       "  & <dbl> & <dbl> & <dbl> & <dbl> & <dbl> & <dbl> & <dbl> & <dbl> & <dbl> & <dbl> & <dbl> & <dbl> & <dbl> & <dbl> & <dbl> & <date> & <int> & <dbl> & <dbl> & <dbl>\\\\\n",
       "\\hline\n",
       "\t15 & 182.7496 & 259.6646 & 313.1204 & 286.4671 & 409.0429 & 281.5725 & 169.4908 & 519.5942 & 468.0200 & 371.7995 & 433.3537 & 480.0688 & 341.3188 & 327.9150 & 359.5730 & 2016-01-15 & 2016 & 139.9074 & 170.8565 & 166.6315\\\\\n",
       "\t16 & 143.2367 & 182.7496 & 259.6646 & 313.1204 & 286.4671 & 409.0429 & 281.5725 & 169.4908 & 519.5942 & 468.0200 & 371.7995 & 433.3537 & 480.0688 & 341.3188 & 327.9150 & 2016-01-16 & 2016 & 140.1082 & 170.8565 & 166.6315\\\\\n",
       "\t17 & 200.1717 & 143.2367 & 182.7496 & 259.6646 & 313.1204 & 286.4671 & 409.0429 & 281.5725 & 169.4908 & 519.5942 & 468.0200 & 371.7995 & 433.3537 & 480.0688 & 341.3188 & 2016-01-17 & 2016 & 179.3018 & 170.8565 & 166.6315\\\\\n",
       "\t18 & 335.4121 & 200.1717 & 143.2367 & 182.7496 & 259.6646 & 313.1204 & 286.4671 & 409.0429 & 281.5725 & 169.4908 & 519.5942 & 468.0200 & 371.7995 & 433.3537 & 480.0688 & 2016-01-18 & 2016 & 212.9507 & 170.8565 & 166.6315\\\\\n",
       "\t19 & 322.0700 & 335.4121 & 200.1717 & 143.2367 & 182.7496 & 259.6646 & 313.1204 & 286.4671 & 409.0429 & 281.5725 & 169.4908 & 519.5942 & 468.0200 & 371.7995 & 433.3537 & 2016-01-19 & 2016 & 208.6019 & 170.8565 & 166.6315\\\\\n",
       "\t20 & 307.6042 & 322.0700 & 335.4121 & 200.1717 & 143.2367 & 182.7496 & 259.6646 & 313.1204 & 286.4671 & 409.0429 & 281.5725 & 169.4908 & 519.5942 & 468.0200 & 371.7995 & 2016-01-20 & 2016 & 182.8234 & 170.8565 & 166.6315\\\\\n",
       "\\end{tabular}\n"
      ],
      "text/markdown": [
       "\n",
       "A data.frame: 6 × 20\n",
       "\n",
       "| <!--/--> | PM25 &lt;dbl&gt; | PM25_lag_1 &lt;dbl&gt; | PM25_lag_2 &lt;dbl&gt; | PM25_lag_3 &lt;dbl&gt; | PM25_lag_4 &lt;dbl&gt; | PM25_lag_5 &lt;dbl&gt; | PM25_lag_6 &lt;dbl&gt; | PM25_lag_7 &lt;dbl&gt; | PM25_lag_8 &lt;dbl&gt; | PM25_lag_9 &lt;dbl&gt; | PM25_lag_10 &lt;dbl&gt; | PM25_lag_11 &lt;dbl&gt; | PM25_lag_12 &lt;dbl&gt; | PM25_lag_13 &lt;dbl&gt; | PM25_lag_14 &lt;dbl&gt; | dates &lt;date&gt; | year &lt;int&gt; | dailyindex &lt;dbl&gt; | monthlyindex &lt;dbl&gt; | weeklyindex &lt;dbl&gt; |\n",
       "|---|---|---|---|---|---|---|---|---|---|---|---|---|---|---|---|---|---|---|---|---|\n",
       "| 15 | 182.7496 | 259.6646 | 313.1204 | 286.4671 | 409.0429 | 281.5725 | 169.4908 | 519.5942 | 468.0200 | 371.7995 | 433.3537 | 480.0688 | 341.3188 | 327.9150 | 359.5730 | 2016-01-15 | 2016 | 139.9074 | 170.8565 | 166.6315 |\n",
       "| 16 | 143.2367 | 182.7496 | 259.6646 | 313.1204 | 286.4671 | 409.0429 | 281.5725 | 169.4908 | 519.5942 | 468.0200 | 371.7995 | 433.3537 | 480.0688 | 341.3188 | 327.9150 | 2016-01-16 | 2016 | 140.1082 | 170.8565 | 166.6315 |\n",
       "| 17 | 200.1717 | 143.2367 | 182.7496 | 259.6646 | 313.1204 | 286.4671 | 409.0429 | 281.5725 | 169.4908 | 519.5942 | 468.0200 | 371.7995 | 433.3537 | 480.0688 | 341.3188 | 2016-01-17 | 2016 | 179.3018 | 170.8565 | 166.6315 |\n",
       "| 18 | 335.4121 | 200.1717 | 143.2367 | 182.7496 | 259.6646 | 313.1204 | 286.4671 | 409.0429 | 281.5725 | 169.4908 | 519.5942 | 468.0200 | 371.7995 | 433.3537 | 480.0688 | 2016-01-18 | 2016 | 212.9507 | 170.8565 | 166.6315 |\n",
       "| 19 | 322.0700 | 335.4121 | 200.1717 | 143.2367 | 182.7496 | 259.6646 | 313.1204 | 286.4671 | 409.0429 | 281.5725 | 169.4908 | 519.5942 | 468.0200 | 371.7995 | 433.3537 | 2016-01-19 | 2016 | 208.6019 | 170.8565 | 166.6315 |\n",
       "| 20 | 307.6042 | 322.0700 | 335.4121 | 200.1717 | 143.2367 | 182.7496 | 259.6646 | 313.1204 | 286.4671 | 409.0429 | 281.5725 | 169.4908 | 519.5942 | 468.0200 | 371.7995 | 2016-01-20 | 2016 | 182.8234 | 170.8565 | 166.6315 |\n",
       "\n"
      ],
      "text/plain": [
       "   PM25     PM25_lag_1 PM25_lag_2 PM25_lag_3 PM25_lag_4 PM25_lag_5 PM25_lag_6\n",
       "15 182.7496 259.6646   313.1204   286.4671   409.0429   281.5725   169.4908  \n",
       "16 143.2367 182.7496   259.6646   313.1204   286.4671   409.0429   281.5725  \n",
       "17 200.1717 143.2367   182.7496   259.6646   313.1204   286.4671   409.0429  \n",
       "18 335.4121 200.1717   143.2367   182.7496   259.6646   313.1204   286.4671  \n",
       "19 322.0700 335.4121   200.1717   143.2367   182.7496   259.6646   313.1204  \n",
       "20 307.6042 322.0700   335.4121   200.1717   143.2367   182.7496   259.6646  \n",
       "   PM25_lag_7 PM25_lag_8 PM25_lag_9 PM25_lag_10 PM25_lag_11 PM25_lag_12\n",
       "15 519.5942   468.0200   371.7995   433.3537    480.0688    341.3188   \n",
       "16 169.4908   519.5942   468.0200   371.7995    433.3537    480.0688   \n",
       "17 281.5725   169.4908   519.5942   468.0200    371.7995    433.3537   \n",
       "18 409.0429   281.5725   169.4908   519.5942    468.0200    371.7995   \n",
       "19 286.4671   409.0429   281.5725   169.4908    519.5942    468.0200   \n",
       "20 313.1204   286.4671   409.0429   281.5725    169.4908    519.5942   \n",
       "   PM25_lag_13 PM25_lag_14 dates      year dailyindex monthlyindex weeklyindex\n",
       "15 327.9150    359.5730    2016-01-15 2016 139.9074   170.8565     166.6315   \n",
       "16 341.3188    327.9150    2016-01-16 2016 140.1082   170.8565     166.6315   \n",
       "17 480.0688    341.3188    2016-01-17 2016 179.3018   170.8565     166.6315   \n",
       "18 433.3537    480.0688    2016-01-18 2016 212.9507   170.8565     166.6315   \n",
       "19 371.7995    433.3537    2016-01-19 2016 208.6019   170.8565     166.6315   \n",
       "20 468.0200    371.7995    2016-01-20 2016 182.8234   170.8565     166.6315   "
      ]
     },
     "metadata": {},
     "output_type": "display_data"
    }
   ],
   "source": [
    "## Now creating a training data frame with lookback of 12 hours \n",
    "data_train_lagged <-\n",
    "  create_lagged_df(\n",
    "    data_train, ## data frame\n",
    "    type = \"train\", ## training \n",
    "    outcome_col = 3,## Output column is PM2.5 \n",
    "    horizons = 1, ## Horizons is used if you want to predict for more than one hour\n",
    "    lookback = c(1:14),## Lookback of 12 hour\n",
    "    dynamic_features = c(\"year\",\"dailyindex\", \"monthlyindex\", \"weeklyindex\",\"dates\"), ## dynamic features of index\n",
    "    frequency = \"1 day\" ## Frequency is 1 day\n",
    "  )\n",
    "\n",
    "## Now creating a training data frame with lookback of 7 days \n",
    "data_test_lagged <-\n",
    "  create_lagged_df(\n",
    "    data_test, ## data frame\n",
    "    type = \"train\", ## training \n",
    "    outcome_col = 3,## Output column is PM2.5 \n",
    "    horizons = 1, ## Horizons is used if you want to use different models in different time frames\n",
    "    lookback = c(1:14),## Lookback of 12 hour\n",
    "    dynamic_features = c(\"year\", \"dailyindex\", \"monthlyindex\", \"weeklyindex\",\"dates\"), ## dynamic features of index\n",
    "    frequency = \"1 day\" ## Frequency is 1 day\n",
    "  )\n",
    "\n",
    "\n",
    "## Looking at the first horizon data frame\n",
    "data_train_lagged <- data_train_lagged$horizon_1\n",
    "data_test_lagged <- data_test_lagged$horizon_1\n",
    "head(data_train_lagged)"
   ]
  },
  {
   "cell_type": "code",
   "execution_count": 36,
   "metadata": {},
   "outputs": [
    {
     "data": {
      "text/plain": [
       "PM25 ~ PM25_lag_1 + PM25_lag_2 + PM25_lag_3 + PM25_lag_4 + PM25_lag_5 + \n",
       "    PM25_lag_6 + PM25_lag_7 + PM25_lag_8 + PM25_lag_9 + PM25_lag_10 + \n",
       "    PM25_lag_11 + PM25_lag_12 + PM25_lag_13 + PM25_lag_14 + year + \n",
       "    dailyindex + monthlyindex + weeklyindex"
      ]
     },
     "metadata": {},
     "output_type": "display_data"
    }
   ],
   "source": [
    "dep_variable <- \"PM25\"\n",
    "ind_variables <- setdiff(names(data_train_lagged),c(\"dates\",\"PM25\"))\n",
    "formulae <- as.formula(paste(dep_variable,paste(ind_variables,collapse=\"+\"),sep=\" ~ \"))\n",
    "formulae"
   ]
  },
  {
   "cell_type": "code",
   "execution_count": 37,
   "metadata": {},
   "outputs": [
    {
     "data": {
      "text/plain": [
       "Linear Regression \n",
       "\n",
       "1447 samples\n",
       "  18 predictor\n",
       "\n",
       "No pre-processing\n",
       "Resampling: Cross-Validated (10 fold) \n",
       "Summary of sample sizes: 1303, 1303, 1303, 1301, 1303, 1301, ... \n",
       "Resampling results:\n",
       "\n",
       "  RMSE      Rsquared   MAE     \n",
       "  49.93567  0.7899907  34.74682\n",
       "\n",
       "Tuning parameter 'intercept' was held constant at a value of TRUE"
      ]
     },
     "metadata": {},
     "output_type": "display_data"
    }
   ],
   "source": [
    "tc <- trainControl(method=\"cv\", number = 10)\n",
    "lm1_cv <- train(formulae, method=\"lm\",\n",
    "                   data = data_train_lagged,trControl=tc)\n",
    "lm1_cv"
   ]
  },
  {
   "cell_type": "code",
   "execution_count": 38,
   "metadata": {},
   "outputs": [
    {
     "data": {
      "text/plain": [
       "Random Forest \n",
       "\n",
       "1447 samples\n",
       "  18 predictor\n",
       "\n",
       "No pre-processing\n",
       "Resampling: Cross-Validated (10 fold) \n",
       "Summary of sample sizes: 1303, 1303, 1302, 1303, 1302, 1303, ... \n",
       "Resampling results across tuning parameters:\n",
       "\n",
       "  mtry  RMSE      Rsquared   MAE     \n",
       "   2    53.55515  0.7650369  35.48163\n",
       "  10    50.26918  0.7914266  32.64947\n",
       "  18    50.57471  0.7897313  32.79884\n",
       "\n",
       "RMSE was used to select the optimal model using the smallest value.\n",
       "The final value used for the model was mtry = 10."
      ]
     },
     "metadata": {},
     "output_type": "display_data"
    }
   ],
   "source": [
    "start <- Sys.time()\n",
    "rf1_cv <- train(formulae, method=\"rf\",\n",
    "                   data = data_train_lagged,trControl=tc)\n",
    "rf1_cv\n",
    "end <- Sys.time()\n",
    "end-start"
   ]
  },
  {
   "cell_type": "code",
   "execution_count": 39,
   "metadata": {},
   "outputs": [
    {
     "name": "stderr",
     "output_type": "stream",
     "text": [
      "Warning message in nominalTrainWorkflow(x = x, y = y, wts = weights, info = trainInfo, :\n",
      "“There were missing values in resampled performance measures.”\n"
     ]
    },
    {
     "data": {
      "text/plain": [
       "Neural Network \n",
       "\n",
       "1447 samples\n",
       "  18 predictor\n",
       "\n",
       "No pre-processing\n",
       "Resampling: Cross-Validated (10 fold) \n",
       "Summary of sample sizes: 1302, 1303, 1303, 1301, 1303, 1302, ... \n",
       "Resampling results across tuning parameters:\n",
       "\n",
       "  decay  size  RMSE      Rsquared   MAE     \n",
       "  0.1     5    88.89020  0.5225315  68.01787\n",
       "  0.1     6    81.46782  0.4920047  60.63891\n",
       "  0.1     7    88.21902  0.5489181  66.38207\n",
       "  0.1    10    68.10218  0.6137730  49.06811\n",
       "  0.5     5    70.15237  0.5930238  50.67614\n",
       "  0.5     6    72.17601  0.5622045  52.08122\n",
       "  0.5     7    72.13923  0.5665847  50.94564\n",
       "  0.5    10    70.20072  0.5918458  49.77325\n",
       "\n",
       "RMSE was used to select the optimal model using the smallest value.\n",
       "The final values used for the model were size = 10 and decay = 0.1."
      ]
     },
     "metadata": {},
     "output_type": "display_data"
    },
    {
     "data": {
      "text/plain": [
       "Time difference of 20.64454 secs"
      ]
     },
     "metadata": {},
     "output_type": "display_data"
    }
   ],
   "source": [
    "start <- Sys.time()\n",
    "\n",
    "my.grid <- expand.grid(.decay = c(0.5,0.1), .size = c(5,6,7,10))\n",
    "set.seed(123)\n",
    "nn1_cv <- caret::train(formulae, method=\"nnet\",\n",
    "                      data = data_train_lagged,trainmaxit = 1000, tuneGrid = my.grid, trace = F, \n",
    "                       linout = 1,trControl=tc)\n",
    "nn1_cv\n",
    "end <- Sys.time()\n",
    "end-start"
   ]
  },
  {
   "cell_type": "code",
   "execution_count": 200,
   "metadata": {},
   "outputs": [
    {
     "data": {
      "image/png": "[encoded data removed]",
      "text/plain": [
       "plot without title"
      ]
     },
     "metadata": {
      "image/png": {
       "height": 420,
       "width": 420
      }
     },
     "output_type": "display_data"
    }
   ],
   "source": [
    "plot(varImp(rf1_cv))"
   ]
  },
  {
   "cell_type": "code",
   "execution_count": 44,
   "metadata": {},
   "outputs": [
    {
     "data": {
      "text/html": [
       "0.782148777793777"
      ],
      "text/latex": [
       "0.782148777793777"
      ],
      "text/markdown": [
       "0.782148777793777"
      ],
      "text/plain": [
       "[1] 0.7821488"
      ]
     },
     "metadata": {},
     "output_type": "display_data"
    },
    {
     "data": {
      "text/html": [
       "29.415221625069"
      ],
      "text/latex": [
       "29.415221625069"
      ],
      "text/markdown": [
       "29.415221625069"
      ],
      "text/plain": [
       "[1] 29.41522"
      ]
     },
     "metadata": {},
     "output_type": "display_data"
    },
    {
     "data": {
      "text/html": [
       "44.6981575428474"
      ],
      "text/latex": [
       "44.6981575428474"
      ],
      "text/markdown": [
       "44.6981575428474"
      ],
      "text/plain": [
       "[1] 44.69816"
      ]
     },
     "metadata": {},
     "output_type": "display_data"
    }
   ],
   "source": [
    "pred_lm <- predict(lm1_cv, data_test_lagged)\n",
    "R2(data_test_lagged$PM25,pred_lm)\n",
    "MAE(data_test_lagged$PM25,pred_lm)\n",
    "RMSE(data_test_lagged$PM25,pred_lm)\n"
   ]
  },
  {
   "cell_type": "code",
   "execution_count": 185,
   "metadata": {},
   "outputs": [
    {
     "data": {
      "text/html": [
       "0.798929267707809"
      ],
      "text/latex": [
       "0.798929267707809"
      ],
      "text/markdown": [
       "0.798929267707809"
      ],
      "text/plain": [
       "[1] 0.7989293"
      ]
     },
     "metadata": {},
     "output_type": "display_data"
    },
    {
     "data": {
      "text/html": [
       "34.1669258294089"
      ],
      "text/latex": [
       "34.1669258294089"
      ],
      "text/markdown": [
       "34.1669258294089"
      ],
      "text/plain": [
       "[1] 34.16693"
      ]
     },
     "metadata": {},
     "output_type": "display_data"
    },
    {
     "data": {
      "text/html": [
       "49.0334094013744"
      ],
      "text/latex": [
       "49.0334094013744"
      ],
      "text/markdown": [
       "49.0334094013744"
      ],
      "text/plain": [
       "[1] 49.03341"
      ]
     },
     "metadata": {},
     "output_type": "display_data"
    }
   ],
   "source": [
    "#pred_lm <- predict(lm1_cv, data_train_lagged)\n",
    "#R2(data_train_lagged$PM25,pred_lm)\n",
    "#MAE(data_train_lagged$PM25,pred_lm)\n",
    "#RMSE(data_train_lagged$PM25,pred_lm)"
   ]
  },
  {
   "cell_type": "code",
   "execution_count": 186,
   "metadata": {},
   "outputs": [
    {
     "data": {
      "text/html": [
       "0.96765851870932"
      ],
      "text/latex": [
       "0.96765851870932"
      ],
      "text/markdown": [
       "0.96765851870932"
      ],
      "text/plain": [
       "[1] 0.9676585"
      ]
     },
     "metadata": {},
     "output_type": "display_data"
    },
    {
     "data": {
      "text/html": [
       "13.0848324924791"
      ],
      "text/latex": [
       "13.0848324924791"
      ],
      "text/markdown": [
       "13.0848324924791"
      ],
      "text/plain": [
       "[1] 13.08483"
      ]
     },
     "metadata": {},
     "output_type": "display_data"
    },
    {
     "data": {
      "text/html": [
       "20.555891758247"
      ],
      "text/latex": [
       "20.555891758247"
      ],
      "text/markdown": [
       "20.555891758247"
      ],
      "text/plain": [
       "[1] 20.55589"
      ]
     },
     "metadata": {},
     "output_type": "display_data"
    }
   ],
   "source": [
    "#pred_lm <- predict(rf1_cv, data_train_lagged)\n",
    "#R2(data_train_lagged$PM25,pred_lm)\n",
    "#MAE(data_train_lagged$PM25,pred_lm)\n",
    "#RMSE(data_train_lagged$PM25,pred_lm)"
   ]
  },
  {
   "cell_type": "code",
   "execution_count": 189,
   "metadata": {},
   "outputs": [],
   "source": [
    "Result_output <- data.frame(date=data_test_lagged$dates,Observed=data_test_lagged$PM25,Predicted=pred_lm)\n"
   ]
  },
  {
   "cell_type": "code",
   "execution_count": 199,
   "metadata": {},
   "outputs": [
    {
     "data": {
      "text/html": [
       "<strong>png:</strong> 2"
      ],
      "text/latex": [
       "\\textbf{png:} 2"
      ],
      "text/markdown": [
       "**png:** 2"
      ],
      "text/plain": [
       "png \n",
       "  2 "
      ]
     },
     "metadata": {},
     "output_type": "display_data"
    }
   ],
   "source": [
    "jpeg(\"Images/Daily_Testing_RF.jpeg\", units=\"cm\", width=20, height=15,res = 300)\n",
    "ggplot(Result_output,aes(x=date))+geom_line(aes(y=Observed,color=\"Observed\"))+geom_line(aes(y=Predicted,color=\"Predicted\"))+\n",
    "labs(x=\"Date\",y=\"PM 2.5 (ug/m3)\",color=\"\")+theme_bw()\n",
    "dev.off()"
   ]
  },
  {
   "cell_type": "code",
   "execution_count": 45,
   "metadata": {},
   "outputs": [],
   "source": [
    "save.image(file = \"Model_output/Forecasting_Index_Daily.RData\") "
   ]
  }
 ],
 "metadata": {
  "kernelspec": {
   "display_name": "R [conda env:r-env]",
   "language": "R",
   "name": "conda-env-r-env-r"
  },
  "language_info": {
   "codemirror_mode": "r",
   "file_extension": ".r",
   "mimetype": "text/x-r-source",
   "name": "R",
   "pygments_lexer": "r",
   "version": "3.6.3"
  }
 },
 "nbformat": 4,
 "nbformat_minor": 4
}
