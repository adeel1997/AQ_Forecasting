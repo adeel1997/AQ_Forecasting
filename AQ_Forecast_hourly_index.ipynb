{
 "cells": [
  {
   "cell_type": "code",
   "execution_count": 1,
   "metadata": {},
   "outputs": [
    {
     "name": "stderr",
     "output_type": "stream",
     "text": [
      "Loading required package: zoo\n",
      "\n",
      "\n",
      "Attaching package: ‘zoo’\n",
      "\n",
      "\n",
      "The following objects are masked from ‘package:base’:\n",
      "\n",
      "    as.Date, as.Date.numeric\n",
      "\n",
      "\n",
      "Loading required package: lattice\n",
      "\n",
      "Loading required package: ggplot2\n",
      "\n",
      "Warning message in system(\"timedatectl\", intern = TRUE):\n",
      "“running command 'timedatectl' had status 1”\n",
      "\n",
      "Attaching package: ‘dplyr’\n",
      "\n",
      "\n",
      "The following objects are masked from ‘package:xts’:\n",
      "\n",
      "    first, last\n",
      "\n",
      "\n",
      "The following objects are masked from ‘package:stats’:\n",
      "\n",
      "    filter, lag\n",
      "\n",
      "\n",
      "The following objects are masked from ‘package:base’:\n",
      "\n",
      "    intersect, setdiff, setequal, union\n",
      "\n",
      "\n",
      "── \u001b[1mAttaching packages\u001b[22m ─────────────────────────────────────── tidyverse 1.3.0 ──\n",
      "\n",
      "\u001b[32m✔\u001b[39m \u001b[34mtibble \u001b[39m 3.1.0     \u001b[32m✔\u001b[39m \u001b[34mpurrr  \u001b[39m 0.3.4\n",
      "\u001b[32m✔\u001b[39m \u001b[34mtidyr  \u001b[39m 1.1.3     \u001b[32m✔\u001b[39m \u001b[34mstringr\u001b[39m 1.4.0\n",
      "\u001b[32m✔\u001b[39m \u001b[34mreadr  \u001b[39m 1.4.0     \u001b[32m✔\u001b[39m \u001b[34mforcats\u001b[39m 0.5.1\n",
      "\n",
      "── \u001b[1mConflicts\u001b[22m ────────────────────────────────────────── tidyverse_conflicts() ──\n",
      "\u001b[31m✖\u001b[39m \u001b[34mdplyr\u001b[39m::\u001b[32mfilter()\u001b[39m masks \u001b[34mstats\u001b[39m::filter()\n",
      "\u001b[31m✖\u001b[39m \u001b[34mdplyr\u001b[39m::\u001b[32mfirst()\u001b[39m  masks \u001b[34mxts\u001b[39m::first()\n",
      "\u001b[31m✖\u001b[39m \u001b[34mdplyr\u001b[39m::\u001b[32mlag()\u001b[39m    masks \u001b[34mstats\u001b[39m::lag()\n",
      "\u001b[31m✖\u001b[39m \u001b[34mdplyr\u001b[39m::\u001b[32mlast()\u001b[39m   masks \u001b[34mxts\u001b[39m::last()\n",
      "\u001b[31m✖\u001b[39m \u001b[34mpurrr\u001b[39m::\u001b[32mlift()\u001b[39m   masks \u001b[34mcaret\u001b[39m::lift()\n",
      "\n",
      "\n",
      "Attaching package: ‘lubridate’\n",
      "\n",
      "\n",
      "The following objects are masked from ‘package:base’:\n",
      "\n",
      "    date, intersect, setdiff, union\n",
      "\n",
      "\n",
      "\n",
      "Attaching package: ‘data.table’\n",
      "\n",
      "\n",
      "The following objects are masked from ‘package:lubridate’:\n",
      "\n",
      "    hour, isoweek, mday, minute, month, quarter, second, wday, week,\n",
      "    yday, year\n",
      "\n",
      "\n",
      "The following object is masked from ‘package:purrr’:\n",
      "\n",
      "    transpose\n",
      "\n",
      "\n",
      "The following objects are masked from ‘package:dplyr’:\n",
      "\n",
      "    between, first, last\n",
      "\n",
      "\n",
      "The following objects are masked from ‘package:xts’:\n",
      "\n",
      "    first, last\n",
      "\n",
      "\n",
      "\n",
      "Attaching package: ‘Metrics’\n",
      "\n",
      "\n",
      "The following objects are masked from ‘package:caret’:\n",
      "\n",
      "    precision, recall\n",
      "\n",
      "\n",
      "\n",
      "Attaching package: ‘hydroGOF’\n",
      "\n",
      "\n",
      "The following objects are masked from ‘package:Metrics’:\n",
      "\n",
      "    mae, mse, rmse\n",
      "\n",
      "\n",
      "Registered S3 method overwritten by 'quantmod':\n",
      "  method            from\n",
      "  as.zoo.data.frame zoo \n",
      "\n",
      "\n",
      "Attaching package: ‘imputeTS’\n",
      "\n",
      "\n",
      "The following object is masked from ‘package:zoo’:\n",
      "\n",
      "    na.locf\n",
      "\n",
      "\n"
     ]
    }
   ],
   "source": [
    "library(xts);library(caret);library(dplyr);library(zoo)\n",
    "library(tidyverse);library(lubridate);library(data.table)\n",
    "library(ggplot2);library(timeDate);library(Metrics);\n",
    "library(hydroGOF);library(imputeTS);library(readxl);library(forecastML)"
   ]
  },
  {
   "cell_type": "code",
   "execution_count": 2,
   "metadata": {},
   "outputs": [
    {
     "data": {
      "text/html": [
       "<table class=\"dataframe\">\n",
       "<caption>A tibble: 6 × 7</caption>\n",
       "<thead>\n",
       "\t<tr><th scope=col>date</th><th scope=col>PM25</th><th scope=col>AT</th><th scope=col>RH</th><th scope=col>WS</th><th scope=col>SR</th><th scope=col>WD</th></tr>\n",
       "\t<tr><th scope=col>&lt;dttm&gt;</th><th scope=col>&lt;dbl&gt;</th><th scope=col>&lt;dbl&gt;</th><th scope=col>&lt;dbl&gt;</th><th scope=col>&lt;dbl&gt;</th><th scope=col>&lt;dbl&gt;</th><th scope=col>&lt;dbl&gt;</th></tr>\n",
       "</thead>\n",
       "<tbody>\n",
       "\t<tr><td>2016-01-01 01:00:00</td><td>376.00</td><td>11.43</td><td>69.00</td><td>0.30</td><td>12.25</td><td>216.25</td></tr>\n",
       "\t<tr><td>2016-01-01 02:00:00</td><td>480.50</td><td>11.28</td><td>71.50</td><td>0.35</td><td>12.58</td><td>230.92</td></tr>\n",
       "\t<tr><td>2016-01-01 03:00:00</td><td>486.67</td><td>11.71</td><td>71.83</td><td>0.31</td><td>12.33</td><td>203.25</td></tr>\n",
       "\t<tr><td>2016-01-01 04:00:00</td><td>441.17</td><td>11.13</td><td>73.08</td><td>0.30</td><td>12.75</td><td>126.92</td></tr>\n",
       "\t<tr><td>2016-01-01 05:00:00</td><td>594.83</td><td>11.01</td><td>74.75</td><td>0.30</td><td>12.58</td><td>196.42</td></tr>\n",
       "\t<tr><td>2016-01-01 06:00:00</td><td>441.33</td><td>11.49</td><td>74.17</td><td>0.37</td><td>13.83</td><td> 80.58</td></tr>\n",
       "</tbody>\n",
       "</table>\n"
      ],
      "text/latex": [
       "A tibble: 6 × 7\n",
       "\\begin{tabular}{lllllll}\n",
       " date & PM25 & AT & RH & WS & SR & WD\\\\\n",
       " <dttm> & <dbl> & <dbl> & <dbl> & <dbl> & <dbl> & <dbl>\\\\\n",
       "\\hline\n",
       "\t 2016-01-01 01:00:00 & 376.00 & 11.43 & 69.00 & 0.30 & 12.25 & 216.25\\\\\n",
       "\t 2016-01-01 02:00:00 & 480.50 & 11.28 & 71.50 & 0.35 & 12.58 & 230.92\\\\\n",
       "\t 2016-01-01 03:00:00 & 486.67 & 11.71 & 71.83 & 0.31 & 12.33 & 203.25\\\\\n",
       "\t 2016-01-01 04:00:00 & 441.17 & 11.13 & 73.08 & 0.30 & 12.75 & 126.92\\\\\n",
       "\t 2016-01-01 05:00:00 & 594.83 & 11.01 & 74.75 & 0.30 & 12.58 & 196.42\\\\\n",
       "\t 2016-01-01 06:00:00 & 441.33 & 11.49 & 74.17 & 0.37 & 13.83 &  80.58\\\\\n",
       "\\end{tabular}\n"
      ],
      "text/markdown": [
       "\n",
       "A tibble: 6 × 7\n",
       "\n",
       "| date &lt;dttm&gt; | PM25 &lt;dbl&gt; | AT &lt;dbl&gt; | RH &lt;dbl&gt; | WS &lt;dbl&gt; | SR &lt;dbl&gt; | WD &lt;dbl&gt; |\n",
       "|---|---|---|---|---|---|---|\n",
       "| 2016-01-01 01:00:00 | 376.00 | 11.43 | 69.00 | 0.30 | 12.25 | 216.25 |\n",
       "| 2016-01-01 02:00:00 | 480.50 | 11.28 | 71.50 | 0.35 | 12.58 | 230.92 |\n",
       "| 2016-01-01 03:00:00 | 486.67 | 11.71 | 71.83 | 0.31 | 12.33 | 203.25 |\n",
       "| 2016-01-01 04:00:00 | 441.17 | 11.13 | 73.08 | 0.30 | 12.75 | 126.92 |\n",
       "| 2016-01-01 05:00:00 | 594.83 | 11.01 | 74.75 | 0.30 | 12.58 | 196.42 |\n",
       "| 2016-01-01 06:00:00 | 441.33 | 11.49 | 74.17 | 0.37 | 13.83 |  80.58 |\n",
       "\n"
      ],
      "text/plain": [
       "  date                PM25   AT    RH    WS   SR    WD    \n",
       "1 2016-01-01 01:00:00 376.00 11.43 69.00 0.30 12.25 216.25\n",
       "2 2016-01-01 02:00:00 480.50 11.28 71.50 0.35 12.58 230.92\n",
       "3 2016-01-01 03:00:00 486.67 11.71 71.83 0.31 12.33 203.25\n",
       "4 2016-01-01 04:00:00 441.17 11.13 73.08 0.30 12.75 126.92\n",
       "5 2016-01-01 05:00:00 594.83 11.01 74.75 0.30 12.58 196.42\n",
       "6 2016-01-01 06:00:00 441.33 11.49 74.17 0.37 13.83  80.58"
      ]
     },
     "metadata": {},
     "output_type": "display_data"
    }
   ],
   "source": [
    "#df <- read.csv(\"2016_20_Anand_Vihar.csv\", na.strings = \"None\")\n",
    "## Data cleaning \n",
    "## Reading the excel file, starting with 12 line and giving NA as None\n",
    "df <- read_xlsx('Data/Anand_Vihar_16_21.xlsx',skip = 12,na = \"None\")\n",
    "## converting date into proper date format and selecting the relevant variable needed\n",
    "df <- df %>% mutate(date = dmy_hm(`From Date`,tz=\"Asia/Kolkata\"),PM25=`PM2.5`)%>%\n",
    "select(date,PM25,AT,RH,WS,SR,WD)\n",
    "head(df)"
   ]
  },
  {
   "cell_type": "code",
   "execution_count": 6,
   "metadata": {},
   "outputs": [
    {
     "name": "stderr",
     "output_type": "stream",
     "text": [
      "`summarise()` has grouped output by 'date', 'hour', 'day', 'month'. You can override using the `.groups` argument.\n",
      "\n"
     ]
    },
    {
     "data": {
      "text/html": [
       "<table class=\"dataframe\">\n",
       "<caption>A grouped_df: 6 × 7</caption>\n",
       "<thead>\n",
       "\t<tr><th scope=col>date</th><th scope=col>hour</th><th scope=col>day</th><th scope=col>month</th><th scope=col>year</th><th scope=col>PM25</th><th scope=col>week</th></tr>\n",
       "\t<tr><th scope=col>&lt;dttm&gt;</th><th scope=col>&lt;int&gt;</th><th scope=col>&lt;int&gt;</th><th scope=col>&lt;int&gt;</th><th scope=col>&lt;int&gt;</th><th scope=col>&lt;dbl&gt;</th><th scope=col>&lt;int&gt;</th></tr>\n",
       "</thead>\n",
       "<tbody>\n",
       "\t<tr><td>2016-01-01 01:00:00</td><td>1</td><td>1</td><td>1</td><td>2016</td><td>376.00</td><td>1</td></tr>\n",
       "\t<tr><td>2016-01-01 02:00:00</td><td>2</td><td>1</td><td>1</td><td>2016</td><td>480.50</td><td>1</td></tr>\n",
       "\t<tr><td>2016-01-01 03:00:00</td><td>3</td><td>1</td><td>1</td><td>2016</td><td>486.67</td><td>1</td></tr>\n",
       "\t<tr><td>2016-01-01 04:00:00</td><td>4</td><td>1</td><td>1</td><td>2016</td><td>441.17</td><td>1</td></tr>\n",
       "\t<tr><td>2016-01-01 05:00:00</td><td>5</td><td>1</td><td>1</td><td>2016</td><td>594.83</td><td>1</td></tr>\n",
       "\t<tr><td>2016-01-01 06:00:00</td><td>6</td><td>1</td><td>1</td><td>2016</td><td>441.33</td><td>1</td></tr>\n",
       "</tbody>\n",
       "</table>\n"
      ],
      "text/latex": [
       "A grouped\\_df: 6 × 7\n",
       "\\begin{tabular}{lllllll}\n",
       " date & hour & day & month & year & PM25 & week\\\\\n",
       " <dttm> & <int> & <int> & <int> & <int> & <dbl> & <int>\\\\\n",
       "\\hline\n",
       "\t 2016-01-01 01:00:00 & 1 & 1 & 1 & 2016 & 376.00 & 1\\\\\n",
       "\t 2016-01-01 02:00:00 & 2 & 1 & 1 & 2016 & 480.50 & 1\\\\\n",
       "\t 2016-01-01 03:00:00 & 3 & 1 & 1 & 2016 & 486.67 & 1\\\\\n",
       "\t 2016-01-01 04:00:00 & 4 & 1 & 1 & 2016 & 441.17 & 1\\\\\n",
       "\t 2016-01-01 05:00:00 & 5 & 1 & 1 & 2016 & 594.83 & 1\\\\\n",
       "\t 2016-01-01 06:00:00 & 6 & 1 & 1 & 2016 & 441.33 & 1\\\\\n",
       "\\end{tabular}\n"
      ],
      "text/markdown": [
       "\n",
       "A grouped_df: 6 × 7\n",
       "\n",
       "| date &lt;dttm&gt; | hour &lt;int&gt; | day &lt;int&gt; | month &lt;int&gt; | year &lt;int&gt; | PM25 &lt;dbl&gt; | week &lt;int&gt; |\n",
       "|---|---|---|---|---|---|---|\n",
       "| 2016-01-01 01:00:00 | 1 | 1 | 1 | 2016 | 376.00 | 1 |\n",
       "| 2016-01-01 02:00:00 | 2 | 1 | 1 | 2016 | 480.50 | 1 |\n",
       "| 2016-01-01 03:00:00 | 3 | 1 | 1 | 2016 | 486.67 | 1 |\n",
       "| 2016-01-01 04:00:00 | 4 | 1 | 1 | 2016 | 441.17 | 1 |\n",
       "| 2016-01-01 05:00:00 | 5 | 1 | 1 | 2016 | 594.83 | 1 |\n",
       "| 2016-01-01 06:00:00 | 6 | 1 | 1 | 2016 | 441.33 | 1 |\n",
       "\n"
      ],
      "text/plain": [
       "  date                hour day month year PM25   week\n",
       "1 2016-01-01 01:00:00 1    1   1     2016 376.00 1   \n",
       "2 2016-01-01 02:00:00 2    1   1     2016 480.50 1   \n",
       "3 2016-01-01 03:00:00 3    1   1     2016 486.67 1   \n",
       "4 2016-01-01 04:00:00 4    1   1     2016 441.17 1   \n",
       "5 2016-01-01 05:00:00 5    1   1     2016 594.83 1   \n",
       "6 2016-01-01 06:00:00 6    1   1     2016 441.33 1   "
      ]
     },
     "metadata": {},
     "output_type": "display_data"
    }
   ],
   "source": [
    "## Converting the data into daily time series\n",
    "hourly_df <- df %>%\n",
    "  select(date, PM25) %>% # to check the model for PM2.5 replace PM2.5 by PM2.5\n",
    "  # extract date features\n",
    "  mutate(\n",
    "    date = as.POSIXct(date, format = \"%d-%m-%Y %H:%M\"), #Date format\n",
    "    hour = hour(date),\n",
    "    day = day(date),\n",
    "    month = month(date),\n",
    "    year = year(date),\n",
    "    PM2.5 = ifelse(PM25 <10 | PM25 >999 ,NA,PM25)\n",
    "  ) %>%\n",
    "  # from hourly to daily\n",
    "  group_by(date,hour, day, month, year) %>% ## Convert hourly to daily \n",
    "  summarise(PM25 = mean(PM2.5, na.rm = TRUE)) %>%\n",
    "  mutate(week = week(date))\n",
    "\n",
    "## Putting NA if there are null values \n",
    "hourly_df$PM25[is.nan(hourly_df$PM25)] <- NA\n",
    "head(hourly_df)"
   ]
  },
  {
   "cell_type": "code",
   "execution_count": 7,
   "metadata": {},
   "outputs": [
    {
     "data": {
      "text/html": [
       "10"
      ],
      "text/latex": [
       "10"
      ],
      "text/markdown": [
       "10"
      ],
      "text/plain": [
       "[1] 10"
      ]
     },
     "metadata": {},
     "output_type": "display_data"
    }
   ],
   "source": [
    "min(hourly_df$PM25,na.rm=T)"
   ]
  },
  {
   "cell_type": "code",
   "execution_count": null,
   "metadata": {},
   "outputs": [],
   "source": [
    "######################## Seasonal Indexes #####################################\n",
    "\n",
    "## We creating index of seasons from the data till 2020 end\n",
    "\n",
    "seasonalIndex <- hourly_df %>% filter(date < as.Date(\"2021-1-01\"))\n",
    "\n",
    "\n",
    "############################### Hourly seasonality  #######################\n",
    "hourly_s <- seasonalIndex %>% group_by(year, month, day,hour) %>%\n",
    "  summarize(average = mean(PM25, na.rm = TRUE))\n",
    "\n",
    "hourly_s$average[is.nan(hourly_s$average)] <- NA\n",
    "\n",
    "## Spanning the year wise value column wise\n",
    "hourly_s <- hourly_s %>% ungroup() %>%\n",
    "  spread(year, average)\n",
    "head(hourly_s)\n",
    "\n",
    "# Calcuating the mean daily index over the years (Except first and second columns)\n",
    "hourly_s$meanindex <- rowMeans(hourly_s[, -c(1,2,3)], na.rm = TRUE)\n",
    "\n",
    "## Summary mean is the mean of Mean index\n",
    "summary_mean <- hourly_s %>% ungroup() %>%\n",
    "  summarize(summary_mean = mean(meanindex, na.rm = T))\n",
    "\n",
    "## We merge the Summary mean with our old data frame \n",
    "hourly_s <- merge(hourly_s, summary_mean)\n",
    "\n",
    "## Finally calculating the daily index by mean index/ summary mean * 100\n",
    "hourly_s <-\n",
    "  hourly_s %>% mutate(hourlyindex = meanindex / summary_mean * 100)\n",
    "\n",
    "head(hourly_s)\n"
   ]
  },
  {
   "cell_type": "code",
   "execution_count": 5,
   "metadata": {},
   "outputs": [
    {
     "name": "stderr",
     "output_type": "stream",
     "text": [
      "`summarise()` has grouped output by 'year', 'month'. You can override using the `.groups` argument.\n",
      "\n"
     ]
    },
    {
     "data": {
      "text/html": [
       "<table class=\"dataframe\">\n",
       "<caption>A tibble: 6 × 7</caption>\n",
       "<thead>\n",
       "\t<tr><th scope=col>month</th><th scope=col>day</th><th scope=col>2016</th><th scope=col>2017</th><th scope=col>2018</th><th scope=col>2019</th><th scope=col>2020</th></tr>\n",
       "\t<tr><th scope=col>&lt;int&gt;</th><th scope=col>&lt;int&gt;</th><th scope=col>&lt;dbl&gt;</th><th scope=col>&lt;dbl&gt;</th><th scope=col>&lt;dbl&gt;</th><th scope=col>&lt;dbl&gt;</th><th scope=col>&lt;dbl&gt;</th></tr>\n",
       "</thead>\n",
       "<tbody>\n",
       "\t<tr><td>1</td><td>1</td><td>359.5730</td><td>199.8817</td><td>481.6250</td><td>380.2292</td><td>367.3750</td></tr>\n",
       "\t<tr><td>1</td><td>2</td><td>327.9150</td><td>257.1204</td><td>359.6667</td><td>418.4688</td><td>361.6875</td></tr>\n",
       "\t<tr><td>1</td><td>3</td><td>341.3188</td><td>271.6446</td><td>287.7083</td><td>412.8854</td><td>378.6765</td></tr>\n",
       "\t<tr><td>1</td><td>4</td><td>480.0688</td><td>270.1217</td><td>351.6250</td><td>291.9479</td><td>216.5625</td></tr>\n",
       "\t<tr><td>1</td><td>5</td><td>433.3537</td><td>246.8504</td><td>306.2500</td><td>241.6667</td><td>190.5938</td></tr>\n",
       "\t<tr><td>1</td><td>6</td><td>371.7995</td><td>189.3525</td><td>324.7500</td><td>191.8542</td><td>166.8646</td></tr>\n",
       "</tbody>\n",
       "</table>\n"
      ],
      "text/latex": [
       "A tibble: 6 × 7\n",
       "\\begin{tabular}{lllllll}\n",
       " month & day & 2016 & 2017 & 2018 & 2019 & 2020\\\\\n",
       " <int> & <int> & <dbl> & <dbl> & <dbl> & <dbl> & <dbl>\\\\\n",
       "\\hline\n",
       "\t 1 & 1 & 359.5730 & 199.8817 & 481.6250 & 380.2292 & 367.3750\\\\\n",
       "\t 1 & 2 & 327.9150 & 257.1204 & 359.6667 & 418.4688 & 361.6875\\\\\n",
       "\t 1 & 3 & 341.3188 & 271.6446 & 287.7083 & 412.8854 & 378.6765\\\\\n",
       "\t 1 & 4 & 480.0688 & 270.1217 & 351.6250 & 291.9479 & 216.5625\\\\\n",
       "\t 1 & 5 & 433.3537 & 246.8504 & 306.2500 & 241.6667 & 190.5938\\\\\n",
       "\t 1 & 6 & 371.7995 & 189.3525 & 324.7500 & 191.8542 & 166.8646\\\\\n",
       "\\end{tabular}\n"
      ],
      "text/markdown": [
       "\n",
       "A tibble: 6 × 7\n",
       "\n",
       "| month &lt;int&gt; | day &lt;int&gt; | 2016 &lt;dbl&gt; | 2017 &lt;dbl&gt; | 2018 &lt;dbl&gt; | 2019 &lt;dbl&gt; | 2020 &lt;dbl&gt; |\n",
       "|---|---|---|---|---|---|---|\n",
       "| 1 | 1 | 359.5730 | 199.8817 | 481.6250 | 380.2292 | 367.3750 |\n",
       "| 1 | 2 | 327.9150 | 257.1204 | 359.6667 | 418.4688 | 361.6875 |\n",
       "| 1 | 3 | 341.3188 | 271.6446 | 287.7083 | 412.8854 | 378.6765 |\n",
       "| 1 | 4 | 480.0688 | 270.1217 | 351.6250 | 291.9479 | 216.5625 |\n",
       "| 1 | 5 | 433.3537 | 246.8504 | 306.2500 | 241.6667 | 190.5938 |\n",
       "| 1 | 6 | 371.7995 | 189.3525 | 324.7500 | 191.8542 | 166.8646 |\n",
       "\n"
      ],
      "text/plain": [
       "  month day 2016     2017     2018     2019     2020    \n",
       "1 1     1   359.5730 199.8817 481.6250 380.2292 367.3750\n",
       "2 1     2   327.9150 257.1204 359.6667 418.4688 361.6875\n",
       "3 1     3   341.3188 271.6446 287.7083 412.8854 378.6765\n",
       "4 1     4   480.0688 270.1217 351.6250 291.9479 216.5625\n",
       "5 1     5   433.3537 246.8504 306.2500 241.6667 190.5938\n",
       "6 1     6   371.7995 189.3525 324.7500 191.8542 166.8646"
      ]
     },
     "metadata": {},
     "output_type": "display_data"
    },
    {
     "data": {
      "text/html": [
       "<table class=\"dataframe\">\n",
       "<caption>A data.frame: 6 × 10</caption>\n",
       "<thead>\n",
       "\t<tr><th></th><th scope=col>month</th><th scope=col>day</th><th scope=col>2016</th><th scope=col>2017</th><th scope=col>2018</th><th scope=col>2019</th><th scope=col>2020</th><th scope=col>meanindex</th><th scope=col>summary_mean</th><th scope=col>dailyindex</th></tr>\n",
       "\t<tr><th></th><th scope=col>&lt;int&gt;</th><th scope=col>&lt;int&gt;</th><th scope=col>&lt;dbl&gt;</th><th scope=col>&lt;dbl&gt;</th><th scope=col>&lt;dbl&gt;</th><th scope=col>&lt;dbl&gt;</th><th scope=col>&lt;dbl&gt;</th><th scope=col>&lt;dbl&gt;</th><th scope=col>&lt;dbl&gt;</th><th scope=col>&lt;dbl&gt;</th></tr>\n",
       "</thead>\n",
       "<tbody>\n",
       "\t<tr><th scope=row>1</th><td>1</td><td>1</td><td>359.5730</td><td>199.8817</td><td>481.6250</td><td>380.2292</td><td>367.3750</td><td>357.7368</td><td>138.1529</td><td>258.9426</td></tr>\n",
       "\t<tr><th scope=row>2</th><td>1</td><td>2</td><td>327.9150</td><td>257.1204</td><td>359.6667</td><td>418.4688</td><td>361.6875</td><td>344.9717</td><td>138.1529</td><td>249.7028</td></tr>\n",
       "\t<tr><th scope=row>3</th><td>1</td><td>3</td><td>341.3188</td><td>271.6446</td><td>287.7083</td><td>412.8854</td><td>378.6765</td><td>338.4467</td><td>138.1529</td><td>244.9798</td></tr>\n",
       "\t<tr><th scope=row>4</th><td>1</td><td>4</td><td>480.0688</td><td>270.1217</td><td>351.6250</td><td>291.9479</td><td>216.5625</td><td>322.0652</td><td>138.1529</td><td>233.1222</td></tr>\n",
       "\t<tr><th scope=row>5</th><td>1</td><td>5</td><td>433.3537</td><td>246.8504</td><td>306.2500</td><td>241.6667</td><td>190.5938</td><td>283.7429</td><td>138.1529</td><td>205.3832</td></tr>\n",
       "\t<tr><th scope=row>6</th><td>1</td><td>6</td><td>371.7995</td><td>189.3525</td><td>324.7500</td><td>191.8542</td><td>166.8646</td><td>248.9242</td><td>138.1529</td><td>180.1802</td></tr>\n",
       "</tbody>\n",
       "</table>\n"
      ],
      "text/latex": [
       "A data.frame: 6 × 10\n",
       "\\begin{tabular}{r|llllllllll}\n",
       "  & month & day & 2016 & 2017 & 2018 & 2019 & 2020 & meanindex & summary\\_mean & dailyindex\\\\\n",
       "  & <int> & <int> & <dbl> & <dbl> & <dbl> & <dbl> & <dbl> & <dbl> & <dbl> & <dbl>\\\\\n",
       "\\hline\n",
       "\t1 & 1 & 1 & 359.5730 & 199.8817 & 481.6250 & 380.2292 & 367.3750 & 357.7368 & 138.1529 & 258.9426\\\\\n",
       "\t2 & 1 & 2 & 327.9150 & 257.1204 & 359.6667 & 418.4688 & 361.6875 & 344.9717 & 138.1529 & 249.7028\\\\\n",
       "\t3 & 1 & 3 & 341.3188 & 271.6446 & 287.7083 & 412.8854 & 378.6765 & 338.4467 & 138.1529 & 244.9798\\\\\n",
       "\t4 & 1 & 4 & 480.0688 & 270.1217 & 351.6250 & 291.9479 & 216.5625 & 322.0652 & 138.1529 & 233.1222\\\\\n",
       "\t5 & 1 & 5 & 433.3537 & 246.8504 & 306.2500 & 241.6667 & 190.5938 & 283.7429 & 138.1529 & 205.3832\\\\\n",
       "\t6 & 1 & 6 & 371.7995 & 189.3525 & 324.7500 & 191.8542 & 166.8646 & 248.9242 & 138.1529 & 180.1802\\\\\n",
       "\\end{tabular}\n"
      ],
      "text/markdown": [
       "\n",
       "A data.frame: 6 × 10\n",
       "\n",
       "| <!--/--> | month &lt;int&gt; | day &lt;int&gt; | 2016 &lt;dbl&gt; | 2017 &lt;dbl&gt; | 2018 &lt;dbl&gt; | 2019 &lt;dbl&gt; | 2020 &lt;dbl&gt; | meanindex &lt;dbl&gt; | summary_mean &lt;dbl&gt; | dailyindex &lt;dbl&gt; |\n",
       "|---|---|---|---|---|---|---|---|---|---|---|\n",
       "| 1 | 1 | 1 | 359.5730 | 199.8817 | 481.6250 | 380.2292 | 367.3750 | 357.7368 | 138.1529 | 258.9426 |\n",
       "| 2 | 1 | 2 | 327.9150 | 257.1204 | 359.6667 | 418.4688 | 361.6875 | 344.9717 | 138.1529 | 249.7028 |\n",
       "| 3 | 1 | 3 | 341.3188 | 271.6446 | 287.7083 | 412.8854 | 378.6765 | 338.4467 | 138.1529 | 244.9798 |\n",
       "| 4 | 1 | 4 | 480.0688 | 270.1217 | 351.6250 | 291.9479 | 216.5625 | 322.0652 | 138.1529 | 233.1222 |\n",
       "| 5 | 1 | 5 | 433.3537 | 246.8504 | 306.2500 | 241.6667 | 190.5938 | 283.7429 | 138.1529 | 205.3832 |\n",
       "| 6 | 1 | 6 | 371.7995 | 189.3525 | 324.7500 | 191.8542 | 166.8646 | 248.9242 | 138.1529 | 180.1802 |\n",
       "\n"
      ],
      "text/plain": [
       "  month day 2016     2017     2018     2019     2020     meanindex summary_mean\n",
       "1 1     1   359.5730 199.8817 481.6250 380.2292 367.3750 357.7368  138.1529    \n",
       "2 1     2   327.9150 257.1204 359.6667 418.4688 361.6875 344.9717  138.1529    \n",
       "3 1     3   341.3188 271.6446 287.7083 412.8854 378.6765 338.4467  138.1529    \n",
       "4 1     4   480.0688 270.1217 351.6250 291.9479 216.5625 322.0652  138.1529    \n",
       "5 1     5   433.3537 246.8504 306.2500 241.6667 190.5938 283.7429  138.1529    \n",
       "6 1     6   371.7995 189.3525 324.7500 191.8542 166.8646 248.9242  138.1529    \n",
       "  dailyindex\n",
       "1 258.9426  \n",
       "2 249.7028  \n",
       "3 244.9798  \n",
       "4 233.1222  \n",
       "5 205.3832  \n",
       "6 180.1802  "
      ]
     },
     "metadata": {},
     "output_type": "display_data"
    },
    {
     "data": {
      "image/png": "[encoded data removed]",
      "text/plain": [
       "plot without title"
      ]
     },
     "metadata": {
      "image/png": {
       "height": 420,
       "width": 420
      }
     },
     "output_type": "display_data"
    }
   ],
   "source": [
    "############################### daily seasonality  #######################\n",
    "daily_s <- seasonalIndex %>% group_by(year, month, day) %>%\n",
    "  summarize(average = mean(PM25, na.rm = TRUE))\n",
    "\n",
    "daily_s$average[is.nan(daily_s$average)] <- NA\n",
    "\n",
    "## Spanning the year wise value column wise\n",
    "daily_s <- daily_s %>% ungroup() %>%\n",
    "  spread(year, average)\n",
    "head(daily_s)\n",
    "\n",
    "# Calcuating the mean daily index over the years (Except first and second columns)\n",
    "daily_s$meanindex <- rowMeans(daily_s[, -c(1,2)], na.rm = TRUE)\n",
    "\n",
    "## Summary mean is the mean of Mean index\n",
    "summary_mean <- daily_s %>% ungroup() %>%\n",
    "  summarize(summary_mean = mean(meanindex, na.rm = T))\n",
    "\n",
    "## We merge the Summary mean with our old data frame \n",
    "daily_s <- merge(daily_s, summary_mean)\n",
    "\n",
    "## Finally calculating the daily index by mean index/ summary mean * 100\n",
    "daily_s <-\n",
    "  daily_s %>% mutate(dailyindex = meanindex / summary_mean * 100)\n",
    "\n",
    "head(daily_s)\n",
    "plot(daily_s$dailyindex,type=\"l\")"
   ]
  },
  {
   "cell_type": "code",
   "execution_count": 6,
   "metadata": {},
   "outputs": [
    {
     "name": "stderr",
     "output_type": "stream",
     "text": [
      "`summarise()` has grouped output by 'year'. You can override using the `.groups` argument.\n",
      "\n"
     ]
    },
    {
     "data": {
      "text/html": [
       "<table class=\"dataframe\">\n",
       "<caption>A tibble: 6 × 6</caption>\n",
       "<thead>\n",
       "\t<tr><th scope=col>week</th><th scope=col>2016</th><th scope=col>2017</th><th scope=col>2018</th><th scope=col>2019</th><th scope=col>2020</th></tr>\n",
       "\t<tr><th scope=col>&lt;int&gt;</th><th scope=col>&lt;dbl&gt;</th><th scope=col>&lt;dbl&gt;</th><th scope=col>&lt;dbl&gt;</th><th scope=col>&lt;dbl&gt;</th><th scope=col>&lt;dbl&gt;</th></tr>\n",
       "</thead>\n",
       "<tbody>\n",
       "\t<tr><td>1</td><td>386.0533</td><td>239.1619</td><td>351.9375</td><td>322.8420</td><td>278.9070</td></tr>\n",
       "\t<tr><td>2</td><td>348.5349</td><td>169.6000</td><td>267.3865</td><td>259.8899</td><td>179.3212</td></tr>\n",
       "\t<tr><td>3</td><td>250.1298</td><td>162.1944</td><td>298.8579</td><td>283.6310</td><td>148.1811</td></tr>\n",
       "\t<tr><td>4</td><td>324.5103</td><td>165.4973</td><td>185.1027</td><td>118.1771</td><td>200.7925</td></tr>\n",
       "\t<tr><td>5</td><td>348.7608</td><td>178.0511</td><td>169.1964</td><td>189.1205</td><td>109.1730</td></tr>\n",
       "\t<tr><td>6</td><td>208.5622</td><td>151.1387</td><td>193.1677</td><td>157.0849</td><td>157.4178</td></tr>\n",
       "</tbody>\n",
       "</table>\n"
      ],
      "text/latex": [
       "A tibble: 6 × 6\n",
       "\\begin{tabular}{llllll}\n",
       " week & 2016 & 2017 & 2018 & 2019 & 2020\\\\\n",
       " <int> & <dbl> & <dbl> & <dbl> & <dbl> & <dbl>\\\\\n",
       "\\hline\n",
       "\t 1 & 386.0533 & 239.1619 & 351.9375 & 322.8420 & 278.9070\\\\\n",
       "\t 2 & 348.5349 & 169.6000 & 267.3865 & 259.8899 & 179.3212\\\\\n",
       "\t 3 & 250.1298 & 162.1944 & 298.8579 & 283.6310 & 148.1811\\\\\n",
       "\t 4 & 324.5103 & 165.4973 & 185.1027 & 118.1771 & 200.7925\\\\\n",
       "\t 5 & 348.7608 & 178.0511 & 169.1964 & 189.1205 & 109.1730\\\\\n",
       "\t 6 & 208.5622 & 151.1387 & 193.1677 & 157.0849 & 157.4178\\\\\n",
       "\\end{tabular}\n"
      ],
      "text/markdown": [
       "\n",
       "A tibble: 6 × 6\n",
       "\n",
       "| week &lt;int&gt; | 2016 &lt;dbl&gt; | 2017 &lt;dbl&gt; | 2018 &lt;dbl&gt; | 2019 &lt;dbl&gt; | 2020 &lt;dbl&gt; |\n",
       "|---|---|---|---|---|---|\n",
       "| 1 | 386.0533 | 239.1619 | 351.9375 | 322.8420 | 278.9070 |\n",
       "| 2 | 348.5349 | 169.6000 | 267.3865 | 259.8899 | 179.3212 |\n",
       "| 3 | 250.1298 | 162.1944 | 298.8579 | 283.6310 | 148.1811 |\n",
       "| 4 | 324.5103 | 165.4973 | 185.1027 | 118.1771 | 200.7925 |\n",
       "| 5 | 348.7608 | 178.0511 | 169.1964 | 189.1205 | 109.1730 |\n",
       "| 6 | 208.5622 | 151.1387 | 193.1677 | 157.0849 | 157.4178 |\n",
       "\n"
      ],
      "text/plain": [
       "  week 2016     2017     2018     2019     2020    \n",
       "1 1    386.0533 239.1619 351.9375 322.8420 278.9070\n",
       "2 2    348.5349 169.6000 267.3865 259.8899 179.3212\n",
       "3 3    250.1298 162.1944 298.8579 283.6310 148.1811\n",
       "4 4    324.5103 165.4973 185.1027 118.1771 200.7925\n",
       "5 5    348.7608 178.0511 169.1964 189.1205 109.1730\n",
       "6 6    208.5622 151.1387 193.1677 157.0849 157.4178"
      ]
     },
     "metadata": {},
     "output_type": "display_data"
    },
    {
     "data": {
      "text/html": [
       "<table class=\"dataframe\">\n",
       "<caption>A data.frame: 6 × 9</caption>\n",
       "<thead>\n",
       "\t<tr><th></th><th scope=col>week</th><th scope=col>2016</th><th scope=col>2017</th><th scope=col>2018</th><th scope=col>2019</th><th scope=col>2020</th><th scope=col>meanindex</th><th scope=col>summary_mean</th><th scope=col>weeklyindex</th></tr>\n",
       "\t<tr><th></th><th scope=col>&lt;int&gt;</th><th scope=col>&lt;dbl&gt;</th><th scope=col>&lt;dbl&gt;</th><th scope=col>&lt;dbl&gt;</th><th scope=col>&lt;dbl&gt;</th><th scope=col>&lt;dbl&gt;</th><th scope=col>&lt;dbl&gt;</th><th scope=col>&lt;dbl&gt;</th><th scope=col>&lt;dbl&gt;</th></tr>\n",
       "</thead>\n",
       "<tbody>\n",
       "\t<tr><th scope=row>1</th><td>1</td><td>386.0533</td><td>239.1619</td><td>351.9375</td><td>322.8420</td><td>278.9070</td><td>315.7803</td><td>142.6411</td><td>221.3811</td></tr>\n",
       "\t<tr><th scope=row>2</th><td>2</td><td>348.5349</td><td>169.6000</td><td>267.3865</td><td>259.8899</td><td>179.3212</td><td>244.9465</td><td>142.6411</td><td>171.7223</td></tr>\n",
       "\t<tr><th scope=row>3</th><td>3</td><td>250.1298</td><td>162.1944</td><td>298.8579</td><td>283.6310</td><td>148.1811</td><td>228.5988</td><td>142.6411</td><td>160.2616</td></tr>\n",
       "\t<tr><th scope=row>4</th><td>4</td><td>324.5103</td><td>165.4973</td><td>185.1027</td><td>118.1771</td><td>200.7925</td><td>198.8160</td><td>142.6411</td><td>139.3820</td></tr>\n",
       "\t<tr><th scope=row>5</th><td>5</td><td>348.7608</td><td>178.0511</td><td>169.1964</td><td>189.1205</td><td>109.1730</td><td>198.8604</td><td>142.6411</td><td>139.4131</td></tr>\n",
       "\t<tr><th scope=row>6</th><td>6</td><td>208.5622</td><td>151.1387</td><td>193.1677</td><td>157.0849</td><td>157.4178</td><td>173.4742</td><td>142.6411</td><td>121.6159</td></tr>\n",
       "</tbody>\n",
       "</table>\n"
      ],
      "text/latex": [
       "A data.frame: 6 × 9\n",
       "\\begin{tabular}{r|lllllllll}\n",
       "  & week & 2016 & 2017 & 2018 & 2019 & 2020 & meanindex & summary\\_mean & weeklyindex\\\\\n",
       "  & <int> & <dbl> & <dbl> & <dbl> & <dbl> & <dbl> & <dbl> & <dbl> & <dbl>\\\\\n",
       "\\hline\n",
       "\t1 & 1 & 386.0533 & 239.1619 & 351.9375 & 322.8420 & 278.9070 & 315.7803 & 142.6411 & 221.3811\\\\\n",
       "\t2 & 2 & 348.5349 & 169.6000 & 267.3865 & 259.8899 & 179.3212 & 244.9465 & 142.6411 & 171.7223\\\\\n",
       "\t3 & 3 & 250.1298 & 162.1944 & 298.8579 & 283.6310 & 148.1811 & 228.5988 & 142.6411 & 160.2616\\\\\n",
       "\t4 & 4 & 324.5103 & 165.4973 & 185.1027 & 118.1771 & 200.7925 & 198.8160 & 142.6411 & 139.3820\\\\\n",
       "\t5 & 5 & 348.7608 & 178.0511 & 169.1964 & 189.1205 & 109.1730 & 198.8604 & 142.6411 & 139.4131\\\\\n",
       "\t6 & 6 & 208.5622 & 151.1387 & 193.1677 & 157.0849 & 157.4178 & 173.4742 & 142.6411 & 121.6159\\\\\n",
       "\\end{tabular}\n"
      ],
      "text/markdown": [
       "\n",
       "A data.frame: 6 × 9\n",
       "\n",
       "| <!--/--> | week &lt;int&gt; | 2016 &lt;dbl&gt; | 2017 &lt;dbl&gt; | 2018 &lt;dbl&gt; | 2019 &lt;dbl&gt; | 2020 &lt;dbl&gt; | meanindex &lt;dbl&gt; | summary_mean &lt;dbl&gt; | weeklyindex &lt;dbl&gt; |\n",
       "|---|---|---|---|---|---|---|---|---|---|\n",
       "| 1 | 1 | 386.0533 | 239.1619 | 351.9375 | 322.8420 | 278.9070 | 315.7803 | 142.6411 | 221.3811 |\n",
       "| 2 | 2 | 348.5349 | 169.6000 | 267.3865 | 259.8899 | 179.3212 | 244.9465 | 142.6411 | 171.7223 |\n",
       "| 3 | 3 | 250.1298 | 162.1944 | 298.8579 | 283.6310 | 148.1811 | 228.5988 | 142.6411 | 160.2616 |\n",
       "| 4 | 4 | 324.5103 | 165.4973 | 185.1027 | 118.1771 | 200.7925 | 198.8160 | 142.6411 | 139.3820 |\n",
       "| 5 | 5 | 348.7608 | 178.0511 | 169.1964 | 189.1205 | 109.1730 | 198.8604 | 142.6411 | 139.4131 |\n",
       "| 6 | 6 | 208.5622 | 151.1387 | 193.1677 | 157.0849 | 157.4178 | 173.4742 | 142.6411 | 121.6159 |\n",
       "\n"
      ],
      "text/plain": [
       "  week 2016     2017     2018     2019     2020     meanindex summary_mean\n",
       "1 1    386.0533 239.1619 351.9375 322.8420 278.9070 315.7803  142.6411    \n",
       "2 2    348.5349 169.6000 267.3865 259.8899 179.3212 244.9465  142.6411    \n",
       "3 3    250.1298 162.1944 298.8579 283.6310 148.1811 228.5988  142.6411    \n",
       "4 4    324.5103 165.4973 185.1027 118.1771 200.7925 198.8160  142.6411    \n",
       "5 5    348.7608 178.0511 169.1964 189.1205 109.1730 198.8604  142.6411    \n",
       "6 6    208.5622 151.1387 193.1677 157.0849 157.4178 173.4742  142.6411    \n",
       "  weeklyindex\n",
       "1 221.3811   \n",
       "2 171.7223   \n",
       "3 160.2616   \n",
       "4 139.3820   \n",
       "5 139.4131   \n",
       "6 121.6159   "
      ]
     },
     "metadata": {},
     "output_type": "display_data"
    },
    {
     "data": {
      "image/png": "[encoded data removed]",
      "text/plain": [
       "plot without title"
      ]
     },
     "metadata": {
      "image/png": {
       "height": 420,
       "width": 420
      }
     },
     "output_type": "display_data"
    }
   ],
   "source": [
    "############################### weekly seasonality ###########\n",
    "weekly_s <- seasonalIndex %>%\n",
    "  group_by(year, week) %>%\n",
    "  summarize(average = mean(PM25, na.rm = TRUE))\n",
    "\n",
    "## NA if the average in null\n",
    "weekly_s$average[is.nan(weekly_s$average)] <- NA\n",
    "\n",
    "## Spreading across weeks\n",
    "weekly_s <- weekly_s %>% ungroup() %>%\n",
    "  spread(year, average)\n",
    "\n",
    "head(weekly_s)\n",
    "\n",
    "# Calcuating the mean weekly index over the years\n",
    "weekly_s$meanindex <- rowMeans(weekly_s[, -1], na.rm = TRUE)\n",
    "\n",
    "## Calculting summary means\n",
    "summary_mean <- weekly_s %>% ungroup() %>%\n",
    "  summarize(summary_mean = mean(meanindex, na.rm = T))\n",
    "\n",
    "## Adding summary mean\n",
    "weekly_s <- merge(weekly_s, summary_mean)\n",
    "\n",
    "## Calculating weekly index\n",
    "weekly_s <-\n",
    "  weekly_s %>% mutate(weeklyindex = meanindex / summary_mean * 100)\n",
    "\n",
    "head(weekly_s)\n",
    "plot(weekly_s$weeklyindex)"
   ]
  },
  {
   "cell_type": "code",
   "execution_count": 7,
   "metadata": {},
   "outputs": [
    {
     "name": "stderr",
     "output_type": "stream",
     "text": [
      "`summarise()` has grouped output by 'year'. You can override using the `.groups` argument.\n",
      "\n"
     ]
    },
    {
     "data": {
      "text/html": [
       "<table class=\"dataframe\">\n",
       "<caption>A tibble: 6 × 6</caption>\n",
       "<thead>\n",
       "\t<tr><th scope=col>month</th><th scope=col>2016</th><th scope=col>2017</th><th scope=col>2018</th><th scope=col>2019</th><th scope=col>2020</th></tr>\n",
       "\t<tr><th scope=col>&lt;int&gt;</th><th scope=col>&lt;dbl&gt;</th><th scope=col>&lt;dbl&gt;</th><th scope=col>&lt;dbl&gt;</th><th scope=col>&lt;dbl&gt;</th><th scope=col>&lt;dbl&gt;</th></tr>\n",
       "</thead>\n",
       "<tbody>\n",
       "\t<tr><td>1</td><td>328.74805</td><td>182.1364</td><td>263.5642</td><td>235.80948</td><td>183.39218</td></tr>\n",
       "\t<tr><td>2</td><td>173.26539</td><td>140.3369</td><td>161.1128</td><td>140.30696</td><td>124.65472</td></tr>\n",
       "\t<tr><td>3</td><td>117.04639</td><td>112.5573</td><td>120.0038</td><td>101.89716</td><td> 64.33173</td></tr>\n",
       "\t<tr><td>4</td><td>156.06138</td><td>129.8789</td><td>116.7254</td><td> 97.78571</td><td> 47.21875</td></tr>\n",
       "\t<tr><td>5</td><td> 99.84961</td><td>150.9615</td><td>106.2613</td><td>110.90099</td><td> 72.89104</td></tr>\n",
       "\t<tr><td>6</td><td> 93.00049</td><td>102.5391</td><td>115.4411</td><td> 73.47958</td><td> 64.95588</td></tr>\n",
       "</tbody>\n",
       "</table>\n"
      ],
      "text/latex": [
       "A tibble: 6 × 6\n",
       "\\begin{tabular}{llllll}\n",
       " month & 2016 & 2017 & 2018 & 2019 & 2020\\\\\n",
       " <int> & <dbl> & <dbl> & <dbl> & <dbl> & <dbl>\\\\\n",
       "\\hline\n",
       "\t 1 & 328.74805 & 182.1364 & 263.5642 & 235.80948 & 183.39218\\\\\n",
       "\t 2 & 173.26539 & 140.3369 & 161.1128 & 140.30696 & 124.65472\\\\\n",
       "\t 3 & 117.04639 & 112.5573 & 120.0038 & 101.89716 &  64.33173\\\\\n",
       "\t 4 & 156.06138 & 129.8789 & 116.7254 &  97.78571 &  47.21875\\\\\n",
       "\t 5 &  99.84961 & 150.9615 & 106.2613 & 110.90099 &  72.89104\\\\\n",
       "\t 6 &  93.00049 & 102.5391 & 115.4411 &  73.47958 &  64.95588\\\\\n",
       "\\end{tabular}\n"
      ],
      "text/markdown": [
       "\n",
       "A tibble: 6 × 6\n",
       "\n",
       "| month &lt;int&gt; | 2016 &lt;dbl&gt; | 2017 &lt;dbl&gt; | 2018 &lt;dbl&gt; | 2019 &lt;dbl&gt; | 2020 &lt;dbl&gt; |\n",
       "|---|---|---|---|---|---|\n",
       "| 1 | 328.74805 | 182.1364 | 263.5642 | 235.80948 | 183.39218 |\n",
       "| 2 | 173.26539 | 140.3369 | 161.1128 | 140.30696 | 124.65472 |\n",
       "| 3 | 117.04639 | 112.5573 | 120.0038 | 101.89716 |  64.33173 |\n",
       "| 4 | 156.06138 | 129.8789 | 116.7254 |  97.78571 |  47.21875 |\n",
       "| 5 |  99.84961 | 150.9615 | 106.2613 | 110.90099 |  72.89104 |\n",
       "| 6 |  93.00049 | 102.5391 | 115.4411 |  73.47958 |  64.95588 |\n",
       "\n"
      ],
      "text/plain": [
       "  month 2016      2017     2018     2019      2020     \n",
       "1 1     328.74805 182.1364 263.5642 235.80948 183.39218\n",
       "2 2     173.26539 140.3369 161.1128 140.30696 124.65472\n",
       "3 3     117.04639 112.5573 120.0038 101.89716  64.33173\n",
       "4 4     156.06138 129.8789 116.7254  97.78571  47.21875\n",
       "5 5      99.84961 150.9615 106.2613 110.90099  72.89104\n",
       "6 6      93.00049 102.5391 115.4411  73.47958  64.95588"
      ]
     },
     "metadata": {},
     "output_type": "display_data"
    },
    {
     "data": {
      "text/html": [
       "<table class=\"dataframe\">\n",
       "<caption>A data.frame: 6 × 9</caption>\n",
       "<thead>\n",
       "\t<tr><th></th><th scope=col>month</th><th scope=col>2016</th><th scope=col>2017</th><th scope=col>2018</th><th scope=col>2019</th><th scope=col>2020</th><th scope=col>meanindex</th><th scope=col>summary_mean</th><th scope=col>monthlyindex</th></tr>\n",
       "\t<tr><th></th><th scope=col>&lt;int&gt;</th><th scope=col>&lt;dbl&gt;</th><th scope=col>&lt;dbl&gt;</th><th scope=col>&lt;dbl&gt;</th><th scope=col>&lt;dbl&gt;</th><th scope=col>&lt;dbl&gt;</th><th scope=col>&lt;dbl&gt;</th><th scope=col>&lt;dbl&gt;</th><th scope=col>&lt;dbl&gt;</th></tr>\n",
       "</thead>\n",
       "<tbody>\n",
       "\t<tr><th scope=row>1</th><td>1</td><td>328.74805</td><td>182.1364</td><td>263.5642</td><td>235.80948</td><td>183.39218</td><td>238.73007</td><td>140.5524</td><td>169.85127</td></tr>\n",
       "\t<tr><th scope=row>2</th><td>2</td><td>173.26539</td><td>140.3369</td><td>161.1128</td><td>140.30696</td><td>124.65472</td><td>147.93535</td><td>140.5524</td><td>105.25280</td></tr>\n",
       "\t<tr><th scope=row>3</th><td>3</td><td>117.04639</td><td>112.5573</td><td>120.0038</td><td>101.89716</td><td> 64.33173</td><td>103.16728</td><td>140.5524</td><td> 73.40128</td></tr>\n",
       "\t<tr><th scope=row>4</th><td>4</td><td>156.06138</td><td>129.8789</td><td>116.7254</td><td> 97.78571</td><td> 47.21875</td><td>109.53402</td><td>140.5524</td><td> 77.93108</td></tr>\n",
       "\t<tr><th scope=row>5</th><td>5</td><td> 99.84961</td><td>150.9615</td><td>106.2613</td><td>110.90099</td><td> 72.89104</td><td>108.17290</td><td>140.5524</td><td> 76.96267</td></tr>\n",
       "\t<tr><th scope=row>6</th><td>6</td><td> 93.00049</td><td>102.5391</td><td>115.4411</td><td> 73.47958</td><td> 64.95588</td><td> 89.88322</td><td>140.5524</td><td> 63.94996</td></tr>\n",
       "</tbody>\n",
       "</table>\n"
      ],
      "text/latex": [
       "A data.frame: 6 × 9\n",
       "\\begin{tabular}{r|lllllllll}\n",
       "  & month & 2016 & 2017 & 2018 & 2019 & 2020 & meanindex & summary\\_mean & monthlyindex\\\\\n",
       "  & <int> & <dbl> & <dbl> & <dbl> & <dbl> & <dbl> & <dbl> & <dbl> & <dbl>\\\\\n",
       "\\hline\n",
       "\t1 & 1 & 328.74805 & 182.1364 & 263.5642 & 235.80948 & 183.39218 & 238.73007 & 140.5524 & 169.85127\\\\\n",
       "\t2 & 2 & 173.26539 & 140.3369 & 161.1128 & 140.30696 & 124.65472 & 147.93535 & 140.5524 & 105.25280\\\\\n",
       "\t3 & 3 & 117.04639 & 112.5573 & 120.0038 & 101.89716 &  64.33173 & 103.16728 & 140.5524 &  73.40128\\\\\n",
       "\t4 & 4 & 156.06138 & 129.8789 & 116.7254 &  97.78571 &  47.21875 & 109.53402 & 140.5524 &  77.93108\\\\\n",
       "\t5 & 5 &  99.84961 & 150.9615 & 106.2613 & 110.90099 &  72.89104 & 108.17290 & 140.5524 &  76.96267\\\\\n",
       "\t6 & 6 &  93.00049 & 102.5391 & 115.4411 &  73.47958 &  64.95588 &  89.88322 & 140.5524 &  63.94996\\\\\n",
       "\\end{tabular}\n"
      ],
      "text/markdown": [
       "\n",
       "A data.frame: 6 × 9\n",
       "\n",
       "| <!--/--> | month &lt;int&gt; | 2016 &lt;dbl&gt; | 2017 &lt;dbl&gt; | 2018 &lt;dbl&gt; | 2019 &lt;dbl&gt; | 2020 &lt;dbl&gt; | meanindex &lt;dbl&gt; | summary_mean &lt;dbl&gt; | monthlyindex &lt;dbl&gt; |\n",
       "|---|---|---|---|---|---|---|---|---|---|\n",
       "| 1 | 1 | 328.74805 | 182.1364 | 263.5642 | 235.80948 | 183.39218 | 238.73007 | 140.5524 | 169.85127 |\n",
       "| 2 | 2 | 173.26539 | 140.3369 | 161.1128 | 140.30696 | 124.65472 | 147.93535 | 140.5524 | 105.25280 |\n",
       "| 3 | 3 | 117.04639 | 112.5573 | 120.0038 | 101.89716 |  64.33173 | 103.16728 | 140.5524 |  73.40128 |\n",
       "| 4 | 4 | 156.06138 | 129.8789 | 116.7254 |  97.78571 |  47.21875 | 109.53402 | 140.5524 |  77.93108 |\n",
       "| 5 | 5 |  99.84961 | 150.9615 | 106.2613 | 110.90099 |  72.89104 | 108.17290 | 140.5524 |  76.96267 |\n",
       "| 6 | 6 |  93.00049 | 102.5391 | 115.4411 |  73.47958 |  64.95588 |  89.88322 | 140.5524 |  63.94996 |\n",
       "\n"
      ],
      "text/plain": [
       "  month 2016      2017     2018     2019      2020      meanindex summary_mean\n",
       "1 1     328.74805 182.1364 263.5642 235.80948 183.39218 238.73007 140.5524    \n",
       "2 2     173.26539 140.3369 161.1128 140.30696 124.65472 147.93535 140.5524    \n",
       "3 3     117.04639 112.5573 120.0038 101.89716  64.33173 103.16728 140.5524    \n",
       "4 4     156.06138 129.8789 116.7254  97.78571  47.21875 109.53402 140.5524    \n",
       "5 5      99.84961 150.9615 106.2613 110.90099  72.89104 108.17290 140.5524    \n",
       "6 6      93.00049 102.5391 115.4411  73.47958  64.95588  89.88322 140.5524    \n",
       "  monthlyindex\n",
       "1 169.85127   \n",
       "2 105.25280   \n",
       "3  73.40128   \n",
       "4  77.93108   \n",
       "5  76.96267   \n",
       "6  63.94996   "
      ]
     },
     "metadata": {},
     "output_type": "display_data"
    },
    {
     "data": {
      "image/png": "[encoded data removed]",
      "text/plain": [
       "plot without title"
      ]
     },
     "metadata": {
      "image/png": {
       "height": 420,
       "width": 420
      }
     },
     "output_type": "display_data"
    }
   ],
   "source": [
    "############################### monthly seasonality ##############################\n",
    "\n",
    "## Grouping by year and month\n",
    "monthly_s <- seasonalIndex %>%\n",
    "  group_by(year, month) %>%\n",
    "  summarize(average = mean(PM25, na.rm = TRUE))\n",
    "\n",
    "## Adding NA values if there are any null values of any sort \n",
    "monthly_s$average[is.nan(monthly_s$average)] <- NA\n",
    "\n",
    "## Spreading across months \n",
    "monthly_s <- monthly_s %>% ungroup() %>%\n",
    "  spread(year, average)\n",
    "\n",
    "head(monthly_s)\n",
    "\n",
    "# Calcuating the mean weekly index over the years (-1 to remove first column which is month)\n",
    "monthly_s$meanindex <- rowMeans(monthly_s[, -1], na.rm = TRUE)\n",
    "\n",
    "## Summary mean of the mean index\n",
    "summary_mean <- monthly_s %>% ungroup() %>%\n",
    "  summarize(summary_mean = mean(meanindex, na.rm = T))\n",
    "\n",
    "## Merging the summary mean with the data frame\n",
    "monthly_s <- merge(monthly_s, summary_mean)\n",
    "\n",
    "## Adding the Monthly index\n",
    "monthly_s <-\n",
    "  monthly_s %>% mutate(monthlyindex = meanindex / summary_mean * 100)\n",
    "head(monthly_s)\n",
    "plot(monthly_s$monthlyindex)"
   ]
  },
  {
   "cell_type": "code",
   "execution_count": 8,
   "metadata": {},
   "outputs": [
    {
     "data": {
      "text/html": [
       "<table class=\"dataframe\">\n",
       "<caption>A grouped_df: 6 × 11</caption>\n",
       "<thead>\n",
       "\t<tr><th scope=col>date</th><th scope=col>hour</th><th scope=col>day</th><th scope=col>month</th><th scope=col>year</th><th scope=col>PM25</th><th scope=col>week</th><th scope=col>hourlyindex</th><th scope=col>dailyindex</th><th scope=col>monthlyindex</th><th scope=col>weeklyindex</th></tr>\n",
       "\t<tr><th scope=col>&lt;dttm&gt;</th><th scope=col>&lt;int&gt;</th><th scope=col>&lt;int&gt;</th><th scope=col>&lt;int&gt;</th><th scope=col>&lt;int&gt;</th><th scope=col>&lt;dbl&gt;</th><th scope=col>&lt;int&gt;</th><th scope=col>&lt;dbl&gt;</th><th scope=col>&lt;dbl&gt;</th><th scope=col>&lt;dbl&gt;</th><th scope=col>&lt;dbl&gt;</th></tr>\n",
       "</thead>\n",
       "<tbody>\n",
       "\t<tr><td>2016-01-01 01:00:00</td><td>1</td><td>1</td><td>1</td><td>2016</td><td>376.00</td><td>1</td><td>332.0040</td><td>258.9426</td><td>169.8513</td><td>221.3811</td></tr>\n",
       "\t<tr><td>2016-01-01 02:00:00</td><td>2</td><td>1</td><td>1</td><td>2016</td><td>480.50</td><td>1</td><td>354.0614</td><td>258.9426</td><td>169.8513</td><td>221.3811</td></tr>\n",
       "\t<tr><td>2016-01-01 03:00:00</td><td>3</td><td>1</td><td>1</td><td>2016</td><td>486.67</td><td>1</td><td>342.7143</td><td>258.9426</td><td>169.8513</td><td>221.3811</td></tr>\n",
       "\t<tr><td>2016-01-01 04:00:00</td><td>4</td><td>1</td><td>1</td><td>2016</td><td>441.17</td><td>1</td><td>309.5135</td><td>258.9426</td><td>169.8513</td><td>221.3811</td></tr>\n",
       "\t<tr><td>2016-01-01 05:00:00</td><td>5</td><td>1</td><td>1</td><td>2016</td><td>594.83</td><td>1</td><td>322.8215</td><td>258.9426</td><td>169.8513</td><td>221.3811</td></tr>\n",
       "\t<tr><td>2016-01-01 06:00:00</td><td>6</td><td>1</td><td>1</td><td>2016</td><td>441.33</td><td>1</td><td>250.7651</td><td>258.9426</td><td>169.8513</td><td>221.3811</td></tr>\n",
       "</tbody>\n",
       "</table>\n"
      ],
      "text/latex": [
       "A grouped\\_df: 6 × 11\n",
       "\\begin{tabular}{lllllllllll}\n",
       " date & hour & day & month & year & PM25 & week & hourlyindex & dailyindex & monthlyindex & weeklyindex\\\\\n",
       " <dttm> & <int> & <int> & <int> & <int> & <dbl> & <int> & <dbl> & <dbl> & <dbl> & <dbl>\\\\\n",
       "\\hline\n",
       "\t 2016-01-01 01:00:00 & 1 & 1 & 1 & 2016 & 376.00 & 1 & 332.0040 & 258.9426 & 169.8513 & 221.3811\\\\\n",
       "\t 2016-01-01 02:00:00 & 2 & 1 & 1 & 2016 & 480.50 & 1 & 354.0614 & 258.9426 & 169.8513 & 221.3811\\\\\n",
       "\t 2016-01-01 03:00:00 & 3 & 1 & 1 & 2016 & 486.67 & 1 & 342.7143 & 258.9426 & 169.8513 & 221.3811\\\\\n",
       "\t 2016-01-01 04:00:00 & 4 & 1 & 1 & 2016 & 441.17 & 1 & 309.5135 & 258.9426 & 169.8513 & 221.3811\\\\\n",
       "\t 2016-01-01 05:00:00 & 5 & 1 & 1 & 2016 & 594.83 & 1 & 322.8215 & 258.9426 & 169.8513 & 221.3811\\\\\n",
       "\t 2016-01-01 06:00:00 & 6 & 1 & 1 & 2016 & 441.33 & 1 & 250.7651 & 258.9426 & 169.8513 & 221.3811\\\\\n",
       "\\end{tabular}\n"
      ],
      "text/markdown": [
       "\n",
       "A grouped_df: 6 × 11\n",
       "\n",
       "| date &lt;dttm&gt; | hour &lt;int&gt; | day &lt;int&gt; | month &lt;int&gt; | year &lt;int&gt; | PM25 &lt;dbl&gt; | week &lt;int&gt; | hourlyindex &lt;dbl&gt; | dailyindex &lt;dbl&gt; | monthlyindex &lt;dbl&gt; | weeklyindex &lt;dbl&gt; |\n",
       "|---|---|---|---|---|---|---|---|---|---|---|\n",
       "| 2016-01-01 01:00:00 | 1 | 1 | 1 | 2016 | 376.00 | 1 | 332.0040 | 258.9426 | 169.8513 | 221.3811 |\n",
       "| 2016-01-01 02:00:00 | 2 | 1 | 1 | 2016 | 480.50 | 1 | 354.0614 | 258.9426 | 169.8513 | 221.3811 |\n",
       "| 2016-01-01 03:00:00 | 3 | 1 | 1 | 2016 | 486.67 | 1 | 342.7143 | 258.9426 | 169.8513 | 221.3811 |\n",
       "| 2016-01-01 04:00:00 | 4 | 1 | 1 | 2016 | 441.17 | 1 | 309.5135 | 258.9426 | 169.8513 | 221.3811 |\n",
       "| 2016-01-01 05:00:00 | 5 | 1 | 1 | 2016 | 594.83 | 1 | 322.8215 | 258.9426 | 169.8513 | 221.3811 |\n",
       "| 2016-01-01 06:00:00 | 6 | 1 | 1 | 2016 | 441.33 | 1 | 250.7651 | 258.9426 | 169.8513 | 221.3811 |\n",
       "\n"
      ],
      "text/plain": [
       "  date                hour day month year PM25   week hourlyindex dailyindex\n",
       "1 2016-01-01 01:00:00 1    1   1     2016 376.00 1    332.0040    258.9426  \n",
       "2 2016-01-01 02:00:00 2    1   1     2016 480.50 1    354.0614    258.9426  \n",
       "3 2016-01-01 03:00:00 3    1   1     2016 486.67 1    342.7143    258.9426  \n",
       "4 2016-01-01 04:00:00 4    1   1     2016 441.17 1    309.5135    258.9426  \n",
       "5 2016-01-01 05:00:00 5    1   1     2016 594.83 1    322.8215    258.9426  \n",
       "6 2016-01-01 06:00:00 6    1   1     2016 441.33 1    250.7651    258.9426  \n",
       "  monthlyindex weeklyindex\n",
       "1 169.8513     221.3811   \n",
       "2 169.8513     221.3811   \n",
       "3 169.8513     221.3811   \n",
       "4 169.8513     221.3811   \n",
       "5 169.8513     221.3811   \n",
       "6 169.8513     221.3811   "
      ]
     },
     "metadata": {},
     "output_type": "display_data"
    }
   ],
   "source": [
    "############# Join the indexes to original houly data\n",
    "\n",
    "hourly_s <- hourly_s %>% select(month,day,hour,hourlyindex)\n",
    "hourly_df <- hourly_df %>% left_join(hourly_s,by=c(\"month\",\"day\",\"hour\"))\n",
    "\n",
    "daily_s <- daily_s %>% select(month, day, dailyindex)\n",
    "hourly_df <- hourly_df %>% left_join(daily_s, by = c(\"month\", \"day\"))\n",
    "\n",
    "monthly_s <- monthly_s %>% select(month, monthlyindex)\n",
    "hourly_df <- hourly_df %>% left_join(monthly_s, by = c(\"month\"))\n",
    "\n",
    "weekly_s <- weekly_s %>% select(week, weeklyindex)\n",
    "hourly_df <- hourly_df %>% left_join(weekly_s, by = c(\"week\"))\n",
    "\n",
    "head(hourly_df)\n",
    "## Removing the unnecessary data frames \n",
    "rm(hourly_s)\n",
    "rm(daily_s)\n",
    "rm(monthly_s)\n",
    "rm(weekly_s)\n",
    "rm(summary_mean)\n",
    "rm(seasonalIndex)\n"
   ]
  },
  {
   "cell_type": "code",
   "execution_count": 9,
   "metadata": {},
   "outputs": [
    {
     "data": {
      "text/html": [
       "<table class=\"dataframe\">\n",
       "<caption>A data.frame: 6 × 7</caption>\n",
       "<thead>\n",
       "\t<tr><th></th><th scope=col>date</th><th scope=col>year</th><th scope=col>PM25</th><th scope=col>hourlyindex</th><th scope=col>dailyindex</th><th scope=col>monthlyindex</th><th scope=col>weeklyindex</th></tr>\n",
       "\t<tr><th></th><th scope=col>&lt;dttm&gt;</th><th scope=col>&lt;int&gt;</th><th scope=col>&lt;dbl&gt;</th><th scope=col>&lt;dbl&gt;</th><th scope=col>&lt;dbl&gt;</th><th scope=col>&lt;dbl&gt;</th><th scope=col>&lt;dbl&gt;</th></tr>\n",
       "</thead>\n",
       "<tbody>\n",
       "\t<tr><th scope=row>1</th><td>2016-01-01 01:00:00</td><td>2016</td><td>376.00</td><td>332.0040</td><td>258.9426</td><td>169.8513</td><td>221.3811</td></tr>\n",
       "\t<tr><th scope=row>2</th><td>2016-01-01 02:00:00</td><td>2016</td><td>480.50</td><td>354.0614</td><td>258.9426</td><td>169.8513</td><td>221.3811</td></tr>\n",
       "\t<tr><th scope=row>3</th><td>2016-01-01 03:00:00</td><td>2016</td><td>486.67</td><td>342.7143</td><td>258.9426</td><td>169.8513</td><td>221.3811</td></tr>\n",
       "\t<tr><th scope=row>4</th><td>2016-01-01 04:00:00</td><td>2016</td><td>441.17</td><td>309.5135</td><td>258.9426</td><td>169.8513</td><td>221.3811</td></tr>\n",
       "\t<tr><th scope=row>5</th><td>2016-01-01 05:00:00</td><td>2016</td><td>594.83</td><td>322.8215</td><td>258.9426</td><td>169.8513</td><td>221.3811</td></tr>\n",
       "\t<tr><th scope=row>6</th><td>2016-01-01 06:00:00</td><td>2016</td><td>441.33</td><td>250.7651</td><td>258.9426</td><td>169.8513</td><td>221.3811</td></tr>\n",
       "</tbody>\n",
       "</table>\n"
      ],
      "text/latex": [
       "A data.frame: 6 × 7\n",
       "\\begin{tabular}{r|lllllll}\n",
       "  & date & year & PM25 & hourlyindex & dailyindex & monthlyindex & weeklyindex\\\\\n",
       "  & <dttm> & <int> & <dbl> & <dbl> & <dbl> & <dbl> & <dbl>\\\\\n",
       "\\hline\n",
       "\t1 & 2016-01-01 01:00:00 & 2016 & 376.00 & 332.0040 & 258.9426 & 169.8513 & 221.3811\\\\\n",
       "\t2 & 2016-01-01 02:00:00 & 2016 & 480.50 & 354.0614 & 258.9426 & 169.8513 & 221.3811\\\\\n",
       "\t3 & 2016-01-01 03:00:00 & 2016 & 486.67 & 342.7143 & 258.9426 & 169.8513 & 221.3811\\\\\n",
       "\t4 & 2016-01-01 04:00:00 & 2016 & 441.17 & 309.5135 & 258.9426 & 169.8513 & 221.3811\\\\\n",
       "\t5 & 2016-01-01 05:00:00 & 2016 & 594.83 & 322.8215 & 258.9426 & 169.8513 & 221.3811\\\\\n",
       "\t6 & 2016-01-01 06:00:00 & 2016 & 441.33 & 250.7651 & 258.9426 & 169.8513 & 221.3811\\\\\n",
       "\\end{tabular}\n"
      ],
      "text/markdown": [
       "\n",
       "A data.frame: 6 × 7\n",
       "\n",
       "| <!--/--> | date &lt;dttm&gt; | year &lt;int&gt; | PM25 &lt;dbl&gt; | hourlyindex &lt;dbl&gt; | dailyindex &lt;dbl&gt; | monthlyindex &lt;dbl&gt; | weeklyindex &lt;dbl&gt; |\n",
       "|---|---|---|---|---|---|---|---|\n",
       "| 1 | 2016-01-01 01:00:00 | 2016 | 376.00 | 332.0040 | 258.9426 | 169.8513 | 221.3811 |\n",
       "| 2 | 2016-01-01 02:00:00 | 2016 | 480.50 | 354.0614 | 258.9426 | 169.8513 | 221.3811 |\n",
       "| 3 | 2016-01-01 03:00:00 | 2016 | 486.67 | 342.7143 | 258.9426 | 169.8513 | 221.3811 |\n",
       "| 4 | 2016-01-01 04:00:00 | 2016 | 441.17 | 309.5135 | 258.9426 | 169.8513 | 221.3811 |\n",
       "| 5 | 2016-01-01 05:00:00 | 2016 | 594.83 | 322.8215 | 258.9426 | 169.8513 | 221.3811 |\n",
       "| 6 | 2016-01-01 06:00:00 | 2016 | 441.33 | 250.7651 | 258.9426 | 169.8513 | 221.3811 |\n",
       "\n"
      ],
      "text/plain": [
       "  date                year PM25   hourlyindex dailyindex monthlyindex\n",
       "1 2016-01-01 01:00:00 2016 376.00 332.0040    258.9426   169.8513    \n",
       "2 2016-01-01 02:00:00 2016 480.50 354.0614    258.9426   169.8513    \n",
       "3 2016-01-01 03:00:00 2016 486.67 342.7143    258.9426   169.8513    \n",
       "4 2016-01-01 04:00:00 2016 441.17 309.5135    258.9426   169.8513    \n",
       "5 2016-01-01 05:00:00 2016 594.83 322.8215    258.9426   169.8513    \n",
       "6 2016-01-01 06:00:00 2016 441.33 250.7651    258.9426   169.8513    \n",
       "  weeklyindex\n",
       "1 221.3811   \n",
       "2 221.3811   \n",
       "3 221.3811   \n",
       "4 221.3811   \n",
       "5 221.3811   \n",
       "6 221.3811   "
      ]
     },
     "metadata": {},
     "output_type": "display_data"
    }
   ],
   "source": [
    "################### Data manipulation using forecastML\n",
    "## Fill_gaps is a function from forecatML to see if there are missing value it creates\n",
    "## an evenly spaced data frame\n",
    "hourly_ts <- fill_gaps(hourly_df, date_col = 1, frequency = \"1 hour\")\n",
    "dates <- hourly_ts$date\n",
    "\n",
    "#hourly_ts$date <- NULL\n",
    "hourly_ts$hour <- NULL\n",
    "hourly_ts$day <- NULL\n",
    "hourly_ts$month <- NULL\n",
    "hourly_ts$week <- NULL\n",
    "head(hourly_ts)\n"
   ]
  },
  {
   "cell_type": "code",
   "execution_count": 10,
   "metadata": {},
   "outputs": [
    {
     "data": {
      "text/html": [
       "<table class=\"dataframe\">\n",
       "<caption>A data.frame: 6 × 7</caption>\n",
       "<thead>\n",
       "\t<tr><th></th><th scope=col>date</th><th scope=col>year</th><th scope=col>PM25</th><th scope=col>hourlyindex</th><th scope=col>dailyindex</th><th scope=col>monthlyindex</th><th scope=col>weeklyindex</th></tr>\n",
       "\t<tr><th></th><th scope=col>&lt;dttm&gt;</th><th scope=col>&lt;int&gt;</th><th scope=col>&lt;dbl&gt;</th><th scope=col>&lt;dbl&gt;</th><th scope=col>&lt;dbl&gt;</th><th scope=col>&lt;dbl&gt;</th><th scope=col>&lt;dbl&gt;</th></tr>\n",
       "</thead>\n",
       "<tbody>\n",
       "\t<tr><th scope=row>1</th><td>2020-01-01 00:00:00</td><td>2020</td><td>857.50</td><td>413.4852</td><td>258.9426</td><td>169.8513</td><td>221.3811</td></tr>\n",
       "\t<tr><th scope=row>2</th><td>2020-01-01 01:00:00</td><td>2020</td><td>472.75</td><td>332.0040</td><td>258.9426</td><td>169.8513</td><td>221.3811</td></tr>\n",
       "\t<tr><th scope=row>3</th><td>2020-01-01 02:00:00</td><td>2020</td><td>384.75</td><td>354.0614</td><td>258.9426</td><td>169.8513</td><td>221.3811</td></tr>\n",
       "\t<tr><th scope=row>4</th><td>2020-01-01 03:00:00</td><td>2020</td><td>334.50</td><td>342.7143</td><td>258.9426</td><td>169.8513</td><td>221.3811</td></tr>\n",
       "\t<tr><th scope=row>5</th><td>2020-01-01 04:00:00</td><td>2020</td><td>362.75</td><td>309.5135</td><td>258.9426</td><td>169.8513</td><td>221.3811</td></tr>\n",
       "\t<tr><th scope=row>6</th><td>2020-01-01 05:00:00</td><td>2020</td><td>403.25</td><td>322.8215</td><td>258.9426</td><td>169.8513</td><td>221.3811</td></tr>\n",
       "</tbody>\n",
       "</table>\n"
      ],
      "text/latex": [
       "A data.frame: 6 × 7\n",
       "\\begin{tabular}{r|lllllll}\n",
       "  & date & year & PM25 & hourlyindex & dailyindex & monthlyindex & weeklyindex\\\\\n",
       "  & <dttm> & <int> & <dbl> & <dbl> & <dbl> & <dbl> & <dbl>\\\\\n",
       "\\hline\n",
       "\t1 & 2020-01-01 00:00:00 & 2020 & 857.50 & 413.4852 & 258.9426 & 169.8513 & 221.3811\\\\\n",
       "\t2 & 2020-01-01 01:00:00 & 2020 & 472.75 & 332.0040 & 258.9426 & 169.8513 & 221.3811\\\\\n",
       "\t3 & 2020-01-01 02:00:00 & 2020 & 384.75 & 354.0614 & 258.9426 & 169.8513 & 221.3811\\\\\n",
       "\t4 & 2020-01-01 03:00:00 & 2020 & 334.50 & 342.7143 & 258.9426 & 169.8513 & 221.3811\\\\\n",
       "\t5 & 2020-01-01 04:00:00 & 2020 & 362.75 & 309.5135 & 258.9426 & 169.8513 & 221.3811\\\\\n",
       "\t6 & 2020-01-01 05:00:00 & 2020 & 403.25 & 322.8215 & 258.9426 & 169.8513 & 221.3811\\\\\n",
       "\\end{tabular}\n"
      ],
      "text/markdown": [
       "\n",
       "A data.frame: 6 × 7\n",
       "\n",
       "| <!--/--> | date &lt;dttm&gt; | year &lt;int&gt; | PM25 &lt;dbl&gt; | hourlyindex &lt;dbl&gt; | dailyindex &lt;dbl&gt; | monthlyindex &lt;dbl&gt; | weeklyindex &lt;dbl&gt; |\n",
       "|---|---|---|---|---|---|---|---|\n",
       "| 1 | 2020-01-01 00:00:00 | 2020 | 857.50 | 413.4852 | 258.9426 | 169.8513 | 221.3811 |\n",
       "| 2 | 2020-01-01 01:00:00 | 2020 | 472.75 | 332.0040 | 258.9426 | 169.8513 | 221.3811 |\n",
       "| 3 | 2020-01-01 02:00:00 | 2020 | 384.75 | 354.0614 | 258.9426 | 169.8513 | 221.3811 |\n",
       "| 4 | 2020-01-01 03:00:00 | 2020 | 334.50 | 342.7143 | 258.9426 | 169.8513 | 221.3811 |\n",
       "| 5 | 2020-01-01 04:00:00 | 2020 | 362.75 | 309.5135 | 258.9426 | 169.8513 | 221.3811 |\n",
       "| 6 | 2020-01-01 05:00:00 | 2020 | 403.25 | 322.8215 | 258.9426 | 169.8513 | 221.3811 |\n",
       "\n"
      ],
      "text/plain": [
       "  date                year PM25   hourlyindex dailyindex monthlyindex\n",
       "1 2020-01-01 00:00:00 2020 857.50 413.4852    258.9426   169.8513    \n",
       "2 2020-01-01 01:00:00 2020 472.75 332.0040    258.9426   169.8513    \n",
       "3 2020-01-01 02:00:00 2020 384.75 354.0614    258.9426   169.8513    \n",
       "4 2020-01-01 03:00:00 2020 334.50 342.7143    258.9426   169.8513    \n",
       "5 2020-01-01 04:00:00 2020 362.75 309.5135    258.9426   169.8513    \n",
       "6 2020-01-01 05:00:00 2020 403.25 322.8215    258.9426   169.8513    \n",
       "  weeklyindex\n",
       "1 221.3811   \n",
       "2 221.3811   \n",
       "3 221.3811   \n",
       "4 221.3811   \n",
       "5 221.3811   \n",
       "6 221.3811   "
      ]
     },
     "metadata": {},
     "output_type": "display_data"
    }
   ],
   "source": [
    "hourly_ts_filtered <- hourly_ts %>% filter(date>=ymd(\"2020-01-01\"))%>% mutate(PM25=ifelse(is.na(PM25), median(PM25, na.rm = T), PM25))\n",
    "head(hourly_ts_filtered)"
   ]
  },
  {
   "cell_type": "code",
   "execution_count": 11,
   "metadata": {},
   "outputs": [
    {
     "data": {
      "text/html": [
       "<table class=\"dataframe\">\n",
       "<caption>A data.frame: 6 × 7</caption>\n",
       "<thead>\n",
       "\t<tr><th></th><th scope=col>date</th><th scope=col>year</th><th scope=col>PM25</th><th scope=col>hourlyindex</th><th scope=col>dailyindex</th><th scope=col>monthlyindex</th><th scope=col>weeklyindex</th></tr>\n",
       "\t<tr><th></th><th scope=col>&lt;dttm&gt;</th><th scope=col>&lt;int&gt;</th><th scope=col>&lt;dbl&gt;</th><th scope=col>&lt;dbl&gt;</th><th scope=col>&lt;dbl&gt;</th><th scope=col>&lt;dbl&gt;</th><th scope=col>&lt;dbl&gt;</th></tr>\n",
       "</thead>\n",
       "<tbody>\n",
       "\t<tr><th scope=row>1</th><td>2021-01-01 01:00:00</td><td>2021</td><td>87</td><td>332.0040</td><td>258.9426</td><td>169.8513</td><td>221.3811</td></tr>\n",
       "\t<tr><th scope=row>2</th><td>2021-01-01 02:00:00</td><td>2021</td><td>87</td><td>354.0614</td><td>258.9426</td><td>169.8513</td><td>221.3811</td></tr>\n",
       "\t<tr><th scope=row>3</th><td>2021-01-01 03:00:00</td><td>2021</td><td>87</td><td>342.7143</td><td>258.9426</td><td>169.8513</td><td>221.3811</td></tr>\n",
       "\t<tr><th scope=row>4</th><td>2021-01-01 04:00:00</td><td>2021</td><td>87</td><td>309.5135</td><td>258.9426</td><td>169.8513</td><td>221.3811</td></tr>\n",
       "\t<tr><th scope=row>5</th><td>2021-01-01 05:00:00</td><td>2021</td><td>87</td><td>322.8215</td><td>258.9426</td><td>169.8513</td><td>221.3811</td></tr>\n",
       "\t<tr><th scope=row>6</th><td>2021-01-01 06:00:00</td><td>2021</td><td>87</td><td>250.7651</td><td>258.9426</td><td>169.8513</td><td>221.3811</td></tr>\n",
       "</tbody>\n",
       "</table>\n"
      ],
      "text/latex": [
       "A data.frame: 6 × 7\n",
       "\\begin{tabular}{r|lllllll}\n",
       "  & date & year & PM25 & hourlyindex & dailyindex & monthlyindex & weeklyindex\\\\\n",
       "  & <dttm> & <int> & <dbl> & <dbl> & <dbl> & <dbl> & <dbl>\\\\\n",
       "\\hline\n",
       "\t1 & 2021-01-01 01:00:00 & 2021 & 87 & 332.0040 & 258.9426 & 169.8513 & 221.3811\\\\\n",
       "\t2 & 2021-01-01 02:00:00 & 2021 & 87 & 354.0614 & 258.9426 & 169.8513 & 221.3811\\\\\n",
       "\t3 & 2021-01-01 03:00:00 & 2021 & 87 & 342.7143 & 258.9426 & 169.8513 & 221.3811\\\\\n",
       "\t4 & 2021-01-01 04:00:00 & 2021 & 87 & 309.5135 & 258.9426 & 169.8513 & 221.3811\\\\\n",
       "\t5 & 2021-01-01 05:00:00 & 2021 & 87 & 322.8215 & 258.9426 & 169.8513 & 221.3811\\\\\n",
       "\t6 & 2021-01-01 06:00:00 & 2021 & 87 & 250.7651 & 258.9426 & 169.8513 & 221.3811\\\\\n",
       "\\end{tabular}\n"
      ],
      "text/markdown": [
       "\n",
       "A data.frame: 6 × 7\n",
       "\n",
       "| <!--/--> | date &lt;dttm&gt; | year &lt;int&gt; | PM25 &lt;dbl&gt; | hourlyindex &lt;dbl&gt; | dailyindex &lt;dbl&gt; | monthlyindex &lt;dbl&gt; | weeklyindex &lt;dbl&gt; |\n",
       "|---|---|---|---|---|---|---|---|\n",
       "| 1 | 2021-01-01 01:00:00 | 2021 | 87 | 332.0040 | 258.9426 | 169.8513 | 221.3811 |\n",
       "| 2 | 2021-01-01 02:00:00 | 2021 | 87 | 354.0614 | 258.9426 | 169.8513 | 221.3811 |\n",
       "| 3 | 2021-01-01 03:00:00 | 2021 | 87 | 342.7143 | 258.9426 | 169.8513 | 221.3811 |\n",
       "| 4 | 2021-01-01 04:00:00 | 2021 | 87 | 309.5135 | 258.9426 | 169.8513 | 221.3811 |\n",
       "| 5 | 2021-01-01 05:00:00 | 2021 | 87 | 322.8215 | 258.9426 | 169.8513 | 221.3811 |\n",
       "| 6 | 2021-01-01 06:00:00 | 2021 | 87 | 250.7651 | 258.9426 | 169.8513 | 221.3811 |\n",
       "\n"
      ],
      "text/plain": [
       "  date                year PM25 hourlyindex dailyindex monthlyindex weeklyindex\n",
       "1 2021-01-01 01:00:00 2021 87   332.0040    258.9426   169.8513     221.3811   \n",
       "2 2021-01-01 02:00:00 2021 87   354.0614    258.9426   169.8513     221.3811   \n",
       "3 2021-01-01 03:00:00 2021 87   342.7143    258.9426   169.8513     221.3811   \n",
       "4 2021-01-01 04:00:00 2021 87   309.5135    258.9426   169.8513     221.3811   \n",
       "5 2021-01-01 05:00:00 2021 87   322.8215    258.9426   169.8513     221.3811   \n",
       "6 2021-01-01 06:00:00 2021 87   250.7651    258.9426   169.8513     221.3811   "
      ]
     },
     "metadata": {},
     "output_type": "display_data"
    }
   ],
   "source": [
    "data_train <- hourly_ts_filtered %>% filter(date <ymd('2021-01-01'))\n",
    "data_test <- hourly_ts_filtered %>% filter(date >ymd('2021-01-01'))\n",
    "head(data_test)"
   ]
  },
  {
   "cell_type": "code",
   "execution_count": 13,
   "metadata": {},
   "outputs": [
    {
     "data": {
      "text/html": [
       "<table class=\"dataframe\">\n",
       "<caption>A data.frame: 6 × 19</caption>\n",
       "<thead>\n",
       "\t<tr><th></th><th scope=col>PM25</th><th scope=col>PM25_lag_1</th><th scope=col>PM25_lag_2</th><th scope=col>PM25_lag_3</th><th scope=col>PM25_lag_4</th><th scope=col>PM25_lag_5</th><th scope=col>PM25_lag_6</th><th scope=col>PM25_lag_7</th><th scope=col>PM25_lag_8</th><th scope=col>PM25_lag_9</th><th scope=col>PM25_lag_10</th><th scope=col>PM25_lag_11</th><th scope=col>PM25_lag_12</th><th scope=col>date</th><th scope=col>year</th><th scope=col>hourlyindex</th><th scope=col>dailyindex</th><th scope=col>monthlyindex</th><th scope=col>weeklyindex</th></tr>\n",
       "\t<tr><th></th><th scope=col>&lt;dbl&gt;</th><th scope=col>&lt;dbl&gt;</th><th scope=col>&lt;dbl&gt;</th><th scope=col>&lt;dbl&gt;</th><th scope=col>&lt;dbl&gt;</th><th scope=col>&lt;dbl&gt;</th><th scope=col>&lt;dbl&gt;</th><th scope=col>&lt;dbl&gt;</th><th scope=col>&lt;dbl&gt;</th><th scope=col>&lt;dbl&gt;</th><th scope=col>&lt;dbl&gt;</th><th scope=col>&lt;dbl&gt;</th><th scope=col>&lt;dbl&gt;</th><th scope=col>&lt;dttm&gt;</th><th scope=col>&lt;int&gt;</th><th scope=col>&lt;dbl&gt;</th><th scope=col>&lt;dbl&gt;</th><th scope=col>&lt;dbl&gt;</th><th scope=col>&lt;dbl&gt;</th></tr>\n",
       "</thead>\n",
       "<tbody>\n",
       "\t<tr><th scope=row>13</th><td>187.75</td><td>247.50</td><td>338.75</td><td>420.25</td><td>447.25</td><td>420.00</td><td>396.50</td><td>403.25</td><td>362.75</td><td>334.50</td><td>384.75</td><td>472.75</td><td>857.50</td><td>2020-01-01 12:00:00</td><td>2020</td><td>224.38866</td><td>258.9426</td><td>169.8513</td><td>221.3811</td></tr>\n",
       "\t<tr><th scope=row>14</th><td>143.75</td><td>187.75</td><td>247.50</td><td>338.75</td><td>420.25</td><td>447.25</td><td>420.00</td><td>396.50</td><td>403.25</td><td>362.75</td><td>334.50</td><td>384.75</td><td>472.75</td><td>2020-01-01 13:00:00</td><td>2020</td><td>191.81453</td><td>258.9426</td><td>169.8513</td><td>221.3811</td></tr>\n",
       "\t<tr><th scope=row>15</th><td>133.00</td><td>143.75</td><td>187.75</td><td>247.50</td><td>338.75</td><td>420.25</td><td>447.25</td><td>420.00</td><td>396.50</td><td>403.25</td><td>362.75</td><td>334.50</td><td>384.75</td><td>2020-01-01 14:00:00</td><td>2020</td><td>162.07933</td><td>258.9426</td><td>169.8513</td><td>221.3811</td></tr>\n",
       "\t<tr><th scope=row>16</th><td>131.00</td><td>133.00</td><td>143.75</td><td>187.75</td><td>247.50</td><td>338.75</td><td>420.25</td><td>447.25</td><td>420.00</td><td>396.50</td><td>403.25</td><td>362.75</td><td>334.50</td><td>2020-01-01 15:00:00</td><td>2020</td><td>115.22099</td><td>258.9426</td><td>169.8513</td><td>221.3811</td></tr>\n",
       "\t<tr><th scope=row>17</th><td>101.50</td><td>131.00</td><td>133.00</td><td>143.75</td><td>187.75</td><td>247.50</td><td>338.75</td><td>420.25</td><td>447.25</td><td>420.00</td><td>396.50</td><td>403.25</td><td>362.75</td><td>2020-01-01 16:00:00</td><td>2020</td><td> 95.08851</td><td>258.9426</td><td>169.8513</td><td>221.3811</td></tr>\n",
       "\t<tr><th scope=row>18</th><td> 88.00</td><td>101.50</td><td>131.00</td><td>133.00</td><td>143.75</td><td>187.75</td><td>247.50</td><td>338.75</td><td>420.25</td><td>447.25</td><td>420.00</td><td>396.50</td><td>403.25</td><td>2020-01-01 17:00:00</td><td>2020</td><td>106.08758</td><td>258.9426</td><td>169.8513</td><td>221.3811</td></tr>\n",
       "</tbody>\n",
       "</table>\n"
      ],
      "text/latex": [
       "A data.frame: 6 × 19\n",
       "\\begin{tabular}{r|lllllllllllllllllll}\n",
       "  & PM25 & PM25\\_lag\\_1 & PM25\\_lag\\_2 & PM25\\_lag\\_3 & PM25\\_lag\\_4 & PM25\\_lag\\_5 & PM25\\_lag\\_6 & PM25\\_lag\\_7 & PM25\\_lag\\_8 & PM25\\_lag\\_9 & PM25\\_lag\\_10 & PM25\\_lag\\_11 & PM25\\_lag\\_12 & date & year & hourlyindex & dailyindex & monthlyindex & weeklyindex\\\\\n",
       "  & <dbl> & <dbl> & <dbl> & <dbl> & <dbl> & <dbl> & <dbl> & <dbl> & <dbl> & <dbl> & <dbl> & <dbl> & <dbl> & <dttm> & <int> & <dbl> & <dbl> & <dbl> & <dbl>\\\\\n",
       "\\hline\n",
       "\t13 & 187.75 & 247.50 & 338.75 & 420.25 & 447.25 & 420.00 & 396.50 & 403.25 & 362.75 & 334.50 & 384.75 & 472.75 & 857.50 & 2020-01-01 12:00:00 & 2020 & 224.38866 & 258.9426 & 169.8513 & 221.3811\\\\\n",
       "\t14 & 143.75 & 187.75 & 247.50 & 338.75 & 420.25 & 447.25 & 420.00 & 396.50 & 403.25 & 362.75 & 334.50 & 384.75 & 472.75 & 2020-01-01 13:00:00 & 2020 & 191.81453 & 258.9426 & 169.8513 & 221.3811\\\\\n",
       "\t15 & 133.00 & 143.75 & 187.75 & 247.50 & 338.75 & 420.25 & 447.25 & 420.00 & 396.50 & 403.25 & 362.75 & 334.50 & 384.75 & 2020-01-01 14:00:00 & 2020 & 162.07933 & 258.9426 & 169.8513 & 221.3811\\\\\n",
       "\t16 & 131.00 & 133.00 & 143.75 & 187.75 & 247.50 & 338.75 & 420.25 & 447.25 & 420.00 & 396.50 & 403.25 & 362.75 & 334.50 & 2020-01-01 15:00:00 & 2020 & 115.22099 & 258.9426 & 169.8513 & 221.3811\\\\\n",
       "\t17 & 101.50 & 131.00 & 133.00 & 143.75 & 187.75 & 247.50 & 338.75 & 420.25 & 447.25 & 420.00 & 396.50 & 403.25 & 362.75 & 2020-01-01 16:00:00 & 2020 &  95.08851 & 258.9426 & 169.8513 & 221.3811\\\\\n",
       "\t18 &  88.00 & 101.50 & 131.00 & 133.00 & 143.75 & 187.75 & 247.50 & 338.75 & 420.25 & 447.25 & 420.00 & 396.50 & 403.25 & 2020-01-01 17:00:00 & 2020 & 106.08758 & 258.9426 & 169.8513 & 221.3811\\\\\n",
       "\\end{tabular}\n"
      ],
      "text/markdown": [
       "\n",
       "A data.frame: 6 × 19\n",
       "\n",
       "| <!--/--> | PM25 &lt;dbl&gt; | PM25_lag_1 &lt;dbl&gt; | PM25_lag_2 &lt;dbl&gt; | PM25_lag_3 &lt;dbl&gt; | PM25_lag_4 &lt;dbl&gt; | PM25_lag_5 &lt;dbl&gt; | PM25_lag_6 &lt;dbl&gt; | PM25_lag_7 &lt;dbl&gt; | PM25_lag_8 &lt;dbl&gt; | PM25_lag_9 &lt;dbl&gt; | PM25_lag_10 &lt;dbl&gt; | PM25_lag_11 &lt;dbl&gt; | PM25_lag_12 &lt;dbl&gt; | date &lt;dttm&gt; | year &lt;int&gt; | hourlyindex &lt;dbl&gt; | dailyindex &lt;dbl&gt; | monthlyindex &lt;dbl&gt; | weeklyindex &lt;dbl&gt; |\n",
       "|---|---|---|---|---|---|---|---|---|---|---|---|---|---|---|---|---|---|---|---|\n",
       "| 13 | 187.75 | 247.50 | 338.75 | 420.25 | 447.25 | 420.00 | 396.50 | 403.25 | 362.75 | 334.50 | 384.75 | 472.75 | 857.50 | 2020-01-01 12:00:00 | 2020 | 224.38866 | 258.9426 | 169.8513 | 221.3811 |\n",
       "| 14 | 143.75 | 187.75 | 247.50 | 338.75 | 420.25 | 447.25 | 420.00 | 396.50 | 403.25 | 362.75 | 334.50 | 384.75 | 472.75 | 2020-01-01 13:00:00 | 2020 | 191.81453 | 258.9426 | 169.8513 | 221.3811 |\n",
       "| 15 | 133.00 | 143.75 | 187.75 | 247.50 | 338.75 | 420.25 | 447.25 | 420.00 | 396.50 | 403.25 | 362.75 | 334.50 | 384.75 | 2020-01-01 14:00:00 | 2020 | 162.07933 | 258.9426 | 169.8513 | 221.3811 |\n",
       "| 16 | 131.00 | 133.00 | 143.75 | 187.75 | 247.50 | 338.75 | 420.25 | 447.25 | 420.00 | 396.50 | 403.25 | 362.75 | 334.50 | 2020-01-01 15:00:00 | 2020 | 115.22099 | 258.9426 | 169.8513 | 221.3811 |\n",
       "| 17 | 101.50 | 131.00 | 133.00 | 143.75 | 187.75 | 247.50 | 338.75 | 420.25 | 447.25 | 420.00 | 396.50 | 403.25 | 362.75 | 2020-01-01 16:00:00 | 2020 |  95.08851 | 258.9426 | 169.8513 | 221.3811 |\n",
       "| 18 |  88.00 | 101.50 | 131.00 | 133.00 | 143.75 | 187.75 | 247.50 | 338.75 | 420.25 | 447.25 | 420.00 | 396.50 | 403.25 | 2020-01-01 17:00:00 | 2020 | 106.08758 | 258.9426 | 169.8513 | 221.3811 |\n",
       "\n"
      ],
      "text/plain": [
       "   PM25   PM25_lag_1 PM25_lag_2 PM25_lag_3 PM25_lag_4 PM25_lag_5 PM25_lag_6\n",
       "13 187.75 247.50     338.75     420.25     447.25     420.00     396.50    \n",
       "14 143.75 187.75     247.50     338.75     420.25     447.25     420.00    \n",
       "15 133.00 143.75     187.75     247.50     338.75     420.25     447.25    \n",
       "16 131.00 133.00     143.75     187.75     247.50     338.75     420.25    \n",
       "17 101.50 131.00     133.00     143.75     187.75     247.50     338.75    \n",
       "18  88.00 101.50     131.00     133.00     143.75     187.75     247.50    \n",
       "   PM25_lag_7 PM25_lag_8 PM25_lag_9 PM25_lag_10 PM25_lag_11 PM25_lag_12\n",
       "13 403.25     362.75     334.50     384.75      472.75      857.50     \n",
       "14 396.50     403.25     362.75     334.50      384.75      472.75     \n",
       "15 420.00     396.50     403.25     362.75      334.50      384.75     \n",
       "16 447.25     420.00     396.50     403.25      362.75      334.50     \n",
       "17 420.25     447.25     420.00     396.50      403.25      362.75     \n",
       "18 338.75     420.25     447.25     420.00      396.50      403.25     \n",
       "   date                year hourlyindex dailyindex monthlyindex weeklyindex\n",
       "13 2020-01-01 12:00:00 2020 224.38866   258.9426   169.8513     221.3811   \n",
       "14 2020-01-01 13:00:00 2020 191.81453   258.9426   169.8513     221.3811   \n",
       "15 2020-01-01 14:00:00 2020 162.07933   258.9426   169.8513     221.3811   \n",
       "16 2020-01-01 15:00:00 2020 115.22099   258.9426   169.8513     221.3811   \n",
       "17 2020-01-01 16:00:00 2020  95.08851   258.9426   169.8513     221.3811   \n",
       "18 2020-01-01 17:00:00 2020 106.08758   258.9426   169.8513     221.3811   "
      ]
     },
     "metadata": {},
     "output_type": "display_data"
    }
   ],
   "source": [
    "## Now creating a training data frame with lookback of 12 hours \n",
    "data_train_lagged <-\n",
    "  create_lagged_df(\n",
    "    data_train, ## data frame\n",
    "    type = \"train\", ## training \n",
    "    outcome_col = 3,## Output column is PM2.5 \n",
    "    horizons = 1, ## Horizons is used if you want to predict for more than one hour\n",
    "    lookback = c(1:12),## Lookback of 12 hour\n",
    "    dynamic_features = c(\"year\",\"hourlyindex\",\"hour\", \"dailyindex\", \"monthlyindex\", \"weeklyindex\",\"date\"), ## dynamic features of index\n",
    "    frequency = \"1 hour\" ## Frequency is 1 day\n",
    "  )\n",
    "\n",
    "## Now creating a training data frame with lookback of 7 days \n",
    "data_test_lagged <-\n",
    "  create_lagged_df(\n",
    "    data_test, ## data frame\n",
    "    type = \"train\", ## training \n",
    "    outcome_col = 3,## Output column is PM2.5 \n",
    "    horizons = 1, ## Horizons is used if you want to use different models in different time frames\n",
    "    lookback = c(1:12),## Lookback of 12 hour\n",
    "    dynamic_features = c(\"year\",\"hourlyindex\",\"hour\", \"dailyindex\", \"monthlyindex\", \"weeklyindex\",\"date\"), ## dynamic features of index\n",
    "    frequency = \"1 hour\" ## Frequency is 1 day\n",
    "  )\n",
    "\n",
    "\n",
    "## Looking at the first horizon data frame\n",
    "data_train_lagged <- data_train_lagged$horizon_1\n",
    "data_test_lagged <- data_test_lagged$horizon_1\n",
    "head(data_train_lagged)"
   ]
  },
  {
   "cell_type": "code",
   "execution_count": 14,
   "metadata": {},
   "outputs": [
    {
     "data": {
      "text/plain": [
       "PM25 ~ PM25_lag_1 + PM25_lag_2 + PM25_lag_3 + PM25_lag_4 + PM25_lag_5 + \n",
       "    PM25_lag_6 + PM25_lag_7 + PM25_lag_8 + PM25_lag_9 + PM25_lag_10 + \n",
       "    PM25_lag_11 + PM25_lag_12 + hourlyindex + dailyindex + monthlyindex + \n",
       "    weeklyindex"
      ]
     },
     "metadata": {},
     "output_type": "display_data"
    }
   ],
   "source": [
    "dep_variable <- \"PM25\"\n",
    "ind_variables <- setdiff(names(data_train_lagged),c(\"date\",\"year\",\"PM25\"))\n",
    "formulae <- as.formula(paste(dep_variable,paste(ind_variables,collapse=\"+\"),sep=\" ~ \"))\n",
    "formulae"
   ]
  },
  {
   "cell_type": "code",
   "execution_count": 15,
   "metadata": {},
   "outputs": [
    {
     "data": {
      "text/plain": [
       "Linear Regression \n",
       "\n",
       "8772 samples\n",
       "  16 predictor\n",
       "\n",
       "No pre-processing\n",
       "Resampling: Cross-Validated (10 fold) \n",
       "Summary of sample sizes: 7896, 7894, 7894, 7896, 7894, 7895, ... \n",
       "Resampling results:\n",
       "\n",
       "  RMSE      Rsquared   MAE     \n",
       "  33.18281  0.9033854  15.29329\n",
       "\n",
       "Tuning parameter 'intercept' was held constant at a value of TRUE"
      ]
     },
     "metadata": {},
     "output_type": "display_data"
    }
   ],
   "source": [
    "tc <- trainControl(method=\"cv\", number = 10)\n",
    "lm1_cv <- train(formulae, method=\"lm\",\n",
    "                   data = data_train_lagged,trControl=tc)\n",
    "lm1_cv"
   ]
  },
  {
   "cell_type": "code",
   "execution_count": 16,
   "metadata": {},
   "outputs": [
    {
     "data": {
      "text/plain": [
       "Random Forest \n",
       "\n",
       "8772 samples\n",
       "  16 predictor\n",
       "\n",
       "No pre-processing\n",
       "Resampling: Cross-Validated (10 fold) \n",
       "Summary of sample sizes: 7895, 7894, 7895, 7894, 7895, 7896, ... \n",
       "Resampling results across tuning parameters:\n",
       "\n",
       "  mtry  RMSE      Rsquared  MAE     \n",
       "   2    34.22641  0.901938  16.15692\n",
       "   9    31.41055  0.915055  13.80473\n",
       "  16    32.04121  0.911320  13.96325\n",
       "\n",
       "RMSE was used to select the optimal model using the smallest value.\n",
       "The final value used for the model was mtry = 9."
      ]
     },
     "metadata": {},
     "output_type": "display_data"
    }
   ],
   "source": [
    "start <- Sys.time()\n",
    "rf1_cv <- train(formulae, method=\"rf\",\n",
    "                   data = data_train_lagged,trControl=tc)\n",
    "rf1_cv"
   ]
  },
  {
   "cell_type": "code",
   "execution_count": 17,
   "metadata": {},
   "outputs": [
    {
     "data": {
      "text/plain": [
       "Time difference of 31.58023 mins"
      ]
     },
     "metadata": {},
     "output_type": "display_data"
    }
   ],
   "source": [
    "end <- Sys.time()\n",
    "end-start"
   ]
  },
  {
   "cell_type": "code",
   "execution_count": null,
   "metadata": {},
   "outputs": [],
   "source": [
    "summary(lm1_cv)"
   ]
  },
  {
   "cell_type": "code",
   "execution_count": 12,
   "metadata": {},
   "outputs": [
    {
     "data": {
      "text/html": [
       "0.826589353380849"
      ],
      "text/latex": [
       "0.826589353380849"
      ],
      "text/markdown": [
       "0.826589353380849"
      ],
      "text/plain": [
       "[1] 0.8265894"
      ]
     },
     "metadata": {},
     "output_type": "display_data"
    },
    {
     "data": {
      "text/html": [
       "26.4140404653865"
      ],
      "text/latex": [
       "26.4140404653865"
      ],
      "text/markdown": [
       "26.4140404653865"
      ],
      "text/plain": [
       "[1] 26.41404"
      ]
     },
     "metadata": {},
     "output_type": "display_data"
    },
    {
     "data": {
      "text/html": [
       "49.7438245120362"
      ],
      "text/latex": [
       "49.7438245120362"
      ],
      "text/markdown": [
       "49.7438245120362"
      ],
      "text/plain": [
       "[1] 49.74382"
      ]
     },
     "metadata": {},
     "output_type": "display_data"
    }
   ],
   "source": [
    "pred_lm <- predict(lmq_cv, data_test_lagged)\n",
    "R2(data_test_lagged$PM25,pred_lm)\n",
    "MAE(data_test_lagged$PM25,pred_lm)\n",
    "RMSE(data_test_lagged$PM25,pred_lm)"
   ]
  },
  {
   "cell_type": "code",
   "execution_count": 11,
   "metadata": {},
   "outputs": [],
   "source": [
    "\n",
    "#save.image(file = \"Model_output/Forecasting_Index_1year.RData\") "
   ]
  }
 ],
 "metadata": {
  "kernelspec": {
   "display_name": "R [conda env:r-env]",
   "language": "R",
   "name": "conda-env-r-env-r"
  },
  "language_info": {
   "codemirror_mode": "r",
   "file_extension": ".r",
   "mimetype": "text/x-r-source",
   "name": "R",
   "pygments_lexer": "r",
   "version": "3.6.3"
  }
 },
 "nbformat": 4,
 "nbformat_minor": 4
}
