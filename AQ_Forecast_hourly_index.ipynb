{
 "cells": [
  {
   "cell_type": "code",
   "execution_count": 3,
   "metadata": {},
   "outputs": [],
   "source": [
    "library(xts);library(caret);library(dplyr);library(zoo)\n",
    "library(tidyverse);library(lubridate);library(data.table)\n",
    "library(ggplot2);library(timeDate);library(Metrics);\n",
    "library(hydroGOF);library(imputeTS);library(readxl);library(forecastML)"
   ]
  },
  {
   "cell_type": "code",
   "execution_count": 4,
   "metadata": {},
   "outputs": [
    {
     "data": {
      "text/html": [
       "<table class=\"dataframe\">\n",
       "<caption>A tibble: 6 × 7</caption>\n",
       "<thead>\n",
       "\t<tr><th scope=col>date</th><th scope=col>PM25</th><th scope=col>AT</th><th scope=col>RH</th><th scope=col>WS</th><th scope=col>SR</th><th scope=col>WD</th></tr>\n",
       "\t<tr><th scope=col>&lt;dttm&gt;</th><th scope=col>&lt;dbl&gt;</th><th scope=col>&lt;dbl&gt;</th><th scope=col>&lt;dbl&gt;</th><th scope=col>&lt;dbl&gt;</th><th scope=col>&lt;dbl&gt;</th><th scope=col>&lt;dbl&gt;</th></tr>\n",
       "</thead>\n",
       "<tbody>\n",
       "\t<tr><td>2016-01-01 01:00:00</td><td>376.00</td><td>11.43</td><td>69.00</td><td>0.30</td><td>12.25</td><td>216.25</td></tr>\n",
       "\t<tr><td>2016-01-01 02:00:00</td><td>480.50</td><td>11.28</td><td>71.50</td><td>0.35</td><td>12.58</td><td>230.92</td></tr>\n",
       "\t<tr><td>2016-01-01 03:00:00</td><td>486.67</td><td>11.71</td><td>71.83</td><td>0.31</td><td>12.33</td><td>203.25</td></tr>\n",
       "\t<tr><td>2016-01-01 04:00:00</td><td>441.17</td><td>11.13</td><td>73.08</td><td>0.30</td><td>12.75</td><td>126.92</td></tr>\n",
       "\t<tr><td>2016-01-01 05:00:00</td><td>594.83</td><td>11.01</td><td>74.75</td><td>0.30</td><td>12.58</td><td>196.42</td></tr>\n",
       "\t<tr><td>2016-01-01 06:00:00</td><td>441.33</td><td>11.49</td><td>74.17</td><td>0.37</td><td>13.83</td><td> 80.58</td></tr>\n",
       "</tbody>\n",
       "</table>\n"
      ],
      "text/latex": [
       "A tibble: 6 × 7\n",
       "\\begin{tabular}{lllllll}\n",
       " date & PM25 & AT & RH & WS & SR & WD\\\\\n",
       " <dttm> & <dbl> & <dbl> & <dbl> & <dbl> & <dbl> & <dbl>\\\\\n",
       "\\hline\n",
       "\t 2016-01-01 01:00:00 & 376.00 & 11.43 & 69.00 & 0.30 & 12.25 & 216.25\\\\\n",
       "\t 2016-01-01 02:00:00 & 480.50 & 11.28 & 71.50 & 0.35 & 12.58 & 230.92\\\\\n",
       "\t 2016-01-01 03:00:00 & 486.67 & 11.71 & 71.83 & 0.31 & 12.33 & 203.25\\\\\n",
       "\t 2016-01-01 04:00:00 & 441.17 & 11.13 & 73.08 & 0.30 & 12.75 & 126.92\\\\\n",
       "\t 2016-01-01 05:00:00 & 594.83 & 11.01 & 74.75 & 0.30 & 12.58 & 196.42\\\\\n",
       "\t 2016-01-01 06:00:00 & 441.33 & 11.49 & 74.17 & 0.37 & 13.83 &  80.58\\\\\n",
       "\\end{tabular}\n"
      ],
      "text/markdown": [
       "\n",
       "A tibble: 6 × 7\n",
       "\n",
       "| date &lt;dttm&gt; | PM25 &lt;dbl&gt; | AT &lt;dbl&gt; | RH &lt;dbl&gt; | WS &lt;dbl&gt; | SR &lt;dbl&gt; | WD &lt;dbl&gt; |\n",
       "|---|---|---|---|---|---|---|\n",
       "| 2016-01-01 01:00:00 | 376.00 | 11.43 | 69.00 | 0.30 | 12.25 | 216.25 |\n",
       "| 2016-01-01 02:00:00 | 480.50 | 11.28 | 71.50 | 0.35 | 12.58 | 230.92 |\n",
       "| 2016-01-01 03:00:00 | 486.67 | 11.71 | 71.83 | 0.31 | 12.33 | 203.25 |\n",
       "| 2016-01-01 04:00:00 | 441.17 | 11.13 | 73.08 | 0.30 | 12.75 | 126.92 |\n",
       "| 2016-01-01 05:00:00 | 594.83 | 11.01 | 74.75 | 0.30 | 12.58 | 196.42 |\n",
       "| 2016-01-01 06:00:00 | 441.33 | 11.49 | 74.17 | 0.37 | 13.83 |  80.58 |\n",
       "\n"
      ],
      "text/plain": [
       "  date                PM25   AT    RH    WS   SR    WD    \n",
       "1 2016-01-01 01:00:00 376.00 11.43 69.00 0.30 12.25 216.25\n",
       "2 2016-01-01 02:00:00 480.50 11.28 71.50 0.35 12.58 230.92\n",
       "3 2016-01-01 03:00:00 486.67 11.71 71.83 0.31 12.33 203.25\n",
       "4 2016-01-01 04:00:00 441.17 11.13 73.08 0.30 12.75 126.92\n",
       "5 2016-01-01 05:00:00 594.83 11.01 74.75 0.30 12.58 196.42\n",
       "6 2016-01-01 06:00:00 441.33 11.49 74.17 0.37 13.83  80.58"
      ]
     },
     "metadata": {},
     "output_type": "display_data"
    }
   ],
   "source": [
    "## Data cleaning \n",
    "## Reading the excel file, starting with 12 line and giving NA as None\n",
    "df <- read_xlsx('Data/Anand_Vihar_16_21.xlsx',skip = 12,na = \"None\")\n",
    "## converting date into proper date format and selecting the relevant variable needed\n",
    "df <- df %>% mutate(date = dmy_hm(`From Date`,tz=\"Asia/Kolkata\"),PM25=`PM2.5`)%>%\n",
    "select(date,PM25,AT,RH,WS,SR,WD)\n",
    "head(df)"
   ]
  },
  {
   "cell_type": "code",
   "execution_count": 5,
   "metadata": {},
   "outputs": [
    {
     "name": "stderr",
     "output_type": "stream",
     "text": [
      "`summarise()` has grouped output by 'date', 'hour', 'day', 'month'. You can override using the `.groups` argument.\n",
      "\n"
     ]
    },
    {
     "data": {
      "text/html": [
       "<table class=\"dataframe\">\n",
       "<caption>A grouped_df: 6 × 7</caption>\n",
       "<thead>\n",
       "\t<tr><th scope=col>date</th><th scope=col>hour</th><th scope=col>day</th><th scope=col>month</th><th scope=col>year</th><th scope=col>PM25</th><th scope=col>week</th></tr>\n",
       "\t<tr><th scope=col>&lt;dttm&gt;</th><th scope=col>&lt;int&gt;</th><th scope=col>&lt;int&gt;</th><th scope=col>&lt;int&gt;</th><th scope=col>&lt;int&gt;</th><th scope=col>&lt;dbl&gt;</th><th scope=col>&lt;int&gt;</th></tr>\n",
       "</thead>\n",
       "<tbody>\n",
       "\t<tr><td>2016-01-01 01:00:00</td><td>1</td><td>1</td><td>1</td><td>2016</td><td>376.00</td><td>1</td></tr>\n",
       "\t<tr><td>2016-01-01 02:00:00</td><td>2</td><td>1</td><td>1</td><td>2016</td><td>480.50</td><td>1</td></tr>\n",
       "\t<tr><td>2016-01-01 03:00:00</td><td>3</td><td>1</td><td>1</td><td>2016</td><td>486.67</td><td>1</td></tr>\n",
       "\t<tr><td>2016-01-01 04:00:00</td><td>4</td><td>1</td><td>1</td><td>2016</td><td>441.17</td><td>1</td></tr>\n",
       "\t<tr><td>2016-01-01 05:00:00</td><td>5</td><td>1</td><td>1</td><td>2016</td><td>594.83</td><td>1</td></tr>\n",
       "\t<tr><td>2016-01-01 06:00:00</td><td>6</td><td>1</td><td>1</td><td>2016</td><td>441.33</td><td>1</td></tr>\n",
       "</tbody>\n",
       "</table>\n"
      ],
      "text/latex": [
       "A grouped\\_df: 6 × 7\n",
       "\\begin{tabular}{lllllll}\n",
       " date & hour & day & month & year & PM25 & week\\\\\n",
       " <dttm> & <int> & <int> & <int> & <int> & <dbl> & <int>\\\\\n",
       "\\hline\n",
       "\t 2016-01-01 01:00:00 & 1 & 1 & 1 & 2016 & 376.00 & 1\\\\\n",
       "\t 2016-01-01 02:00:00 & 2 & 1 & 1 & 2016 & 480.50 & 1\\\\\n",
       "\t 2016-01-01 03:00:00 & 3 & 1 & 1 & 2016 & 486.67 & 1\\\\\n",
       "\t 2016-01-01 04:00:00 & 4 & 1 & 1 & 2016 & 441.17 & 1\\\\\n",
       "\t 2016-01-01 05:00:00 & 5 & 1 & 1 & 2016 & 594.83 & 1\\\\\n",
       "\t 2016-01-01 06:00:00 & 6 & 1 & 1 & 2016 & 441.33 & 1\\\\\n",
       "\\end{tabular}\n"
      ],
      "text/markdown": [
       "\n",
       "A grouped_df: 6 × 7\n",
       "\n",
       "| date &lt;dttm&gt; | hour &lt;int&gt; | day &lt;int&gt; | month &lt;int&gt; | year &lt;int&gt; | PM25 &lt;dbl&gt; | week &lt;int&gt; |\n",
       "|---|---|---|---|---|---|---|\n",
       "| 2016-01-01 01:00:00 | 1 | 1 | 1 | 2016 | 376.00 | 1 |\n",
       "| 2016-01-01 02:00:00 | 2 | 1 | 1 | 2016 | 480.50 | 1 |\n",
       "| 2016-01-01 03:00:00 | 3 | 1 | 1 | 2016 | 486.67 | 1 |\n",
       "| 2016-01-01 04:00:00 | 4 | 1 | 1 | 2016 | 441.17 | 1 |\n",
       "| 2016-01-01 05:00:00 | 5 | 1 | 1 | 2016 | 594.83 | 1 |\n",
       "| 2016-01-01 06:00:00 | 6 | 1 | 1 | 2016 | 441.33 | 1 |\n",
       "\n"
      ],
      "text/plain": [
       "  date                hour day month year PM25   week\n",
       "1 2016-01-01 01:00:00 1    1   1     2016 376.00 1   \n",
       "2 2016-01-01 02:00:00 2    1   1     2016 480.50 1   \n",
       "3 2016-01-01 03:00:00 3    1   1     2016 486.67 1   \n",
       "4 2016-01-01 04:00:00 4    1   1     2016 441.17 1   \n",
       "5 2016-01-01 05:00:00 5    1   1     2016 594.83 1   \n",
       "6 2016-01-01 06:00:00 6    1   1     2016 441.33 1   "
      ]
     },
     "metadata": {},
     "output_type": "display_data"
    }
   ],
   "source": [
    "## Converting the data into daily time series\n",
    "hourly_df <- df %>%\n",
    "  select(date, PM25) %>% # to check the model for PM2.5 replace PM2.5 by PM2.5\n",
    "  # extract date features\n",
    "  mutate(\n",
    "    date = as.POSIXct(date, format = \"%d-%m-%Y %H:%M\"), #Date format\n",
    "    hour = hour(date),\n",
    "    day = day(date),\n",
    "    month = month(date),\n",
    "    year = year(date),\n",
    "    PM2.5 = ifelse(PM25 <=10 & PM25 >999 ,NA,PM25)\n",
    "  ) %>%\n",
    "  # from hourly to daily\n",
    "  group_by(date,hour, day, month, year) %>% ## Convert hourly to daily \n",
    "  summarise(PM25 = mean(PM2.5, na.rm = TRUE)) %>%\n",
    "  mutate(week = week(date))\n",
    "\n",
    "## Putting NA if there are null values \n",
    "hourly_df$PM25[is.nan(hourly_df$PM25)] <- NA\n",
    "head(hourly_df)"
   ]
  },
  {
   "cell_type": "code",
   "execution_count": 6,
   "metadata": {},
   "outputs": [
    {
     "name": "stderr",
     "output_type": "stream",
     "text": [
      "`summarise()` has grouped output by 'year', 'month', 'day'. You can override using the `.groups` argument.\n",
      "\n"
     ]
    },
    {
     "data": {
      "text/html": [
       "<table class=\"dataframe\">\n",
       "<caption>A tibble: 6 × 8</caption>\n",
       "<thead>\n",
       "\t<tr><th scope=col>month</th><th scope=col>day</th><th scope=col>hour</th><th scope=col>2016</th><th scope=col>2017</th><th scope=col>2018</th><th scope=col>2019</th><th scope=col>2020</th></tr>\n",
       "\t<tr><th scope=col>&lt;int&gt;</th><th scope=col>&lt;int&gt;</th><th scope=col>&lt;int&gt;</th><th scope=col>&lt;dbl&gt;</th><th scope=col>&lt;dbl&gt;</th><th scope=col>&lt;dbl&gt;</th><th scope=col>&lt;dbl&gt;</th><th scope=col>&lt;dbl&gt;</th></tr>\n",
       "</thead>\n",
       "<tbody>\n",
       "\t<tr><td>1</td><td>1</td><td>0</td><td>    NA</td><td>162.00</td><td>754</td><td>517.25</td><td>857.50</td></tr>\n",
       "\t<tr><td>1</td><td>1</td><td>1</td><td>376.00</td><td>165.17</td><td>754</td><td>531.25</td><td>472.75</td></tr>\n",
       "\t<tr><td>1</td><td>1</td><td>2</td><td>480.50</td><td>176.67</td><td>868</td><td>542.00</td><td>384.75</td></tr>\n",
       "\t<tr><td>1</td><td>1</td><td>3</td><td>486.67</td><td>150.67</td><td>854</td><td>547.50</td><td>334.50</td></tr>\n",
       "\t<tr><td>1</td><td>1</td><td>4</td><td>441.17</td><td>129.50</td><td>713</td><td>497.00</td><td>362.75</td></tr>\n",
       "\t<tr><td>1</td><td>1</td><td>5</td><td>594.83</td><td>145.00</td><td>625</td><td>467.50</td><td>403.25</td></tr>\n",
       "</tbody>\n",
       "</table>\n"
      ],
      "text/latex": [
       "A tibble: 6 × 8\n",
       "\\begin{tabular}{llllllll}\n",
       " month & day & hour & 2016 & 2017 & 2018 & 2019 & 2020\\\\\n",
       " <int> & <int> & <int> & <dbl> & <dbl> & <dbl> & <dbl> & <dbl>\\\\\n",
       "\\hline\n",
       "\t 1 & 1 & 0 &     NA & 162.00 & 754 & 517.25 & 857.50\\\\\n",
       "\t 1 & 1 & 1 & 376.00 & 165.17 & 754 & 531.25 & 472.75\\\\\n",
       "\t 1 & 1 & 2 & 480.50 & 176.67 & 868 & 542.00 & 384.75\\\\\n",
       "\t 1 & 1 & 3 & 486.67 & 150.67 & 854 & 547.50 & 334.50\\\\\n",
       "\t 1 & 1 & 4 & 441.17 & 129.50 & 713 & 497.00 & 362.75\\\\\n",
       "\t 1 & 1 & 5 & 594.83 & 145.00 & 625 & 467.50 & 403.25\\\\\n",
       "\\end{tabular}\n"
      ],
      "text/markdown": [
       "\n",
       "A tibble: 6 × 8\n",
       "\n",
       "| month &lt;int&gt; | day &lt;int&gt; | hour &lt;int&gt; | 2016 &lt;dbl&gt; | 2017 &lt;dbl&gt; | 2018 &lt;dbl&gt; | 2019 &lt;dbl&gt; | 2020 &lt;dbl&gt; |\n",
       "|---|---|---|---|---|---|---|---|\n",
       "| 1 | 1 | 0 |     NA | 162.00 | 754 | 517.25 | 857.50 |\n",
       "| 1 | 1 | 1 | 376.00 | 165.17 | 754 | 531.25 | 472.75 |\n",
       "| 1 | 1 | 2 | 480.50 | 176.67 | 868 | 542.00 | 384.75 |\n",
       "| 1 | 1 | 3 | 486.67 | 150.67 | 854 | 547.50 | 334.50 |\n",
       "| 1 | 1 | 4 | 441.17 | 129.50 | 713 | 497.00 | 362.75 |\n",
       "| 1 | 1 | 5 | 594.83 | 145.00 | 625 | 467.50 | 403.25 |\n",
       "\n"
      ],
      "text/plain": [
       "  month day hour 2016   2017   2018 2019   2020  \n",
       "1 1     1   0        NA 162.00 754  517.25 857.50\n",
       "2 1     1   1    376.00 165.17 754  531.25 472.75\n",
       "3 1     1   2    480.50 176.67 868  542.00 384.75\n",
       "4 1     1   3    486.67 150.67 854  547.50 334.50\n",
       "5 1     1   4    441.17 129.50 713  497.00 362.75\n",
       "6 1     1   5    594.83 145.00 625  467.50 403.25"
      ]
     },
     "metadata": {},
     "output_type": "display_data"
    },
    {
     "data": {
      "text/html": [
       "<table class=\"dataframe\">\n",
       "<caption>A data.frame: 6 × 11</caption>\n",
       "<thead>\n",
       "\t<tr><th></th><th scope=col>month</th><th scope=col>day</th><th scope=col>hour</th><th scope=col>2016</th><th scope=col>2017</th><th scope=col>2018</th><th scope=col>2019</th><th scope=col>2020</th><th scope=col>meanindex</th><th scope=col>summary_mean</th><th scope=col>hourlyindex</th></tr>\n",
       "\t<tr><th></th><th scope=col>&lt;int&gt;</th><th scope=col>&lt;int&gt;</th><th scope=col>&lt;int&gt;</th><th scope=col>&lt;dbl&gt;</th><th scope=col>&lt;dbl&gt;</th><th scope=col>&lt;dbl&gt;</th><th scope=col>&lt;dbl&gt;</th><th scope=col>&lt;dbl&gt;</th><th scope=col>&lt;dbl&gt;</th><th scope=col>&lt;dbl&gt;</th><th scope=col>&lt;dbl&gt;</th></tr>\n",
       "</thead>\n",
       "<tbody>\n",
       "\t<tr><th scope=row>1</th><td>1</td><td>1</td><td>0</td><td>    NA</td><td>162.00</td><td>754</td><td>517.25</td><td>857.50</td><td>572.6875</td><td>138.5025</td><td>413.4852</td></tr>\n",
       "\t<tr><th scope=row>2</th><td>1</td><td>1</td><td>1</td><td>376.00</td><td>165.17</td><td>754</td><td>531.25</td><td>472.75</td><td>459.8340</td><td>138.5025</td><td>332.0040</td></tr>\n",
       "\t<tr><th scope=row>3</th><td>1</td><td>1</td><td>2</td><td>480.50</td><td>176.67</td><td>868</td><td>542.00</td><td>384.75</td><td>490.3840</td><td>138.5025</td><td>354.0614</td></tr>\n",
       "\t<tr><th scope=row>4</th><td>1</td><td>1</td><td>3</td><td>486.67</td><td>150.67</td><td>854</td><td>547.50</td><td>334.50</td><td>474.6680</td><td>138.5025</td><td>342.7143</td></tr>\n",
       "\t<tr><th scope=row>5</th><td>1</td><td>1</td><td>4</td><td>441.17</td><td>129.50</td><td>713</td><td>497.00</td><td>362.75</td><td>428.6840</td><td>138.5025</td><td>309.5135</td></tr>\n",
       "\t<tr><th scope=row>6</th><td>1</td><td>1</td><td>5</td><td>594.83</td><td>145.00</td><td>625</td><td>467.50</td><td>403.25</td><td>447.1160</td><td>138.5025</td><td>322.8215</td></tr>\n",
       "</tbody>\n",
       "</table>\n"
      ],
      "text/latex": [
       "A data.frame: 6 × 11\n",
       "\\begin{tabular}{r|lllllllllll}\n",
       "  & month & day & hour & 2016 & 2017 & 2018 & 2019 & 2020 & meanindex & summary\\_mean & hourlyindex\\\\\n",
       "  & <int> & <int> & <int> & <dbl> & <dbl> & <dbl> & <dbl> & <dbl> & <dbl> & <dbl> & <dbl>\\\\\n",
       "\\hline\n",
       "\t1 & 1 & 1 & 0 &     NA & 162.00 & 754 & 517.25 & 857.50 & 572.6875 & 138.5025 & 413.4852\\\\\n",
       "\t2 & 1 & 1 & 1 & 376.00 & 165.17 & 754 & 531.25 & 472.75 & 459.8340 & 138.5025 & 332.0040\\\\\n",
       "\t3 & 1 & 1 & 2 & 480.50 & 176.67 & 868 & 542.00 & 384.75 & 490.3840 & 138.5025 & 354.0614\\\\\n",
       "\t4 & 1 & 1 & 3 & 486.67 & 150.67 & 854 & 547.50 & 334.50 & 474.6680 & 138.5025 & 342.7143\\\\\n",
       "\t5 & 1 & 1 & 4 & 441.17 & 129.50 & 713 & 497.00 & 362.75 & 428.6840 & 138.5025 & 309.5135\\\\\n",
       "\t6 & 1 & 1 & 5 & 594.83 & 145.00 & 625 & 467.50 & 403.25 & 447.1160 & 138.5025 & 322.8215\\\\\n",
       "\\end{tabular}\n"
      ],
      "text/markdown": [
       "\n",
       "A data.frame: 6 × 11\n",
       "\n",
       "| <!--/--> | month &lt;int&gt; | day &lt;int&gt; | hour &lt;int&gt; | 2016 &lt;dbl&gt; | 2017 &lt;dbl&gt; | 2018 &lt;dbl&gt; | 2019 &lt;dbl&gt; | 2020 &lt;dbl&gt; | meanindex &lt;dbl&gt; | summary_mean &lt;dbl&gt; | hourlyindex &lt;dbl&gt; |\n",
       "|---|---|---|---|---|---|---|---|---|---|---|---|\n",
       "| 1 | 1 | 1 | 0 |     NA | 162.00 | 754 | 517.25 | 857.50 | 572.6875 | 138.5025 | 413.4852 |\n",
       "| 2 | 1 | 1 | 1 | 376.00 | 165.17 | 754 | 531.25 | 472.75 | 459.8340 | 138.5025 | 332.0040 |\n",
       "| 3 | 1 | 1 | 2 | 480.50 | 176.67 | 868 | 542.00 | 384.75 | 490.3840 | 138.5025 | 354.0614 |\n",
       "| 4 | 1 | 1 | 3 | 486.67 | 150.67 | 854 | 547.50 | 334.50 | 474.6680 | 138.5025 | 342.7143 |\n",
       "| 5 | 1 | 1 | 4 | 441.17 | 129.50 | 713 | 497.00 | 362.75 | 428.6840 | 138.5025 | 309.5135 |\n",
       "| 6 | 1 | 1 | 5 | 594.83 | 145.00 | 625 | 467.50 | 403.25 | 447.1160 | 138.5025 | 322.8215 |\n",
       "\n"
      ],
      "text/plain": [
       "  month day hour 2016   2017   2018 2019   2020   meanindex summary_mean\n",
       "1 1     1   0        NA 162.00 754  517.25 857.50 572.6875  138.5025    \n",
       "2 1     1   1    376.00 165.17 754  531.25 472.75 459.8340  138.5025    \n",
       "3 1     1   2    480.50 176.67 868  542.00 384.75 490.3840  138.5025    \n",
       "4 1     1   3    486.67 150.67 854  547.50 334.50 474.6680  138.5025    \n",
       "5 1     1   4    441.17 129.50 713  497.00 362.75 428.6840  138.5025    \n",
       "6 1     1   5    594.83 145.00 625  467.50 403.25 447.1160  138.5025    \n",
       "  hourlyindex\n",
       "1 413.4852   \n",
       "2 332.0040   \n",
       "3 354.0614   \n",
       "4 342.7143   \n",
       "5 309.5135   \n",
       "6 322.8215   "
      ]
     },
     "metadata": {},
     "output_type": "display_data"
    }
   ],
   "source": [
    "######################## Seasonal Indexes #####################################\n",
    "\n",
    "## We creating index of seasons from the data till 2020 end\n",
    "\n",
    "seasonalIndex <- hourly_df %>% filter(date < as.Date(\"2021-1-01\"))\n",
    "\n",
    "\n",
    "############################### Hourly seasonality  #######################\n",
    "hourly_s <- seasonalIndex %>% group_by(year, month, day,hour) %>%\n",
    "  summarize(average = mean(PM25, na.rm = TRUE))\n",
    "\n",
    "hourly_s$average[is.nan(hourly_s$average)] <- NA\n",
    "\n",
    "## Spanning the year wise value column wise\n",
    "hourly_s <- hourly_s %>% ungroup() %>%\n",
    "  spread(year, average)\n",
    "head(hourly_s)\n",
    "\n",
    "# Calcuating the mean daily index over the years (Except first and second columns)\n",
    "hourly_s$meanindex <- rowMeans(hourly_s[, -c(1,2,3)], na.rm = TRUE)\n",
    "\n",
    "## Summary mean is the mean of Mean index\n",
    "summary_mean <- hourly_s %>% ungroup() %>%\n",
    "  summarize(summary_mean = mean(meanindex, na.rm = T))\n",
    "\n",
    "## We merge the Summary mean with our old data frame \n",
    "hourly_s <- merge(hourly_s, summary_mean)\n",
    "\n",
    "## Finally calculating the daily index by mean index/ summary mean * 100\n",
    "hourly_s <-\n",
    "  hourly_s %>% mutate(hourlyindex = meanindex / summary_mean * 100)\n",
    "\n",
    "head(hourly_s)\n"
   ]
  },
  {
   "cell_type": "code",
   "execution_count": 7,
   "metadata": {},
   "outputs": [
    {
     "name": "stderr",
     "output_type": "stream",
     "text": [
      "`summarise()` has grouped output by 'year', 'month'. You can override using the `.groups` argument.\n",
      "\n"
     ]
    },
    {
     "data": {
      "text/html": [
       "<table class=\"dataframe\">\n",
       "<caption>A tibble: 6 × 7</caption>\n",
       "<thead>\n",
       "\t<tr><th scope=col>month</th><th scope=col>day</th><th scope=col>2016</th><th scope=col>2017</th><th scope=col>2018</th><th scope=col>2019</th><th scope=col>2020</th></tr>\n",
       "\t<tr><th scope=col>&lt;int&gt;</th><th scope=col>&lt;int&gt;</th><th scope=col>&lt;dbl&gt;</th><th scope=col>&lt;dbl&gt;</th><th scope=col>&lt;dbl&gt;</th><th scope=col>&lt;dbl&gt;</th><th scope=col>&lt;dbl&gt;</th></tr>\n",
       "</thead>\n",
       "<tbody>\n",
       "\t<tr><td>1</td><td>1</td><td>359.5730</td><td>199.8817</td><td>481.6250</td><td>380.2292</td><td>367.3750</td></tr>\n",
       "\t<tr><td>1</td><td>2</td><td>327.9150</td><td>257.1204</td><td>359.6667</td><td>418.4688</td><td>361.6875</td></tr>\n",
       "\t<tr><td>1</td><td>3</td><td>341.3188</td><td>271.6446</td><td>287.7083</td><td>412.8854</td><td>378.6765</td></tr>\n",
       "\t<tr><td>1</td><td>4</td><td>480.0688</td><td>270.1217</td><td>351.6250</td><td>291.9479</td><td>216.5625</td></tr>\n",
       "\t<tr><td>1</td><td>5</td><td>433.3537</td><td>246.8504</td><td>306.2500</td><td>241.6667</td><td>190.5938</td></tr>\n",
       "\t<tr><td>1</td><td>6</td><td>371.7995</td><td>189.3525</td><td>324.7500</td><td>191.8542</td><td>166.8646</td></tr>\n",
       "</tbody>\n",
       "</table>\n"
      ],
      "text/latex": [
       "A tibble: 6 × 7\n",
       "\\begin{tabular}{lllllll}\n",
       " month & day & 2016 & 2017 & 2018 & 2019 & 2020\\\\\n",
       " <int> & <int> & <dbl> & <dbl> & <dbl> & <dbl> & <dbl>\\\\\n",
       "\\hline\n",
       "\t 1 & 1 & 359.5730 & 199.8817 & 481.6250 & 380.2292 & 367.3750\\\\\n",
       "\t 1 & 2 & 327.9150 & 257.1204 & 359.6667 & 418.4688 & 361.6875\\\\\n",
       "\t 1 & 3 & 341.3188 & 271.6446 & 287.7083 & 412.8854 & 378.6765\\\\\n",
       "\t 1 & 4 & 480.0688 & 270.1217 & 351.6250 & 291.9479 & 216.5625\\\\\n",
       "\t 1 & 5 & 433.3537 & 246.8504 & 306.2500 & 241.6667 & 190.5938\\\\\n",
       "\t 1 & 6 & 371.7995 & 189.3525 & 324.7500 & 191.8542 & 166.8646\\\\\n",
       "\\end{tabular}\n"
      ],
      "text/markdown": [
       "\n",
       "A tibble: 6 × 7\n",
       "\n",
       "| month &lt;int&gt; | day &lt;int&gt; | 2016 &lt;dbl&gt; | 2017 &lt;dbl&gt; | 2018 &lt;dbl&gt; | 2019 &lt;dbl&gt; | 2020 &lt;dbl&gt; |\n",
       "|---|---|---|---|---|---|---|\n",
       "| 1 | 1 | 359.5730 | 199.8817 | 481.6250 | 380.2292 | 367.3750 |\n",
       "| 1 | 2 | 327.9150 | 257.1204 | 359.6667 | 418.4688 | 361.6875 |\n",
       "| 1 | 3 | 341.3188 | 271.6446 | 287.7083 | 412.8854 | 378.6765 |\n",
       "| 1 | 4 | 480.0688 | 270.1217 | 351.6250 | 291.9479 | 216.5625 |\n",
       "| 1 | 5 | 433.3537 | 246.8504 | 306.2500 | 241.6667 | 190.5938 |\n",
       "| 1 | 6 | 371.7995 | 189.3525 | 324.7500 | 191.8542 | 166.8646 |\n",
       "\n"
      ],
      "text/plain": [
       "  month day 2016     2017     2018     2019     2020    \n",
       "1 1     1   359.5730 199.8817 481.6250 380.2292 367.3750\n",
       "2 1     2   327.9150 257.1204 359.6667 418.4688 361.6875\n",
       "3 1     3   341.3188 271.6446 287.7083 412.8854 378.6765\n",
       "4 1     4   480.0688 270.1217 351.6250 291.9479 216.5625\n",
       "5 1     5   433.3537 246.8504 306.2500 241.6667 190.5938\n",
       "6 1     6   371.7995 189.3525 324.7500 191.8542 166.8646"
      ]
     },
     "metadata": {},
     "output_type": "display_data"
    },
    {
     "data": {
      "text/html": [
       "<table class=\"dataframe\">\n",
       "<caption>A data.frame: 6 × 10</caption>\n",
       "<thead>\n",
       "\t<tr><th></th><th scope=col>month</th><th scope=col>day</th><th scope=col>2016</th><th scope=col>2017</th><th scope=col>2018</th><th scope=col>2019</th><th scope=col>2020</th><th scope=col>meanindex</th><th scope=col>summary_mean</th><th scope=col>dailyindex</th></tr>\n",
       "\t<tr><th></th><th scope=col>&lt;int&gt;</th><th scope=col>&lt;int&gt;</th><th scope=col>&lt;dbl&gt;</th><th scope=col>&lt;dbl&gt;</th><th scope=col>&lt;dbl&gt;</th><th scope=col>&lt;dbl&gt;</th><th scope=col>&lt;dbl&gt;</th><th scope=col>&lt;dbl&gt;</th><th scope=col>&lt;dbl&gt;</th><th scope=col>&lt;dbl&gt;</th></tr>\n",
       "</thead>\n",
       "<tbody>\n",
       "\t<tr><th scope=row>1</th><td>1</td><td>1</td><td>359.5730</td><td>199.8817</td><td>481.6250</td><td>380.2292</td><td>367.3750</td><td>357.7368</td><td>138.1529</td><td>258.9426</td></tr>\n",
       "\t<tr><th scope=row>2</th><td>1</td><td>2</td><td>327.9150</td><td>257.1204</td><td>359.6667</td><td>418.4688</td><td>361.6875</td><td>344.9717</td><td>138.1529</td><td>249.7028</td></tr>\n",
       "\t<tr><th scope=row>3</th><td>1</td><td>3</td><td>341.3188</td><td>271.6446</td><td>287.7083</td><td>412.8854</td><td>378.6765</td><td>338.4467</td><td>138.1529</td><td>244.9798</td></tr>\n",
       "\t<tr><th scope=row>4</th><td>1</td><td>4</td><td>480.0688</td><td>270.1217</td><td>351.6250</td><td>291.9479</td><td>216.5625</td><td>322.0652</td><td>138.1529</td><td>233.1222</td></tr>\n",
       "\t<tr><th scope=row>5</th><td>1</td><td>5</td><td>433.3537</td><td>246.8504</td><td>306.2500</td><td>241.6667</td><td>190.5938</td><td>283.7429</td><td>138.1529</td><td>205.3832</td></tr>\n",
       "\t<tr><th scope=row>6</th><td>1</td><td>6</td><td>371.7995</td><td>189.3525</td><td>324.7500</td><td>191.8542</td><td>166.8646</td><td>248.9242</td><td>138.1529</td><td>180.1802</td></tr>\n",
       "</tbody>\n",
       "</table>\n"
      ],
      "text/latex": [
       "A data.frame: 6 × 10\n",
       "\\begin{tabular}{r|llllllllll}\n",
       "  & month & day & 2016 & 2017 & 2018 & 2019 & 2020 & meanindex & summary\\_mean & dailyindex\\\\\n",
       "  & <int> & <int> & <dbl> & <dbl> & <dbl> & <dbl> & <dbl> & <dbl> & <dbl> & <dbl>\\\\\n",
       "\\hline\n",
       "\t1 & 1 & 1 & 359.5730 & 199.8817 & 481.6250 & 380.2292 & 367.3750 & 357.7368 & 138.1529 & 258.9426\\\\\n",
       "\t2 & 1 & 2 & 327.9150 & 257.1204 & 359.6667 & 418.4688 & 361.6875 & 344.9717 & 138.1529 & 249.7028\\\\\n",
       "\t3 & 1 & 3 & 341.3188 & 271.6446 & 287.7083 & 412.8854 & 378.6765 & 338.4467 & 138.1529 & 244.9798\\\\\n",
       "\t4 & 1 & 4 & 480.0688 & 270.1217 & 351.6250 & 291.9479 & 216.5625 & 322.0652 & 138.1529 & 233.1222\\\\\n",
       "\t5 & 1 & 5 & 433.3537 & 246.8504 & 306.2500 & 241.6667 & 190.5938 & 283.7429 & 138.1529 & 205.3832\\\\\n",
       "\t6 & 1 & 6 & 371.7995 & 189.3525 & 324.7500 & 191.8542 & 166.8646 & 248.9242 & 138.1529 & 180.1802\\\\\n",
       "\\end{tabular}\n"
      ],
      "text/markdown": [
       "\n",
       "A data.frame: 6 × 10\n",
       "\n",
       "| <!--/--> | month &lt;int&gt; | day &lt;int&gt; | 2016 &lt;dbl&gt; | 2017 &lt;dbl&gt; | 2018 &lt;dbl&gt; | 2019 &lt;dbl&gt; | 2020 &lt;dbl&gt; | meanindex &lt;dbl&gt; | summary_mean &lt;dbl&gt; | dailyindex &lt;dbl&gt; |\n",
       "|---|---|---|---|---|---|---|---|---|---|---|\n",
       "| 1 | 1 | 1 | 359.5730 | 199.8817 | 481.6250 | 380.2292 | 367.3750 | 357.7368 | 138.1529 | 258.9426 |\n",
       "| 2 | 1 | 2 | 327.9150 | 257.1204 | 359.6667 | 418.4688 | 361.6875 | 344.9717 | 138.1529 | 249.7028 |\n",
       "| 3 | 1 | 3 | 341.3188 | 271.6446 | 287.7083 | 412.8854 | 378.6765 | 338.4467 | 138.1529 | 244.9798 |\n",
       "| 4 | 1 | 4 | 480.0688 | 270.1217 | 351.6250 | 291.9479 | 216.5625 | 322.0652 | 138.1529 | 233.1222 |\n",
       "| 5 | 1 | 5 | 433.3537 | 246.8504 | 306.2500 | 241.6667 | 190.5938 | 283.7429 | 138.1529 | 205.3832 |\n",
       "| 6 | 1 | 6 | 371.7995 | 189.3525 | 324.7500 | 191.8542 | 166.8646 | 248.9242 | 138.1529 | 180.1802 |\n",
       "\n"
      ],
      "text/plain": [
       "  month day 2016     2017     2018     2019     2020     meanindex summary_mean\n",
       "1 1     1   359.5730 199.8817 481.6250 380.2292 367.3750 357.7368  138.1529    \n",
       "2 1     2   327.9150 257.1204 359.6667 418.4688 361.6875 344.9717  138.1529    \n",
       "3 1     3   341.3188 271.6446 287.7083 412.8854 378.6765 338.4467  138.1529    \n",
       "4 1     4   480.0688 270.1217 351.6250 291.9479 216.5625 322.0652  138.1529    \n",
       "5 1     5   433.3537 246.8504 306.2500 241.6667 190.5938 283.7429  138.1529    \n",
       "6 1     6   371.7995 189.3525 324.7500 191.8542 166.8646 248.9242  138.1529    \n",
       "  dailyindex\n",
       "1 258.9426  \n",
       "2 249.7028  \n",
       "3 244.9798  \n",
       "4 233.1222  \n",
       "5 205.3832  \n",
       "6 180.1802  "
      ]
     },
     "metadata": {},
     "output_type": "display_data"
    },
    {
     "data": {
      "image/png": "[encoded data removed]",
      "text/plain": [
       "plot without title"
      ]
     },
     "metadata": {
      "image/png": {
       "height": 420,
       "width": 420
      }
     },
     "output_type": "display_data"
    }
   ],
   "source": [
    "############################### daily seasonality  #######################\n",
    "daily_s <- seasonalIndex %>% group_by(year, month, day) %>%\n",
    "  summarize(average = mean(PM25, na.rm = TRUE))\n",
    "\n",
    "daily_s$average[is.nan(daily_s$average)] <- NA\n",
    "\n",
    "## Spanning the year wise value column wise\n",
    "daily_s <- daily_s %>% ungroup() %>%\n",
    "  spread(year, average)\n",
    "head(daily_s)\n",
    "\n",
    "# Calcuating the mean daily index over the years (Except first and second columns)\n",
    "daily_s$meanindex <- rowMeans(daily_s[, -c(1,2)], na.rm = TRUE)\n",
    "\n",
    "## Summary mean is the mean of Mean index\n",
    "summary_mean <- daily_s %>% ungroup() %>%\n",
    "  summarize(summary_mean = mean(meanindex, na.rm = T))\n",
    "\n",
    "## We merge the Summary mean with our old data frame \n",
    "daily_s <- merge(daily_s, summary_mean)\n",
    "\n",
    "## Finally calculating the daily index by mean index/ summary mean * 100\n",
    "daily_s <-\n",
    "  daily_s %>% mutate(dailyindex = meanindex / summary_mean * 100)\n",
    "\n",
    "head(daily_s)\n",
    "plot(daily_s$dailyindex,type=\"l\")"
   ]
  },
  {
   "cell_type": "code",
   "execution_count": 8,
   "metadata": {},
   "outputs": [
    {
     "name": "stderr",
     "output_type": "stream",
     "text": [
      "`summarise()` has grouped output by 'year'. You can override using the `.groups` argument.\n",
      "\n"
     ]
    },
    {
     "data": {
      "text/html": [
       "<table class=\"dataframe\">\n",
       "<caption>A tibble: 6 × 6</caption>\n",
       "<thead>\n",
       "\t<tr><th scope=col>week</th><th scope=col>2016</th><th scope=col>2017</th><th scope=col>2018</th><th scope=col>2019</th><th scope=col>2020</th></tr>\n",
       "\t<tr><th scope=col>&lt;int&gt;</th><th scope=col>&lt;dbl&gt;</th><th scope=col>&lt;dbl&gt;</th><th scope=col>&lt;dbl&gt;</th><th scope=col>&lt;dbl&gt;</th><th scope=col>&lt;dbl&gt;</th></tr>\n",
       "</thead>\n",
       "<tbody>\n",
       "\t<tr><td>1</td><td>386.0533</td><td>239.1619</td><td>351.9375</td><td>322.8420</td><td>278.9070</td></tr>\n",
       "\t<tr><td>2</td><td>348.5349</td><td>169.6000</td><td>267.3865</td><td>259.8899</td><td>179.3212</td></tr>\n",
       "\t<tr><td>3</td><td>250.1298</td><td>162.1944</td><td>298.8579</td><td>283.6310</td><td>148.1811</td></tr>\n",
       "\t<tr><td>4</td><td>324.5103</td><td>165.4973</td><td>185.1027</td><td>118.1771</td><td>200.7925</td></tr>\n",
       "\t<tr><td>5</td><td>348.7608</td><td>178.0511</td><td>169.1964</td><td>189.1205</td><td>109.1730</td></tr>\n",
       "\t<tr><td>6</td><td>208.5622</td><td>151.1387</td><td>193.1677</td><td>157.0849</td><td>157.4178</td></tr>\n",
       "</tbody>\n",
       "</table>\n"
      ],
      "text/latex": [
       "A tibble: 6 × 6\n",
       "\\begin{tabular}{llllll}\n",
       " week & 2016 & 2017 & 2018 & 2019 & 2020\\\\\n",
       " <int> & <dbl> & <dbl> & <dbl> & <dbl> & <dbl>\\\\\n",
       "\\hline\n",
       "\t 1 & 386.0533 & 239.1619 & 351.9375 & 322.8420 & 278.9070\\\\\n",
       "\t 2 & 348.5349 & 169.6000 & 267.3865 & 259.8899 & 179.3212\\\\\n",
       "\t 3 & 250.1298 & 162.1944 & 298.8579 & 283.6310 & 148.1811\\\\\n",
       "\t 4 & 324.5103 & 165.4973 & 185.1027 & 118.1771 & 200.7925\\\\\n",
       "\t 5 & 348.7608 & 178.0511 & 169.1964 & 189.1205 & 109.1730\\\\\n",
       "\t 6 & 208.5622 & 151.1387 & 193.1677 & 157.0849 & 157.4178\\\\\n",
       "\\end{tabular}\n"
      ],
      "text/markdown": [
       "\n",
       "A tibble: 6 × 6\n",
       "\n",
       "| week &lt;int&gt; | 2016 &lt;dbl&gt; | 2017 &lt;dbl&gt; | 2018 &lt;dbl&gt; | 2019 &lt;dbl&gt; | 2020 &lt;dbl&gt; |\n",
       "|---|---|---|---|---|---|\n",
       "| 1 | 386.0533 | 239.1619 | 351.9375 | 322.8420 | 278.9070 |\n",
       "| 2 | 348.5349 | 169.6000 | 267.3865 | 259.8899 | 179.3212 |\n",
       "| 3 | 250.1298 | 162.1944 | 298.8579 | 283.6310 | 148.1811 |\n",
       "| 4 | 324.5103 | 165.4973 | 185.1027 | 118.1771 | 200.7925 |\n",
       "| 5 | 348.7608 | 178.0511 | 169.1964 | 189.1205 | 109.1730 |\n",
       "| 6 | 208.5622 | 151.1387 | 193.1677 | 157.0849 | 157.4178 |\n",
       "\n"
      ],
      "text/plain": [
       "  week 2016     2017     2018     2019     2020    \n",
       "1 1    386.0533 239.1619 351.9375 322.8420 278.9070\n",
       "2 2    348.5349 169.6000 267.3865 259.8899 179.3212\n",
       "3 3    250.1298 162.1944 298.8579 283.6310 148.1811\n",
       "4 4    324.5103 165.4973 185.1027 118.1771 200.7925\n",
       "5 5    348.7608 178.0511 169.1964 189.1205 109.1730\n",
       "6 6    208.5622 151.1387 193.1677 157.0849 157.4178"
      ]
     },
     "metadata": {},
     "output_type": "display_data"
    },
    {
     "data": {
      "text/html": [
       "<table class=\"dataframe\">\n",
       "<caption>A data.frame: 6 × 9</caption>\n",
       "<thead>\n",
       "\t<tr><th></th><th scope=col>week</th><th scope=col>2016</th><th scope=col>2017</th><th scope=col>2018</th><th scope=col>2019</th><th scope=col>2020</th><th scope=col>meanindex</th><th scope=col>summary_mean</th><th scope=col>weeklyindex</th></tr>\n",
       "\t<tr><th></th><th scope=col>&lt;int&gt;</th><th scope=col>&lt;dbl&gt;</th><th scope=col>&lt;dbl&gt;</th><th scope=col>&lt;dbl&gt;</th><th scope=col>&lt;dbl&gt;</th><th scope=col>&lt;dbl&gt;</th><th scope=col>&lt;dbl&gt;</th><th scope=col>&lt;dbl&gt;</th><th scope=col>&lt;dbl&gt;</th></tr>\n",
       "</thead>\n",
       "<tbody>\n",
       "\t<tr><th scope=row>1</th><td>1</td><td>386.0533</td><td>239.1619</td><td>351.9375</td><td>322.8420</td><td>278.9070</td><td>315.7803</td><td>142.6411</td><td>221.3811</td></tr>\n",
       "\t<tr><th scope=row>2</th><td>2</td><td>348.5349</td><td>169.6000</td><td>267.3865</td><td>259.8899</td><td>179.3212</td><td>244.9465</td><td>142.6411</td><td>171.7223</td></tr>\n",
       "\t<tr><th scope=row>3</th><td>3</td><td>250.1298</td><td>162.1944</td><td>298.8579</td><td>283.6310</td><td>148.1811</td><td>228.5988</td><td>142.6411</td><td>160.2616</td></tr>\n",
       "\t<tr><th scope=row>4</th><td>4</td><td>324.5103</td><td>165.4973</td><td>185.1027</td><td>118.1771</td><td>200.7925</td><td>198.8160</td><td>142.6411</td><td>139.3820</td></tr>\n",
       "\t<tr><th scope=row>5</th><td>5</td><td>348.7608</td><td>178.0511</td><td>169.1964</td><td>189.1205</td><td>109.1730</td><td>198.8604</td><td>142.6411</td><td>139.4131</td></tr>\n",
       "\t<tr><th scope=row>6</th><td>6</td><td>208.5622</td><td>151.1387</td><td>193.1677</td><td>157.0849</td><td>157.4178</td><td>173.4742</td><td>142.6411</td><td>121.6159</td></tr>\n",
       "</tbody>\n",
       "</table>\n"
      ],
      "text/latex": [
       "A data.frame: 6 × 9\n",
       "\\begin{tabular}{r|lllllllll}\n",
       "  & week & 2016 & 2017 & 2018 & 2019 & 2020 & meanindex & summary\\_mean & weeklyindex\\\\\n",
       "  & <int> & <dbl> & <dbl> & <dbl> & <dbl> & <dbl> & <dbl> & <dbl> & <dbl>\\\\\n",
       "\\hline\n",
       "\t1 & 1 & 386.0533 & 239.1619 & 351.9375 & 322.8420 & 278.9070 & 315.7803 & 142.6411 & 221.3811\\\\\n",
       "\t2 & 2 & 348.5349 & 169.6000 & 267.3865 & 259.8899 & 179.3212 & 244.9465 & 142.6411 & 171.7223\\\\\n",
       "\t3 & 3 & 250.1298 & 162.1944 & 298.8579 & 283.6310 & 148.1811 & 228.5988 & 142.6411 & 160.2616\\\\\n",
       "\t4 & 4 & 324.5103 & 165.4973 & 185.1027 & 118.1771 & 200.7925 & 198.8160 & 142.6411 & 139.3820\\\\\n",
       "\t5 & 5 & 348.7608 & 178.0511 & 169.1964 & 189.1205 & 109.1730 & 198.8604 & 142.6411 & 139.4131\\\\\n",
       "\t6 & 6 & 208.5622 & 151.1387 & 193.1677 & 157.0849 & 157.4178 & 173.4742 & 142.6411 & 121.6159\\\\\n",
       "\\end{tabular}\n"
      ],
      "text/markdown": [
       "\n",
       "A data.frame: 6 × 9\n",
       "\n",
       "| <!--/--> | week &lt;int&gt; | 2016 &lt;dbl&gt; | 2017 &lt;dbl&gt; | 2018 &lt;dbl&gt; | 2019 &lt;dbl&gt; | 2020 &lt;dbl&gt; | meanindex &lt;dbl&gt; | summary_mean &lt;dbl&gt; | weeklyindex &lt;dbl&gt; |\n",
       "|---|---|---|---|---|---|---|---|---|---|\n",
       "| 1 | 1 | 386.0533 | 239.1619 | 351.9375 | 322.8420 | 278.9070 | 315.7803 | 142.6411 | 221.3811 |\n",
       "| 2 | 2 | 348.5349 | 169.6000 | 267.3865 | 259.8899 | 179.3212 | 244.9465 | 142.6411 | 171.7223 |\n",
       "| 3 | 3 | 250.1298 | 162.1944 | 298.8579 | 283.6310 | 148.1811 | 228.5988 | 142.6411 | 160.2616 |\n",
       "| 4 | 4 | 324.5103 | 165.4973 | 185.1027 | 118.1771 | 200.7925 | 198.8160 | 142.6411 | 139.3820 |\n",
       "| 5 | 5 | 348.7608 | 178.0511 | 169.1964 | 189.1205 | 109.1730 | 198.8604 | 142.6411 | 139.4131 |\n",
       "| 6 | 6 | 208.5622 | 151.1387 | 193.1677 | 157.0849 | 157.4178 | 173.4742 | 142.6411 | 121.6159 |\n",
       "\n"
      ],
      "text/plain": [
       "  week 2016     2017     2018     2019     2020     meanindex summary_mean\n",
       "1 1    386.0533 239.1619 351.9375 322.8420 278.9070 315.7803  142.6411    \n",
       "2 2    348.5349 169.6000 267.3865 259.8899 179.3212 244.9465  142.6411    \n",
       "3 3    250.1298 162.1944 298.8579 283.6310 148.1811 228.5988  142.6411    \n",
       "4 4    324.5103 165.4973 185.1027 118.1771 200.7925 198.8160  142.6411    \n",
       "5 5    348.7608 178.0511 169.1964 189.1205 109.1730 198.8604  142.6411    \n",
       "6 6    208.5622 151.1387 193.1677 157.0849 157.4178 173.4742  142.6411    \n",
       "  weeklyindex\n",
       "1 221.3811   \n",
       "2 171.7223   \n",
       "3 160.2616   \n",
       "4 139.3820   \n",
       "5 139.4131   \n",
       "6 121.6159   "
      ]
     },
     "metadata": {},
     "output_type": "display_data"
    },
    {
     "data": {
      "image/png": "[encoded data removed]",
      "text/plain": [
       "plot without title"
      ]
     },
     "metadata": {
      "image/png": {
       "height": 420,
       "width": 420
      }
     },
     "output_type": "display_data"
    }
   ],
   "source": [
    "############################### weekly seasonality ###########\n",
    "weekly_s <- seasonalIndex %>%\n",
    "  group_by(year, week) %>%\n",
    "  summarize(average = mean(PM25, na.rm = TRUE))\n",
    "\n",
    "## NA if the average in null\n",
    "weekly_s$average[is.nan(weekly_s$average)] <- NA\n",
    "\n",
    "## Spreading across weeks\n",
    "weekly_s <- weekly_s %>% ungroup() %>%\n",
    "  spread(year, average)\n",
    "\n",
    "head(weekly_s)\n",
    "\n",
    "# Calcuating the mean weekly index over the years\n",
    "weekly_s$meanindex <- rowMeans(weekly_s[, -1], na.rm = TRUE)\n",
    "\n",
    "## Calculting summary means\n",
    "summary_mean <- weekly_s %>% ungroup() %>%\n",
    "  summarize(summary_mean = mean(meanindex, na.rm = T))\n",
    "\n",
    "## Adding summary mean\n",
    "weekly_s <- merge(weekly_s, summary_mean)\n",
    "\n",
    "## Calculating weekly index\n",
    "weekly_s <-\n",
    "  weekly_s %>% mutate(weeklyindex = meanindex / summary_mean * 100)\n",
    "\n",
    "head(weekly_s)\n",
    "plot(weekly_s$weeklyindex)"
   ]
  },
  {
   "cell_type": "code",
   "execution_count": 9,
   "metadata": {},
   "outputs": [
    {
     "name": "stderr",
     "output_type": "stream",
     "text": [
      "`summarise()` has grouped output by 'year'. You can override using the `.groups` argument.\n",
      "\n"
     ]
    },
    {
     "data": {
      "text/html": [
       "<table class=\"dataframe\">\n",
       "<caption>A tibble: 6 × 6</caption>\n",
       "<thead>\n",
       "\t<tr><th scope=col>month</th><th scope=col>2016</th><th scope=col>2017</th><th scope=col>2018</th><th scope=col>2019</th><th scope=col>2020</th></tr>\n",
       "\t<tr><th scope=col>&lt;int&gt;</th><th scope=col>&lt;dbl&gt;</th><th scope=col>&lt;dbl&gt;</th><th scope=col>&lt;dbl&gt;</th><th scope=col>&lt;dbl&gt;</th><th scope=col>&lt;dbl&gt;</th></tr>\n",
       "</thead>\n",
       "<tbody>\n",
       "\t<tr><td>1</td><td>328.74805</td><td>182.1364</td><td>263.5642</td><td>235.80948</td><td>183.39218</td></tr>\n",
       "\t<tr><td>2</td><td>173.26539</td><td>140.3369</td><td>161.1128</td><td>140.30696</td><td>124.65472</td></tr>\n",
       "\t<tr><td>3</td><td>117.04639</td><td>112.5573</td><td>120.0038</td><td>101.89716</td><td> 64.33173</td></tr>\n",
       "\t<tr><td>4</td><td>156.06138</td><td>129.8789</td><td>116.7254</td><td> 97.78571</td><td> 47.21875</td></tr>\n",
       "\t<tr><td>5</td><td> 99.84961</td><td>150.9615</td><td>106.2613</td><td>110.90099</td><td> 72.89104</td></tr>\n",
       "\t<tr><td>6</td><td> 93.00049</td><td>102.5391</td><td>115.4411</td><td> 73.47958</td><td> 64.95588</td></tr>\n",
       "</tbody>\n",
       "</table>\n"
      ],
      "text/latex": [
       "A tibble: 6 × 6\n",
       "\\begin{tabular}{llllll}\n",
       " month & 2016 & 2017 & 2018 & 2019 & 2020\\\\\n",
       " <int> & <dbl> & <dbl> & <dbl> & <dbl> & <dbl>\\\\\n",
       "\\hline\n",
       "\t 1 & 328.74805 & 182.1364 & 263.5642 & 235.80948 & 183.39218\\\\\n",
       "\t 2 & 173.26539 & 140.3369 & 161.1128 & 140.30696 & 124.65472\\\\\n",
       "\t 3 & 117.04639 & 112.5573 & 120.0038 & 101.89716 &  64.33173\\\\\n",
       "\t 4 & 156.06138 & 129.8789 & 116.7254 &  97.78571 &  47.21875\\\\\n",
       "\t 5 &  99.84961 & 150.9615 & 106.2613 & 110.90099 &  72.89104\\\\\n",
       "\t 6 &  93.00049 & 102.5391 & 115.4411 &  73.47958 &  64.95588\\\\\n",
       "\\end{tabular}\n"
      ],
      "text/markdown": [
       "\n",
       "A tibble: 6 × 6\n",
       "\n",
       "| month &lt;int&gt; | 2016 &lt;dbl&gt; | 2017 &lt;dbl&gt; | 2018 &lt;dbl&gt; | 2019 &lt;dbl&gt; | 2020 &lt;dbl&gt; |\n",
       "|---|---|---|---|---|---|\n",
       "| 1 | 328.74805 | 182.1364 | 263.5642 | 235.80948 | 183.39218 |\n",
       "| 2 | 173.26539 | 140.3369 | 161.1128 | 140.30696 | 124.65472 |\n",
       "| 3 | 117.04639 | 112.5573 | 120.0038 | 101.89716 |  64.33173 |\n",
       "| 4 | 156.06138 | 129.8789 | 116.7254 |  97.78571 |  47.21875 |\n",
       "| 5 |  99.84961 | 150.9615 | 106.2613 | 110.90099 |  72.89104 |\n",
       "| 6 |  93.00049 | 102.5391 | 115.4411 |  73.47958 |  64.95588 |\n",
       "\n"
      ],
      "text/plain": [
       "  month 2016      2017     2018     2019      2020     \n",
       "1 1     328.74805 182.1364 263.5642 235.80948 183.39218\n",
       "2 2     173.26539 140.3369 161.1128 140.30696 124.65472\n",
       "3 3     117.04639 112.5573 120.0038 101.89716  64.33173\n",
       "4 4     156.06138 129.8789 116.7254  97.78571  47.21875\n",
       "5 5      99.84961 150.9615 106.2613 110.90099  72.89104\n",
       "6 6      93.00049 102.5391 115.4411  73.47958  64.95588"
      ]
     },
     "metadata": {},
     "output_type": "display_data"
    },
    {
     "data": {
      "text/html": [
       "<table class=\"dataframe\">\n",
       "<caption>A data.frame: 6 × 9</caption>\n",
       "<thead>\n",
       "\t<tr><th></th><th scope=col>month</th><th scope=col>2016</th><th scope=col>2017</th><th scope=col>2018</th><th scope=col>2019</th><th scope=col>2020</th><th scope=col>meanindex</th><th scope=col>summary_mean</th><th scope=col>monthlyindex</th></tr>\n",
       "\t<tr><th></th><th scope=col>&lt;int&gt;</th><th scope=col>&lt;dbl&gt;</th><th scope=col>&lt;dbl&gt;</th><th scope=col>&lt;dbl&gt;</th><th scope=col>&lt;dbl&gt;</th><th scope=col>&lt;dbl&gt;</th><th scope=col>&lt;dbl&gt;</th><th scope=col>&lt;dbl&gt;</th><th scope=col>&lt;dbl&gt;</th></tr>\n",
       "</thead>\n",
       "<tbody>\n",
       "\t<tr><th scope=row>1</th><td>1</td><td>328.74805</td><td>182.1364</td><td>263.5642</td><td>235.80948</td><td>183.39218</td><td>238.73007</td><td>140.5524</td><td>169.85127</td></tr>\n",
       "\t<tr><th scope=row>2</th><td>2</td><td>173.26539</td><td>140.3369</td><td>161.1128</td><td>140.30696</td><td>124.65472</td><td>147.93535</td><td>140.5524</td><td>105.25280</td></tr>\n",
       "\t<tr><th scope=row>3</th><td>3</td><td>117.04639</td><td>112.5573</td><td>120.0038</td><td>101.89716</td><td> 64.33173</td><td>103.16728</td><td>140.5524</td><td> 73.40128</td></tr>\n",
       "\t<tr><th scope=row>4</th><td>4</td><td>156.06138</td><td>129.8789</td><td>116.7254</td><td> 97.78571</td><td> 47.21875</td><td>109.53402</td><td>140.5524</td><td> 77.93108</td></tr>\n",
       "\t<tr><th scope=row>5</th><td>5</td><td> 99.84961</td><td>150.9615</td><td>106.2613</td><td>110.90099</td><td> 72.89104</td><td>108.17290</td><td>140.5524</td><td> 76.96267</td></tr>\n",
       "\t<tr><th scope=row>6</th><td>6</td><td> 93.00049</td><td>102.5391</td><td>115.4411</td><td> 73.47958</td><td> 64.95588</td><td> 89.88322</td><td>140.5524</td><td> 63.94996</td></tr>\n",
       "</tbody>\n",
       "</table>\n"
      ],
      "text/latex": [
       "A data.frame: 6 × 9\n",
       "\\begin{tabular}{r|lllllllll}\n",
       "  & month & 2016 & 2017 & 2018 & 2019 & 2020 & meanindex & summary\\_mean & monthlyindex\\\\\n",
       "  & <int> & <dbl> & <dbl> & <dbl> & <dbl> & <dbl> & <dbl> & <dbl> & <dbl>\\\\\n",
       "\\hline\n",
       "\t1 & 1 & 328.74805 & 182.1364 & 263.5642 & 235.80948 & 183.39218 & 238.73007 & 140.5524 & 169.85127\\\\\n",
       "\t2 & 2 & 173.26539 & 140.3369 & 161.1128 & 140.30696 & 124.65472 & 147.93535 & 140.5524 & 105.25280\\\\\n",
       "\t3 & 3 & 117.04639 & 112.5573 & 120.0038 & 101.89716 &  64.33173 & 103.16728 & 140.5524 &  73.40128\\\\\n",
       "\t4 & 4 & 156.06138 & 129.8789 & 116.7254 &  97.78571 &  47.21875 & 109.53402 & 140.5524 &  77.93108\\\\\n",
       "\t5 & 5 &  99.84961 & 150.9615 & 106.2613 & 110.90099 &  72.89104 & 108.17290 & 140.5524 &  76.96267\\\\\n",
       "\t6 & 6 &  93.00049 & 102.5391 & 115.4411 &  73.47958 &  64.95588 &  89.88322 & 140.5524 &  63.94996\\\\\n",
       "\\end{tabular}\n"
      ],
      "text/markdown": [
       "\n",
       "A data.frame: 6 × 9\n",
       "\n",
       "| <!--/--> | month &lt;int&gt; | 2016 &lt;dbl&gt; | 2017 &lt;dbl&gt; | 2018 &lt;dbl&gt; | 2019 &lt;dbl&gt; | 2020 &lt;dbl&gt; | meanindex &lt;dbl&gt; | summary_mean &lt;dbl&gt; | monthlyindex &lt;dbl&gt; |\n",
       "|---|---|---|---|---|---|---|---|---|---|\n",
       "| 1 | 1 | 328.74805 | 182.1364 | 263.5642 | 235.80948 | 183.39218 | 238.73007 | 140.5524 | 169.85127 |\n",
       "| 2 | 2 | 173.26539 | 140.3369 | 161.1128 | 140.30696 | 124.65472 | 147.93535 | 140.5524 | 105.25280 |\n",
       "| 3 | 3 | 117.04639 | 112.5573 | 120.0038 | 101.89716 |  64.33173 | 103.16728 | 140.5524 |  73.40128 |\n",
       "| 4 | 4 | 156.06138 | 129.8789 | 116.7254 |  97.78571 |  47.21875 | 109.53402 | 140.5524 |  77.93108 |\n",
       "| 5 | 5 |  99.84961 | 150.9615 | 106.2613 | 110.90099 |  72.89104 | 108.17290 | 140.5524 |  76.96267 |\n",
       "| 6 | 6 |  93.00049 | 102.5391 | 115.4411 |  73.47958 |  64.95588 |  89.88322 | 140.5524 |  63.94996 |\n",
       "\n"
      ],
      "text/plain": [
       "  month 2016      2017     2018     2019      2020      meanindex summary_mean\n",
       "1 1     328.74805 182.1364 263.5642 235.80948 183.39218 238.73007 140.5524    \n",
       "2 2     173.26539 140.3369 161.1128 140.30696 124.65472 147.93535 140.5524    \n",
       "3 3     117.04639 112.5573 120.0038 101.89716  64.33173 103.16728 140.5524    \n",
       "4 4     156.06138 129.8789 116.7254  97.78571  47.21875 109.53402 140.5524    \n",
       "5 5      99.84961 150.9615 106.2613 110.90099  72.89104 108.17290 140.5524    \n",
       "6 6      93.00049 102.5391 115.4411  73.47958  64.95588  89.88322 140.5524    \n",
       "  monthlyindex\n",
       "1 169.85127   \n",
       "2 105.25280   \n",
       "3  73.40128   \n",
       "4  77.93108   \n",
       "5  76.96267   \n",
       "6  63.94996   "
      ]
     },
     "metadata": {},
     "output_type": "display_data"
    },
    {
     "data": {
      "image/png": "[encoded data removed]",
      "text/plain": [
       "plot without title"
      ]
     },
     "metadata": {
      "image/png": {
       "height": 420,
       "width": 420
      }
     },
     "output_type": "display_data"
    }
   ],
   "source": [
    "############################### monthly seasonality ##############################\n",
    "\n",
    "## Grouping by year and month\n",
    "monthly_s <- seasonalIndex %>%\n",
    "  group_by(year, month) %>%\n",
    "  summarize(average = mean(PM25, na.rm = TRUE))\n",
    "\n",
    "## Adding NA values if there are any null values of any sort \n",
    "monthly_s$average[is.nan(monthly_s$average)] <- NA\n",
    "\n",
    "## Spreading across months \n",
    "monthly_s <- monthly_s %>% ungroup() %>%\n",
    "  spread(year, average)\n",
    "\n",
    "head(monthly_s)\n",
    "\n",
    "# Calcuating the mean weekly index over the years (-1 to remove first column which is month)\n",
    "monthly_s$meanindex <- rowMeans(monthly_s[, -1], na.rm = TRUE)\n",
    "\n",
    "## Summary mean of the mean index\n",
    "summary_mean <- monthly_s %>% ungroup() %>%\n",
    "  summarize(summary_mean = mean(meanindex, na.rm = T))\n",
    "\n",
    "## Merging the summary mean with the data frame\n",
    "monthly_s <- merge(monthly_s, summary_mean)\n",
    "\n",
    "## Adding the Monthly index\n",
    "monthly_s <-\n",
    "  monthly_s %>% mutate(monthlyindex = meanindex / summary_mean * 100)\n",
    "head(monthly_s)\n",
    "plot(monthly_s$monthlyindex)"
   ]
  },
  {
   "cell_type": "code",
   "execution_count": 10,
   "metadata": {},
   "outputs": [
    {
     "data": {
      "text/html": [
       "<table class=\"dataframe\">\n",
       "<caption>A grouped_df: 6 × 11</caption>\n",
       "<thead>\n",
       "\t<tr><th scope=col>date</th><th scope=col>hour</th><th scope=col>day</th><th scope=col>month</th><th scope=col>year</th><th scope=col>PM25</th><th scope=col>week</th><th scope=col>hourlyindex</th><th scope=col>dailyindex</th><th scope=col>monthlyindex</th><th scope=col>weeklyindex</th></tr>\n",
       "\t<tr><th scope=col>&lt;dttm&gt;</th><th scope=col>&lt;int&gt;</th><th scope=col>&lt;int&gt;</th><th scope=col>&lt;int&gt;</th><th scope=col>&lt;int&gt;</th><th scope=col>&lt;dbl&gt;</th><th scope=col>&lt;int&gt;</th><th scope=col>&lt;dbl&gt;</th><th scope=col>&lt;dbl&gt;</th><th scope=col>&lt;dbl&gt;</th><th scope=col>&lt;dbl&gt;</th></tr>\n",
       "</thead>\n",
       "<tbody>\n",
       "\t<tr><td>2016-01-01 01:00:00</td><td>1</td><td>1</td><td>1</td><td>2016</td><td>376.00</td><td>1</td><td>332.0040</td><td>258.9426</td><td>169.8513</td><td>221.3811</td></tr>\n",
       "\t<tr><td>2016-01-01 02:00:00</td><td>2</td><td>1</td><td>1</td><td>2016</td><td>480.50</td><td>1</td><td>354.0614</td><td>258.9426</td><td>169.8513</td><td>221.3811</td></tr>\n",
       "\t<tr><td>2016-01-01 03:00:00</td><td>3</td><td>1</td><td>1</td><td>2016</td><td>486.67</td><td>1</td><td>342.7143</td><td>258.9426</td><td>169.8513</td><td>221.3811</td></tr>\n",
       "\t<tr><td>2016-01-01 04:00:00</td><td>4</td><td>1</td><td>1</td><td>2016</td><td>441.17</td><td>1</td><td>309.5135</td><td>258.9426</td><td>169.8513</td><td>221.3811</td></tr>\n",
       "\t<tr><td>2016-01-01 05:00:00</td><td>5</td><td>1</td><td>1</td><td>2016</td><td>594.83</td><td>1</td><td>322.8215</td><td>258.9426</td><td>169.8513</td><td>221.3811</td></tr>\n",
       "\t<tr><td>2016-01-01 06:00:00</td><td>6</td><td>1</td><td>1</td><td>2016</td><td>441.33</td><td>1</td><td>250.7651</td><td>258.9426</td><td>169.8513</td><td>221.3811</td></tr>\n",
       "</tbody>\n",
       "</table>\n"
      ],
      "text/latex": [
       "A grouped\\_df: 6 × 11\n",
       "\\begin{tabular}{lllllllllll}\n",
       " date & hour & day & month & year & PM25 & week & hourlyindex & dailyindex & monthlyindex & weeklyindex\\\\\n",
       " <dttm> & <int> & <int> & <int> & <int> & <dbl> & <int> & <dbl> & <dbl> & <dbl> & <dbl>\\\\\n",
       "\\hline\n",
       "\t 2016-01-01 01:00:00 & 1 & 1 & 1 & 2016 & 376.00 & 1 & 332.0040 & 258.9426 & 169.8513 & 221.3811\\\\\n",
       "\t 2016-01-01 02:00:00 & 2 & 1 & 1 & 2016 & 480.50 & 1 & 354.0614 & 258.9426 & 169.8513 & 221.3811\\\\\n",
       "\t 2016-01-01 03:00:00 & 3 & 1 & 1 & 2016 & 486.67 & 1 & 342.7143 & 258.9426 & 169.8513 & 221.3811\\\\\n",
       "\t 2016-01-01 04:00:00 & 4 & 1 & 1 & 2016 & 441.17 & 1 & 309.5135 & 258.9426 & 169.8513 & 221.3811\\\\\n",
       "\t 2016-01-01 05:00:00 & 5 & 1 & 1 & 2016 & 594.83 & 1 & 322.8215 & 258.9426 & 169.8513 & 221.3811\\\\\n",
       "\t 2016-01-01 06:00:00 & 6 & 1 & 1 & 2016 & 441.33 & 1 & 250.7651 & 258.9426 & 169.8513 & 221.3811\\\\\n",
       "\\end{tabular}\n"
      ],
      "text/markdown": [
       "\n",
       "A grouped_df: 6 × 11\n",
       "\n",
       "| date &lt;dttm&gt; | hour &lt;int&gt; | day &lt;int&gt; | month &lt;int&gt; | year &lt;int&gt; | PM25 &lt;dbl&gt; | week &lt;int&gt; | hourlyindex &lt;dbl&gt; | dailyindex &lt;dbl&gt; | monthlyindex &lt;dbl&gt; | weeklyindex &lt;dbl&gt; |\n",
       "|---|---|---|---|---|---|---|---|---|---|---|\n",
       "| 2016-01-01 01:00:00 | 1 | 1 | 1 | 2016 | 376.00 | 1 | 332.0040 | 258.9426 | 169.8513 | 221.3811 |\n",
       "| 2016-01-01 02:00:00 | 2 | 1 | 1 | 2016 | 480.50 | 1 | 354.0614 | 258.9426 | 169.8513 | 221.3811 |\n",
       "| 2016-01-01 03:00:00 | 3 | 1 | 1 | 2016 | 486.67 | 1 | 342.7143 | 258.9426 | 169.8513 | 221.3811 |\n",
       "| 2016-01-01 04:00:00 | 4 | 1 | 1 | 2016 | 441.17 | 1 | 309.5135 | 258.9426 | 169.8513 | 221.3811 |\n",
       "| 2016-01-01 05:00:00 | 5 | 1 | 1 | 2016 | 594.83 | 1 | 322.8215 | 258.9426 | 169.8513 | 221.3811 |\n",
       "| 2016-01-01 06:00:00 | 6 | 1 | 1 | 2016 | 441.33 | 1 | 250.7651 | 258.9426 | 169.8513 | 221.3811 |\n",
       "\n"
      ],
      "text/plain": [
       "  date                hour day month year PM25   week hourlyindex dailyindex\n",
       "1 2016-01-01 01:00:00 1    1   1     2016 376.00 1    332.0040    258.9426  \n",
       "2 2016-01-01 02:00:00 2    1   1     2016 480.50 1    354.0614    258.9426  \n",
       "3 2016-01-01 03:00:00 3    1   1     2016 486.67 1    342.7143    258.9426  \n",
       "4 2016-01-01 04:00:00 4    1   1     2016 441.17 1    309.5135    258.9426  \n",
       "5 2016-01-01 05:00:00 5    1   1     2016 594.83 1    322.8215    258.9426  \n",
       "6 2016-01-01 06:00:00 6    1   1     2016 441.33 1    250.7651    258.9426  \n",
       "  monthlyindex weeklyindex\n",
       "1 169.8513     221.3811   \n",
       "2 169.8513     221.3811   \n",
       "3 169.8513     221.3811   \n",
       "4 169.8513     221.3811   \n",
       "5 169.8513     221.3811   \n",
       "6 169.8513     221.3811   "
      ]
     },
     "metadata": {},
     "output_type": "display_data"
    }
   ],
   "source": [
    "############# Join the indexes to original houly data\n",
    "\n",
    "hourly_s <- hourly_s %>% select(month,day,hour,hourlyindex)\n",
    "hourly_df <- hourly_df %>% left_join(hourly_s,by=c(\"month\",\"day\",\"hour\"))\n",
    "\n",
    "daily_s <- daily_s %>% select(month, day, dailyindex)\n",
    "hourly_df <- hourly_df %>% left_join(daily_s, by = c(\"month\", \"day\"))\n",
    "\n",
    "monthly_s <- monthly_s %>% select(month, monthlyindex)\n",
    "hourly_df <- hourly_df %>% left_join(monthly_s, by = c(\"month\"))\n",
    "\n",
    "weekly_s <- weekly_s %>% select(week, weeklyindex)\n",
    "hourly_df <- hourly_df %>% left_join(weekly_s, by = c(\"week\"))\n",
    "\n",
    "head(hourly_df)\n",
    "## Removing the unnecessary data frames \n",
    "rm(hourly_s)\n",
    "rm(daily_s)\n",
    "rm(monthly_s)\n",
    "rm(weekly_s)\n",
    "rm(summary_mean)\n",
    "rm(seasonalIndex)\n"
   ]
  },
  {
   "cell_type": "code",
   "execution_count": 11,
   "metadata": {},
   "outputs": [
    {
     "data": {
      "text/html": [
       "<table class=\"dataframe\">\n",
       "<caption>A data.frame: 6 × 7</caption>\n",
       "<thead>\n",
       "\t<tr><th></th><th scope=col>date</th><th scope=col>year</th><th scope=col>PM25</th><th scope=col>hourlyindex</th><th scope=col>dailyindex</th><th scope=col>monthlyindex</th><th scope=col>weeklyindex</th></tr>\n",
       "\t<tr><th></th><th scope=col>&lt;dttm&gt;</th><th scope=col>&lt;int&gt;</th><th scope=col>&lt;dbl&gt;</th><th scope=col>&lt;dbl&gt;</th><th scope=col>&lt;dbl&gt;</th><th scope=col>&lt;dbl&gt;</th><th scope=col>&lt;dbl&gt;</th></tr>\n",
       "</thead>\n",
       "<tbody>\n",
       "\t<tr><th scope=row>1</th><td>2016-01-01 01:00:00</td><td>2016</td><td>376.00</td><td>332.0040</td><td>258.9426</td><td>169.8513</td><td>221.3811</td></tr>\n",
       "\t<tr><th scope=row>2</th><td>2016-01-01 02:00:00</td><td>2016</td><td>480.50</td><td>354.0614</td><td>258.9426</td><td>169.8513</td><td>221.3811</td></tr>\n",
       "\t<tr><th scope=row>3</th><td>2016-01-01 03:00:00</td><td>2016</td><td>486.67</td><td>342.7143</td><td>258.9426</td><td>169.8513</td><td>221.3811</td></tr>\n",
       "\t<tr><th scope=row>4</th><td>2016-01-01 04:00:00</td><td>2016</td><td>441.17</td><td>309.5135</td><td>258.9426</td><td>169.8513</td><td>221.3811</td></tr>\n",
       "\t<tr><th scope=row>5</th><td>2016-01-01 05:00:00</td><td>2016</td><td>594.83</td><td>322.8215</td><td>258.9426</td><td>169.8513</td><td>221.3811</td></tr>\n",
       "\t<tr><th scope=row>6</th><td>2016-01-01 06:00:00</td><td>2016</td><td>441.33</td><td>250.7651</td><td>258.9426</td><td>169.8513</td><td>221.3811</td></tr>\n",
       "</tbody>\n",
       "</table>\n"
      ],
      "text/latex": [
       "A data.frame: 6 × 7\n",
       "\\begin{tabular}{r|lllllll}\n",
       "  & date & year & PM25 & hourlyindex & dailyindex & monthlyindex & weeklyindex\\\\\n",
       "  & <dttm> & <int> & <dbl> & <dbl> & <dbl> & <dbl> & <dbl>\\\\\n",
       "\\hline\n",
       "\t1 & 2016-01-01 01:00:00 & 2016 & 376.00 & 332.0040 & 258.9426 & 169.8513 & 221.3811\\\\\n",
       "\t2 & 2016-01-01 02:00:00 & 2016 & 480.50 & 354.0614 & 258.9426 & 169.8513 & 221.3811\\\\\n",
       "\t3 & 2016-01-01 03:00:00 & 2016 & 486.67 & 342.7143 & 258.9426 & 169.8513 & 221.3811\\\\\n",
       "\t4 & 2016-01-01 04:00:00 & 2016 & 441.17 & 309.5135 & 258.9426 & 169.8513 & 221.3811\\\\\n",
       "\t5 & 2016-01-01 05:00:00 & 2016 & 594.83 & 322.8215 & 258.9426 & 169.8513 & 221.3811\\\\\n",
       "\t6 & 2016-01-01 06:00:00 & 2016 & 441.33 & 250.7651 & 258.9426 & 169.8513 & 221.3811\\\\\n",
       "\\end{tabular}\n"
      ],
      "text/markdown": [
       "\n",
       "A data.frame: 6 × 7\n",
       "\n",
       "| <!--/--> | date &lt;dttm&gt; | year &lt;int&gt; | PM25 &lt;dbl&gt; | hourlyindex &lt;dbl&gt; | dailyindex &lt;dbl&gt; | monthlyindex &lt;dbl&gt; | weeklyindex &lt;dbl&gt; |\n",
       "|---|---|---|---|---|---|---|---|\n",
       "| 1 | 2016-01-01 01:00:00 | 2016 | 376.00 | 332.0040 | 258.9426 | 169.8513 | 221.3811 |\n",
       "| 2 | 2016-01-01 02:00:00 | 2016 | 480.50 | 354.0614 | 258.9426 | 169.8513 | 221.3811 |\n",
       "| 3 | 2016-01-01 03:00:00 | 2016 | 486.67 | 342.7143 | 258.9426 | 169.8513 | 221.3811 |\n",
       "| 4 | 2016-01-01 04:00:00 | 2016 | 441.17 | 309.5135 | 258.9426 | 169.8513 | 221.3811 |\n",
       "| 5 | 2016-01-01 05:00:00 | 2016 | 594.83 | 322.8215 | 258.9426 | 169.8513 | 221.3811 |\n",
       "| 6 | 2016-01-01 06:00:00 | 2016 | 441.33 | 250.7651 | 258.9426 | 169.8513 | 221.3811 |\n",
       "\n"
      ],
      "text/plain": [
       "  date                year PM25   hourlyindex dailyindex monthlyindex\n",
       "1 2016-01-01 01:00:00 2016 376.00 332.0040    258.9426   169.8513    \n",
       "2 2016-01-01 02:00:00 2016 480.50 354.0614    258.9426   169.8513    \n",
       "3 2016-01-01 03:00:00 2016 486.67 342.7143    258.9426   169.8513    \n",
       "4 2016-01-01 04:00:00 2016 441.17 309.5135    258.9426   169.8513    \n",
       "5 2016-01-01 05:00:00 2016 594.83 322.8215    258.9426   169.8513    \n",
       "6 2016-01-01 06:00:00 2016 441.33 250.7651    258.9426   169.8513    \n",
       "  weeklyindex\n",
       "1 221.3811   \n",
       "2 221.3811   \n",
       "3 221.3811   \n",
       "4 221.3811   \n",
       "5 221.3811   \n",
       "6 221.3811   "
      ]
     },
     "metadata": {},
     "output_type": "display_data"
    }
   ],
   "source": [
    "################### Data manipulation using forecastML\n",
    "## Fill_gaps is a function from forecatML to see if there are missing value it creates\n",
    "## an evenly spaced data frame\n",
    "hourly_ts <- fill_gaps(hourly_df, date_col = 1, frequency = \"1 hour\")\n",
    "dates <- hourly_ts$date\n",
    "\n",
    "#hourly_ts$date <- NULL\n",
    "hourly_ts$hour <- NULL\n",
    "hourly_ts$day <- NULL\n",
    "hourly_ts$month <- NULL\n",
    "hourly_ts$week <- NULL\n",
    "head(hourly_ts)\n"
   ]
  },
  {
   "cell_type": "code",
   "execution_count": 12,
   "metadata": {},
   "outputs": [
    {
     "data": {
      "text/html": [
       "<table class=\"dataframe\">\n",
       "<caption>A data.frame: 6 × 7</caption>\n",
       "<thead>\n",
       "\t<tr><th></th><th scope=col>date</th><th scope=col>year</th><th scope=col>PM25</th><th scope=col>hourlyindex</th><th scope=col>dailyindex</th><th scope=col>monthlyindex</th><th scope=col>weeklyindex</th></tr>\n",
       "\t<tr><th></th><th scope=col>&lt;dttm&gt;</th><th scope=col>&lt;int&gt;</th><th scope=col>&lt;dbl&gt;</th><th scope=col>&lt;dbl&gt;</th><th scope=col>&lt;dbl&gt;</th><th scope=col>&lt;dbl&gt;</th><th scope=col>&lt;dbl&gt;</th></tr>\n",
       "</thead>\n",
       "<tbody>\n",
       "\t<tr><th scope=row>1</th><td>2019-01-01 00:00:00</td><td>2019</td><td>517.25</td><td>413.4852</td><td>258.9426</td><td>169.8513</td><td>221.3811</td></tr>\n",
       "\t<tr><th scope=row>2</th><td>2019-01-01 01:00:00</td><td>2019</td><td>531.25</td><td>332.0040</td><td>258.9426</td><td>169.8513</td><td>221.3811</td></tr>\n",
       "\t<tr><th scope=row>3</th><td>2019-01-01 02:00:00</td><td>2019</td><td>542.00</td><td>354.0614</td><td>258.9426</td><td>169.8513</td><td>221.3811</td></tr>\n",
       "\t<tr><th scope=row>4</th><td>2019-01-01 03:00:00</td><td>2019</td><td>547.50</td><td>342.7143</td><td>258.9426</td><td>169.8513</td><td>221.3811</td></tr>\n",
       "\t<tr><th scope=row>5</th><td>2019-01-01 04:00:00</td><td>2019</td><td>497.00</td><td>309.5135</td><td>258.9426</td><td>169.8513</td><td>221.3811</td></tr>\n",
       "\t<tr><th scope=row>6</th><td>2019-01-01 05:00:00</td><td>2019</td><td>467.50</td><td>322.8215</td><td>258.9426</td><td>169.8513</td><td>221.3811</td></tr>\n",
       "</tbody>\n",
       "</table>\n"
      ],
      "text/latex": [
       "A data.frame: 6 × 7\n",
       "\\begin{tabular}{r|lllllll}\n",
       "  & date & year & PM25 & hourlyindex & dailyindex & monthlyindex & weeklyindex\\\\\n",
       "  & <dttm> & <int> & <dbl> & <dbl> & <dbl> & <dbl> & <dbl>\\\\\n",
       "\\hline\n",
       "\t1 & 2019-01-01 00:00:00 & 2019 & 517.25 & 413.4852 & 258.9426 & 169.8513 & 221.3811\\\\\n",
       "\t2 & 2019-01-01 01:00:00 & 2019 & 531.25 & 332.0040 & 258.9426 & 169.8513 & 221.3811\\\\\n",
       "\t3 & 2019-01-01 02:00:00 & 2019 & 542.00 & 354.0614 & 258.9426 & 169.8513 & 221.3811\\\\\n",
       "\t4 & 2019-01-01 03:00:00 & 2019 & 547.50 & 342.7143 & 258.9426 & 169.8513 & 221.3811\\\\\n",
       "\t5 & 2019-01-01 04:00:00 & 2019 & 497.00 & 309.5135 & 258.9426 & 169.8513 & 221.3811\\\\\n",
       "\t6 & 2019-01-01 05:00:00 & 2019 & 467.50 & 322.8215 & 258.9426 & 169.8513 & 221.3811\\\\\n",
       "\\end{tabular}\n"
      ],
      "text/markdown": [
       "\n",
       "A data.frame: 6 × 7\n",
       "\n",
       "| <!--/--> | date &lt;dttm&gt; | year &lt;int&gt; | PM25 &lt;dbl&gt; | hourlyindex &lt;dbl&gt; | dailyindex &lt;dbl&gt; | monthlyindex &lt;dbl&gt; | weeklyindex &lt;dbl&gt; |\n",
       "|---|---|---|---|---|---|---|---|\n",
       "| 1 | 2019-01-01 00:00:00 | 2019 | 517.25 | 413.4852 | 258.9426 | 169.8513 | 221.3811 |\n",
       "| 2 | 2019-01-01 01:00:00 | 2019 | 531.25 | 332.0040 | 258.9426 | 169.8513 | 221.3811 |\n",
       "| 3 | 2019-01-01 02:00:00 | 2019 | 542.00 | 354.0614 | 258.9426 | 169.8513 | 221.3811 |\n",
       "| 4 | 2019-01-01 03:00:00 | 2019 | 547.50 | 342.7143 | 258.9426 | 169.8513 | 221.3811 |\n",
       "| 5 | 2019-01-01 04:00:00 | 2019 | 497.00 | 309.5135 | 258.9426 | 169.8513 | 221.3811 |\n",
       "| 6 | 2019-01-01 05:00:00 | 2019 | 467.50 | 322.8215 | 258.9426 | 169.8513 | 221.3811 |\n",
       "\n"
      ],
      "text/plain": [
       "  date                year PM25   hourlyindex dailyindex monthlyindex\n",
       "1 2019-01-01 00:00:00 2019 517.25 413.4852    258.9426   169.8513    \n",
       "2 2019-01-01 01:00:00 2019 531.25 332.0040    258.9426   169.8513    \n",
       "3 2019-01-01 02:00:00 2019 542.00 354.0614    258.9426   169.8513    \n",
       "4 2019-01-01 03:00:00 2019 547.50 342.7143    258.9426   169.8513    \n",
       "5 2019-01-01 04:00:00 2019 497.00 309.5135    258.9426   169.8513    \n",
       "6 2019-01-01 05:00:00 2019 467.50 322.8215    258.9426   169.8513    \n",
       "  weeklyindex\n",
       "1 221.3811   \n",
       "2 221.3811   \n",
       "3 221.3811   \n",
       "4 221.3811   \n",
       "5 221.3811   \n",
       "6 221.3811   "
      ]
     },
     "metadata": {},
     "output_type": "display_data"
    }
   ],
   "source": [
    "hourly_ts_filtered <- hourly_ts %>% filter(date>=ymd(\"2019-01-01\"))%>% mutate(PM25=ifelse(is.na(PM25), median(PM25, na.rm = T), PM25))\n",
    "head(hourly_ts_filtered)"
   ]
  },
  {
   "cell_type": "code",
   "execution_count": 13,
   "metadata": {},
   "outputs": [
    {
     "data": {
      "text/html": [
       "<table class=\"dataframe\">\n",
       "<caption>A data.frame: 6 × 7</caption>\n",
       "<thead>\n",
       "\t<tr><th></th><th scope=col>date</th><th scope=col>year</th><th scope=col>PM25</th><th scope=col>hourlyindex</th><th scope=col>dailyindex</th><th scope=col>monthlyindex</th><th scope=col>weeklyindex</th></tr>\n",
       "\t<tr><th></th><th scope=col>&lt;dttm&gt;</th><th scope=col>&lt;int&gt;</th><th scope=col>&lt;dbl&gt;</th><th scope=col>&lt;dbl&gt;</th><th scope=col>&lt;dbl&gt;</th><th scope=col>&lt;dbl&gt;</th><th scope=col>&lt;dbl&gt;</th></tr>\n",
       "</thead>\n",
       "<tbody>\n",
       "\t<tr><th scope=row>1</th><td>2021-01-01 01:00:00</td><td>2021</td><td>86.5</td><td>332.0040</td><td>258.9426</td><td>169.8513</td><td>221.3811</td></tr>\n",
       "\t<tr><th scope=row>2</th><td>2021-01-01 02:00:00</td><td>2021</td><td>86.5</td><td>354.0614</td><td>258.9426</td><td>169.8513</td><td>221.3811</td></tr>\n",
       "\t<tr><th scope=row>3</th><td>2021-01-01 03:00:00</td><td>2021</td><td>86.5</td><td>342.7143</td><td>258.9426</td><td>169.8513</td><td>221.3811</td></tr>\n",
       "\t<tr><th scope=row>4</th><td>2021-01-01 04:00:00</td><td>2021</td><td>86.5</td><td>309.5135</td><td>258.9426</td><td>169.8513</td><td>221.3811</td></tr>\n",
       "\t<tr><th scope=row>5</th><td>2021-01-01 05:00:00</td><td>2021</td><td>86.5</td><td>322.8215</td><td>258.9426</td><td>169.8513</td><td>221.3811</td></tr>\n",
       "\t<tr><th scope=row>6</th><td>2021-01-01 06:00:00</td><td>2021</td><td>86.5</td><td>250.7651</td><td>258.9426</td><td>169.8513</td><td>221.3811</td></tr>\n",
       "</tbody>\n",
       "</table>\n"
      ],
      "text/latex": [
       "A data.frame: 6 × 7\n",
       "\\begin{tabular}{r|lllllll}\n",
       "  & date & year & PM25 & hourlyindex & dailyindex & monthlyindex & weeklyindex\\\\\n",
       "  & <dttm> & <int> & <dbl> & <dbl> & <dbl> & <dbl> & <dbl>\\\\\n",
       "\\hline\n",
       "\t1 & 2021-01-01 01:00:00 & 2021 & 86.5 & 332.0040 & 258.9426 & 169.8513 & 221.3811\\\\\n",
       "\t2 & 2021-01-01 02:00:00 & 2021 & 86.5 & 354.0614 & 258.9426 & 169.8513 & 221.3811\\\\\n",
       "\t3 & 2021-01-01 03:00:00 & 2021 & 86.5 & 342.7143 & 258.9426 & 169.8513 & 221.3811\\\\\n",
       "\t4 & 2021-01-01 04:00:00 & 2021 & 86.5 & 309.5135 & 258.9426 & 169.8513 & 221.3811\\\\\n",
       "\t5 & 2021-01-01 05:00:00 & 2021 & 86.5 & 322.8215 & 258.9426 & 169.8513 & 221.3811\\\\\n",
       "\t6 & 2021-01-01 06:00:00 & 2021 & 86.5 & 250.7651 & 258.9426 & 169.8513 & 221.3811\\\\\n",
       "\\end{tabular}\n"
      ],
      "text/markdown": [
       "\n",
       "A data.frame: 6 × 7\n",
       "\n",
       "| <!--/--> | date &lt;dttm&gt; | year &lt;int&gt; | PM25 &lt;dbl&gt; | hourlyindex &lt;dbl&gt; | dailyindex &lt;dbl&gt; | monthlyindex &lt;dbl&gt; | weeklyindex &lt;dbl&gt; |\n",
       "|---|---|---|---|---|---|---|---|\n",
       "| 1 | 2021-01-01 01:00:00 | 2021 | 86.5 | 332.0040 | 258.9426 | 169.8513 | 221.3811 |\n",
       "| 2 | 2021-01-01 02:00:00 | 2021 | 86.5 | 354.0614 | 258.9426 | 169.8513 | 221.3811 |\n",
       "| 3 | 2021-01-01 03:00:00 | 2021 | 86.5 | 342.7143 | 258.9426 | 169.8513 | 221.3811 |\n",
       "| 4 | 2021-01-01 04:00:00 | 2021 | 86.5 | 309.5135 | 258.9426 | 169.8513 | 221.3811 |\n",
       "| 5 | 2021-01-01 05:00:00 | 2021 | 86.5 | 322.8215 | 258.9426 | 169.8513 | 221.3811 |\n",
       "| 6 | 2021-01-01 06:00:00 | 2021 | 86.5 | 250.7651 | 258.9426 | 169.8513 | 221.3811 |\n",
       "\n"
      ],
      "text/plain": [
       "  date                year PM25 hourlyindex dailyindex monthlyindex weeklyindex\n",
       "1 2021-01-01 01:00:00 2021 86.5 332.0040    258.9426   169.8513     221.3811   \n",
       "2 2021-01-01 02:00:00 2021 86.5 354.0614    258.9426   169.8513     221.3811   \n",
       "3 2021-01-01 03:00:00 2021 86.5 342.7143    258.9426   169.8513     221.3811   \n",
       "4 2021-01-01 04:00:00 2021 86.5 309.5135    258.9426   169.8513     221.3811   \n",
       "5 2021-01-01 05:00:00 2021 86.5 322.8215    258.9426   169.8513     221.3811   \n",
       "6 2021-01-01 06:00:00 2021 86.5 250.7651    258.9426   169.8513     221.3811   "
      ]
     },
     "metadata": {},
     "output_type": "display_data"
    }
   ],
   "source": [
    "data_train <- hourly_ts_filtered %>% filter(date <ymd('2021-01-01'))\n",
    "data_test <- hourly_ts_filtered %>% filter(date >ymd('2021-01-01'))\n",
    "head(data_test)"
   ]
  },
  {
   "cell_type": "code",
   "execution_count": 36,
   "metadata": {},
   "outputs": [
    {
     "data": {
      "text/html": [
       "<table class=\"dataframe\">\n",
       "<caption>A data.frame: 6 × 15</caption>\n",
       "<thead>\n",
       "\t<tr><th></th><th scope=col>PM25</th><th scope=col>PM25_lag_1</th><th scope=col>PM25_lag_2</th><th scope=col>PM25_lag_3</th><th scope=col>PM25_lag_4</th><th scope=col>PM25_lag_5</th><th scope=col>PM25_lag_6</th><th scope=col>PM25_lag_12</th><th scope=col>PM25_lag_24</th><th scope=col>date</th><th scope=col>year</th><th scope=col>hourlyindex</th><th scope=col>dailyindex</th><th scope=col>monthlyindex</th><th scope=col>weeklyindex</th></tr>\n",
       "\t<tr><th></th><th scope=col>&lt;dbl&gt;</th><th scope=col>&lt;dbl&gt;</th><th scope=col>&lt;dbl&gt;</th><th scope=col>&lt;dbl&gt;</th><th scope=col>&lt;dbl&gt;</th><th scope=col>&lt;dbl&gt;</th><th scope=col>&lt;dbl&gt;</th><th scope=col>&lt;dbl&gt;</th><th scope=col>&lt;dbl&gt;</th><th scope=col>&lt;dttm&gt;</th><th scope=col>&lt;int&gt;</th><th scope=col>&lt;dbl&gt;</th><th scope=col>&lt;dbl&gt;</th><th scope=col>&lt;dbl&gt;</th><th scope=col>&lt;dbl&gt;</th></tr>\n",
       "</thead>\n",
       "<tbody>\n",
       "\t<tr><th scope=row>25</th><td>620.75</td><td>594.75</td><td>646.75</td><td>603.00</td><td>426.50</td><td>300.75</td><td>206.25</td><td>262.00</td><td>517.25</td><td>2019-01-02 00:00:00</td><td>2019</td><td>340.4631</td><td>249.7028</td><td>169.8513</td><td>221.3811</td></tr>\n",
       "\t<tr><th scope=row>26</th><td>548.25</td><td>620.75</td><td>594.75</td><td>646.75</td><td>603.00</td><td>426.50</td><td>300.75</td><td>183.25</td><td>531.25</td><td>2019-01-02 01:00:00</td><td>2019</td><td>285.3088</td><td>249.7028</td><td>169.8513</td><td>221.3811</td></tr>\n",
       "\t<tr><th scope=row>27</th><td>525.75</td><td>548.25</td><td>620.75</td><td>594.75</td><td>646.75</td><td>603.00</td><td>426.50</td><td>144.75</td><td>542.00</td><td>2019-01-02 02:00:00</td><td>2019</td><td>267.4435</td><td>249.7028</td><td>169.8513</td><td>221.3811</td></tr>\n",
       "\t<tr><th scope=row>28</th><td>607.75</td><td>525.75</td><td>548.25</td><td>620.75</td><td>594.75</td><td>646.75</td><td>603.00</td><td>137.75</td><td>547.50</td><td>2019-01-02 03:00:00</td><td>2019</td><td>250.5124</td><td>249.7028</td><td>169.8513</td><td>221.3811</td></tr>\n",
       "\t<tr><th scope=row>29</th><td>551.75</td><td>607.75</td><td>525.75</td><td>548.25</td><td>620.75</td><td>594.75</td><td>646.75</td><td>126.00</td><td>497.00</td><td>2019-01-02 04:00:00</td><td>2019</td><td>264.7966</td><td>249.7028</td><td>169.8513</td><td>221.3811</td></tr>\n",
       "\t<tr><th scope=row>30</th><td>478.75</td><td>551.75</td><td>607.75</td><td>525.75</td><td>548.25</td><td>620.75</td><td>594.75</td><td>156.00</td><td>467.50</td><td>2019-01-02 05:00:00</td><td>2019</td><td>246.1558</td><td>249.7028</td><td>169.8513</td><td>221.3811</td></tr>\n",
       "</tbody>\n",
       "</table>\n"
      ],
      "text/latex": [
       "A data.frame: 6 × 15\n",
       "\\begin{tabular}{r|lllllllllllllll}\n",
       "  & PM25 & PM25\\_lag\\_1 & PM25\\_lag\\_2 & PM25\\_lag\\_3 & PM25\\_lag\\_4 & PM25\\_lag\\_5 & PM25\\_lag\\_6 & PM25\\_lag\\_12 & PM25\\_lag\\_24 & date & year & hourlyindex & dailyindex & monthlyindex & weeklyindex\\\\\n",
       "  & <dbl> & <dbl> & <dbl> & <dbl> & <dbl> & <dbl> & <dbl> & <dbl> & <dbl> & <dttm> & <int> & <dbl> & <dbl> & <dbl> & <dbl>\\\\\n",
       "\\hline\n",
       "\t25 & 620.75 & 594.75 & 646.75 & 603.00 & 426.50 & 300.75 & 206.25 & 262.00 & 517.25 & 2019-01-02 00:00:00 & 2019 & 340.4631 & 249.7028 & 169.8513 & 221.3811\\\\\n",
       "\t26 & 548.25 & 620.75 & 594.75 & 646.75 & 603.00 & 426.50 & 300.75 & 183.25 & 531.25 & 2019-01-02 01:00:00 & 2019 & 285.3088 & 249.7028 & 169.8513 & 221.3811\\\\\n",
       "\t27 & 525.75 & 548.25 & 620.75 & 594.75 & 646.75 & 603.00 & 426.50 & 144.75 & 542.00 & 2019-01-02 02:00:00 & 2019 & 267.4435 & 249.7028 & 169.8513 & 221.3811\\\\\n",
       "\t28 & 607.75 & 525.75 & 548.25 & 620.75 & 594.75 & 646.75 & 603.00 & 137.75 & 547.50 & 2019-01-02 03:00:00 & 2019 & 250.5124 & 249.7028 & 169.8513 & 221.3811\\\\\n",
       "\t29 & 551.75 & 607.75 & 525.75 & 548.25 & 620.75 & 594.75 & 646.75 & 126.00 & 497.00 & 2019-01-02 04:00:00 & 2019 & 264.7966 & 249.7028 & 169.8513 & 221.3811\\\\\n",
       "\t30 & 478.75 & 551.75 & 607.75 & 525.75 & 548.25 & 620.75 & 594.75 & 156.00 & 467.50 & 2019-01-02 05:00:00 & 2019 & 246.1558 & 249.7028 & 169.8513 & 221.3811\\\\\n",
       "\\end{tabular}\n"
      ],
      "text/markdown": [
       "\n",
       "A data.frame: 6 × 15\n",
       "\n",
       "| <!--/--> | PM25 &lt;dbl&gt; | PM25_lag_1 &lt;dbl&gt; | PM25_lag_2 &lt;dbl&gt; | PM25_lag_3 &lt;dbl&gt; | PM25_lag_4 &lt;dbl&gt; | PM25_lag_5 &lt;dbl&gt; | PM25_lag_6 &lt;dbl&gt; | PM25_lag_12 &lt;dbl&gt; | PM25_lag_24 &lt;dbl&gt; | date &lt;dttm&gt; | year &lt;int&gt; | hourlyindex &lt;dbl&gt; | dailyindex &lt;dbl&gt; | monthlyindex &lt;dbl&gt; | weeklyindex &lt;dbl&gt; |\n",
       "|---|---|---|---|---|---|---|---|---|---|---|---|---|---|---|---|\n",
       "| 25 | 620.75 | 594.75 | 646.75 | 603.00 | 426.50 | 300.75 | 206.25 | 262.00 | 517.25 | 2019-01-02 00:00:00 | 2019 | 340.4631 | 249.7028 | 169.8513 | 221.3811 |\n",
       "| 26 | 548.25 | 620.75 | 594.75 | 646.75 | 603.00 | 426.50 | 300.75 | 183.25 | 531.25 | 2019-01-02 01:00:00 | 2019 | 285.3088 | 249.7028 | 169.8513 | 221.3811 |\n",
       "| 27 | 525.75 | 548.25 | 620.75 | 594.75 | 646.75 | 603.00 | 426.50 | 144.75 | 542.00 | 2019-01-02 02:00:00 | 2019 | 267.4435 | 249.7028 | 169.8513 | 221.3811 |\n",
       "| 28 | 607.75 | 525.75 | 548.25 | 620.75 | 594.75 | 646.75 | 603.00 | 137.75 | 547.50 | 2019-01-02 03:00:00 | 2019 | 250.5124 | 249.7028 | 169.8513 | 221.3811 |\n",
       "| 29 | 551.75 | 607.75 | 525.75 | 548.25 | 620.75 | 594.75 | 646.75 | 126.00 | 497.00 | 2019-01-02 04:00:00 | 2019 | 264.7966 | 249.7028 | 169.8513 | 221.3811 |\n",
       "| 30 | 478.75 | 551.75 | 607.75 | 525.75 | 548.25 | 620.75 | 594.75 | 156.00 | 467.50 | 2019-01-02 05:00:00 | 2019 | 246.1558 | 249.7028 | 169.8513 | 221.3811 |\n",
       "\n"
      ],
      "text/plain": [
       "   PM25   PM25_lag_1 PM25_lag_2 PM25_lag_3 PM25_lag_4 PM25_lag_5 PM25_lag_6\n",
       "25 620.75 594.75     646.75     603.00     426.50     300.75     206.25    \n",
       "26 548.25 620.75     594.75     646.75     603.00     426.50     300.75    \n",
       "27 525.75 548.25     620.75     594.75     646.75     603.00     426.50    \n",
       "28 607.75 525.75     548.25     620.75     594.75     646.75     603.00    \n",
       "29 551.75 607.75     525.75     548.25     620.75     594.75     646.75    \n",
       "30 478.75 551.75     607.75     525.75     548.25     620.75     594.75    \n",
       "   PM25_lag_12 PM25_lag_24 date                year hourlyindex dailyindex\n",
       "25 262.00      517.25      2019-01-02 00:00:00 2019 340.4631    249.7028  \n",
       "26 183.25      531.25      2019-01-02 01:00:00 2019 285.3088    249.7028  \n",
       "27 144.75      542.00      2019-01-02 02:00:00 2019 267.4435    249.7028  \n",
       "28 137.75      547.50      2019-01-02 03:00:00 2019 250.5124    249.7028  \n",
       "29 126.00      497.00      2019-01-02 04:00:00 2019 264.7966    249.7028  \n",
       "30 156.00      467.50      2019-01-02 05:00:00 2019 246.1558    249.7028  \n",
       "   monthlyindex weeklyindex\n",
       "25 169.8513     221.3811   \n",
       "26 169.8513     221.3811   \n",
       "27 169.8513     221.3811   \n",
       "28 169.8513     221.3811   \n",
       "29 169.8513     221.3811   \n",
       "30 169.8513     221.3811   "
      ]
     },
     "metadata": {},
     "output_type": "display_data"
    }
   ],
   "source": [
    "lookback <- c(1,2,3,4,5, 6, 12,24)\n",
    "## Now creating a training data frame with lookback of 12 hours \n",
    "data_train_lagged <-\n",
    "  create_lagged_df(\n",
    "    data_train, ## data frame\n",
    "    type = \"train\", ## training \n",
    "    outcome_col = 3,## Output column is PM2.5 \n",
    "    horizons = 1, ## Horizons is used if you want to use different models in different time frames\n",
    "    lookback = lookback,## Lookback of 12 hour\n",
    "    dynamic_features = c(\"year\",\"hourlyindex\",\"hour\", \"dailyindex\", \"monthlyindex\", \"weeklyindex\",\"date\"), ## dynamic features of index\n",
    "    frequency = \"1 hour\" ## Frequency is 1 day\n",
    "  )\n",
    "\n",
    "## Now creating a training data frame with lookback of 7 days \n",
    "data_test_lagged <-\n",
    "  create_lagged_df(\n",
    "    data_test, ## data frame\n",
    "    type = \"train\", ## training \n",
    "    outcome_col = 3,## Output column is PM2.5 \n",
    "    horizons = 1, ## Horizons is used if you want to use different models in different time frames\n",
    "    lookback = lookback,## Lookback of 12 hour\n",
    "    dynamic_features = c(\"year\",\"hourlyindex\",\"hour\", \"dailyindex\", \"monthlyindex\", \"weeklyindex\",\"date\"), ## dynamic features of index\n",
    "    frequency = \"1 hour\" ## Frequency is 1 day\n",
    "  )\n",
    "\n",
    "\n",
    "## Looking at the first horizon data frame\n",
    "data_train_lagged <- data_train_lagged$horizon_1\n",
    "data_test_lagged <- data_test_lagged$horizon_1\n",
    "head(data_train_lagged)"
   ]
  },
  {
   "cell_type": "code",
   "execution_count": 37,
   "metadata": {},
   "outputs": [
    {
     "data": {
      "text/plain": [
       "PM25 ~ PM25_lag_1 + PM25_lag_2 + PM25_lag_3 + PM25_lag_4 + PM25_lag_5 + \n",
       "    PM25_lag_6 + PM25_lag_12 + PM25_lag_24 + hourlyindex + dailyindex + \n",
       "    monthlyindex + weeklyindex"
      ]
     },
     "metadata": {},
     "output_type": "display_data"
    }
   ],
   "source": [
    "dep_variable <- \"PM25\"\n",
    "ind_variables <- setdiff(names(data_train_lagged),c(\"date\",\"year\",\"PM25\"))\n",
    "formulae <- as.formula(paste(dep_variable,paste(ind_variables,collapse=\"+\"),sep=\" ~ \"))\n",
    "formulae"
   ]
  },
  {
   "cell_type": "code",
   "execution_count": 38,
   "metadata": {},
   "outputs": [
    {
     "data": {
      "text/plain": [
       "Linear Regression \n",
       "\n",
       "17520 samples\n",
       "   12 predictor\n",
       "\n",
       "No pre-processing\n",
       "Resampling: Cross-Validated (10 fold) \n",
       "Summary of sample sizes: 15768, 15769, 15766, 15768, 15768, 15769, ... \n",
       "Resampling results:\n",
       "\n",
       "  RMSE      Rsquared   MAE     \n",
       "  32.82389  0.9167734  16.56751\n",
       "\n",
       "Tuning parameter 'intercept' was held constant at a value of TRUE"
      ]
     },
     "metadata": {},
     "output_type": "display_data"
    }
   ],
   "source": [
    "tc <- trainControl(method=\"cv\", number = 10)\n",
    "lm1_cv <- train(formulae, method=\"lm\",\n",
    "                   data = data_train_lagged,trControl=tc)\n",
    "lm1_cv"
   ]
  },
  {
   "cell_type": "code",
   "execution_count": 17,
   "metadata": {},
   "outputs": [],
   "source": [
    "#rf1_cv <- train(formulae, method=\"rf\",\n",
    "#                   data = data_train_lagged,trControl=tc)\n",
    "#rf1_cv"
   ]
  },
  {
   "cell_type": "code",
   "execution_count": 39,
   "metadata": {},
   "outputs": [
    {
     "data": {
      "text/plain": [
       "\n",
       "Call:\n",
       "lm(formula = .outcome ~ ., data = dat)\n",
       "\n",
       "Residuals:\n",
       "    Min      1Q  Median      3Q     Max \n",
       "-755.15   -9.61   -0.58    8.34  979.81 \n",
       "\n",
       "Coefficients:\n",
       "              Estimate Std. Error t value Pr(>|t|)    \n",
       "(Intercept)   0.104183   0.489848   0.213  0.83158    \n",
       "PM25_lag_1    1.038842   0.007698 134.948  < 2e-16 ***\n",
       "PM25_lag_2   -0.230166   0.010988 -20.948  < 2e-16 ***\n",
       "PM25_lag_3    0.035638   0.011109   3.208  0.00134 ** \n",
       "PM25_lag_4   -0.062348   0.011107  -5.613 2.01e-08 ***\n",
       "PM25_lag_5    0.034867   0.010990   3.173  0.00151 ** \n",
       "PM25_lag_6    0.011086   0.007577   1.463  0.14345    \n",
       "PM25_lag_12   0.027319   0.003473   7.865 3.89e-15 ***\n",
       "PM25_lag_24   0.038455   0.003445  11.163  < 2e-16 ***\n",
       "hourlyindex   0.212204   0.008438  25.148  < 2e-16 ***\n",
       "dailyindex   -0.061467   0.014642  -4.198 2.71e-05 ***\n",
       "monthlyindex -0.033824   0.010808  -3.130  0.00175 ** \n",
       "weeklyindex   0.008504   0.015995   0.532  0.59495    \n",
       "---\n",
       "Signif. codes:  0 ‘***’ 0.001 ‘**’ 0.01 ‘*’ 0.05 ‘.’ 0.1 ‘ ’ 1\n",
       "\n",
       "Residual standard error: 32.81 on 17507 degrees of freedom\n",
       "Multiple R-squared:  0.9176,\tAdjusted R-squared:  0.9175 \n",
       "F-statistic: 1.624e+04 on 12 and 17507 DF,  p-value: < 2.2e-16\n"
      ]
     },
     "metadata": {},
     "output_type": "display_data"
    }
   ],
   "source": [
    "summary(lm1_cv)"
   ]
  },
  {
   "cell_type": "code",
   "execution_count": 41,
   "metadata": {},
   "outputs": [
    {
     "data": {
      "text/html": [
       "0.906359422130481"
      ],
      "text/latex": [
       "0.906359422130481"
      ],
      "text/markdown": [
       "0.906359422130481"
      ],
      "text/plain": [
       "[1] 0.9063594"
      ]
     },
     "metadata": {},
     "output_type": "display_data"
    },
    {
     "data": {
      "text/html": [
       "0.821487402084699"
      ],
      "text/latex": [
       "0.821487402084699"
      ],
      "text/markdown": [
       "0.821487402084699"
      ],
      "text/plain": [
       "[1] 0.8214874"
      ]
     },
     "metadata": {},
     "output_type": "display_data"
    },
    {
     "data": {
      "text/html": [
       "24.4606340607197"
      ],
      "text/latex": [
       "24.4606340607197"
      ],
      "text/markdown": [
       "24.4606340607197"
      ],
      "text/plain": [
       "[1] 24.46063"
      ]
     },
     "metadata": {},
     "output_type": "display_data"
    },
    {
     "data": {
      "text/html": [
       "47.6365618434078"
      ],
      "text/latex": [
       "47.6365618434078"
      ],
      "text/markdown": [
       "47.6365618434078"
      ],
      "text/plain": [
       "[1] 47.63656"
      ]
     },
     "metadata": {},
     "output_type": "display_data"
    },
    {
     "data": {
      "text/html": [
       "0.169054826050214"
      ],
      "text/latex": [
       "0.169054826050214"
      ],
      "text/markdown": [
       "0.169054826050214"
      ],
      "text/plain": [
       "[1] 0.1690548"
      ]
     },
     "metadata": {},
     "output_type": "display_data"
    }
   ],
   "source": [
    "pred_lm <- predict(lm1_cv, data_test_lagged)\n",
    "R2(data_test_lagged$PM25,pred_lm)\n",
    "MAE(data_test_lagged$PM25,pred_lm)\n",
    "RMSE(data_test_lagged$PM25,pred_lm)\n",
    "mape(data_test_lagged$PM25,pred_lm)\n"
   ]
  },
  {
   "cell_type": "code",
   "execution_count": 43,
   "metadata": {},
   "outputs": [],
   "source": [
    "save.image(file = \"Model_output/Forecasting_Index.RData\") "
   ]
  }
 ],
 "metadata": {
  "kernelspec": {
   "display_name": "R [conda env:r-env]",
   "language": "R",
   "name": "conda-env-r-env-r"
  },
  "language_info": {
   "codemirror_mode": "r",
   "file_extension": ".r",
   "mimetype": "text/x-r-source",
   "name": "R",
   "pygments_lexer": "r",
   "version": "3.6.3"
  }
 },
 "nbformat": 4,
 "nbformat_minor": 4
}
