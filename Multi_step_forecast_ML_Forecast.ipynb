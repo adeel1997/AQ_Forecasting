{
 "cells": [
  {
   "cell_type": "code",
   "execution_count": 3,
   "metadata": {},
   "outputs": [],
   "source": [
    "### Loading the relevant package  ####\n",
    "library(xts);library(caret);library(dplyr);library(zoo)\n",
    "library(tidyverse);library(lubridate);library(data.table)\n",
    "library(ggplot2);library(timeDate);library(Metrics);\n",
    "library(hydroGOF);library(imputeTS);library(readxl);library(forecastML)"
   ]
  },
  {
   "cell_type": "code",
   "execution_count": 4,
   "metadata": {},
   "outputs": [
    {
     "data": {
      "text/html": [
       "<table class=\"dataframe\">\n",
       "<caption>A tibble: 6 × 7</caption>\n",
       "<thead>\n",
       "\t<tr><th scope=col>date</th><th scope=col>PM25</th><th scope=col>AT</th><th scope=col>RH</th><th scope=col>WS</th><th scope=col>SR</th><th scope=col>WD</th></tr>\n",
       "\t<tr><th scope=col>&lt;dttm&gt;</th><th scope=col>&lt;dbl&gt;</th><th scope=col>&lt;dbl&gt;</th><th scope=col>&lt;dbl&gt;</th><th scope=col>&lt;dbl&gt;</th><th scope=col>&lt;dbl&gt;</th><th scope=col>&lt;dbl&gt;</th></tr>\n",
       "</thead>\n",
       "<tbody>\n",
       "\t<tr><td>2016-01-01 01:00:00</td><td>376.00</td><td>11.43</td><td>69.00</td><td>0.30</td><td>12.25</td><td>216.25</td></tr>\n",
       "\t<tr><td>2016-01-01 02:00:00</td><td>480.50</td><td>11.28</td><td>71.50</td><td>0.35</td><td>12.58</td><td>230.92</td></tr>\n",
       "\t<tr><td>2016-01-01 03:00:00</td><td>486.67</td><td>11.71</td><td>71.83</td><td>0.31</td><td>12.33</td><td>203.25</td></tr>\n",
       "\t<tr><td>2016-01-01 04:00:00</td><td>441.17</td><td>11.13</td><td>73.08</td><td>0.30</td><td>12.75</td><td>126.92</td></tr>\n",
       "\t<tr><td>2016-01-01 05:00:00</td><td>594.83</td><td>11.01</td><td>74.75</td><td>0.30</td><td>12.58</td><td>196.42</td></tr>\n",
       "\t<tr><td>2016-01-01 06:00:00</td><td>441.33</td><td>11.49</td><td>74.17</td><td>0.37</td><td>13.83</td><td> 80.58</td></tr>\n",
       "</tbody>\n",
       "</table>\n"
      ],
      "text/latex": [
       "A tibble: 6 × 7\n",
       "\\begin{tabular}{lllllll}\n",
       " date & PM25 & AT & RH & WS & SR & WD\\\\\n",
       " <dttm> & <dbl> & <dbl> & <dbl> & <dbl> & <dbl> & <dbl>\\\\\n",
       "\\hline\n",
       "\t 2016-01-01 01:00:00 & 376.00 & 11.43 & 69.00 & 0.30 & 12.25 & 216.25\\\\\n",
       "\t 2016-01-01 02:00:00 & 480.50 & 11.28 & 71.50 & 0.35 & 12.58 & 230.92\\\\\n",
       "\t 2016-01-01 03:00:00 & 486.67 & 11.71 & 71.83 & 0.31 & 12.33 & 203.25\\\\\n",
       "\t 2016-01-01 04:00:00 & 441.17 & 11.13 & 73.08 & 0.30 & 12.75 & 126.92\\\\\n",
       "\t 2016-01-01 05:00:00 & 594.83 & 11.01 & 74.75 & 0.30 & 12.58 & 196.42\\\\\n",
       "\t 2016-01-01 06:00:00 & 441.33 & 11.49 & 74.17 & 0.37 & 13.83 &  80.58\\\\\n",
       "\\end{tabular}\n"
      ],
      "text/markdown": [
       "\n",
       "A tibble: 6 × 7\n",
       "\n",
       "| date &lt;dttm&gt; | PM25 &lt;dbl&gt; | AT &lt;dbl&gt; | RH &lt;dbl&gt; | WS &lt;dbl&gt; | SR &lt;dbl&gt; | WD &lt;dbl&gt; |\n",
       "|---|---|---|---|---|---|---|\n",
       "| 2016-01-01 01:00:00 | 376.00 | 11.43 | 69.00 | 0.30 | 12.25 | 216.25 |\n",
       "| 2016-01-01 02:00:00 | 480.50 | 11.28 | 71.50 | 0.35 | 12.58 | 230.92 |\n",
       "| 2016-01-01 03:00:00 | 486.67 | 11.71 | 71.83 | 0.31 | 12.33 | 203.25 |\n",
       "| 2016-01-01 04:00:00 | 441.17 | 11.13 | 73.08 | 0.30 | 12.75 | 126.92 |\n",
       "| 2016-01-01 05:00:00 | 594.83 | 11.01 | 74.75 | 0.30 | 12.58 | 196.42 |\n",
       "| 2016-01-01 06:00:00 | 441.33 | 11.49 | 74.17 | 0.37 | 13.83 |  80.58 |\n",
       "\n"
      ],
      "text/plain": [
       "  date                PM25   AT    RH    WS   SR    WD    \n",
       "1 2016-01-01 01:00:00 376.00 11.43 69.00 0.30 12.25 216.25\n",
       "2 2016-01-01 02:00:00 480.50 11.28 71.50 0.35 12.58 230.92\n",
       "3 2016-01-01 03:00:00 486.67 11.71 71.83 0.31 12.33 203.25\n",
       "4 2016-01-01 04:00:00 441.17 11.13 73.08 0.30 12.75 126.92\n",
       "5 2016-01-01 05:00:00 594.83 11.01 74.75 0.30 12.58 196.42\n",
       "6 2016-01-01 06:00:00 441.33 11.49 74.17 0.37 13.83  80.58"
      ]
     },
     "metadata": {},
     "output_type": "display_data"
    }
   ],
   "source": [
    "## Data loading and cleaning  ##\n",
    "## Reading the excel file, starting with 12 line and giving NA as None value\n",
    "df <- read_xlsx('Data/Anand_Vihar_16_21.xlsx',skip = 12,na = \"None\")\n",
    "## converting date into proper date format and selecting the relevant variable needed\n",
    "df <- df %>% mutate(date = dmy_hm(`From Date`,tz=\"Asia/Kolkata\"),PM25=`PM2.5`)%>%\n",
    "select(date,PM25,AT,RH,WS,SR,WD)\n",
    "head(df)"
   ]
  },
  {
   "cell_type": "code",
   "execution_count": 5,
   "metadata": {},
   "outputs": [
    {
     "name": "stderr",
     "output_type": "stream",
     "text": [
      "`summarise()` has grouped output by 'date', 'hour', 'day', 'month'. You can override using the `.groups` argument.\n",
      "\n"
     ]
    },
    {
     "data": {
      "text/html": [
       "<table class=\"dataframe\">\n",
       "<caption>A grouped_df: 6 × 7</caption>\n",
       "<thead>\n",
       "\t<tr><th scope=col>date</th><th scope=col>hour</th><th scope=col>day</th><th scope=col>month</th><th scope=col>year</th><th scope=col>PM25</th><th scope=col>week</th></tr>\n",
       "\t<tr><th scope=col>&lt;dttm&gt;</th><th scope=col>&lt;int&gt;</th><th scope=col>&lt;int&gt;</th><th scope=col>&lt;int&gt;</th><th scope=col>&lt;int&gt;</th><th scope=col>&lt;dbl&gt;</th><th scope=col>&lt;int&gt;</th></tr>\n",
       "</thead>\n",
       "<tbody>\n",
       "\t<tr><td>2016-01-01 01:00:00</td><td>1</td><td>1</td><td>1</td><td>2016</td><td>376.00</td><td>1</td></tr>\n",
       "\t<tr><td>2016-01-01 02:00:00</td><td>2</td><td>1</td><td>1</td><td>2016</td><td>480.50</td><td>1</td></tr>\n",
       "\t<tr><td>2016-01-01 03:00:00</td><td>3</td><td>1</td><td>1</td><td>2016</td><td>486.67</td><td>1</td></tr>\n",
       "\t<tr><td>2016-01-01 04:00:00</td><td>4</td><td>1</td><td>1</td><td>2016</td><td>441.17</td><td>1</td></tr>\n",
       "\t<tr><td>2016-01-01 05:00:00</td><td>5</td><td>1</td><td>1</td><td>2016</td><td>594.83</td><td>1</td></tr>\n",
       "\t<tr><td>2016-01-01 06:00:00</td><td>6</td><td>1</td><td>1</td><td>2016</td><td>441.33</td><td>1</td></tr>\n",
       "</tbody>\n",
       "</table>\n"
      ],
      "text/latex": [
       "A grouped\\_df: 6 × 7\n",
       "\\begin{tabular}{lllllll}\n",
       " date & hour & day & month & year & PM25 & week\\\\\n",
       " <dttm> & <int> & <int> & <int> & <int> & <dbl> & <int>\\\\\n",
       "\\hline\n",
       "\t 2016-01-01 01:00:00 & 1 & 1 & 1 & 2016 & 376.00 & 1\\\\\n",
       "\t 2016-01-01 02:00:00 & 2 & 1 & 1 & 2016 & 480.50 & 1\\\\\n",
       "\t 2016-01-01 03:00:00 & 3 & 1 & 1 & 2016 & 486.67 & 1\\\\\n",
       "\t 2016-01-01 04:00:00 & 4 & 1 & 1 & 2016 & 441.17 & 1\\\\\n",
       "\t 2016-01-01 05:00:00 & 5 & 1 & 1 & 2016 & 594.83 & 1\\\\\n",
       "\t 2016-01-01 06:00:00 & 6 & 1 & 1 & 2016 & 441.33 & 1\\\\\n",
       "\\end{tabular}\n"
      ],
      "text/markdown": [
       "\n",
       "A grouped_df: 6 × 7\n",
       "\n",
       "| date &lt;dttm&gt; | hour &lt;int&gt; | day &lt;int&gt; | month &lt;int&gt; | year &lt;int&gt; | PM25 &lt;dbl&gt; | week &lt;int&gt; |\n",
       "|---|---|---|---|---|---|---|\n",
       "| 2016-01-01 01:00:00 | 1 | 1 | 1 | 2016 | 376.00 | 1 |\n",
       "| 2016-01-01 02:00:00 | 2 | 1 | 1 | 2016 | 480.50 | 1 |\n",
       "| 2016-01-01 03:00:00 | 3 | 1 | 1 | 2016 | 486.67 | 1 |\n",
       "| 2016-01-01 04:00:00 | 4 | 1 | 1 | 2016 | 441.17 | 1 |\n",
       "| 2016-01-01 05:00:00 | 5 | 1 | 1 | 2016 | 594.83 | 1 |\n",
       "| 2016-01-01 06:00:00 | 6 | 1 | 1 | 2016 | 441.33 | 1 |\n",
       "\n"
      ],
      "text/plain": [
       "  date                hour day month year PM25   week\n",
       "1 2016-01-01 01:00:00 1    1   1     2016 376.00 1   \n",
       "2 2016-01-01 02:00:00 2    1   1     2016 480.50 1   \n",
       "3 2016-01-01 03:00:00 3    1   1     2016 486.67 1   \n",
       "4 2016-01-01 04:00:00 4    1   1     2016 441.17 1   \n",
       "5 2016-01-01 05:00:00 5    1   1     2016 594.83 1   \n",
       "6 2016-01-01 06:00:00 6    1   1     2016 441.33 1   "
      ]
     },
     "metadata": {},
     "output_type": "display_data"
    }
   ],
   "source": [
    "## Converting the data into daily time series\n",
    "hourly_df <- df %>%\n",
    "  select(date, PM25) %>% # to check the model for PM2.5 replace PM2.5 by PM2.5\n",
    "  # extract date features\n",
    "  mutate(\n",
    "    date = as.POSIXct(date, format = \"%d-%m-%Y %H:%M\"), #Date format\n",
    "    hour = hour(date),\n",
    "    day = day(date),\n",
    "    month = month(date),\n",
    "    year = year(date),\n",
    "    PM2.5 = ifelse(PM25 <5 | PM25 >999 ,NA,PM25) ## Removing PM2.5 less than 5 and 999 \n",
    "  ) %>%\n",
    "  # from hourly to daily\n",
    "  group_by(date,hour, day, month, year) %>% ## Use if in case one want to convert to daily, monthly\n",
    "  summarise(PM25 = mean(PM2.5, na.rm = TRUE)) %>% ## \n",
    "  mutate(week = week(date))\n",
    "\n",
    "## Putting NA if there are null values \n",
    "hourly_df$PM25[is.nan(hourly_df$PM25)] <- NA\n",
    "head(hourly_df)"
   ]
  },
  {
   "cell_type": "code",
   "execution_count": 6,
   "metadata": {},
   "outputs": [
    {
     "name": "stderr",
     "output_type": "stream",
     "text": [
      "`summarise()` has grouped output by 'year', 'month', 'day'. You can override using the `.groups` argument.\n",
      "\n"
     ]
    },
    {
     "data": {
      "text/html": [
       "<table class=\"dataframe\">\n",
       "<caption>A tibble: 6 × 8</caption>\n",
       "<thead>\n",
       "\t<tr><th scope=col>month</th><th scope=col>day</th><th scope=col>hour</th><th scope=col>2016</th><th scope=col>2017</th><th scope=col>2018</th><th scope=col>2019</th><th scope=col>2020</th></tr>\n",
       "\t<tr><th scope=col>&lt;int&gt;</th><th scope=col>&lt;int&gt;</th><th scope=col>&lt;int&gt;</th><th scope=col>&lt;dbl&gt;</th><th scope=col>&lt;dbl&gt;</th><th scope=col>&lt;dbl&gt;</th><th scope=col>&lt;dbl&gt;</th><th scope=col>&lt;dbl&gt;</th></tr>\n",
       "</thead>\n",
       "<tbody>\n",
       "\t<tr><td>1</td><td>1</td><td>0</td><td>    NA</td><td>162.00</td><td>754</td><td>517.25</td><td>857.50</td></tr>\n",
       "\t<tr><td>1</td><td>1</td><td>1</td><td>376.00</td><td>165.17</td><td>754</td><td>531.25</td><td>472.75</td></tr>\n",
       "\t<tr><td>1</td><td>1</td><td>2</td><td>480.50</td><td>176.67</td><td>868</td><td>542.00</td><td>384.75</td></tr>\n",
       "\t<tr><td>1</td><td>1</td><td>3</td><td>486.67</td><td>150.67</td><td>854</td><td>547.50</td><td>334.50</td></tr>\n",
       "\t<tr><td>1</td><td>1</td><td>4</td><td>441.17</td><td>129.50</td><td>713</td><td>497.00</td><td>362.75</td></tr>\n",
       "\t<tr><td>1</td><td>1</td><td>5</td><td>594.83</td><td>145.00</td><td>625</td><td>467.50</td><td>403.25</td></tr>\n",
       "</tbody>\n",
       "</table>\n"
      ],
      "text/latex": [
       "A tibble: 6 × 8\n",
       "\\begin{tabular}{llllllll}\n",
       " month & day & hour & 2016 & 2017 & 2018 & 2019 & 2020\\\\\n",
       " <int> & <int> & <int> & <dbl> & <dbl> & <dbl> & <dbl> & <dbl>\\\\\n",
       "\\hline\n",
       "\t 1 & 1 & 0 &     NA & 162.00 & 754 & 517.25 & 857.50\\\\\n",
       "\t 1 & 1 & 1 & 376.00 & 165.17 & 754 & 531.25 & 472.75\\\\\n",
       "\t 1 & 1 & 2 & 480.50 & 176.67 & 868 & 542.00 & 384.75\\\\\n",
       "\t 1 & 1 & 3 & 486.67 & 150.67 & 854 & 547.50 & 334.50\\\\\n",
       "\t 1 & 1 & 4 & 441.17 & 129.50 & 713 & 497.00 & 362.75\\\\\n",
       "\t 1 & 1 & 5 & 594.83 & 145.00 & 625 & 467.50 & 403.25\\\\\n",
       "\\end{tabular}\n"
      ],
      "text/markdown": [
       "\n",
       "A tibble: 6 × 8\n",
       "\n",
       "| month &lt;int&gt; | day &lt;int&gt; | hour &lt;int&gt; | 2016 &lt;dbl&gt; | 2017 &lt;dbl&gt; | 2018 &lt;dbl&gt; | 2019 &lt;dbl&gt; | 2020 &lt;dbl&gt; |\n",
       "|---|---|---|---|---|---|---|---|\n",
       "| 1 | 1 | 0 |     NA | 162.00 | 754 | 517.25 | 857.50 |\n",
       "| 1 | 1 | 1 | 376.00 | 165.17 | 754 | 531.25 | 472.75 |\n",
       "| 1 | 1 | 2 | 480.50 | 176.67 | 868 | 542.00 | 384.75 |\n",
       "| 1 | 1 | 3 | 486.67 | 150.67 | 854 | 547.50 | 334.50 |\n",
       "| 1 | 1 | 4 | 441.17 | 129.50 | 713 | 497.00 | 362.75 |\n",
       "| 1 | 1 | 5 | 594.83 | 145.00 | 625 | 467.50 | 403.25 |\n",
       "\n"
      ],
      "text/plain": [
       "  month day hour 2016   2017   2018 2019   2020  \n",
       "1 1     1   0        NA 162.00 754  517.25 857.50\n",
       "2 1     1   1    376.00 165.17 754  531.25 472.75\n",
       "3 1     1   2    480.50 176.67 868  542.00 384.75\n",
       "4 1     1   3    486.67 150.67 854  547.50 334.50\n",
       "5 1     1   4    441.17 129.50 713  497.00 362.75\n",
       "6 1     1   5    594.83 145.00 625  467.50 403.25"
      ]
     },
     "metadata": {},
     "output_type": "display_data"
    },
    {
     "data": {
      "text/html": [
       "<table class=\"dataframe\">\n",
       "<caption>A data.frame: 6 × 11</caption>\n",
       "<thead>\n",
       "\t<tr><th></th><th scope=col>month</th><th scope=col>day</th><th scope=col>hour</th><th scope=col>2016</th><th scope=col>2017</th><th scope=col>2018</th><th scope=col>2019</th><th scope=col>2020</th><th scope=col>meanindex</th><th scope=col>summary_mean</th><th scope=col>hourlyindex</th></tr>\n",
       "\t<tr><th></th><th scope=col>&lt;int&gt;</th><th scope=col>&lt;int&gt;</th><th scope=col>&lt;int&gt;</th><th scope=col>&lt;dbl&gt;</th><th scope=col>&lt;dbl&gt;</th><th scope=col>&lt;dbl&gt;</th><th scope=col>&lt;dbl&gt;</th><th scope=col>&lt;dbl&gt;</th><th scope=col>&lt;dbl&gt;</th><th scope=col>&lt;dbl&gt;</th><th scope=col>&lt;dbl&gt;</th></tr>\n",
       "</thead>\n",
       "<tbody>\n",
       "\t<tr><th scope=row>1</th><td>1</td><td>1</td><td>0</td><td>    NA</td><td>162.00</td><td>754</td><td>517.25</td><td>857.50</td><td>572.6875</td><td>139.2944</td><td>411.1348</td></tr>\n",
       "\t<tr><th scope=row>2</th><td>1</td><td>1</td><td>1</td><td>376.00</td><td>165.17</td><td>754</td><td>531.25</td><td>472.75</td><td>459.8340</td><td>139.2944</td><td>330.1168</td></tr>\n",
       "\t<tr><th scope=row>3</th><td>1</td><td>1</td><td>2</td><td>480.50</td><td>176.67</td><td>868</td><td>542.00</td><td>384.75</td><td>490.3840</td><td>139.2944</td><td>352.0487</td></tr>\n",
       "\t<tr><th scope=row>4</th><td>1</td><td>1</td><td>3</td><td>486.67</td><td>150.67</td><td>854</td><td>547.50</td><td>334.50</td><td>474.6680</td><td>139.2944</td><td>340.7661</td></tr>\n",
       "\t<tr><th scope=row>5</th><td>1</td><td>1</td><td>4</td><td>441.17</td><td>129.50</td><td>713</td><td>497.00</td><td>362.75</td><td>428.6840</td><td>139.2944</td><td>307.7540</td></tr>\n",
       "\t<tr><th scope=row>6</th><td>1</td><td>1</td><td>5</td><td>594.83</td><td>145.00</td><td>625</td><td>467.50</td><td>403.25</td><td>447.1160</td><td>139.2944</td><td>320.9865</td></tr>\n",
       "</tbody>\n",
       "</table>\n"
      ],
      "text/latex": [
       "A data.frame: 6 × 11\n",
       "\\begin{tabular}{r|lllllllllll}\n",
       "  & month & day & hour & 2016 & 2017 & 2018 & 2019 & 2020 & meanindex & summary\\_mean & hourlyindex\\\\\n",
       "  & <int> & <int> & <int> & <dbl> & <dbl> & <dbl> & <dbl> & <dbl> & <dbl> & <dbl> & <dbl>\\\\\n",
       "\\hline\n",
       "\t1 & 1 & 1 & 0 &     NA & 162.00 & 754 & 517.25 & 857.50 & 572.6875 & 139.2944 & 411.1348\\\\\n",
       "\t2 & 1 & 1 & 1 & 376.00 & 165.17 & 754 & 531.25 & 472.75 & 459.8340 & 139.2944 & 330.1168\\\\\n",
       "\t3 & 1 & 1 & 2 & 480.50 & 176.67 & 868 & 542.00 & 384.75 & 490.3840 & 139.2944 & 352.0487\\\\\n",
       "\t4 & 1 & 1 & 3 & 486.67 & 150.67 & 854 & 547.50 & 334.50 & 474.6680 & 139.2944 & 340.7661\\\\\n",
       "\t5 & 1 & 1 & 4 & 441.17 & 129.50 & 713 & 497.00 & 362.75 & 428.6840 & 139.2944 & 307.7540\\\\\n",
       "\t6 & 1 & 1 & 5 & 594.83 & 145.00 & 625 & 467.50 & 403.25 & 447.1160 & 139.2944 & 320.9865\\\\\n",
       "\\end{tabular}\n"
      ],
      "text/markdown": [
       "\n",
       "A data.frame: 6 × 11\n",
       "\n",
       "| <!--/--> | month &lt;int&gt; | day &lt;int&gt; | hour &lt;int&gt; | 2016 &lt;dbl&gt; | 2017 &lt;dbl&gt; | 2018 &lt;dbl&gt; | 2019 &lt;dbl&gt; | 2020 &lt;dbl&gt; | meanindex &lt;dbl&gt; | summary_mean &lt;dbl&gt; | hourlyindex &lt;dbl&gt; |\n",
       "|---|---|---|---|---|---|---|---|---|---|---|---|\n",
       "| 1 | 1 | 1 | 0 |     NA | 162.00 | 754 | 517.25 | 857.50 | 572.6875 | 139.2944 | 411.1348 |\n",
       "| 2 | 1 | 1 | 1 | 376.00 | 165.17 | 754 | 531.25 | 472.75 | 459.8340 | 139.2944 | 330.1168 |\n",
       "| 3 | 1 | 1 | 2 | 480.50 | 176.67 | 868 | 542.00 | 384.75 | 490.3840 | 139.2944 | 352.0487 |\n",
       "| 4 | 1 | 1 | 3 | 486.67 | 150.67 | 854 | 547.50 | 334.50 | 474.6680 | 139.2944 | 340.7661 |\n",
       "| 5 | 1 | 1 | 4 | 441.17 | 129.50 | 713 | 497.00 | 362.75 | 428.6840 | 139.2944 | 307.7540 |\n",
       "| 6 | 1 | 1 | 5 | 594.83 | 145.00 | 625 | 467.50 | 403.25 | 447.1160 | 139.2944 | 320.9865 |\n",
       "\n"
      ],
      "text/plain": [
       "  month day hour 2016   2017   2018 2019   2020   meanindex summary_mean\n",
       "1 1     1   0        NA 162.00 754  517.25 857.50 572.6875  139.2944    \n",
       "2 1     1   1    376.00 165.17 754  531.25 472.75 459.8340  139.2944    \n",
       "3 1     1   2    480.50 176.67 868  542.00 384.75 490.3840  139.2944    \n",
       "4 1     1   3    486.67 150.67 854  547.50 334.50 474.6680  139.2944    \n",
       "5 1     1   4    441.17 129.50 713  497.00 362.75 428.6840  139.2944    \n",
       "6 1     1   5    594.83 145.00 625  467.50 403.25 447.1160  139.2944    \n",
       "  hourlyindex\n",
       "1 411.1348   \n",
       "2 330.1168   \n",
       "3 352.0487   \n",
       "4 340.7661   \n",
       "5 307.7540   \n",
       "6 320.9865   "
      ]
     },
     "metadata": {},
     "output_type": "display_data"
    }
   ],
   "source": [
    "######################## Seasonal Indexes #####################################\n",
    "\n",
    "## We creating index of seasons from the data till 2020 end\n",
    "\n",
    "seasonalIndex <- hourly_df %>% filter(date < as.Date(\"2021-1-01\"))\n",
    "\n",
    "\n",
    "############################### Hourly seasonality  #######################\n",
    "hourly_s <- seasonalIndex %>% group_by(year, month, day,hour) %>%\n",
    "  summarize(average = mean(PM25, na.rm = TRUE))\n",
    "\n",
    "hourly_s$average[is.nan(hourly_s$average)] <- NA\n",
    "\n",
    "## Spanning the year wise value column wise\n",
    "hourly_s <- hourly_s %>% ungroup() %>%\n",
    "  spread(year, average)\n",
    "head(hourly_s)\n",
    "\n",
    "# Calcuating the mean hourly index over the years (Except first, second and third columns)\n",
    "hourly_s$meanindex <- rowMeans(hourly_s[, -c(1,2,3)], na.rm = TRUE)\n",
    "\n",
    "## Summary mean is the mean of Mean index\n",
    "summary_mean <- hourly_s %>% ungroup() %>%\n",
    "  summarize(summary_mean = mean(meanindex, na.rm = T))\n",
    "\n",
    "## We merge the Summary mean with our old data frame \n",
    "hourly_s <- merge(hourly_s, summary_mean)\n",
    "\n",
    "## Finally calculating the hourly index by mean index/ summary mean * 100\n",
    "hourly_s <-\n",
    "  hourly_s %>% mutate(hourlyindex = meanindex / summary_mean * 100)\n",
    "\n",
    "head(hourly_s)\n"
   ]
  },
  {
   "cell_type": "code",
   "execution_count": 7,
   "metadata": {},
   "outputs": [
    {
     "name": "stderr",
     "output_type": "stream",
     "text": [
      "`summarise()` has grouped output by 'year', 'month'. You can override using the `.groups` argument.\n",
      "\n"
     ]
    },
    {
     "data": {
      "text/html": [
       "<table class=\"dataframe\">\n",
       "<caption>A tibble: 6 × 7</caption>\n",
       "<thead>\n",
       "\t<tr><th scope=col>month</th><th scope=col>day</th><th scope=col>2016</th><th scope=col>2017</th><th scope=col>2018</th><th scope=col>2019</th><th scope=col>2020</th></tr>\n",
       "\t<tr><th scope=col>&lt;int&gt;</th><th scope=col>&lt;int&gt;</th><th scope=col>&lt;dbl&gt;</th><th scope=col>&lt;dbl&gt;</th><th scope=col>&lt;dbl&gt;</th><th scope=col>&lt;dbl&gt;</th><th scope=col>&lt;dbl&gt;</th></tr>\n",
       "</thead>\n",
       "<tbody>\n",
       "\t<tr><td>1</td><td>1</td><td>359.5730</td><td>199.8817</td><td>481.6250</td><td>380.2292</td><td>367.3750</td></tr>\n",
       "\t<tr><td>1</td><td>2</td><td>327.9150</td><td>257.1204</td><td>359.6667</td><td>418.4688</td><td>361.6875</td></tr>\n",
       "\t<tr><td>1</td><td>3</td><td>341.3188</td><td>271.6446</td><td>287.7083</td><td>412.8854</td><td>378.6765</td></tr>\n",
       "\t<tr><td>1</td><td>4</td><td>480.0688</td><td>270.1217</td><td>351.6250</td><td>291.9479</td><td>216.5625</td></tr>\n",
       "\t<tr><td>1</td><td>5</td><td>433.3537</td><td>246.8504</td><td>306.2500</td><td>241.6667</td><td>190.5938</td></tr>\n",
       "\t<tr><td>1</td><td>6</td><td>371.7995</td><td>189.3525</td><td>324.7500</td><td>191.8542</td><td>166.8646</td></tr>\n",
       "</tbody>\n",
       "</table>\n"
      ],
      "text/latex": [
       "A tibble: 6 × 7\n",
       "\\begin{tabular}{lllllll}\n",
       " month & day & 2016 & 2017 & 2018 & 2019 & 2020\\\\\n",
       " <int> & <int> & <dbl> & <dbl> & <dbl> & <dbl> & <dbl>\\\\\n",
       "\\hline\n",
       "\t 1 & 1 & 359.5730 & 199.8817 & 481.6250 & 380.2292 & 367.3750\\\\\n",
       "\t 1 & 2 & 327.9150 & 257.1204 & 359.6667 & 418.4688 & 361.6875\\\\\n",
       "\t 1 & 3 & 341.3188 & 271.6446 & 287.7083 & 412.8854 & 378.6765\\\\\n",
       "\t 1 & 4 & 480.0688 & 270.1217 & 351.6250 & 291.9479 & 216.5625\\\\\n",
       "\t 1 & 5 & 433.3537 & 246.8504 & 306.2500 & 241.6667 & 190.5938\\\\\n",
       "\t 1 & 6 & 371.7995 & 189.3525 & 324.7500 & 191.8542 & 166.8646\\\\\n",
       "\\end{tabular}\n"
      ],
      "text/markdown": [
       "\n",
       "A tibble: 6 × 7\n",
       "\n",
       "| month &lt;int&gt; | day &lt;int&gt; | 2016 &lt;dbl&gt; | 2017 &lt;dbl&gt; | 2018 &lt;dbl&gt; | 2019 &lt;dbl&gt; | 2020 &lt;dbl&gt; |\n",
       "|---|---|---|---|---|---|---|\n",
       "| 1 | 1 | 359.5730 | 199.8817 | 481.6250 | 380.2292 | 367.3750 |\n",
       "| 1 | 2 | 327.9150 | 257.1204 | 359.6667 | 418.4688 | 361.6875 |\n",
       "| 1 | 3 | 341.3188 | 271.6446 | 287.7083 | 412.8854 | 378.6765 |\n",
       "| 1 | 4 | 480.0688 | 270.1217 | 351.6250 | 291.9479 | 216.5625 |\n",
       "| 1 | 5 | 433.3537 | 246.8504 | 306.2500 | 241.6667 | 190.5938 |\n",
       "| 1 | 6 | 371.7995 | 189.3525 | 324.7500 | 191.8542 | 166.8646 |\n",
       "\n"
      ],
      "text/plain": [
       "  month day 2016     2017     2018     2019     2020    \n",
       "1 1     1   359.5730 199.8817 481.6250 380.2292 367.3750\n",
       "2 1     2   327.9150 257.1204 359.6667 418.4688 361.6875\n",
       "3 1     3   341.3188 271.6446 287.7083 412.8854 378.6765\n",
       "4 1     4   480.0688 270.1217 351.6250 291.9479 216.5625\n",
       "5 1     5   433.3537 246.8504 306.2500 241.6667 190.5938\n",
       "6 1     6   371.7995 189.3525 324.7500 191.8542 166.8646"
      ]
     },
     "metadata": {},
     "output_type": "display_data"
    },
    {
     "data": {
      "text/html": [
       "<table class=\"dataframe\">\n",
       "<caption>A data.frame: 6 × 10</caption>\n",
       "<thead>\n",
       "\t<tr><th></th><th scope=col>month</th><th scope=col>day</th><th scope=col>2016</th><th scope=col>2017</th><th scope=col>2018</th><th scope=col>2019</th><th scope=col>2020</th><th scope=col>meanindex</th><th scope=col>summary_mean</th><th scope=col>dailyindex</th></tr>\n",
       "\t<tr><th></th><th scope=col>&lt;int&gt;</th><th scope=col>&lt;int&gt;</th><th scope=col>&lt;dbl&gt;</th><th scope=col>&lt;dbl&gt;</th><th scope=col>&lt;dbl&gt;</th><th scope=col>&lt;dbl&gt;</th><th scope=col>&lt;dbl&gt;</th><th scope=col>&lt;dbl&gt;</th><th scope=col>&lt;dbl&gt;</th><th scope=col>&lt;dbl&gt;</th></tr>\n",
       "</thead>\n",
       "<tbody>\n",
       "\t<tr><th scope=row>1</th><td>1</td><td>1</td><td>359.5730</td><td>199.8817</td><td>481.6250</td><td>380.2292</td><td>367.3750</td><td>357.7368</td><td>139.0868</td><td>257.2039</td></tr>\n",
       "\t<tr><th scope=row>2</th><td>1</td><td>2</td><td>327.9150</td><td>257.1204</td><td>359.6667</td><td>418.4688</td><td>361.6875</td><td>344.9717</td><td>139.0868</td><td>248.0261</td></tr>\n",
       "\t<tr><th scope=row>3</th><td>1</td><td>3</td><td>341.3188</td><td>271.6446</td><td>287.7083</td><td>412.8854</td><td>378.6765</td><td>338.4467</td><td>139.0868</td><td>243.3348</td></tr>\n",
       "\t<tr><th scope=row>4</th><td>1</td><td>4</td><td>480.0688</td><td>270.1217</td><td>351.6250</td><td>291.9479</td><td>216.5625</td><td>322.0652</td><td>139.0868</td><td>231.5569</td></tr>\n",
       "\t<tr><th scope=row>5</th><td>1</td><td>5</td><td>433.3537</td><td>246.8504</td><td>306.2500</td><td>241.6667</td><td>190.5938</td><td>283.7429</td><td>139.0868</td><td>204.0041</td></tr>\n",
       "\t<tr><th scope=row>6</th><td>1</td><td>6</td><td>371.7995</td><td>189.3525</td><td>324.7500</td><td>191.8542</td><td>166.8646</td><td>248.9242</td><td>139.0868</td><td>178.9703</td></tr>\n",
       "</tbody>\n",
       "</table>\n"
      ],
      "text/latex": [
       "A data.frame: 6 × 10\n",
       "\\begin{tabular}{r|llllllllll}\n",
       "  & month & day & 2016 & 2017 & 2018 & 2019 & 2020 & meanindex & summary\\_mean & dailyindex\\\\\n",
       "  & <int> & <int> & <dbl> & <dbl> & <dbl> & <dbl> & <dbl> & <dbl> & <dbl> & <dbl>\\\\\n",
       "\\hline\n",
       "\t1 & 1 & 1 & 359.5730 & 199.8817 & 481.6250 & 380.2292 & 367.3750 & 357.7368 & 139.0868 & 257.2039\\\\\n",
       "\t2 & 1 & 2 & 327.9150 & 257.1204 & 359.6667 & 418.4688 & 361.6875 & 344.9717 & 139.0868 & 248.0261\\\\\n",
       "\t3 & 1 & 3 & 341.3188 & 271.6446 & 287.7083 & 412.8854 & 378.6765 & 338.4467 & 139.0868 & 243.3348\\\\\n",
       "\t4 & 1 & 4 & 480.0688 & 270.1217 & 351.6250 & 291.9479 & 216.5625 & 322.0652 & 139.0868 & 231.5569\\\\\n",
       "\t5 & 1 & 5 & 433.3537 & 246.8504 & 306.2500 & 241.6667 & 190.5938 & 283.7429 & 139.0868 & 204.0041\\\\\n",
       "\t6 & 1 & 6 & 371.7995 & 189.3525 & 324.7500 & 191.8542 & 166.8646 & 248.9242 & 139.0868 & 178.9703\\\\\n",
       "\\end{tabular}\n"
      ],
      "text/markdown": [
       "\n",
       "A data.frame: 6 × 10\n",
       "\n",
       "| <!--/--> | month &lt;int&gt; | day &lt;int&gt; | 2016 &lt;dbl&gt; | 2017 &lt;dbl&gt; | 2018 &lt;dbl&gt; | 2019 &lt;dbl&gt; | 2020 &lt;dbl&gt; | meanindex &lt;dbl&gt; | summary_mean &lt;dbl&gt; | dailyindex &lt;dbl&gt; |\n",
       "|---|---|---|---|---|---|---|---|---|---|---|\n",
       "| 1 | 1 | 1 | 359.5730 | 199.8817 | 481.6250 | 380.2292 | 367.3750 | 357.7368 | 139.0868 | 257.2039 |\n",
       "| 2 | 1 | 2 | 327.9150 | 257.1204 | 359.6667 | 418.4688 | 361.6875 | 344.9717 | 139.0868 | 248.0261 |\n",
       "| 3 | 1 | 3 | 341.3188 | 271.6446 | 287.7083 | 412.8854 | 378.6765 | 338.4467 | 139.0868 | 243.3348 |\n",
       "| 4 | 1 | 4 | 480.0688 | 270.1217 | 351.6250 | 291.9479 | 216.5625 | 322.0652 | 139.0868 | 231.5569 |\n",
       "| 5 | 1 | 5 | 433.3537 | 246.8504 | 306.2500 | 241.6667 | 190.5938 | 283.7429 | 139.0868 | 204.0041 |\n",
       "| 6 | 1 | 6 | 371.7995 | 189.3525 | 324.7500 | 191.8542 | 166.8646 | 248.9242 | 139.0868 | 178.9703 |\n",
       "\n"
      ],
      "text/plain": [
       "  month day 2016     2017     2018     2019     2020     meanindex summary_mean\n",
       "1 1     1   359.5730 199.8817 481.6250 380.2292 367.3750 357.7368  139.0868    \n",
       "2 1     2   327.9150 257.1204 359.6667 418.4688 361.6875 344.9717  139.0868    \n",
       "3 1     3   341.3188 271.6446 287.7083 412.8854 378.6765 338.4467  139.0868    \n",
       "4 1     4   480.0688 270.1217 351.6250 291.9479 216.5625 322.0652  139.0868    \n",
       "5 1     5   433.3537 246.8504 306.2500 241.6667 190.5938 283.7429  139.0868    \n",
       "6 1     6   371.7995 189.3525 324.7500 191.8542 166.8646 248.9242  139.0868    \n",
       "  dailyindex\n",
       "1 257.2039  \n",
       "2 248.0261  \n",
       "3 243.3348  \n",
       "4 231.5569  \n",
       "5 204.0041  \n",
       "6 178.9703  "
      ]
     },
     "metadata": {},
     "output_type": "display_data"
    },
    {
     "data": {
      "image/png": "[encoded data removed]",
      "text/plain": [
       "plot without title"
      ]
     },
     "metadata": {
      "image/png": {
       "height": 420,
       "width": 420
      }
     },
     "output_type": "display_data"
    }
   ],
   "source": [
    "############################### daily seasonality  #######################\n",
    "daily_s <- seasonalIndex %>% group_by(year, month, day) %>%\n",
    "  summarize(average = mean(PM25, na.rm = TRUE))\n",
    "\n",
    "daily_s$average[is.nan(daily_s$average)] <- NA\n",
    "\n",
    "## Spanning the year wise value column wise\n",
    "daily_s <- daily_s %>% ungroup() %>%\n",
    "  spread(year, average)\n",
    "head(daily_s)\n",
    "\n",
    "# Calcuating the mean daily index over the years (Except first and second columns)\n",
    "daily_s$meanindex <- rowMeans(daily_s[, -c(1,2)], na.rm = TRUE)\n",
    "\n",
    "## Summary mean is the mean of Mean index\n",
    "summary_mean <- daily_s %>% ungroup() %>%\n",
    "  summarize(summary_mean = mean(meanindex, na.rm = T))\n",
    "\n",
    "## We merge the Summary mean with our old data frame \n",
    "daily_s <- merge(daily_s, summary_mean)\n",
    "\n",
    "## Finally calculating the daily index by mean index/ summary mean * 100\n",
    "daily_s <-\n",
    "  daily_s %>% mutate(dailyindex = meanindex / summary_mean * 100)\n",
    "\n",
    "head(daily_s)\n",
    "plot(daily_s$dailyindex,type=\"l\")"
   ]
  },
  {
   "cell_type": "code",
   "execution_count": 8,
   "metadata": {},
   "outputs": [
    {
     "name": "stderr",
     "output_type": "stream",
     "text": [
      "`summarise()` has grouped output by 'year'. You can override using the `.groups` argument.\n",
      "\n"
     ]
    },
    {
     "data": {
      "text/html": [
       "<table class=\"dataframe\">\n",
       "<caption>A tibble: 6 × 6</caption>\n",
       "<thead>\n",
       "\t<tr><th scope=col>week</th><th scope=col>2016</th><th scope=col>2017</th><th scope=col>2018</th><th scope=col>2019</th><th scope=col>2020</th></tr>\n",
       "\t<tr><th scope=col>&lt;int&gt;</th><th scope=col>&lt;dbl&gt;</th><th scope=col>&lt;dbl&gt;</th><th scope=col>&lt;dbl&gt;</th><th scope=col>&lt;dbl&gt;</th><th scope=col>&lt;dbl&gt;</th></tr>\n",
       "</thead>\n",
       "<tbody>\n",
       "\t<tr><td>1</td><td>386.0533</td><td>239.1619</td><td>351.9375</td><td>322.8420</td><td>278.9070</td></tr>\n",
       "\t<tr><td>2</td><td>348.5349</td><td>169.6000</td><td>267.3865</td><td>259.8899</td><td>179.3212</td></tr>\n",
       "\t<tr><td>3</td><td>250.1298</td><td>162.1944</td><td>298.8579</td><td>283.6310</td><td>148.1811</td></tr>\n",
       "\t<tr><td>4</td><td>324.5103</td><td>167.0156</td><td>204.7348</td><td>118.1771</td><td>200.7925</td></tr>\n",
       "\t<tr><td>5</td><td>348.7608</td><td>178.0511</td><td>169.1964</td><td>189.1205</td><td>109.1730</td></tr>\n",
       "\t<tr><td>6</td><td>208.5622</td><td>151.1387</td><td>193.1677</td><td>157.0849</td><td>157.4178</td></tr>\n",
       "</tbody>\n",
       "</table>\n"
      ],
      "text/latex": [
       "A tibble: 6 × 6\n",
       "\\begin{tabular}{llllll}\n",
       " week & 2016 & 2017 & 2018 & 2019 & 2020\\\\\n",
       " <int> & <dbl> & <dbl> & <dbl> & <dbl> & <dbl>\\\\\n",
       "\\hline\n",
       "\t 1 & 386.0533 & 239.1619 & 351.9375 & 322.8420 & 278.9070\\\\\n",
       "\t 2 & 348.5349 & 169.6000 & 267.3865 & 259.8899 & 179.3212\\\\\n",
       "\t 3 & 250.1298 & 162.1944 & 298.8579 & 283.6310 & 148.1811\\\\\n",
       "\t 4 & 324.5103 & 167.0156 & 204.7348 & 118.1771 & 200.7925\\\\\n",
       "\t 5 & 348.7608 & 178.0511 & 169.1964 & 189.1205 & 109.1730\\\\\n",
       "\t 6 & 208.5622 & 151.1387 & 193.1677 & 157.0849 & 157.4178\\\\\n",
       "\\end{tabular}\n"
      ],
      "text/markdown": [
       "\n",
       "A tibble: 6 × 6\n",
       "\n",
       "| week &lt;int&gt; | 2016 &lt;dbl&gt; | 2017 &lt;dbl&gt; | 2018 &lt;dbl&gt; | 2019 &lt;dbl&gt; | 2020 &lt;dbl&gt; |\n",
       "|---|---|---|---|---|---|\n",
       "| 1 | 386.0533 | 239.1619 | 351.9375 | 322.8420 | 278.9070 |\n",
       "| 2 | 348.5349 | 169.6000 | 267.3865 | 259.8899 | 179.3212 |\n",
       "| 3 | 250.1298 | 162.1944 | 298.8579 | 283.6310 | 148.1811 |\n",
       "| 4 | 324.5103 | 167.0156 | 204.7348 | 118.1771 | 200.7925 |\n",
       "| 5 | 348.7608 | 178.0511 | 169.1964 | 189.1205 | 109.1730 |\n",
       "| 6 | 208.5622 | 151.1387 | 193.1677 | 157.0849 | 157.4178 |\n",
       "\n"
      ],
      "text/plain": [
       "  week 2016     2017     2018     2019     2020    \n",
       "1 1    386.0533 239.1619 351.9375 322.8420 278.9070\n",
       "2 2    348.5349 169.6000 267.3865 259.8899 179.3212\n",
       "3 3    250.1298 162.1944 298.8579 283.6310 148.1811\n",
       "4 4    324.5103 167.0156 204.7348 118.1771 200.7925\n",
       "5 5    348.7608 178.0511 169.1964 189.1205 109.1730\n",
       "6 6    208.5622 151.1387 193.1677 157.0849 157.4178"
      ]
     },
     "metadata": {},
     "output_type": "display_data"
    },
    {
     "data": {
      "text/html": [
       "<table class=\"dataframe\">\n",
       "<caption>A data.frame: 6 × 9</caption>\n",
       "<thead>\n",
       "\t<tr><th></th><th scope=col>week</th><th scope=col>2016</th><th scope=col>2017</th><th scope=col>2018</th><th scope=col>2019</th><th scope=col>2020</th><th scope=col>meanindex</th><th scope=col>summary_mean</th><th scope=col>weeklyindex</th></tr>\n",
       "\t<tr><th></th><th scope=col>&lt;int&gt;</th><th scope=col>&lt;dbl&gt;</th><th scope=col>&lt;dbl&gt;</th><th scope=col>&lt;dbl&gt;</th><th scope=col>&lt;dbl&gt;</th><th scope=col>&lt;dbl&gt;</th><th scope=col>&lt;dbl&gt;</th><th scope=col>&lt;dbl&gt;</th><th scope=col>&lt;dbl&gt;</th></tr>\n",
       "</thead>\n",
       "<tbody>\n",
       "\t<tr><th scope=row>1</th><td>1</td><td>386.0533</td><td>239.1619</td><td>351.9375</td><td>322.8420</td><td>278.9070</td><td>315.7803</td><td>143.5015</td><td>220.0537</td></tr>\n",
       "\t<tr><th scope=row>2</th><td>2</td><td>348.5349</td><td>169.6000</td><td>267.3865</td><td>259.8899</td><td>179.3212</td><td>244.9465</td><td>143.5015</td><td>170.6927</td></tr>\n",
       "\t<tr><th scope=row>3</th><td>3</td><td>250.1298</td><td>162.1944</td><td>298.8579</td><td>283.6310</td><td>148.1811</td><td>228.5988</td><td>143.5015</td><td>159.3007</td></tr>\n",
       "\t<tr><th scope=row>4</th><td>4</td><td>324.5103</td><td>167.0156</td><td>204.7348</td><td>118.1771</td><td>200.7925</td><td>203.0461</td><td>143.5015</td><td>141.4941</td></tr>\n",
       "\t<tr><th scope=row>5</th><td>5</td><td>348.7608</td><td>178.0511</td><td>169.1964</td><td>189.1205</td><td>109.1730</td><td>198.8604</td><td>143.5015</td><td>138.5772</td></tr>\n",
       "\t<tr><th scope=row>6</th><td>6</td><td>208.5622</td><td>151.1387</td><td>193.1677</td><td>157.0849</td><td>157.4178</td><td>173.4742</td><td>143.5015</td><td>120.8867</td></tr>\n",
       "</tbody>\n",
       "</table>\n"
      ],
      "text/latex": [
       "A data.frame: 6 × 9\n",
       "\\begin{tabular}{r|lllllllll}\n",
       "  & week & 2016 & 2017 & 2018 & 2019 & 2020 & meanindex & summary\\_mean & weeklyindex\\\\\n",
       "  & <int> & <dbl> & <dbl> & <dbl> & <dbl> & <dbl> & <dbl> & <dbl> & <dbl>\\\\\n",
       "\\hline\n",
       "\t1 & 1 & 386.0533 & 239.1619 & 351.9375 & 322.8420 & 278.9070 & 315.7803 & 143.5015 & 220.0537\\\\\n",
       "\t2 & 2 & 348.5349 & 169.6000 & 267.3865 & 259.8899 & 179.3212 & 244.9465 & 143.5015 & 170.6927\\\\\n",
       "\t3 & 3 & 250.1298 & 162.1944 & 298.8579 & 283.6310 & 148.1811 & 228.5988 & 143.5015 & 159.3007\\\\\n",
       "\t4 & 4 & 324.5103 & 167.0156 & 204.7348 & 118.1771 & 200.7925 & 203.0461 & 143.5015 & 141.4941\\\\\n",
       "\t5 & 5 & 348.7608 & 178.0511 & 169.1964 & 189.1205 & 109.1730 & 198.8604 & 143.5015 & 138.5772\\\\\n",
       "\t6 & 6 & 208.5622 & 151.1387 & 193.1677 & 157.0849 & 157.4178 & 173.4742 & 143.5015 & 120.8867\\\\\n",
       "\\end{tabular}\n"
      ],
      "text/markdown": [
       "\n",
       "A data.frame: 6 × 9\n",
       "\n",
       "| <!--/--> | week &lt;int&gt; | 2016 &lt;dbl&gt; | 2017 &lt;dbl&gt; | 2018 &lt;dbl&gt; | 2019 &lt;dbl&gt; | 2020 &lt;dbl&gt; | meanindex &lt;dbl&gt; | summary_mean &lt;dbl&gt; | weeklyindex &lt;dbl&gt; |\n",
       "|---|---|---|---|---|---|---|---|---|---|\n",
       "| 1 | 1 | 386.0533 | 239.1619 | 351.9375 | 322.8420 | 278.9070 | 315.7803 | 143.5015 | 220.0537 |\n",
       "| 2 | 2 | 348.5349 | 169.6000 | 267.3865 | 259.8899 | 179.3212 | 244.9465 | 143.5015 | 170.6927 |\n",
       "| 3 | 3 | 250.1298 | 162.1944 | 298.8579 | 283.6310 | 148.1811 | 228.5988 | 143.5015 | 159.3007 |\n",
       "| 4 | 4 | 324.5103 | 167.0156 | 204.7348 | 118.1771 | 200.7925 | 203.0461 | 143.5015 | 141.4941 |\n",
       "| 5 | 5 | 348.7608 | 178.0511 | 169.1964 | 189.1205 | 109.1730 | 198.8604 | 143.5015 | 138.5772 |\n",
       "| 6 | 6 | 208.5622 | 151.1387 | 193.1677 | 157.0849 | 157.4178 | 173.4742 | 143.5015 | 120.8867 |\n",
       "\n"
      ],
      "text/plain": [
       "  week 2016     2017     2018     2019     2020     meanindex summary_mean\n",
       "1 1    386.0533 239.1619 351.9375 322.8420 278.9070 315.7803  143.5015    \n",
       "2 2    348.5349 169.6000 267.3865 259.8899 179.3212 244.9465  143.5015    \n",
       "3 3    250.1298 162.1944 298.8579 283.6310 148.1811 228.5988  143.5015    \n",
       "4 4    324.5103 167.0156 204.7348 118.1771 200.7925 203.0461  143.5015    \n",
       "5 5    348.7608 178.0511 169.1964 189.1205 109.1730 198.8604  143.5015    \n",
       "6 6    208.5622 151.1387 193.1677 157.0849 157.4178 173.4742  143.5015    \n",
       "  weeklyindex\n",
       "1 220.0537   \n",
       "2 170.6927   \n",
       "3 159.3007   \n",
       "4 141.4941   \n",
       "5 138.5772   \n",
       "6 120.8867   "
      ]
     },
     "metadata": {},
     "output_type": "display_data"
    },
    {
     "data": {
      "image/png": "[encoded data removed]",
      "text/plain": [
       "plot without title"
      ]
     },
     "metadata": {
      "image/png": {
       "height": 420,
       "width": 420
      }
     },
     "output_type": "display_data"
    }
   ],
   "source": [
    "############################### weekly seasonality ###########\n",
    "weekly_s <- seasonalIndex %>%\n",
    "  group_by(year, week) %>%\n",
    "  summarize(average = mean(PM25, na.rm = TRUE))\n",
    "\n",
    "## NA if the average in null\n",
    "weekly_s$average[is.nan(weekly_s$average)] <- NA\n",
    "\n",
    "## Spreading across weeks\n",
    "weekly_s <- weekly_s %>% ungroup() %>%\n",
    "  spread(year, average)\n",
    "\n",
    "head(weekly_s)\n",
    "\n",
    "# Calcuating the mean weekly index over the years\n",
    "weekly_s$meanindex <- rowMeans(weekly_s[, -1], na.rm = TRUE)\n",
    "\n",
    "## Calculting summary means\n",
    "summary_mean <- weekly_s %>% ungroup() %>%\n",
    "  summarize(summary_mean = mean(meanindex, na.rm = T))\n",
    "\n",
    "## Adding summary mean\n",
    "weekly_s <- merge(weekly_s, summary_mean)\n",
    "\n",
    "## Calculating weekly index\n",
    "weekly_s <-\n",
    "  weekly_s %>% mutate(weeklyindex = meanindex / summary_mean * 100)\n",
    "\n",
    "head(weekly_s)\n",
    "plot(weekly_s$weeklyindex)"
   ]
  },
  {
   "cell_type": "code",
   "execution_count": 9,
   "metadata": {},
   "outputs": [
    {
     "name": "stderr",
     "output_type": "stream",
     "text": [
      "`summarise()` has grouped output by 'year'. You can override using the `.groups` argument.\n",
      "\n"
     ]
    },
    {
     "data": {
      "text/html": [
       "<table class=\"dataframe\">\n",
       "<caption>A tibble: 6 × 6</caption>\n",
       "<thead>\n",
       "\t<tr><th scope=col>month</th><th scope=col>2016</th><th scope=col>2017</th><th scope=col>2018</th><th scope=col>2019</th><th scope=col>2020</th></tr>\n",
       "\t<tr><th scope=col>&lt;int&gt;</th><th scope=col>&lt;dbl&gt;</th><th scope=col>&lt;dbl&gt;</th><th scope=col>&lt;dbl&gt;</th><th scope=col>&lt;dbl&gt;</th><th scope=col>&lt;dbl&gt;</th></tr>\n",
       "</thead>\n",
       "<tbody>\n",
       "\t<tr><td>1</td><td>328.74805</td><td>182.4179</td><td>268.9588</td><td>235.80948</td><td>183.39218</td></tr>\n",
       "\t<tr><td>2</td><td>173.69855</td><td>141.0615</td><td>161.1128</td><td>140.30696</td><td>124.65472</td></tr>\n",
       "\t<tr><td>3</td><td>118.47378</td><td>114.2224</td><td>120.0038</td><td>101.89716</td><td> 64.33173</td></tr>\n",
       "\t<tr><td>4</td><td>157.07917</td><td>129.8789</td><td>116.7254</td><td> 98.04951</td><td> 47.21875</td></tr>\n",
       "\t<tr><td>5</td><td> 99.84961</td><td>151.1865</td><td>106.2613</td><td>110.90099</td><td> 72.89104</td></tr>\n",
       "\t<tr><td>6</td><td> 93.00049</td><td>105.8256</td><td>116.8000</td><td> 73.57828</td><td> 64.95588</td></tr>\n",
       "</tbody>\n",
       "</table>\n"
      ],
      "text/latex": [
       "A tibble: 6 × 6\n",
       "\\begin{tabular}{llllll}\n",
       " month & 2016 & 2017 & 2018 & 2019 & 2020\\\\\n",
       " <int> & <dbl> & <dbl> & <dbl> & <dbl> & <dbl>\\\\\n",
       "\\hline\n",
       "\t 1 & 328.74805 & 182.4179 & 268.9588 & 235.80948 & 183.39218\\\\\n",
       "\t 2 & 173.69855 & 141.0615 & 161.1128 & 140.30696 & 124.65472\\\\\n",
       "\t 3 & 118.47378 & 114.2224 & 120.0038 & 101.89716 &  64.33173\\\\\n",
       "\t 4 & 157.07917 & 129.8789 & 116.7254 &  98.04951 &  47.21875\\\\\n",
       "\t 5 &  99.84961 & 151.1865 & 106.2613 & 110.90099 &  72.89104\\\\\n",
       "\t 6 &  93.00049 & 105.8256 & 116.8000 &  73.57828 &  64.95588\\\\\n",
       "\\end{tabular}\n"
      ],
      "text/markdown": [
       "\n",
       "A tibble: 6 × 6\n",
       "\n",
       "| month &lt;int&gt; | 2016 &lt;dbl&gt; | 2017 &lt;dbl&gt; | 2018 &lt;dbl&gt; | 2019 &lt;dbl&gt; | 2020 &lt;dbl&gt; |\n",
       "|---|---|---|---|---|---|\n",
       "| 1 | 328.74805 | 182.4179 | 268.9588 | 235.80948 | 183.39218 |\n",
       "| 2 | 173.69855 | 141.0615 | 161.1128 | 140.30696 | 124.65472 |\n",
       "| 3 | 118.47378 | 114.2224 | 120.0038 | 101.89716 |  64.33173 |\n",
       "| 4 | 157.07917 | 129.8789 | 116.7254 |  98.04951 |  47.21875 |\n",
       "| 5 |  99.84961 | 151.1865 | 106.2613 | 110.90099 |  72.89104 |\n",
       "| 6 |  93.00049 | 105.8256 | 116.8000 |  73.57828 |  64.95588 |\n",
       "\n"
      ],
      "text/plain": [
       "  month 2016      2017     2018     2019      2020     \n",
       "1 1     328.74805 182.4179 268.9588 235.80948 183.39218\n",
       "2 2     173.69855 141.0615 161.1128 140.30696 124.65472\n",
       "3 3     118.47378 114.2224 120.0038 101.89716  64.33173\n",
       "4 4     157.07917 129.8789 116.7254  98.04951  47.21875\n",
       "5 5      99.84961 151.1865 106.2613 110.90099  72.89104\n",
       "6 6      93.00049 105.8256 116.8000  73.57828  64.95588"
      ]
     },
     "metadata": {},
     "output_type": "display_data"
    },
    {
     "data": {
      "text/html": [
       "<table class=\"dataframe\">\n",
       "<caption>A data.frame: 6 × 9</caption>\n",
       "<thead>\n",
       "\t<tr><th></th><th scope=col>month</th><th scope=col>2016</th><th scope=col>2017</th><th scope=col>2018</th><th scope=col>2019</th><th scope=col>2020</th><th scope=col>meanindex</th><th scope=col>summary_mean</th><th scope=col>monthlyindex</th></tr>\n",
       "\t<tr><th></th><th scope=col>&lt;int&gt;</th><th scope=col>&lt;dbl&gt;</th><th scope=col>&lt;dbl&gt;</th><th scope=col>&lt;dbl&gt;</th><th scope=col>&lt;dbl&gt;</th><th scope=col>&lt;dbl&gt;</th><th scope=col>&lt;dbl&gt;</th><th scope=col>&lt;dbl&gt;</th><th scope=col>&lt;dbl&gt;</th></tr>\n",
       "</thead>\n",
       "<tbody>\n",
       "\t<tr><th scope=row>1</th><td>1</td><td>328.74805</td><td>182.4179</td><td>268.9588</td><td>235.80948</td><td>183.39218</td><td>239.86529</td><td>141.5354</td><td>169.47377</td></tr>\n",
       "\t<tr><th scope=row>2</th><td>2</td><td>173.69855</td><td>141.0615</td><td>161.1128</td><td>140.30696</td><td>124.65472</td><td>148.16691</td><td>141.5354</td><td>104.68545</td></tr>\n",
       "\t<tr><th scope=row>3</th><td>3</td><td>118.47378</td><td>114.2224</td><td>120.0038</td><td>101.89716</td><td> 64.33173</td><td>103.78577</td><td>141.5354</td><td> 73.32852</td></tr>\n",
       "\t<tr><th scope=row>4</th><td>4</td><td>157.07917</td><td>129.8789</td><td>116.7254</td><td> 98.04951</td><td> 47.21875</td><td>109.79034</td><td>141.5354</td><td> 77.57097</td></tr>\n",
       "\t<tr><th scope=row>5</th><td>5</td><td> 99.84961</td><td>151.1865</td><td>106.2613</td><td>110.90099</td><td> 72.89104</td><td>108.21789</td><td>141.5354</td><td> 76.45998</td></tr>\n",
       "\t<tr><th scope=row>6</th><td>6</td><td> 93.00049</td><td>105.8256</td><td>116.8000</td><td> 73.57828</td><td> 64.95588</td><td> 90.83205</td><td>141.5354</td><td> 64.17623</td></tr>\n",
       "</tbody>\n",
       "</table>\n"
      ],
      "text/latex": [
       "A data.frame: 6 × 9\n",
       "\\begin{tabular}{r|lllllllll}\n",
       "  & month & 2016 & 2017 & 2018 & 2019 & 2020 & meanindex & summary\\_mean & monthlyindex\\\\\n",
       "  & <int> & <dbl> & <dbl> & <dbl> & <dbl> & <dbl> & <dbl> & <dbl> & <dbl>\\\\\n",
       "\\hline\n",
       "\t1 & 1 & 328.74805 & 182.4179 & 268.9588 & 235.80948 & 183.39218 & 239.86529 & 141.5354 & 169.47377\\\\\n",
       "\t2 & 2 & 173.69855 & 141.0615 & 161.1128 & 140.30696 & 124.65472 & 148.16691 & 141.5354 & 104.68545\\\\\n",
       "\t3 & 3 & 118.47378 & 114.2224 & 120.0038 & 101.89716 &  64.33173 & 103.78577 & 141.5354 &  73.32852\\\\\n",
       "\t4 & 4 & 157.07917 & 129.8789 & 116.7254 &  98.04951 &  47.21875 & 109.79034 & 141.5354 &  77.57097\\\\\n",
       "\t5 & 5 &  99.84961 & 151.1865 & 106.2613 & 110.90099 &  72.89104 & 108.21789 & 141.5354 &  76.45998\\\\\n",
       "\t6 & 6 &  93.00049 & 105.8256 & 116.8000 &  73.57828 &  64.95588 &  90.83205 & 141.5354 &  64.17623\\\\\n",
       "\\end{tabular}\n"
      ],
      "text/markdown": [
       "\n",
       "A data.frame: 6 × 9\n",
       "\n",
       "| <!--/--> | month &lt;int&gt; | 2016 &lt;dbl&gt; | 2017 &lt;dbl&gt; | 2018 &lt;dbl&gt; | 2019 &lt;dbl&gt; | 2020 &lt;dbl&gt; | meanindex &lt;dbl&gt; | summary_mean &lt;dbl&gt; | monthlyindex &lt;dbl&gt; |\n",
       "|---|---|---|---|---|---|---|---|---|---|\n",
       "| 1 | 1 | 328.74805 | 182.4179 | 268.9588 | 235.80948 | 183.39218 | 239.86529 | 141.5354 | 169.47377 |\n",
       "| 2 | 2 | 173.69855 | 141.0615 | 161.1128 | 140.30696 | 124.65472 | 148.16691 | 141.5354 | 104.68545 |\n",
       "| 3 | 3 | 118.47378 | 114.2224 | 120.0038 | 101.89716 |  64.33173 | 103.78577 | 141.5354 |  73.32852 |\n",
       "| 4 | 4 | 157.07917 | 129.8789 | 116.7254 |  98.04951 |  47.21875 | 109.79034 | 141.5354 |  77.57097 |\n",
       "| 5 | 5 |  99.84961 | 151.1865 | 106.2613 | 110.90099 |  72.89104 | 108.21789 | 141.5354 |  76.45998 |\n",
       "| 6 | 6 |  93.00049 | 105.8256 | 116.8000 |  73.57828 |  64.95588 |  90.83205 | 141.5354 |  64.17623 |\n",
       "\n"
      ],
      "text/plain": [
       "  month 2016      2017     2018     2019      2020      meanindex summary_mean\n",
       "1 1     328.74805 182.4179 268.9588 235.80948 183.39218 239.86529 141.5354    \n",
       "2 2     173.69855 141.0615 161.1128 140.30696 124.65472 148.16691 141.5354    \n",
       "3 3     118.47378 114.2224 120.0038 101.89716  64.33173 103.78577 141.5354    \n",
       "4 4     157.07917 129.8789 116.7254  98.04951  47.21875 109.79034 141.5354    \n",
       "5 5      99.84961 151.1865 106.2613 110.90099  72.89104 108.21789 141.5354    \n",
       "6 6      93.00049 105.8256 116.8000  73.57828  64.95588  90.83205 141.5354    \n",
       "  monthlyindex\n",
       "1 169.47377   \n",
       "2 104.68545   \n",
       "3  73.32852   \n",
       "4  77.57097   \n",
       "5  76.45998   \n",
       "6  64.17623   "
      ]
     },
     "metadata": {},
     "output_type": "display_data"
    },
    {
     "data": {
      "image/png": "[encoded data removed]",
      "text/plain": [
       "plot without title"
      ]
     },
     "metadata": {
      "image/png": {
       "height": 420,
       "width": 420
      }
     },
     "output_type": "display_data"
    }
   ],
   "source": [
    "############################### monthly seasonality ##############################\n",
    "\n",
    "## Grouping by year and month\n",
    "monthly_s <- seasonalIndex %>%\n",
    "  group_by(year, month) %>%\n",
    "  summarize(average = mean(PM25, na.rm = TRUE))\n",
    "\n",
    "## Adding NA values if there are any null values of any sort \n",
    "monthly_s$average[is.nan(monthly_s$average)] <- NA\n",
    "\n",
    "## Spreading across months \n",
    "monthly_s <- monthly_s %>% ungroup() %>%\n",
    "  spread(year, average)\n",
    "\n",
    "head(monthly_s)\n",
    "\n",
    "# Calcuating the mean weekly index over the years (-1 to remove first column which is month)\n",
    "monthly_s$meanindex <- rowMeans(monthly_s[, -1], na.rm = TRUE)\n",
    "\n",
    "## Summary mean of the mean index\n",
    "summary_mean <- monthly_s %>% ungroup() %>%\n",
    "  summarize(summary_mean = mean(meanindex, na.rm = T))\n",
    "\n",
    "## Merging the summary mean with the data frame\n",
    "monthly_s <- merge(monthly_s, summary_mean)\n",
    "\n",
    "## Adding the Monthly index\n",
    "monthly_s <-\n",
    "  monthly_s %>% mutate(monthlyindex = meanindex / summary_mean * 100)\n",
    "head(monthly_s)\n",
    "plot(monthly_s$monthlyindex)"
   ]
  },
  {
   "cell_type": "code",
   "execution_count": 10,
   "metadata": {},
   "outputs": [
    {
     "data": {
      "text/html": [
       "<table class=\"dataframe\">\n",
       "<caption>A grouped_df: 6 × 11</caption>\n",
       "<thead>\n",
       "\t<tr><th scope=col>date</th><th scope=col>hour</th><th scope=col>day</th><th scope=col>month</th><th scope=col>year</th><th scope=col>PM25</th><th scope=col>week</th><th scope=col>hourlyindex</th><th scope=col>dailyindex</th><th scope=col>monthlyindex</th><th scope=col>weeklyindex</th></tr>\n",
       "\t<tr><th scope=col>&lt;dttm&gt;</th><th scope=col>&lt;int&gt;</th><th scope=col>&lt;int&gt;</th><th scope=col>&lt;int&gt;</th><th scope=col>&lt;int&gt;</th><th scope=col>&lt;dbl&gt;</th><th scope=col>&lt;int&gt;</th><th scope=col>&lt;dbl&gt;</th><th scope=col>&lt;dbl&gt;</th><th scope=col>&lt;dbl&gt;</th><th scope=col>&lt;dbl&gt;</th></tr>\n",
       "</thead>\n",
       "<tbody>\n",
       "\t<tr><td>2016-01-01 01:00:00</td><td>1</td><td>1</td><td>1</td><td>2016</td><td>376.00</td><td>1</td><td>330.1168</td><td>257.2039</td><td>169.4738</td><td>220.0537</td></tr>\n",
       "\t<tr><td>2016-01-01 02:00:00</td><td>2</td><td>1</td><td>1</td><td>2016</td><td>480.50</td><td>1</td><td>352.0487</td><td>257.2039</td><td>169.4738</td><td>220.0537</td></tr>\n",
       "\t<tr><td>2016-01-01 03:00:00</td><td>3</td><td>1</td><td>1</td><td>2016</td><td>486.67</td><td>1</td><td>340.7661</td><td>257.2039</td><td>169.4738</td><td>220.0537</td></tr>\n",
       "\t<tr><td>2016-01-01 04:00:00</td><td>4</td><td>1</td><td>1</td><td>2016</td><td>441.17</td><td>1</td><td>307.7540</td><td>257.2039</td><td>169.4738</td><td>220.0537</td></tr>\n",
       "\t<tr><td>2016-01-01 05:00:00</td><td>5</td><td>1</td><td>1</td><td>2016</td><td>594.83</td><td>1</td><td>320.9865</td><td>257.2039</td><td>169.4738</td><td>220.0537</td></tr>\n",
       "\t<tr><td>2016-01-01 06:00:00</td><td>6</td><td>1</td><td>1</td><td>2016</td><td>441.33</td><td>1</td><td>249.3396</td><td>257.2039</td><td>169.4738</td><td>220.0537</td></tr>\n",
       "</tbody>\n",
       "</table>\n"
      ],
      "text/latex": [
       "A grouped\\_df: 6 × 11\n",
       "\\begin{tabular}{lllllllllll}\n",
       " date & hour & day & month & year & PM25 & week & hourlyindex & dailyindex & monthlyindex & weeklyindex\\\\\n",
       " <dttm> & <int> & <int> & <int> & <int> & <dbl> & <int> & <dbl> & <dbl> & <dbl> & <dbl>\\\\\n",
       "\\hline\n",
       "\t 2016-01-01 01:00:00 & 1 & 1 & 1 & 2016 & 376.00 & 1 & 330.1168 & 257.2039 & 169.4738 & 220.0537\\\\\n",
       "\t 2016-01-01 02:00:00 & 2 & 1 & 1 & 2016 & 480.50 & 1 & 352.0487 & 257.2039 & 169.4738 & 220.0537\\\\\n",
       "\t 2016-01-01 03:00:00 & 3 & 1 & 1 & 2016 & 486.67 & 1 & 340.7661 & 257.2039 & 169.4738 & 220.0537\\\\\n",
       "\t 2016-01-01 04:00:00 & 4 & 1 & 1 & 2016 & 441.17 & 1 & 307.7540 & 257.2039 & 169.4738 & 220.0537\\\\\n",
       "\t 2016-01-01 05:00:00 & 5 & 1 & 1 & 2016 & 594.83 & 1 & 320.9865 & 257.2039 & 169.4738 & 220.0537\\\\\n",
       "\t 2016-01-01 06:00:00 & 6 & 1 & 1 & 2016 & 441.33 & 1 & 249.3396 & 257.2039 & 169.4738 & 220.0537\\\\\n",
       "\\end{tabular}\n"
      ],
      "text/markdown": [
       "\n",
       "A grouped_df: 6 × 11\n",
       "\n",
       "| date &lt;dttm&gt; | hour &lt;int&gt; | day &lt;int&gt; | month &lt;int&gt; | year &lt;int&gt; | PM25 &lt;dbl&gt; | week &lt;int&gt; | hourlyindex &lt;dbl&gt; | dailyindex &lt;dbl&gt; | monthlyindex &lt;dbl&gt; | weeklyindex &lt;dbl&gt; |\n",
       "|---|---|---|---|---|---|---|---|---|---|---|\n",
       "| 2016-01-01 01:00:00 | 1 | 1 | 1 | 2016 | 376.00 | 1 | 330.1168 | 257.2039 | 169.4738 | 220.0537 |\n",
       "| 2016-01-01 02:00:00 | 2 | 1 | 1 | 2016 | 480.50 | 1 | 352.0487 | 257.2039 | 169.4738 | 220.0537 |\n",
       "| 2016-01-01 03:00:00 | 3 | 1 | 1 | 2016 | 486.67 | 1 | 340.7661 | 257.2039 | 169.4738 | 220.0537 |\n",
       "| 2016-01-01 04:00:00 | 4 | 1 | 1 | 2016 | 441.17 | 1 | 307.7540 | 257.2039 | 169.4738 | 220.0537 |\n",
       "| 2016-01-01 05:00:00 | 5 | 1 | 1 | 2016 | 594.83 | 1 | 320.9865 | 257.2039 | 169.4738 | 220.0537 |\n",
       "| 2016-01-01 06:00:00 | 6 | 1 | 1 | 2016 | 441.33 | 1 | 249.3396 | 257.2039 | 169.4738 | 220.0537 |\n",
       "\n"
      ],
      "text/plain": [
       "  date                hour day month year PM25   week hourlyindex dailyindex\n",
       "1 2016-01-01 01:00:00 1    1   1     2016 376.00 1    330.1168    257.2039  \n",
       "2 2016-01-01 02:00:00 2    1   1     2016 480.50 1    352.0487    257.2039  \n",
       "3 2016-01-01 03:00:00 3    1   1     2016 486.67 1    340.7661    257.2039  \n",
       "4 2016-01-01 04:00:00 4    1   1     2016 441.17 1    307.7540    257.2039  \n",
       "5 2016-01-01 05:00:00 5    1   1     2016 594.83 1    320.9865    257.2039  \n",
       "6 2016-01-01 06:00:00 6    1   1     2016 441.33 1    249.3396    257.2039  \n",
       "  monthlyindex weeklyindex\n",
       "1 169.4738     220.0537   \n",
       "2 169.4738     220.0537   \n",
       "3 169.4738     220.0537   \n",
       "4 169.4738     220.0537   \n",
       "5 169.4738     220.0537   \n",
       "6 169.4738     220.0537   "
      ]
     },
     "metadata": {},
     "output_type": "display_data"
    }
   ],
   "source": [
    "############# Join the indexes to original houly data\n",
    "\n",
    "hourly_s <- hourly_s %>% select(month,day,hour,hourlyindex)\n",
    "hourly_df <- hourly_df %>% left_join(hourly_s,by=c(\"month\",\"day\",\"hour\"))\n",
    "\n",
    "daily_s <- daily_s %>% select(month, day, dailyindex)\n",
    "hourly_df <- hourly_df %>% left_join(daily_s, by = c(\"month\", \"day\"))\n",
    "\n",
    "monthly_s <- monthly_s %>% select(month, monthlyindex)\n",
    "hourly_df <- hourly_df %>% left_join(monthly_s, by = c(\"month\"))\n",
    "\n",
    "weekly_s <- weekly_s %>% select(week, weeklyindex)\n",
    "hourly_df <- hourly_df %>% left_join(weekly_s, by = c(\"week\"))\n",
    "\n",
    "head(hourly_df)\n",
    "## Removing the unnecessary data frames \n",
    "#rm(hourly_s)\n",
    "#rm(daily_s)\n",
    "#rm(monthly_s)\n",
    "#rm(weekly_s)\n",
    "rm(summary_mean)\n",
    "rm(seasonalIndex)\n"
   ]
  },
  {
   "cell_type": "code",
   "execution_count": 11,
   "metadata": {},
   "outputs": [
    {
     "data": {
      "text/html": [
       "<table class=\"dataframe\">\n",
       "<caption>A data.frame: 6 × 7</caption>\n",
       "<thead>\n",
       "\t<tr><th></th><th scope=col>date</th><th scope=col>year</th><th scope=col>PM25</th><th scope=col>hourlyindex</th><th scope=col>dailyindex</th><th scope=col>monthlyindex</th><th scope=col>weeklyindex</th></tr>\n",
       "\t<tr><th></th><th scope=col>&lt;dttm&gt;</th><th scope=col>&lt;int&gt;</th><th scope=col>&lt;dbl&gt;</th><th scope=col>&lt;dbl&gt;</th><th scope=col>&lt;dbl&gt;</th><th scope=col>&lt;dbl&gt;</th><th scope=col>&lt;dbl&gt;</th></tr>\n",
       "</thead>\n",
       "<tbody>\n",
       "\t<tr><th scope=row>1</th><td>2016-01-01 01:00:00</td><td>2016</td><td>376.00</td><td>330.1168</td><td>257.2039</td><td>169.4738</td><td>220.0537</td></tr>\n",
       "\t<tr><th scope=row>2</th><td>2016-01-01 02:00:00</td><td>2016</td><td>480.50</td><td>352.0487</td><td>257.2039</td><td>169.4738</td><td>220.0537</td></tr>\n",
       "\t<tr><th scope=row>3</th><td>2016-01-01 03:00:00</td><td>2016</td><td>486.67</td><td>340.7661</td><td>257.2039</td><td>169.4738</td><td>220.0537</td></tr>\n",
       "\t<tr><th scope=row>4</th><td>2016-01-01 04:00:00</td><td>2016</td><td>441.17</td><td>307.7540</td><td>257.2039</td><td>169.4738</td><td>220.0537</td></tr>\n",
       "\t<tr><th scope=row>5</th><td>2016-01-01 05:00:00</td><td>2016</td><td>594.83</td><td>320.9865</td><td>257.2039</td><td>169.4738</td><td>220.0537</td></tr>\n",
       "\t<tr><th scope=row>6</th><td>2016-01-01 06:00:00</td><td>2016</td><td>441.33</td><td>249.3396</td><td>257.2039</td><td>169.4738</td><td>220.0537</td></tr>\n",
       "</tbody>\n",
       "</table>\n"
      ],
      "text/latex": [
       "A data.frame: 6 × 7\n",
       "\\begin{tabular}{r|lllllll}\n",
       "  & date & year & PM25 & hourlyindex & dailyindex & monthlyindex & weeklyindex\\\\\n",
       "  & <dttm> & <int> & <dbl> & <dbl> & <dbl> & <dbl> & <dbl>\\\\\n",
       "\\hline\n",
       "\t1 & 2016-01-01 01:00:00 & 2016 & 376.00 & 330.1168 & 257.2039 & 169.4738 & 220.0537\\\\\n",
       "\t2 & 2016-01-01 02:00:00 & 2016 & 480.50 & 352.0487 & 257.2039 & 169.4738 & 220.0537\\\\\n",
       "\t3 & 2016-01-01 03:00:00 & 2016 & 486.67 & 340.7661 & 257.2039 & 169.4738 & 220.0537\\\\\n",
       "\t4 & 2016-01-01 04:00:00 & 2016 & 441.17 & 307.7540 & 257.2039 & 169.4738 & 220.0537\\\\\n",
       "\t5 & 2016-01-01 05:00:00 & 2016 & 594.83 & 320.9865 & 257.2039 & 169.4738 & 220.0537\\\\\n",
       "\t6 & 2016-01-01 06:00:00 & 2016 & 441.33 & 249.3396 & 257.2039 & 169.4738 & 220.0537\\\\\n",
       "\\end{tabular}\n"
      ],
      "text/markdown": [
       "\n",
       "A data.frame: 6 × 7\n",
       "\n",
       "| <!--/--> | date &lt;dttm&gt; | year &lt;int&gt; | PM25 &lt;dbl&gt; | hourlyindex &lt;dbl&gt; | dailyindex &lt;dbl&gt; | monthlyindex &lt;dbl&gt; | weeklyindex &lt;dbl&gt; |\n",
       "|---|---|---|---|---|---|---|---|\n",
       "| 1 | 2016-01-01 01:00:00 | 2016 | 376.00 | 330.1168 | 257.2039 | 169.4738 | 220.0537 |\n",
       "| 2 | 2016-01-01 02:00:00 | 2016 | 480.50 | 352.0487 | 257.2039 | 169.4738 | 220.0537 |\n",
       "| 3 | 2016-01-01 03:00:00 | 2016 | 486.67 | 340.7661 | 257.2039 | 169.4738 | 220.0537 |\n",
       "| 4 | 2016-01-01 04:00:00 | 2016 | 441.17 | 307.7540 | 257.2039 | 169.4738 | 220.0537 |\n",
       "| 5 | 2016-01-01 05:00:00 | 2016 | 594.83 | 320.9865 | 257.2039 | 169.4738 | 220.0537 |\n",
       "| 6 | 2016-01-01 06:00:00 | 2016 | 441.33 | 249.3396 | 257.2039 | 169.4738 | 220.0537 |\n",
       "\n"
      ],
      "text/plain": [
       "  date                year PM25   hourlyindex dailyindex monthlyindex\n",
       "1 2016-01-01 01:00:00 2016 376.00 330.1168    257.2039   169.4738    \n",
       "2 2016-01-01 02:00:00 2016 480.50 352.0487    257.2039   169.4738    \n",
       "3 2016-01-01 03:00:00 2016 486.67 340.7661    257.2039   169.4738    \n",
       "4 2016-01-01 04:00:00 2016 441.17 307.7540    257.2039   169.4738    \n",
       "5 2016-01-01 05:00:00 2016 594.83 320.9865    257.2039   169.4738    \n",
       "6 2016-01-01 06:00:00 2016 441.33 249.3396    257.2039   169.4738    \n",
       "  weeklyindex\n",
       "1 220.0537   \n",
       "2 220.0537   \n",
       "3 220.0537   \n",
       "4 220.0537   \n",
       "5 220.0537   \n",
       "6 220.0537   "
      ]
     },
     "metadata": {},
     "output_type": "display_data"
    }
   ],
   "source": [
    "################### Data manipulation using forecastML\n",
    "## Fill_gaps is a function from forecatML to see if there are missing value it creates\n",
    "## an evenly spaced data frame\n",
    "hourly_ts <- fill_gaps(hourly_df, date_col = 1, frequency = \"1 hour\")\n",
    "\n",
    "#hourly_ts$date <- NULL\n",
    "hourly_ts$hour <- NULL\n",
    "hourly_ts$day <- NULL\n",
    "hourly_ts$month <- NULL\n",
    "hourly_ts$week <- NULL\n",
    "head(hourly_ts)\n"
   ]
  },
  {
   "cell_type": "code",
   "execution_count": 62,
   "metadata": {},
   "outputs": [
    {
     "data": {
      "text/html": [
       "<table class=\"dataframe\">\n",
       "<caption>A data.frame: 6 × 7</caption>\n",
       "<thead>\n",
       "\t<tr><th></th><th scope=col>date</th><th scope=col>year</th><th scope=col>PM25</th><th scope=col>hourlyindex</th><th scope=col>dailyindex</th><th scope=col>monthlyindex</th><th scope=col>weeklyindex</th></tr>\n",
       "\t<tr><th></th><th scope=col>&lt;dttm&gt;</th><th scope=col>&lt;int&gt;</th><th scope=col>&lt;dbl&gt;</th><th scope=col>&lt;dbl&gt;</th><th scope=col>&lt;dbl&gt;</th><th scope=col>&lt;dbl&gt;</th><th scope=col>&lt;dbl&gt;</th></tr>\n",
       "</thead>\n",
       "<tbody>\n",
       "\t<tr><th scope=row>1</th><td>2020-01-01 00:00:00</td><td>2020</td><td>857.50</td><td>411.1348</td><td>257.2039</td><td>169.4738</td><td>220.0537</td></tr>\n",
       "\t<tr><th scope=row>2</th><td>2020-01-01 01:00:00</td><td>2020</td><td>472.75</td><td>330.1168</td><td>257.2039</td><td>169.4738</td><td>220.0537</td></tr>\n",
       "\t<tr><th scope=row>3</th><td>2020-01-01 02:00:00</td><td>2020</td><td>384.75</td><td>352.0487</td><td>257.2039</td><td>169.4738</td><td>220.0537</td></tr>\n",
       "\t<tr><th scope=row>4</th><td>2020-01-01 03:00:00</td><td>2020</td><td>334.50</td><td>340.7661</td><td>257.2039</td><td>169.4738</td><td>220.0537</td></tr>\n",
       "\t<tr><th scope=row>5</th><td>2020-01-01 04:00:00</td><td>2020</td><td>362.75</td><td>307.7540</td><td>257.2039</td><td>169.4738</td><td>220.0537</td></tr>\n",
       "\t<tr><th scope=row>6</th><td>2020-01-01 05:00:00</td><td>2020</td><td>403.25</td><td>320.9865</td><td>257.2039</td><td>169.4738</td><td>220.0537</td></tr>\n",
       "</tbody>\n",
       "</table>\n"
      ],
      "text/latex": [
       "A data.frame: 6 × 7\n",
       "\\begin{tabular}{r|lllllll}\n",
       "  & date & year & PM25 & hourlyindex & dailyindex & monthlyindex & weeklyindex\\\\\n",
       "  & <dttm> & <int> & <dbl> & <dbl> & <dbl> & <dbl> & <dbl>\\\\\n",
       "\\hline\n",
       "\t1 & 2020-01-01 00:00:00 & 2020 & 857.50 & 411.1348 & 257.2039 & 169.4738 & 220.0537\\\\\n",
       "\t2 & 2020-01-01 01:00:00 & 2020 & 472.75 & 330.1168 & 257.2039 & 169.4738 & 220.0537\\\\\n",
       "\t3 & 2020-01-01 02:00:00 & 2020 & 384.75 & 352.0487 & 257.2039 & 169.4738 & 220.0537\\\\\n",
       "\t4 & 2020-01-01 03:00:00 & 2020 & 334.50 & 340.7661 & 257.2039 & 169.4738 & 220.0537\\\\\n",
       "\t5 & 2020-01-01 04:00:00 & 2020 & 362.75 & 307.7540 & 257.2039 & 169.4738 & 220.0537\\\\\n",
       "\t6 & 2020-01-01 05:00:00 & 2020 & 403.25 & 320.9865 & 257.2039 & 169.4738 & 220.0537\\\\\n",
       "\\end{tabular}\n"
      ],
      "text/markdown": [
       "\n",
       "A data.frame: 6 × 7\n",
       "\n",
       "| <!--/--> | date &lt;dttm&gt; | year &lt;int&gt; | PM25 &lt;dbl&gt; | hourlyindex &lt;dbl&gt; | dailyindex &lt;dbl&gt; | monthlyindex &lt;dbl&gt; | weeklyindex &lt;dbl&gt; |\n",
       "|---|---|---|---|---|---|---|---|\n",
       "| 1 | 2020-01-01 00:00:00 | 2020 | 857.50 | 411.1348 | 257.2039 | 169.4738 | 220.0537 |\n",
       "| 2 | 2020-01-01 01:00:00 | 2020 | 472.75 | 330.1168 | 257.2039 | 169.4738 | 220.0537 |\n",
       "| 3 | 2020-01-01 02:00:00 | 2020 | 384.75 | 352.0487 | 257.2039 | 169.4738 | 220.0537 |\n",
       "| 4 | 2020-01-01 03:00:00 | 2020 | 334.50 | 340.7661 | 257.2039 | 169.4738 | 220.0537 |\n",
       "| 5 | 2020-01-01 04:00:00 | 2020 | 362.75 | 307.7540 | 257.2039 | 169.4738 | 220.0537 |\n",
       "| 6 | 2020-01-01 05:00:00 | 2020 | 403.25 | 320.9865 | 257.2039 | 169.4738 | 220.0537 |\n",
       "\n"
      ],
      "text/plain": [
       "  date                year PM25   hourlyindex dailyindex monthlyindex\n",
       "1 2020-01-01 00:00:00 2020 857.50 411.1348    257.2039   169.4738    \n",
       "2 2020-01-01 01:00:00 2020 472.75 330.1168    257.2039   169.4738    \n",
       "3 2020-01-01 02:00:00 2020 384.75 352.0487    257.2039   169.4738    \n",
       "4 2020-01-01 03:00:00 2020 334.50 340.7661    257.2039   169.4738    \n",
       "5 2020-01-01 04:00:00 2020 362.75 307.7540    257.2039   169.4738    \n",
       "6 2020-01-01 05:00:00 2020 403.25 320.9865    257.2039   169.4738    \n",
       "  weeklyindex\n",
       "1 220.0537   \n",
       "2 220.0537   \n",
       "3 220.0537   \n",
       "4 220.0537   \n",
       "5 220.0537   \n",
       "6 220.0537   "
      ]
     },
     "metadata": {},
     "output_type": "display_data"
    }
   ],
   "source": [
    "## For the training per se we will try to train the model from 2019/2020 onwards, we are also filling the missing value using moving average of last 48 hour\n",
    "hourly_ts_filtered <- hourly_ts %>% filter(date>=ymd(\"2020-01-01\"))%>%na_ma(k=48,weighting = \"simple\")\n",
    "dates <- hourly_ts_filtered$date\n",
    "head(hourly_ts_filtered)"
   ]
  },
  {
   "cell_type": "code",
   "execution_count": 63,
   "metadata": {},
   "outputs": [
    {
     "data": {
      "text/html": [
       "<table class=\"dataframe\">\n",
       "<caption>A data.frame: 6 × 7</caption>\n",
       "<thead>\n",
       "\t<tr><th></th><th scope=col>date</th><th scope=col>year</th><th scope=col>PM25</th><th scope=col>hourlyindex</th><th scope=col>dailyindex</th><th scope=col>monthlyindex</th><th scope=col>weeklyindex</th></tr>\n",
       "\t<tr><th></th><th scope=col>&lt;dttm&gt;</th><th scope=col>&lt;int&gt;</th><th scope=col>&lt;dbl&gt;</th><th scope=col>&lt;dbl&gt;</th><th scope=col>&lt;dbl&gt;</th><th scope=col>&lt;dbl&gt;</th><th scope=col>&lt;dbl&gt;</th></tr>\n",
       "</thead>\n",
       "<tbody>\n",
       "\t<tr><th scope=row>1</th><td>2021-01-10 01:00:00</td><td>2021</td><td>146.00</td><td>143.0668</td><td>141.8823</td><td>169.4738</td><td>170.6927</td></tr>\n",
       "\t<tr><th scope=row>2</th><td>2021-01-10 02:00:00</td><td>2021</td><td>136.25</td><td>138.8068</td><td>141.8823</td><td>169.4738</td><td>170.6927</td></tr>\n",
       "\t<tr><th scope=row>3</th><td>2021-01-10 03:00:00</td><td>2021</td><td>144.75</td><td>141.0926</td><td>141.8823</td><td>169.4738</td><td>170.6927</td></tr>\n",
       "\t<tr><th scope=row>4</th><td>2021-01-10 04:00:00</td><td>2021</td><td>145.50</td><td>138.2095</td><td>141.8823</td><td>169.4738</td><td>170.6927</td></tr>\n",
       "\t<tr><th scope=row>5</th><td>2021-01-10 05:00:00</td><td>2021</td><td>129.50</td><td>142.1206</td><td>141.8823</td><td>169.4738</td><td>170.6927</td></tr>\n",
       "\t<tr><th scope=row>6</th><td>2021-01-10 06:00:00</td><td>2021</td><td>117.50</td><td>142.8945</td><td>141.8823</td><td>169.4738</td><td>170.6927</td></tr>\n",
       "</tbody>\n",
       "</table>\n"
      ],
      "text/latex": [
       "A data.frame: 6 × 7\n",
       "\\begin{tabular}{r|lllllll}\n",
       "  & date & year & PM25 & hourlyindex & dailyindex & monthlyindex & weeklyindex\\\\\n",
       "  & <dttm> & <int> & <dbl> & <dbl> & <dbl> & <dbl> & <dbl>\\\\\n",
       "\\hline\n",
       "\t1 & 2021-01-10 01:00:00 & 2021 & 146.00 & 143.0668 & 141.8823 & 169.4738 & 170.6927\\\\\n",
       "\t2 & 2021-01-10 02:00:00 & 2021 & 136.25 & 138.8068 & 141.8823 & 169.4738 & 170.6927\\\\\n",
       "\t3 & 2021-01-10 03:00:00 & 2021 & 144.75 & 141.0926 & 141.8823 & 169.4738 & 170.6927\\\\\n",
       "\t4 & 2021-01-10 04:00:00 & 2021 & 145.50 & 138.2095 & 141.8823 & 169.4738 & 170.6927\\\\\n",
       "\t5 & 2021-01-10 05:00:00 & 2021 & 129.50 & 142.1206 & 141.8823 & 169.4738 & 170.6927\\\\\n",
       "\t6 & 2021-01-10 06:00:00 & 2021 & 117.50 & 142.8945 & 141.8823 & 169.4738 & 170.6927\\\\\n",
       "\\end{tabular}\n"
      ],
      "text/markdown": [
       "\n",
       "A data.frame: 6 × 7\n",
       "\n",
       "| <!--/--> | date &lt;dttm&gt; | year &lt;int&gt; | PM25 &lt;dbl&gt; | hourlyindex &lt;dbl&gt; | dailyindex &lt;dbl&gt; | monthlyindex &lt;dbl&gt; | weeklyindex &lt;dbl&gt; |\n",
       "|---|---|---|---|---|---|---|---|\n",
       "| 1 | 2021-01-10 01:00:00 | 2021 | 146.00 | 143.0668 | 141.8823 | 169.4738 | 170.6927 |\n",
       "| 2 | 2021-01-10 02:00:00 | 2021 | 136.25 | 138.8068 | 141.8823 | 169.4738 | 170.6927 |\n",
       "| 3 | 2021-01-10 03:00:00 | 2021 | 144.75 | 141.0926 | 141.8823 | 169.4738 | 170.6927 |\n",
       "| 4 | 2021-01-10 04:00:00 | 2021 | 145.50 | 138.2095 | 141.8823 | 169.4738 | 170.6927 |\n",
       "| 5 | 2021-01-10 05:00:00 | 2021 | 129.50 | 142.1206 | 141.8823 | 169.4738 | 170.6927 |\n",
       "| 6 | 2021-01-10 06:00:00 | 2021 | 117.50 | 142.8945 | 141.8823 | 169.4738 | 170.6927 |\n",
       "\n"
      ],
      "text/plain": [
       "  date                year PM25   hourlyindex dailyindex monthlyindex\n",
       "1 2021-01-10 01:00:00 2021 146.00 143.0668    141.8823   169.4738    \n",
       "2 2021-01-10 02:00:00 2021 136.25 138.8068    141.8823   169.4738    \n",
       "3 2021-01-10 03:00:00 2021 144.75 141.0926    141.8823   169.4738    \n",
       "4 2021-01-10 04:00:00 2021 145.50 138.2095    141.8823   169.4738    \n",
       "5 2021-01-10 05:00:00 2021 129.50 142.1206    141.8823   169.4738    \n",
       "6 2021-01-10 06:00:00 2021 117.50 142.8945    141.8823   169.4738    \n",
       "  weeklyindex\n",
       "1 170.6927   \n",
       "2 170.6927   \n",
       "3 170.6927   \n",
       "4 170.6927   \n",
       "5 170.6927   \n",
       "6 170.6927   "
      ]
     },
     "metadata": {},
     "output_type": "display_data"
    }
   ],
   "source": [
    "## Training data is all the dates before 2021\n",
    "data_train <- hourly_ts_filtered %>% filter(date <ymd('2021-01-10'))\n",
    "## Testing data data is the dates after 2021\n",
    "data_test <- hourly_ts_filtered %>% filter(date >ymd('2021-01-10'))\n",
    "head(data_test)"
   ]
  },
  {
   "cell_type": "code",
   "execution_count": 64,
   "metadata": {},
   "outputs": [],
   "source": [
    "horizons <- c(1, 3, 6, 12,24)\n",
    "lookback <- c(1:6,12, 24,48)\n",
    "#dates <- data_train$date\n",
    "## Now creating a training data frame with lookback of 12 hours \n",
    "data_train_lagged <-\n",
    "  create_lagged_df(\n",
    "    data_train, ## data frame\n",
    "    type = \"train\", ## training \n",
    "    outcome_col = 3,## Output column is PM2.5 \n",
    "    horizons = horizons, ## Horizons is used if you want to predict for more than one hour\n",
    "    date = dates[1:nrow(data_train)],\n",
    "    lookback = lookback,## Lookback of x hour\n",
    "    dynamic_features = c(\"year\",\"hourlyindex\", \"dailyindex\", \"monthlyindex\", \"weeklyindex\",\"date\"), ## dynamic features of index\n",
    "    frequency = \"1 hour\" ## Frequency is 1 day\n",
    "  )\n"
   ]
  },
  {
   "cell_type": "code",
   "execution_count": 65,
   "metadata": {},
   "outputs": [
    {
     "data": {
      "text/html": [
       "<table class=\"dataframe\">\n",
       "<caption>A data.frame: 6 × 9</caption>\n",
       "<thead>\n",
       "\t<tr><th></th><th scope=col>PM25</th><th scope=col>PM25_lag_24</th><th scope=col>PM25_lag_48</th><th scope=col>date</th><th scope=col>year</th><th scope=col>hourlyindex</th><th scope=col>dailyindex</th><th scope=col>monthlyindex</th><th scope=col>weeklyindex</th></tr>\n",
       "\t<tr><th></th><th scope=col>&lt;dbl&gt;</th><th scope=col>&lt;dbl&gt;</th><th scope=col>&lt;dbl&gt;</th><th scope=col>&lt;dttm&gt;</th><th scope=col>&lt;int&gt;</th><th scope=col>&lt;dbl&gt;</th><th scope=col>&lt;dbl&gt;</th><th scope=col>&lt;dbl&gt;</th><th scope=col>&lt;dbl&gt;</th></tr>\n",
       "</thead>\n",
       "<tbody>\n",
       "\t<tr><th scope=row>49</th><td>766.50</td><td>445.00</td><td>857.50</td><td>2020-01-03 00:00:00</td><td>2020</td><td>343.5143</td><td>243.3348</td><td>169.4738</td><td>220.0537</td></tr>\n",
       "\t<tr><th scope=row>50</th><td>775.00</td><td>356.25</td><td>472.75</td><td>2020-01-03 01:00:00</td><td>2020</td><td>323.2364</td><td>243.3348</td><td>169.4738</td><td>220.0537</td></tr>\n",
       "\t<tr><th scope=row>51</th><td>641.25</td><td>358.25</td><td>384.75</td><td>2020-01-03 02:00:00</td><td>2020</td><td>299.0789</td><td>243.3348</td><td>169.4738</td><td>220.0537</td></tr>\n",
       "\t<tr><th scope=row>52</th><td>597.50</td><td>381.25</td><td>334.50</td><td>2020-01-03 03:00:00</td><td>2020</td><td>304.2593</td><td>243.3348</td><td>169.4738</td><td>220.0537</td></tr>\n",
       "\t<tr><th scope=row>53</th><td>541.50</td><td>378.50</td><td>362.75</td><td>2020-01-03 04:00:00</td><td>2020</td><td>275.9509</td><td>243.3348</td><td>169.4738</td><td>220.0537</td></tr>\n",
       "\t<tr><th scope=row>54</th><td>484.50</td><td>367.75</td><td>403.25</td><td>2020-01-03 05:00:00</td><td>2020</td><td>252.8746</td><td>243.3348</td><td>169.4738</td><td>220.0537</td></tr>\n",
       "</tbody>\n",
       "</table>\n"
      ],
      "text/latex": [
       "A data.frame: 6 × 9\n",
       "\\begin{tabular}{r|lllllllll}\n",
       "  & PM25 & PM25\\_lag\\_24 & PM25\\_lag\\_48 & date & year & hourlyindex & dailyindex & monthlyindex & weeklyindex\\\\\n",
       "  & <dbl> & <dbl> & <dbl> & <dttm> & <int> & <dbl> & <dbl> & <dbl> & <dbl>\\\\\n",
       "\\hline\n",
       "\t49 & 766.50 & 445.00 & 857.50 & 2020-01-03 00:00:00 & 2020 & 343.5143 & 243.3348 & 169.4738 & 220.0537\\\\\n",
       "\t50 & 775.00 & 356.25 & 472.75 & 2020-01-03 01:00:00 & 2020 & 323.2364 & 243.3348 & 169.4738 & 220.0537\\\\\n",
       "\t51 & 641.25 & 358.25 & 384.75 & 2020-01-03 02:00:00 & 2020 & 299.0789 & 243.3348 & 169.4738 & 220.0537\\\\\n",
       "\t52 & 597.50 & 381.25 & 334.50 & 2020-01-03 03:00:00 & 2020 & 304.2593 & 243.3348 & 169.4738 & 220.0537\\\\\n",
       "\t53 & 541.50 & 378.50 & 362.75 & 2020-01-03 04:00:00 & 2020 & 275.9509 & 243.3348 & 169.4738 & 220.0537\\\\\n",
       "\t54 & 484.50 & 367.75 & 403.25 & 2020-01-03 05:00:00 & 2020 & 252.8746 & 243.3348 & 169.4738 & 220.0537\\\\\n",
       "\\end{tabular}\n"
      ],
      "text/markdown": [
       "\n",
       "A data.frame: 6 × 9\n",
       "\n",
       "| <!--/--> | PM25 &lt;dbl&gt; | PM25_lag_24 &lt;dbl&gt; | PM25_lag_48 &lt;dbl&gt; | date &lt;dttm&gt; | year &lt;int&gt; | hourlyindex &lt;dbl&gt; | dailyindex &lt;dbl&gt; | monthlyindex &lt;dbl&gt; | weeklyindex &lt;dbl&gt; |\n",
       "|---|---|---|---|---|---|---|---|---|---|\n",
       "| 49 | 766.50 | 445.00 | 857.50 | 2020-01-03 00:00:00 | 2020 | 343.5143 | 243.3348 | 169.4738 | 220.0537 |\n",
       "| 50 | 775.00 | 356.25 | 472.75 | 2020-01-03 01:00:00 | 2020 | 323.2364 | 243.3348 | 169.4738 | 220.0537 |\n",
       "| 51 | 641.25 | 358.25 | 384.75 | 2020-01-03 02:00:00 | 2020 | 299.0789 | 243.3348 | 169.4738 | 220.0537 |\n",
       "| 52 | 597.50 | 381.25 | 334.50 | 2020-01-03 03:00:00 | 2020 | 304.2593 | 243.3348 | 169.4738 | 220.0537 |\n",
       "| 53 | 541.50 | 378.50 | 362.75 | 2020-01-03 04:00:00 | 2020 | 275.9509 | 243.3348 | 169.4738 | 220.0537 |\n",
       "| 54 | 484.50 | 367.75 | 403.25 | 2020-01-03 05:00:00 | 2020 | 252.8746 | 243.3348 | 169.4738 | 220.0537 |\n",
       "\n"
      ],
      "text/plain": [
       "   PM25   PM25_lag_24 PM25_lag_48 date                year hourlyindex\n",
       "49 766.50 445.00      857.50      2020-01-03 00:00:00 2020 343.5143   \n",
       "50 775.00 356.25      472.75      2020-01-03 01:00:00 2020 323.2364   \n",
       "51 641.25 358.25      384.75      2020-01-03 02:00:00 2020 299.0789   \n",
       "52 597.50 381.25      334.50      2020-01-03 03:00:00 2020 304.2593   \n",
       "53 541.50 378.50      362.75      2020-01-03 04:00:00 2020 275.9509   \n",
       "54 484.50 367.75      403.25      2020-01-03 05:00:00 2020 252.8746   \n",
       "   dailyindex monthlyindex weeklyindex\n",
       "49 243.3348   169.4738     220.0537   \n",
       "50 243.3348   169.4738     220.0537   \n",
       "51 243.3348   169.4738     220.0537   \n",
       "52 243.3348   169.4738     220.0537   \n",
       "53 243.3348   169.4738     220.0537   \n",
       "54 243.3348   169.4738     220.0537   "
      ]
     },
     "metadata": {},
     "output_type": "display_data"
    }
   ],
   "source": [
    "head(data_train_lagged$horizon_24)\n",
    "#plot(data_train_lagged)"
   ]
  },
  {
   "cell_type": "code",
   "execution_count": 66,
   "metadata": {},
   "outputs": [
    {
     "data": {
      "text/html": [
       "<table class=\"dataframe\">\n",
       "<caption>A windows: 15 × 3</caption>\n",
       "<thead>\n",
       "\t<tr><th></th><th scope=col>start</th><th scope=col>stop</th><th scope=col>window_length</th></tr>\n",
       "\t<tr><th></th><th scope=col>&lt;dttm&gt;</th><th scope=col>&lt;dttm&gt;</th><th scope=col>&lt;dbl&gt;</th></tr>\n",
       "</thead>\n",
       "<tbody>\n",
       "\t<tr><th scope=row>1</th><td>2020-01-03</td><td>2020-01-12 23:00:00</td><td>240</td></tr>\n",
       "\t<tr><th scope=row>2</th><td>2020-01-28</td><td>2020-02-06 23:00:00</td><td>240</td></tr>\n",
       "\t<tr><th scope=row>3</th><td>2020-02-22</td><td>2020-03-02 23:00:00</td><td>240</td></tr>\n",
       "\t<tr><th scope=row>4</th><td>2020-03-18</td><td>2020-03-27 23:00:00</td><td>240</td></tr>\n",
       "\t<tr><th scope=row>5</th><td>2020-04-12</td><td>2020-04-21 23:00:00</td><td>240</td></tr>\n",
       "\t<tr><th scope=row>6</th><td>2020-05-07</td><td>2020-05-16 23:00:00</td><td>240</td></tr>\n",
       "\t<tr><th scope=row>7</th><td>2020-06-01</td><td>2020-06-10 23:00:00</td><td>240</td></tr>\n",
       "\t<tr><th scope=row>8</th><td>2020-06-26</td><td>2020-07-05 23:00:00</td><td>240</td></tr>\n",
       "\t<tr><th scope=row>9</th><td>2020-07-21</td><td>2020-07-30 23:00:00</td><td>240</td></tr>\n",
       "\t<tr><th scope=row>10</th><td>2020-08-15</td><td>2020-08-24 23:00:00</td><td>240</td></tr>\n",
       "\t<tr><th scope=row>11</th><td>2020-09-09</td><td>2020-09-18 23:00:00</td><td>240</td></tr>\n",
       "\t<tr><th scope=row>12</th><td>2020-10-04</td><td>2020-10-13 23:00:00</td><td>240</td></tr>\n",
       "\t<tr><th scope=row>13</th><td>2020-10-29</td><td>2020-11-07 23:00:00</td><td>240</td></tr>\n",
       "\t<tr><th scope=row>14</th><td>2020-11-23</td><td>2020-12-02 23:00:00</td><td>240</td></tr>\n",
       "\t<tr><th scope=row>15</th><td>2020-12-18</td><td>2020-12-27 23:00:00</td><td>240</td></tr>\n",
       "</tbody>\n",
       "</table>\n"
      ],
      "text/latex": [
       "A windows: 15 × 3\n",
       "\\begin{tabular}{r|lll}\n",
       "  & start & stop & window\\_length\\\\\n",
       "  & <dttm> & <dttm> & <dbl>\\\\\n",
       "\\hline\n",
       "\t1 & 2020-01-03 & 2020-01-12 23:00:00 & 240\\\\\n",
       "\t2 & 2020-01-28 & 2020-02-06 23:00:00 & 240\\\\\n",
       "\t3 & 2020-02-22 & 2020-03-02 23:00:00 & 240\\\\\n",
       "\t4 & 2020-03-18 & 2020-03-27 23:00:00 & 240\\\\\n",
       "\t5 & 2020-04-12 & 2020-04-21 23:00:00 & 240\\\\\n",
       "\t6 & 2020-05-07 & 2020-05-16 23:00:00 & 240\\\\\n",
       "\t7 & 2020-06-01 & 2020-06-10 23:00:00 & 240\\\\\n",
       "\t8 & 2020-06-26 & 2020-07-05 23:00:00 & 240\\\\\n",
       "\t9 & 2020-07-21 & 2020-07-30 23:00:00 & 240\\\\\n",
       "\t10 & 2020-08-15 & 2020-08-24 23:00:00 & 240\\\\\n",
       "\t11 & 2020-09-09 & 2020-09-18 23:00:00 & 240\\\\\n",
       "\t12 & 2020-10-04 & 2020-10-13 23:00:00 & 240\\\\\n",
       "\t13 & 2020-10-29 & 2020-11-07 23:00:00 & 240\\\\\n",
       "\t14 & 2020-11-23 & 2020-12-02 23:00:00 & 240\\\\\n",
       "\t15 & 2020-12-18 & 2020-12-27 23:00:00 & 240\\\\\n",
       "\\end{tabular}\n"
      ],
      "text/markdown": [
       "\n",
       "A windows: 15 × 3\n",
       "\n",
       "| <!--/--> | start &lt;dttm&gt; | stop &lt;dttm&gt; | window_length &lt;dbl&gt; |\n",
       "|---|---|---|---|\n",
       "| 1 | 2020-01-03 | 2020-01-12 23:00:00 | 240 |\n",
       "| 2 | 2020-01-28 | 2020-02-06 23:00:00 | 240 |\n",
       "| 3 | 2020-02-22 | 2020-03-02 23:00:00 | 240 |\n",
       "| 4 | 2020-03-18 | 2020-03-27 23:00:00 | 240 |\n",
       "| 5 | 2020-04-12 | 2020-04-21 23:00:00 | 240 |\n",
       "| 6 | 2020-05-07 | 2020-05-16 23:00:00 | 240 |\n",
       "| 7 | 2020-06-01 | 2020-06-10 23:00:00 | 240 |\n",
       "| 8 | 2020-06-26 | 2020-07-05 23:00:00 | 240 |\n",
       "| 9 | 2020-07-21 | 2020-07-30 23:00:00 | 240 |\n",
       "| 10 | 2020-08-15 | 2020-08-24 23:00:00 | 240 |\n",
       "| 11 | 2020-09-09 | 2020-09-18 23:00:00 | 240 |\n",
       "| 12 | 2020-10-04 | 2020-10-13 23:00:00 | 240 |\n",
       "| 13 | 2020-10-29 | 2020-11-07 23:00:00 | 240 |\n",
       "| 14 | 2020-11-23 | 2020-12-02 23:00:00 | 240 |\n",
       "| 15 | 2020-12-18 | 2020-12-27 23:00:00 | 240 |\n",
       "\n"
      ],
      "text/plain": [
       "   start      stop                window_length\n",
       "1  2020-01-03 2020-01-12 23:00:00 240          \n",
       "2  2020-01-28 2020-02-06 23:00:00 240          \n",
       "3  2020-02-22 2020-03-02 23:00:00 240          \n",
       "4  2020-03-18 2020-03-27 23:00:00 240          \n",
       "5  2020-04-12 2020-04-21 23:00:00 240          \n",
       "6  2020-05-07 2020-05-16 23:00:00 240          \n",
       "7  2020-06-01 2020-06-10 23:00:00 240          \n",
       "8  2020-06-26 2020-07-05 23:00:00 240          \n",
       "9  2020-07-21 2020-07-30 23:00:00 240          \n",
       "10 2020-08-15 2020-08-24 23:00:00 240          \n",
       "11 2020-09-09 2020-09-18 23:00:00 240          \n",
       "12 2020-10-04 2020-10-13 23:00:00 240          \n",
       "13 2020-10-29 2020-11-07 23:00:00 240          \n",
       "14 2020-11-23 2020-12-02 23:00:00 240          \n",
       "15 2020-12-18 2020-12-27 23:00:00 240          "
      ]
     },
     "metadata": {},
     "output_type": "display_data"
    }
   ],
   "source": [
    "windows <- forecastML::create_windows(lagged_df = data_train_lagged, window_length = 240, skip = 360,\n",
    "                                      window_start = NULL, window_stop = NULL,\n",
    "                                      include_partial_window = TRUE)\n",
    "windows"
   ]
  },
  {
   "cell_type": "code",
   "execution_count": 67,
   "metadata": {},
   "outputs": [
    {
     "data": {
      "image/png": "[encoded data removed]",
      "text/plain": [
       "plot without title"
      ]
     },
     "metadata": {
      "image/png": {
       "height": 420,
       "width": 420
      }
     },
     "output_type": "display_data"
    }
   ],
   "source": [
    "plot(windows, data_train_lagged,show_labels = TRUE)"
   ]
  },
  {
   "cell_type": "code",
   "execution_count": 68,
   "metadata": {},
   "outputs": [],
   "source": [
    "start <- Sys.time()\n",
    "#------------------------------------------------------------------------------\n",
    "# User-define model - Linear Regression\n",
    "model_function_LinReg <- function(data) {\n",
    "  dep_variable <- \"PM25\"\n",
    "  ## Removing all date, year and PM2.5 from the independent variables name\n",
    "  ind_variables <- setdiff(names(data),c(\"date\",\"year\",\"PM25\"))\n",
    "  model_formula <- as.formula(paste(dep_variable,paste(ind_variables,collapse=\"+\"),sep=\" ~ \"))\n",
    "  model <- lm(model_formula, data = data) ## Linear model in this case\n",
    "  return(model)\n",
    "}\n"
   ]
  },
  {
   "cell_type": "code",
   "execution_count": 69,
   "metadata": {},
   "outputs": [],
   "source": [
    "\n",
    "# Example 2 - Random Forest\n",
    "# Alternatively, we could define an outcome column identifier argument, say, 'outcome_col = 1' in \n",
    "# this function or just 'outcome_col' and then set the argument as 'outcome_col = 1' in train_model().\n",
    "model_function_2 <- function(data) {\n",
    "  dep_variable <- \"PM25\"\n",
    "  ind_variables <- setdiff(names(data),c(\"date\",\"year\",\"PM25\"))\n",
    "  model_formula <- as.formula(paste(dep_variable,paste(ind_variables,collapse=\"+\"),sep=\" ~ \"))\n",
    "  model <- randomForest::randomForest(formula = model_formula, data = data, ntree = 200)\n",
    "  return(model)\n",
    "}"
   ]
  },
  {
   "cell_type": "code",
   "execution_count": 70,
   "metadata": {},
   "outputs": [
    {
     "data": {
      "text/plain": [
       "Time difference of 4.60621 secs"
      ]
     },
     "metadata": {},
     "output_type": "display_data"
    }
   ],
   "source": [
    "model_results_LinReg <- forecastML::train_model(\n",
    "  data_train_lagged, ## Training data\n",
    "  windows = windows, ## The windows\n",
    "  model_name = \"LinReg\", ## Linear Regressing\n",
    "  model_function = model_function_LinReg, ## The model function\n",
    "  use_future = FALSE \n",
    ")\n",
    "end <- Sys.time()\n",
    "end-start"
   ]
  },
  {
   "cell_type": "code",
   "execution_count": null,
   "metadata": {},
   "outputs": [],
   "source": [
    "model_results_RF <- forecastML::train_model(\n",
    "    data_train_lagged,\n",
    "    windows=windows, \n",
    "    model_name = \"RF\", \n",
    "    model_function = model_function_2, \n",
    "    use_future = FALSE)\n",
    "end <- Sys.time()\n",
    "end-start"
   ]
  },
  {
   "cell_type": "code",
   "execution_count": null,
   "metadata": {},
   "outputs": [],
   "source": [
    "## Defining the prediction function (Linear model)\n",
    "prediction_function <- function(model, data_features) {\n",
    "  data_pred <- data.frame(\"y_pred\" = predict(model, data_features))\n",
    "  return(data_pred)\n",
    "}\n",
    "\n"
   ]
  },
  {
   "cell_type": "code",
   "execution_count": null,
   "metadata": {},
   "outputs": [],
   "source": [
    "data_results <- predict(model_results_LinReg, model_results_RF,\n",
    "                        prediction_function = list(prediction_function, prediction_function), \n",
    "                        data = data_train_lagged)"
   ]
  },
  {
   "cell_type": "code",
   "execution_count": null,
   "metadata": {},
   "outputs": [],
   "source": [
    "plot(data_results, type = \"prediction\", horizons = c(1, 12,24))"
   ]
  },
  {
   "cell_type": "code",
   "execution_count": null,
   "metadata": {},
   "outputs": [],
   "source": [
    "data_error <- forecastML::return_error(data_results)\n",
    "head(data_error)"
   ]
  },
  {
   "cell_type": "code",
   "execution_count": null,
   "metadata": {},
   "outputs": [],
   "source": [
    "plot(data_results, type = \"residual\", horizons = c(1, 6, 12,24))"
   ]
  },
  {
   "cell_type": "code",
   "execution_count": null,
   "metadata": {},
   "outputs": [],
   "source": [
    "plot(data_error, type = \"horizon\", facet = ~ horizon, horizons = c(1, 6, 12,24))\n"
   ]
  },
  {
   "cell_type": "code",
   "execution_count": null,
   "metadata": {},
   "outputs": [],
   "source": [
    "plot(data_error, type = \"global\", facet = ~ horizon)"
   ]
  },
  {
   "cell_type": "code",
   "execution_count": null,
   "metadata": {},
   "outputs": [],
   "source": [
    "data_results %>% group_by(model,model_forecast_horizon)%>% summarize(R2=R2(PM25,PM25_pred),RMSE=RMSE(PM25,PM25_pred),\n",
    "                                                                    MAE=MAE(PM25,PM25_pred),MAPE=mape(PM25,PM25_pred))"
   ]
  },
  {
   "cell_type": "code",
   "execution_count": 55,
   "metadata": {},
   "outputs": [
    {
     "data": {
      "text/html": [
       "<strong>png:</strong> 2"
      ],
      "text/latex": [
       "\\textbf{png:} 2"
      ],
      "text/markdown": [
       "**png:** 2"
      ],
      "text/plain": [
       "png \n",
       "  2 "
      ]
     },
     "metadata": {},
     "output_type": "display_data"
    }
   ],
   "source": [
    "#jpeg(\"Images/Model_comparison_training.jpeg\", units=\"cm\", width=36, height=15,res = 300)\n",
    "#plot(data_error, type = \"window\", facet = ~ horizon, horizons = c(1, 6,12,24))\n",
    "#dev.off()"
   ]
  },
  {
   "cell_type": "code",
   "execution_count": null,
   "metadata": {},
   "outputs": [],
   "source": [
    "horizons <- c(1, 3, 6, 12,24)\n",
    "lookback <- c(1:6,12, 24,48)\n",
    "\n",
    "data_forecast_list <- forecastML::create_lagged_df(data_train,\n",
    "                                                   outcome_col = 3,\n",
    "                                                   type = \"forecast\",\n",
    "                                                   horizons = horizons,\n",
    "                                                   lookback=lookback,\n",
    "                                                   date = dates[1:nrow(data_train)],\n",
    "                                                   frequency = \"1 hour\",\n",
    "                                                   dynamic_features = c(\"year\",\"hourlyindex\", \"dailyindex\", \"monthlyindex\", \"weeklyindex\",\"date\"), ## dynamic features of index\n",
    "                                                   \n",
    "                                                   )"
   ]
  },
  {
   "cell_type": "code",
   "execution_count": null,
   "metadata": {},
   "outputs": [],
   "source": [
    "dynamic_features <- c(\"hourlyindex\", \"dailyindex\", \"monthlyindex\", \"weeklyindex\",\"date\")\n",
    "## This merge data is created to merge indexes and we are removing unnecessary columns \n",
    "merge_data <- hourly_df%>%ungroup(date)%>%select(-c(date,year,PM25))\n",
    "for (i in seq_along(data_forecast_list)) {\n",
    "    ## Adding date in the data frame horizons\n",
    "  data_forecast_list[[i]]$date <-data_forecast_list[[i]]$index\n",
    "  ##  Now adding the indexes from the merge data frame \n",
    "  data_forecast_list[[i]] <- data_forecast_list[[i]] %>%\n",
    "    mutate(hour = hour(date),\n",
    "    day = day(date),week = week(date),\n",
    "    month = month(date),\n",
    "    year = year(date)) %>%select(-dynamic_features)%>% ## First we need to remove these existing features\n",
    "    left_join(merge_data,by=c(\"hour\",\"day\",\"week\",\"month\"))%>% ## Now we adding these features back using merge data frame \n",
    "    select(-c(\"hour\",\"day\",\"week\",\"month\"))%>%distinct()\n",
    "    \n",
    "}\n",
    "rm(merge_data)\n",
    "tail(data_forecast_list$horizon_1)"
   ]
  },
  {
   "cell_type": "code",
   "execution_count": null,
   "metadata": {},
   "outputs": [],
   "source": [
    "data_forecast <- predict(model_results_LinReg, model_results_RF,  # ... supports any number of ML models.\n",
    "                         prediction_function = list(prediction_function, prediction_function), \n",
    "                         data = data_forecast_list)"
   ]
  },
  {
   "cell_type": "code",
   "execution_count": null,
   "metadata": {},
   "outputs": [],
   "source": [
    "head(data_forecast)\n",
    "head(data_test)"
   ]
  },
  {
   "cell_type": "code",
   "execution_count": null,
   "metadata": {},
   "outputs": [],
   "source": [
    "plot(data_forecast,\n",
    "     data_actual = hourly_ts_filtered[-(1:360), ],  # Actuals from the training and test data sets.\n",
    "     actual_indices = dates[-(1:360)], \n",
    "     horizons = c(1, 6, 12))"
   ]
  },
  {
   "cell_type": "code",
   "execution_count": null,
   "metadata": {},
   "outputs": [],
   "source": [
    "data_error <- forecastML::return_error(data_forecast,\n",
    "                                       data_test = data_test,\n",
    "                                       test_indices = dates[(nrow(data_train) + 2):length(dates)])\n",
    "\n",
    "plot(data_error, facet = ~ horizon, type = \"horizon\")"
   ]
  },
  {
   "cell_type": "code",
   "execution_count": null,
   "metadata": {},
   "outputs": [],
   "source": [
    "plot(data_error, facet = ~ horizon, type = \"global\")"
   ]
  },
  {
   "cell_type": "code",
   "execution_count": null,
   "metadata": {},
   "outputs": [],
   "source": [
    "plot(data_results, type = \"prediction\", horizons = c(1, 6, 12))"
   ]
  },
  {
   "cell_type": "code",
   "execution_count": 48,
   "metadata": {},
   "outputs": [
    {
     "data": {
      "text/html": [
       "<table class=\"dataframe\">\n",
       "<caption>A tibble: 50 × 7</caption>\n",
       "<thead>\n",
       "\t<tr><th scope=col>date</th><th scope=col>PM25</th><th scope=col>AT</th><th scope=col>RH</th><th scope=col>WS</th><th scope=col>SR</th><th scope=col>WD</th></tr>\n",
       "\t<tr><th scope=col>&lt;dttm&gt;</th><th scope=col>&lt;dbl&gt;</th><th scope=col>&lt;dbl&gt;</th><th scope=col>&lt;dbl&gt;</th><th scope=col>&lt;dbl&gt;</th><th scope=col>&lt;dbl&gt;</th><th scope=col>&lt;dbl&gt;</th></tr>\n",
       "</thead>\n",
       "<tbody>\n",
       "\t<tr><td>2021-01-15 01:00:00</td><td>    NA</td><td>13.10</td><td>94.72</td><td>0.30</td><td>  9.00</td><td>169.25</td></tr>\n",
       "\t<tr><td>2021-01-15 02:00:00</td><td>879.00</td><td>13.10</td><td>94.95</td><td>0.30</td><td>  8.95</td><td>102.75</td></tr>\n",
       "\t<tr><td>2021-01-15 03:00:00</td><td>855.00</td><td>13.00</td><td>95.25</td><td>0.30</td><td>  9.00</td><td> 90.50</td></tr>\n",
       "\t<tr><td>2021-01-15 04:00:00</td><td>783.00</td><td>12.88</td><td>95.38</td><td>0.30</td><td>  9.00</td><td> 63.50</td></tr>\n",
       "\t<tr><td>2021-01-15 05:00:00</td><td>460.00</td><td>12.67</td><td>95.17</td><td>0.30</td><td>  8.95</td><td> 71.50</td></tr>\n",
       "\t<tr><td>2021-01-15 06:00:00</td><td>449.75</td><td>12.65</td><td>95.18</td><td>0.30</td><td>  9.03</td><td>107.25</td></tr>\n",
       "\t<tr><td>2021-01-15 07:00:00</td><td>435.25</td><td>12.68</td><td>95.38</td><td>0.30</td><td> 43.45</td><td>114.25</td></tr>\n",
       "\t<tr><td>2021-01-15 08:00:00</td><td>499.25</td><td>13.25</td><td>94.17</td><td>0.30</td><td>151.55</td><td> 88.25</td></tr>\n",
       "\t<tr><td>2021-01-15 09:00:00</td><td>567.25</td><td>14.12</td><td>89.30</td><td>0.32</td><td>292.62</td><td>102.00</td></tr>\n",
       "\t<tr><td>2021-01-15 10:00:00</td><td>658.00</td><td>15.57</td><td>78.53</td><td>0.82</td><td>406.83</td><td>130.50</td></tr>\n",
       "\t<tr><td>2021-01-15 11:00:00</td><td>665.00</td><td>17.77</td><td>64.65</td><td>0.73</td><td>423.10</td><td>150.00</td></tr>\n",
       "\t<tr><td>2021-01-15 12:00:00</td><td>462.50</td><td>19.08</td><td>58.40</td><td>0.83</td><td>425.77</td><td>150.25</td></tr>\n",
       "\t<tr><td>2021-01-15 13:00:00</td><td>390.75</td><td>20.30</td><td>47.95</td><td>0.68</td><td>406.15</td><td>140.75</td></tr>\n",
       "\t<tr><td>2021-01-15 14:00:00</td><td>248.75</td><td>19.93</td><td>50.12</td><td>0.80</td><td>387.80</td><td>135.25</td></tr>\n",
       "\t<tr><td>2021-01-15 15:00:00</td><td>267.25</td><td>19.27</td><td>53.08</td><td>1.20</td><td>356.12</td><td>118.25</td></tr>\n",
       "\t<tr><td>2021-01-15 16:00:00</td><td>269.75</td><td>18.28</td><td>58.12</td><td>0.68</td><td>203.15</td><td>119.50</td></tr>\n",
       "\t<tr><td>2021-01-15 17:00:00</td><td>263.00</td><td>16.65</td><td>65.70</td><td>0.30</td><td> 45.08</td><td>102.75</td></tr>\n",
       "\t<tr><td>2021-01-15 18:00:00</td><td>283.00</td><td>15.18</td><td>75.78</td><td>0.30</td><td>  9.20</td><td>125.75</td></tr>\n",
       "\t<tr><td>2021-01-15 19:00:00</td><td>313.25</td><td>14.50</td><td>83.75</td><td>0.30</td><td>  8.97</td><td>202.50</td></tr>\n",
       "\t<tr><td>2021-01-15 20:00:00</td><td>241.75</td><td>13.85</td><td>88.42</td><td>0.30</td><td>  9.05</td><td>217.25</td></tr>\n",
       "\t<tr><td>2021-01-15 21:00:00</td><td>556.25</td><td>13.57</td><td>91.72</td><td>0.30</td><td>  9.05</td><td>220.50</td></tr>\n",
       "\t<tr><td>2021-01-15 22:00:00</td><td>592.25</td><td>13.28</td><td>93.20</td><td>0.30</td><td>  9.10</td><td>253.50</td></tr>\n",
       "\t<tr><td>2021-01-15 23:00:00</td><td>615.50</td><td>12.85</td><td>94.30</td><td>0.30</td><td>  9.00</td><td>209.75</td></tr>\n",
       "\t<tr><td>2021-01-16 00:00:00</td><td>866.00</td><td>12.35</td><td>94.65</td><td>0.30</td><td>  8.97</td><td>250.25</td></tr>\n",
       "\t<tr><td>2021-01-16 01:00:00</td><td>902.00</td><td>12.22</td><td>95.97</td><td>0.30</td><td>  9.15</td><td>255.50</td></tr>\n",
       "\t<tr><td>2021-01-16 02:00:00</td><td>425.00</td><td>12.50</td><td>96.60</td><td>0.30</td><td>  9.07</td><td>170.25</td></tr>\n",
       "\t<tr><td>2021-01-16 03:00:00</td><td>401.00</td><td>12.12</td><td>96.72</td><td>0.30</td><td>  9.07</td><td>142.75</td></tr>\n",
       "\t<tr><td>2021-01-16 04:00:00</td><td>316.00</td><td>12.15</td><td>97.28</td><td>0.30</td><td>  9.10</td><td>227.75</td></tr>\n",
       "\t<tr><td>2021-01-16 05:00:00</td><td>272.50</td><td>12.67</td><td>96.90</td><td>0.30</td><td>  9.07</td><td>259.00</td></tr>\n",
       "\t<tr><td>2021-01-16 06:00:00</td><td>249.75</td><td>12.60</td><td>96.95</td><td>0.30</td><td>  9.17</td><td>264.75</td></tr>\n",
       "\t<tr><td>2021-01-16 07:00:00</td><td>221.75</td><td>12.65</td><td>97.10</td><td>0.30</td><td> 20.77</td><td>252.50</td></tr>\n",
       "\t<tr><td>2021-01-16 08:00:00</td><td>228.75</td><td>12.93</td><td>97.10</td><td>0.30</td><td> 72.35</td><td>258.75</td></tr>\n",
       "\t<tr><td>2021-01-16 09:00:00</td><td>262.50</td><td>13.27</td><td>96.65</td><td>0.30</td><td>159.35</td><td>274.25</td></tr>\n",
       "\t<tr><td>2021-01-16 10:00:00</td><td>303.00</td><td>13.77</td><td>94.12</td><td>0.30</td><td>314.35</td><td>267.50</td></tr>\n",
       "\t<tr><td>2021-01-16 11:00:00</td><td>369.50</td><td>15.20</td><td>83.30</td><td>0.32</td><td>423.60</td><td>257.50</td></tr>\n",
       "\t<tr><td>2021-01-16 12:00:00</td><td>409.00</td><td>17.45</td><td>65.47</td><td>0.30</td><td>436.12</td><td>258.50</td></tr>\n",
       "\t<tr><td>2021-01-16 13:00:00</td><td>    NA</td><td>   NA</td><td>   NA</td><td>  NA</td><td>    NA</td><td>    NA</td></tr>\n",
       "\t<tr><td>2021-01-16 14:00:00</td><td>    NA</td><td>   NA</td><td>   NA</td><td>  NA</td><td>    NA</td><td>    NA</td></tr>\n",
       "\t<tr><td>2021-01-16 15:00:00</td><td>    NA</td><td>   NA</td><td>   NA</td><td>  NA</td><td>    NA</td><td>    NA</td></tr>\n",
       "\t<tr><td>2021-01-16 16:00:00</td><td>276.25</td><td>17.35</td><td>62.10</td><td>0.30</td><td>196.03</td><td>279.00</td></tr>\n",
       "\t<tr><td>2021-01-16 17:00:00</td><td>210.00</td><td>16.00</td><td>68.97</td><td>0.30</td><td> 53.12</td><td>255.25</td></tr>\n",
       "\t<tr><td>2021-01-16 18:00:00</td><td>234.75</td><td>14.57</td><td>76.50</td><td>0.30</td><td>  9.20</td><td>263.00</td></tr>\n",
       "\t<tr><td>2021-01-16 19:00:00</td><td>237.25</td><td>14.32</td><td>79.50</td><td>0.30</td><td>  9.03</td><td>271.75</td></tr>\n",
       "\t<tr><td>2021-01-16 20:00:00</td><td>244.25</td><td>13.77</td><td>85.28</td><td>0.32</td><td>  9.02</td><td>252.00</td></tr>\n",
       "\t<tr><td>2021-01-16 21:00:00</td><td>259.25</td><td>13.03</td><td>89.97</td><td>0.30</td><td>  9.08</td><td>247.00</td></tr>\n",
       "\t<tr><td>2021-01-16 22:00:00</td><td>273.00</td><td>12.50</td><td>93.40</td><td>0.30</td><td>  9.07</td><td>173.25</td></tr>\n",
       "\t<tr><td>2021-01-16 23:00:00</td><td>315.75</td><td>12.67</td><td>93.58</td><td>0.30</td><td>  9.00</td><td>243.25</td></tr>\n",
       "\t<tr><td>2021-01-17 00:00:00</td><td>210.25</td><td>12.70</td><td>92.97</td><td>0.30</td><td>  9.07</td><td>241.00</td></tr>\n",
       "\t<tr><td>2021-01-17 01:00:00</td><td>182.00</td><td>12.40</td><td>92.90</td><td>0.30</td><td>  9.00</td><td>228.00</td></tr>\n",
       "\t<tr><td>2021-01-17 02:00:00</td><td>182.25</td><td>11.98</td><td>92.45</td><td>0.30</td><td>  9.05</td><td>254.25</td></tr>\n",
       "</tbody>\n",
       "</table>\n"
      ],
      "text/latex": [
       "A tibble: 50 × 7\n",
       "\\begin{tabular}{lllllll}\n",
       " date & PM25 & AT & RH & WS & SR & WD\\\\\n",
       " <dttm> & <dbl> & <dbl> & <dbl> & <dbl> & <dbl> & <dbl>\\\\\n",
       "\\hline\n",
       "\t 2021-01-15 01:00:00 &     NA & 13.10 & 94.72 & 0.30 &   9.00 & 169.25\\\\\n",
       "\t 2021-01-15 02:00:00 & 879.00 & 13.10 & 94.95 & 0.30 &   8.95 & 102.75\\\\\n",
       "\t 2021-01-15 03:00:00 & 855.00 & 13.00 & 95.25 & 0.30 &   9.00 &  90.50\\\\\n",
       "\t 2021-01-15 04:00:00 & 783.00 & 12.88 & 95.38 & 0.30 &   9.00 &  63.50\\\\\n",
       "\t 2021-01-15 05:00:00 & 460.00 & 12.67 & 95.17 & 0.30 &   8.95 &  71.50\\\\\n",
       "\t 2021-01-15 06:00:00 & 449.75 & 12.65 & 95.18 & 0.30 &   9.03 & 107.25\\\\\n",
       "\t 2021-01-15 07:00:00 & 435.25 & 12.68 & 95.38 & 0.30 &  43.45 & 114.25\\\\\n",
       "\t 2021-01-15 08:00:00 & 499.25 & 13.25 & 94.17 & 0.30 & 151.55 &  88.25\\\\\n",
       "\t 2021-01-15 09:00:00 & 567.25 & 14.12 & 89.30 & 0.32 & 292.62 & 102.00\\\\\n",
       "\t 2021-01-15 10:00:00 & 658.00 & 15.57 & 78.53 & 0.82 & 406.83 & 130.50\\\\\n",
       "\t 2021-01-15 11:00:00 & 665.00 & 17.77 & 64.65 & 0.73 & 423.10 & 150.00\\\\\n",
       "\t 2021-01-15 12:00:00 & 462.50 & 19.08 & 58.40 & 0.83 & 425.77 & 150.25\\\\\n",
       "\t 2021-01-15 13:00:00 & 390.75 & 20.30 & 47.95 & 0.68 & 406.15 & 140.75\\\\\n",
       "\t 2021-01-15 14:00:00 & 248.75 & 19.93 & 50.12 & 0.80 & 387.80 & 135.25\\\\\n",
       "\t 2021-01-15 15:00:00 & 267.25 & 19.27 & 53.08 & 1.20 & 356.12 & 118.25\\\\\n",
       "\t 2021-01-15 16:00:00 & 269.75 & 18.28 & 58.12 & 0.68 & 203.15 & 119.50\\\\\n",
       "\t 2021-01-15 17:00:00 & 263.00 & 16.65 & 65.70 & 0.30 &  45.08 & 102.75\\\\\n",
       "\t 2021-01-15 18:00:00 & 283.00 & 15.18 & 75.78 & 0.30 &   9.20 & 125.75\\\\\n",
       "\t 2021-01-15 19:00:00 & 313.25 & 14.50 & 83.75 & 0.30 &   8.97 & 202.50\\\\\n",
       "\t 2021-01-15 20:00:00 & 241.75 & 13.85 & 88.42 & 0.30 &   9.05 & 217.25\\\\\n",
       "\t 2021-01-15 21:00:00 & 556.25 & 13.57 & 91.72 & 0.30 &   9.05 & 220.50\\\\\n",
       "\t 2021-01-15 22:00:00 & 592.25 & 13.28 & 93.20 & 0.30 &   9.10 & 253.50\\\\\n",
       "\t 2021-01-15 23:00:00 & 615.50 & 12.85 & 94.30 & 0.30 &   9.00 & 209.75\\\\\n",
       "\t 2021-01-16 00:00:00 & 866.00 & 12.35 & 94.65 & 0.30 &   8.97 & 250.25\\\\\n",
       "\t 2021-01-16 01:00:00 & 902.00 & 12.22 & 95.97 & 0.30 &   9.15 & 255.50\\\\\n",
       "\t 2021-01-16 02:00:00 & 425.00 & 12.50 & 96.60 & 0.30 &   9.07 & 170.25\\\\\n",
       "\t 2021-01-16 03:00:00 & 401.00 & 12.12 & 96.72 & 0.30 &   9.07 & 142.75\\\\\n",
       "\t 2021-01-16 04:00:00 & 316.00 & 12.15 & 97.28 & 0.30 &   9.10 & 227.75\\\\\n",
       "\t 2021-01-16 05:00:00 & 272.50 & 12.67 & 96.90 & 0.30 &   9.07 & 259.00\\\\\n",
       "\t 2021-01-16 06:00:00 & 249.75 & 12.60 & 96.95 & 0.30 &   9.17 & 264.75\\\\\n",
       "\t 2021-01-16 07:00:00 & 221.75 & 12.65 & 97.10 & 0.30 &  20.77 & 252.50\\\\\n",
       "\t 2021-01-16 08:00:00 & 228.75 & 12.93 & 97.10 & 0.30 &  72.35 & 258.75\\\\\n",
       "\t 2021-01-16 09:00:00 & 262.50 & 13.27 & 96.65 & 0.30 & 159.35 & 274.25\\\\\n",
       "\t 2021-01-16 10:00:00 & 303.00 & 13.77 & 94.12 & 0.30 & 314.35 & 267.50\\\\\n",
       "\t 2021-01-16 11:00:00 & 369.50 & 15.20 & 83.30 & 0.32 & 423.60 & 257.50\\\\\n",
       "\t 2021-01-16 12:00:00 & 409.00 & 17.45 & 65.47 & 0.30 & 436.12 & 258.50\\\\\n",
       "\t 2021-01-16 13:00:00 &     NA &    NA &    NA &   NA &     NA &     NA\\\\\n",
       "\t 2021-01-16 14:00:00 &     NA &    NA &    NA &   NA &     NA &     NA\\\\\n",
       "\t 2021-01-16 15:00:00 &     NA &    NA &    NA &   NA &     NA &     NA\\\\\n",
       "\t 2021-01-16 16:00:00 & 276.25 & 17.35 & 62.10 & 0.30 & 196.03 & 279.00\\\\\n",
       "\t 2021-01-16 17:00:00 & 210.00 & 16.00 & 68.97 & 0.30 &  53.12 & 255.25\\\\\n",
       "\t 2021-01-16 18:00:00 & 234.75 & 14.57 & 76.50 & 0.30 &   9.20 & 263.00\\\\\n",
       "\t 2021-01-16 19:00:00 & 237.25 & 14.32 & 79.50 & 0.30 &   9.03 & 271.75\\\\\n",
       "\t 2021-01-16 20:00:00 & 244.25 & 13.77 & 85.28 & 0.32 &   9.02 & 252.00\\\\\n",
       "\t 2021-01-16 21:00:00 & 259.25 & 13.03 & 89.97 & 0.30 &   9.08 & 247.00\\\\\n",
       "\t 2021-01-16 22:00:00 & 273.00 & 12.50 & 93.40 & 0.30 &   9.07 & 173.25\\\\\n",
       "\t 2021-01-16 23:00:00 & 315.75 & 12.67 & 93.58 & 0.30 &   9.00 & 243.25\\\\\n",
       "\t 2021-01-17 00:00:00 & 210.25 & 12.70 & 92.97 & 0.30 &   9.07 & 241.00\\\\\n",
       "\t 2021-01-17 01:00:00 & 182.00 & 12.40 & 92.90 & 0.30 &   9.00 & 228.00\\\\\n",
       "\t 2021-01-17 02:00:00 & 182.25 & 11.98 & 92.45 & 0.30 &   9.05 & 254.25\\\\\n",
       "\\end{tabular}\n"
      ],
      "text/markdown": [
       "\n",
       "A tibble: 50 × 7\n",
       "\n",
       "| date &lt;dttm&gt; | PM25 &lt;dbl&gt; | AT &lt;dbl&gt; | RH &lt;dbl&gt; | WS &lt;dbl&gt; | SR &lt;dbl&gt; | WD &lt;dbl&gt; |\n",
       "|---|---|---|---|---|---|---|\n",
       "| 2021-01-15 01:00:00 |     NA | 13.10 | 94.72 | 0.30 |   9.00 | 169.25 |\n",
       "| 2021-01-15 02:00:00 | 879.00 | 13.10 | 94.95 | 0.30 |   8.95 | 102.75 |\n",
       "| 2021-01-15 03:00:00 | 855.00 | 13.00 | 95.25 | 0.30 |   9.00 |  90.50 |\n",
       "| 2021-01-15 04:00:00 | 783.00 | 12.88 | 95.38 | 0.30 |   9.00 |  63.50 |\n",
       "| 2021-01-15 05:00:00 | 460.00 | 12.67 | 95.17 | 0.30 |   8.95 |  71.50 |\n",
       "| 2021-01-15 06:00:00 | 449.75 | 12.65 | 95.18 | 0.30 |   9.03 | 107.25 |\n",
       "| 2021-01-15 07:00:00 | 435.25 | 12.68 | 95.38 | 0.30 |  43.45 | 114.25 |\n",
       "| 2021-01-15 08:00:00 | 499.25 | 13.25 | 94.17 | 0.30 | 151.55 |  88.25 |\n",
       "| 2021-01-15 09:00:00 | 567.25 | 14.12 | 89.30 | 0.32 | 292.62 | 102.00 |\n",
       "| 2021-01-15 10:00:00 | 658.00 | 15.57 | 78.53 | 0.82 | 406.83 | 130.50 |\n",
       "| 2021-01-15 11:00:00 | 665.00 | 17.77 | 64.65 | 0.73 | 423.10 | 150.00 |\n",
       "| 2021-01-15 12:00:00 | 462.50 | 19.08 | 58.40 | 0.83 | 425.77 | 150.25 |\n",
       "| 2021-01-15 13:00:00 | 390.75 | 20.30 | 47.95 | 0.68 | 406.15 | 140.75 |\n",
       "| 2021-01-15 14:00:00 | 248.75 | 19.93 | 50.12 | 0.80 | 387.80 | 135.25 |\n",
       "| 2021-01-15 15:00:00 | 267.25 | 19.27 | 53.08 | 1.20 | 356.12 | 118.25 |\n",
       "| 2021-01-15 16:00:00 | 269.75 | 18.28 | 58.12 | 0.68 | 203.15 | 119.50 |\n",
       "| 2021-01-15 17:00:00 | 263.00 | 16.65 | 65.70 | 0.30 |  45.08 | 102.75 |\n",
       "| 2021-01-15 18:00:00 | 283.00 | 15.18 | 75.78 | 0.30 |   9.20 | 125.75 |\n",
       "| 2021-01-15 19:00:00 | 313.25 | 14.50 | 83.75 | 0.30 |   8.97 | 202.50 |\n",
       "| 2021-01-15 20:00:00 | 241.75 | 13.85 | 88.42 | 0.30 |   9.05 | 217.25 |\n",
       "| 2021-01-15 21:00:00 | 556.25 | 13.57 | 91.72 | 0.30 |   9.05 | 220.50 |\n",
       "| 2021-01-15 22:00:00 | 592.25 | 13.28 | 93.20 | 0.30 |   9.10 | 253.50 |\n",
       "| 2021-01-15 23:00:00 | 615.50 | 12.85 | 94.30 | 0.30 |   9.00 | 209.75 |\n",
       "| 2021-01-16 00:00:00 | 866.00 | 12.35 | 94.65 | 0.30 |   8.97 | 250.25 |\n",
       "| 2021-01-16 01:00:00 | 902.00 | 12.22 | 95.97 | 0.30 |   9.15 | 255.50 |\n",
       "| 2021-01-16 02:00:00 | 425.00 | 12.50 | 96.60 | 0.30 |   9.07 | 170.25 |\n",
       "| 2021-01-16 03:00:00 | 401.00 | 12.12 | 96.72 | 0.30 |   9.07 | 142.75 |\n",
       "| 2021-01-16 04:00:00 | 316.00 | 12.15 | 97.28 | 0.30 |   9.10 | 227.75 |\n",
       "| 2021-01-16 05:00:00 | 272.50 | 12.67 | 96.90 | 0.30 |   9.07 | 259.00 |\n",
       "| 2021-01-16 06:00:00 | 249.75 | 12.60 | 96.95 | 0.30 |   9.17 | 264.75 |\n",
       "| 2021-01-16 07:00:00 | 221.75 | 12.65 | 97.10 | 0.30 |  20.77 | 252.50 |\n",
       "| 2021-01-16 08:00:00 | 228.75 | 12.93 | 97.10 | 0.30 |  72.35 | 258.75 |\n",
       "| 2021-01-16 09:00:00 | 262.50 | 13.27 | 96.65 | 0.30 | 159.35 | 274.25 |\n",
       "| 2021-01-16 10:00:00 | 303.00 | 13.77 | 94.12 | 0.30 | 314.35 | 267.50 |\n",
       "| 2021-01-16 11:00:00 | 369.50 | 15.20 | 83.30 | 0.32 | 423.60 | 257.50 |\n",
       "| 2021-01-16 12:00:00 | 409.00 | 17.45 | 65.47 | 0.30 | 436.12 | 258.50 |\n",
       "| 2021-01-16 13:00:00 |     NA |    NA |    NA |   NA |     NA |     NA |\n",
       "| 2021-01-16 14:00:00 |     NA |    NA |    NA |   NA |     NA |     NA |\n",
       "| 2021-01-16 15:00:00 |     NA |    NA |    NA |   NA |     NA |     NA |\n",
       "| 2021-01-16 16:00:00 | 276.25 | 17.35 | 62.10 | 0.30 | 196.03 | 279.00 |\n",
       "| 2021-01-16 17:00:00 | 210.00 | 16.00 | 68.97 | 0.30 |  53.12 | 255.25 |\n",
       "| 2021-01-16 18:00:00 | 234.75 | 14.57 | 76.50 | 0.30 |   9.20 | 263.00 |\n",
       "| 2021-01-16 19:00:00 | 237.25 | 14.32 | 79.50 | 0.30 |   9.03 | 271.75 |\n",
       "| 2021-01-16 20:00:00 | 244.25 | 13.77 | 85.28 | 0.32 |   9.02 | 252.00 |\n",
       "| 2021-01-16 21:00:00 | 259.25 | 13.03 | 89.97 | 0.30 |   9.08 | 247.00 |\n",
       "| 2021-01-16 22:00:00 | 273.00 | 12.50 | 93.40 | 0.30 |   9.07 | 173.25 |\n",
       "| 2021-01-16 23:00:00 | 315.75 | 12.67 | 93.58 | 0.30 |   9.00 | 243.25 |\n",
       "| 2021-01-17 00:00:00 | 210.25 | 12.70 | 92.97 | 0.30 |   9.07 | 241.00 |\n",
       "| 2021-01-17 01:00:00 | 182.00 | 12.40 | 92.90 | 0.30 |   9.00 | 228.00 |\n",
       "| 2021-01-17 02:00:00 | 182.25 | 11.98 | 92.45 | 0.30 |   9.05 | 254.25 |\n",
       "\n"
      ],
      "text/plain": [
       "   date                PM25   AT    RH    WS   SR     WD    \n",
       "1  2021-01-15 01:00:00     NA 13.10 94.72 0.30   9.00 169.25\n",
       "2  2021-01-15 02:00:00 879.00 13.10 94.95 0.30   8.95 102.75\n",
       "3  2021-01-15 03:00:00 855.00 13.00 95.25 0.30   9.00  90.50\n",
       "4  2021-01-15 04:00:00 783.00 12.88 95.38 0.30   9.00  63.50\n",
       "5  2021-01-15 05:00:00 460.00 12.67 95.17 0.30   8.95  71.50\n",
       "6  2021-01-15 06:00:00 449.75 12.65 95.18 0.30   9.03 107.25\n",
       "7  2021-01-15 07:00:00 435.25 12.68 95.38 0.30  43.45 114.25\n",
       "8  2021-01-15 08:00:00 499.25 13.25 94.17 0.30 151.55  88.25\n",
       "9  2021-01-15 09:00:00 567.25 14.12 89.30 0.32 292.62 102.00\n",
       "10 2021-01-15 10:00:00 658.00 15.57 78.53 0.82 406.83 130.50\n",
       "11 2021-01-15 11:00:00 665.00 17.77 64.65 0.73 423.10 150.00\n",
       "12 2021-01-15 12:00:00 462.50 19.08 58.40 0.83 425.77 150.25\n",
       "13 2021-01-15 13:00:00 390.75 20.30 47.95 0.68 406.15 140.75\n",
       "14 2021-01-15 14:00:00 248.75 19.93 50.12 0.80 387.80 135.25\n",
       "15 2021-01-15 15:00:00 267.25 19.27 53.08 1.20 356.12 118.25\n",
       "16 2021-01-15 16:00:00 269.75 18.28 58.12 0.68 203.15 119.50\n",
       "17 2021-01-15 17:00:00 263.00 16.65 65.70 0.30  45.08 102.75\n",
       "18 2021-01-15 18:00:00 283.00 15.18 75.78 0.30   9.20 125.75\n",
       "19 2021-01-15 19:00:00 313.25 14.50 83.75 0.30   8.97 202.50\n",
       "20 2021-01-15 20:00:00 241.75 13.85 88.42 0.30   9.05 217.25\n",
       "21 2021-01-15 21:00:00 556.25 13.57 91.72 0.30   9.05 220.50\n",
       "22 2021-01-15 22:00:00 592.25 13.28 93.20 0.30   9.10 253.50\n",
       "23 2021-01-15 23:00:00 615.50 12.85 94.30 0.30   9.00 209.75\n",
       "24 2021-01-16 00:00:00 866.00 12.35 94.65 0.30   8.97 250.25\n",
       "25 2021-01-16 01:00:00 902.00 12.22 95.97 0.30   9.15 255.50\n",
       "26 2021-01-16 02:00:00 425.00 12.50 96.60 0.30   9.07 170.25\n",
       "27 2021-01-16 03:00:00 401.00 12.12 96.72 0.30   9.07 142.75\n",
       "28 2021-01-16 04:00:00 316.00 12.15 97.28 0.30   9.10 227.75\n",
       "29 2021-01-16 05:00:00 272.50 12.67 96.90 0.30   9.07 259.00\n",
       "30 2021-01-16 06:00:00 249.75 12.60 96.95 0.30   9.17 264.75\n",
       "31 2021-01-16 07:00:00 221.75 12.65 97.10 0.30  20.77 252.50\n",
       "32 2021-01-16 08:00:00 228.75 12.93 97.10 0.30  72.35 258.75\n",
       "33 2021-01-16 09:00:00 262.50 13.27 96.65 0.30 159.35 274.25\n",
       "34 2021-01-16 10:00:00 303.00 13.77 94.12 0.30 314.35 267.50\n",
       "35 2021-01-16 11:00:00 369.50 15.20 83.30 0.32 423.60 257.50\n",
       "36 2021-01-16 12:00:00 409.00 17.45 65.47 0.30 436.12 258.50\n",
       "37 2021-01-16 13:00:00     NA    NA    NA   NA     NA     NA\n",
       "38 2021-01-16 14:00:00     NA    NA    NA   NA     NA     NA\n",
       "39 2021-01-16 15:00:00     NA    NA    NA   NA     NA     NA\n",
       "40 2021-01-16 16:00:00 276.25 17.35 62.10 0.30 196.03 279.00\n",
       "41 2021-01-16 17:00:00 210.00 16.00 68.97 0.30  53.12 255.25\n",
       "42 2021-01-16 18:00:00 234.75 14.57 76.50 0.30   9.20 263.00\n",
       "43 2021-01-16 19:00:00 237.25 14.32 79.50 0.30   9.03 271.75\n",
       "44 2021-01-16 20:00:00 244.25 13.77 85.28 0.32   9.02 252.00\n",
       "45 2021-01-16 21:00:00 259.25 13.03 89.97 0.30   9.08 247.00\n",
       "46 2021-01-16 22:00:00 273.00 12.50 93.40 0.30   9.07 173.25\n",
       "47 2021-01-16 23:00:00 315.75 12.67 93.58 0.30   9.00 243.25\n",
       "48 2021-01-17 00:00:00 210.25 12.70 92.97 0.30   9.07 241.00\n",
       "49 2021-01-17 01:00:00 182.00 12.40 92.90 0.30   9.00 228.00\n",
       "50 2021-01-17 02:00:00 182.25 11.98 92.45 0.30   9.05 254.25"
      ]
     },
     "metadata": {},
     "output_type": "display_data"
    }
   ],
   "source": [
    "head(df %>% filter(date >ymd(\"2021-01-15\")),50)"
   ]
  }
 ],
 "metadata": {
  "kernelspec": {
   "display_name": "R [conda env:r-env]",
   "language": "R",
   "name": "conda-env-r-env-r"
  },
  "language_info": {
   "codemirror_mode": "r",
   "file_extension": ".r",
   "mimetype": "text/x-r-source",
   "name": "R",
   "pygments_lexer": "r",
   "version": "3.6.3"
  }
 },
 "nbformat": 4,
 "nbformat_minor": 4
}
